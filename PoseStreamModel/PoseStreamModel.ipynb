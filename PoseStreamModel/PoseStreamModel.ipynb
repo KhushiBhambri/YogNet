{
  "nbformat": 4,
  "nbformat_minor": 0,
  "metadata": {
    "colab": {
      "provenance": [],
      "include_colab_link": true
    },
    "kernelspec": {
      "name": "python3",
      "display_name": "Python 3"
    },
    "language_info": {
      "name": "python"
    }
  },
  "cells": [
    {
      "cell_type": "markdown",
      "metadata": {
        "id": "view-in-github",
        "colab_type": "text"
      },
      "source": [
        "<a href=\"https://colab.research.google.com/github/KhushiBhambri/YogNet/blob/55_Khushi/PoseStreamModel/PoseStreamModel.ipynb\" target=\"_parent\"><img src=\"https://colab.research.google.com/assets/colab-badge.svg\" alt=\"Open In Colab\"/></a>"
      ]
    },
    {
      "cell_type": "code",
      "execution_count": null,
      "metadata": {
        "id": "Mq1eifL7RQCq",
        "colab": {
          "base_uri": "https://localhost:8080/"
        },
        "outputId": "51842615-12fd-4d4f-ab2e-d6af958a5a7a"
      },
      "outputs": [
        {
          "output_type": "stream",
          "name": "stdout",
          "text": [
            "Mounted at /content/drive\n",
            "/content/drive/MyDrive/Major_Project_Cse\n"
          ]
        }
      ],
      "source": [
        "from google.colab import drive\n",
        "drive.mount('/content/drive')\n",
        "\n",
        "# import sys\n",
        "# sys.path.append('/content/drive/MyDrive/Major_Project_Cse')\n",
        "\n",
        "%cd \"/content/drive/MyDrive/Major_Project_Cse\""
      ]
    },
    {
      "cell_type": "code",
      "source": [
        "import pandas as pd\n",
        "\n",
        "# read the data from the CSV file\n",
        "data = pd.read_csv('train_data.csv')\n",
        "\n",
        "# load the keypoints and labels into separate variables\n",
        "# train_keypoints = list(data['keypoints'])\n",
        "train_keypoints=[]\n",
        "train_labels = list(data['label'])"
      ],
      "metadata": {
        "id": "ofsjDXnca5RZ"
      },
      "execution_count": null,
      "outputs": []
    },
    {
      "cell_type": "code",
      "source": [
        "numOfKeypoints = 34\n",
        "import ast\n",
        "for keypoints_str in data['keypoints']:\n",
        "    keypoints_list = ast.literal_eval(keypoints_str)\n",
        "    train_keypoints.append(keypoints_list)"
      ],
      "metadata": {
        "id": "LsBjlSPtbJTc"
      },
      "execution_count": null,
      "outputs": []
    },
    {
      "cell_type": "code",
      "source": [
        "import numpy as np\n",
        "import tensorflow as tf\n",
        "import keras\n",
        "from keras.models import Sequential\n",
        "from keras.layers import Dense\n",
        "from keras.layers import Dropout\n",
        "from keras import initializers\n",
        "from keras.layers import Conv3D, MaxPooling3D,Dense,ZeroPadding3D,Flatten,Activation,BatchNormalization,RandomFlip,RandomRotation,Rescaling\n",
        "from keras.models import load_model\n"
      ],
      "metadata": {
        "id": "YlIQnLkKScSg"
      },
      "execution_count": null,
      "outputs": []
    },
    {
      "cell_type": "code",
      "source": [
        "type(train_keypoints[0][0][1][0])"
      ],
      "metadata": {
        "colab": {
          "base_uri": "https://localhost:8080/"
        },
        "id": "rPuAXk9Ktb2e",
        "outputId": "194eb380-6129-4bd6-92bf-579513c9b215"
      },
      "execution_count": null,
      "outputs": [
        {
          "output_type": "execute_result",
          "data": {
            "text/plain": [
              "NoneType"
            ]
          },
          "metadata": {},
          "execution_count": 5
        }
      ]
    },
    {
      "cell_type": "code",
      "source": [
        "# calculate the center of the object in each frame\n",
        "centers = []\n",
        "for keypoints in train_keypoints:\n",
        "    frame_centers = []\n",
        "    for frame_keypoints in keypoints:\n",
        "        # assume the center is the mean of all keypoints\n",
        "       center_x = np.nanmean([kp[0] for kp in frame_keypoints if kp[0] is not None])\n",
        "       center_y = np.nanmean([kp[1] for kp in frame_keypoints if kp[1] is not None])\n",
        "       frame_centers.append((center_x, center_y))\n",
        "    centers.append(frame_centers)\n",
        "\n",
        "train_relative_keypoints = train_keypoints\n",
        "# make the keypoints relative to the center\n",
        "for i in range(len(train_relative_keypoints)):\n",
        "    for j in range(len(train_relative_keypoints[i])):\n",
        "        for k in range(len(train_relative_keypoints[i][j])):\n",
        "            if train_relative_keypoints[i][j][k][0] is not None:\n",
        "               train_relative_keypoints[i][j][k][0] -= centers[i][j][0]\n",
        "            if train_relative_keypoints[i][j][k][1] is not None:\n",
        "              train_relative_keypoints[i][j][k][1] -= centers[i][j][1]\n"
      ],
      "metadata": {
        "colab": {
          "base_uri": "https://localhost:8080/"
        },
        "id": "0BnE-CJ7rSXT",
        "outputId": "71c37b8c-3dd3-4346-fda4-b46da4dfe6fa"
      },
      "execution_count": null,
      "outputs": [
        {
          "output_type": "stream",
          "name": "stderr",
          "text": [
            "<ipython-input-17-a6c48355f099>:7: RuntimeWarning: Mean of empty slice\n",
            "  center_x = np.nanmean([kp[0] for kp in frame_keypoints if kp[0] is not None])\n",
            "<ipython-input-17-a6c48355f099>:8: RuntimeWarning: Mean of empty slice\n",
            "  center_y = np.nanmean([kp[1] for kp in frame_keypoints if kp[1] is not None])\n"
          ]
        }
      ]
    },
    {
      "cell_type": "code",
      "source": [
        "count=0\n",
        "new_train_keypoints = []\n",
        "new_train_labels = []\n",
        "for i in range(len(train_relative_keypoints)):\n",
        "    # flag=1\n",
        "    frames_keypoints=[] \n",
        "    for j in range(len(train_relative_keypoints[i])):\n",
        "        flag=1\n",
        "        for k in range(len(train_relative_keypoints[i][j])):\n",
        "            if train_relative_keypoints[i][j][k][0] is None or train_relative_keypoints[i][j][k][1] is None:\n",
        "              count+=1\n",
        "              flag=0\n",
        "              break\n",
        "        if(flag==1):\n",
        "          frames_keypoints.append(train_relative_keypoints[i][j])\n",
        "    if(len(frames_keypoints)>0):\n",
        "      kk = [[0.0,0.0] for _ in range(numOfKeypoints)]\n",
        "      for x in range (16-len(frames_keypoints)):\n",
        "          frames_keypoints.append(kk)\n",
        "      # if(len(frames_keypoints)!=16):\n",
        "      #   print(\"2 : \",len(frames_keypoints))\n",
        "      new_train_keypoints.append(frames_keypoints)\n",
        "      new_train_labels.append(train_labels[i])"
      ],
      "metadata": {
        "id": "52M9wU4uESQP"
      },
      "execution_count": null,
      "outputs": []
    },
    {
      "cell_type": "code",
      "source": [
        "print(len(new_train_keypoints),len(new_train_labels))"
      ],
      "metadata": {
        "colab": {
          "base_uri": "https://localhost:8080/"
        },
        "id": "_ThJnaYFbbxl",
        "outputId": "d7c479cd-5cab-4cc9-cafd-53f2070536f8"
      },
      "execution_count": null,
      "outputs": [
        {
          "output_type": "stream",
          "name": "stdout",
          "text": [
            "1033 1033\n"
          ]
        }
      ]
    },
    {
      "cell_type": "code",
      "source": [
        "# train_videos = np.asarray(train_videos)\n",
        "new_train_keypoints = np.asarray(new_train_keypoints)\n",
        "new_train_labels = np.asarray(new_train_labels).astype('int32')\n",
        "\n",
        "# train_keypoints = tf.convert_to_tensor(train_keypoints, dtype=tf.float32)\n",
        "# # yKey_train = tf.cast(yKey_train , dtype=tf.float32)\n",
        "# train_labels = tf.convert_to_tensor(train_labels, dtype=tf.float32)\n",
        "\n",
        "# train_keypoints = np.array([np.array(val) for val in train_keypoints])\n",
        "\n",
        "from sklearn.model_selection import train_test_split\n",
        "\n",
        "XKey_train,XKey_test,yKey_train,yKey_test = train_test_split(new_train_keypoints,new_train_labels,test_size=0.25,shuffle=True)"
      ],
      "metadata": {
        "id": "o2u4v1FP1NmE"
      },
      "execution_count": null,
      "outputs": []
    },
    {
      "cell_type": "code",
      "source": [
        "print(len(XKey_train),len(XKey_test))"
      ],
      "metadata": {
        "colab": {
          "base_uri": "https://localhost:8080/"
        },
        "id": "xZFr3mqdw0ai",
        "outputId": "7ed58586-4a2c-450b-c377-28da7be38b59"
      },
      "execution_count": null,
      "outputs": [
        {
          "output_type": "stream",
          "name": "stdout",
          "text": [
            "774 259\n"
          ]
        }
      ]
    },
    {
      "cell_type": "code",
      "source": [
        "XKey_train = tf.convert_to_tensor(XKey_train, dtype=tf.float32)\n",
        "yKey_train = tf.convert_to_tensor(yKey_train, dtype=tf.int32)"
      ],
      "metadata": {
        "id": "PHGmTIzi26pF"
      },
      "execution_count": null,
      "outputs": []
    },
    {
      "cell_type": "code",
      "source": [
        "# import mediapipe as mp\n",
        "\n",
        "# landmarks = mp_pose.PoseLandmark.__members__\n",
        "# print(landmarks)\n"
      ],
      "metadata": {
        "id": "PyUPZNVDDyHy"
      },
      "execution_count": null,
      "outputs": []
    },
    {
      "cell_type": "code",
      "source": [
        "from keras import models, layers\n",
        "from keras.models import Sequential\n",
        "from keras.layers import Conv1D, MaxPooling1D, Flatten, LSTM, Dense, Dropout, TimeDistributed, GlobalAveragePooling1D\n",
        "from keras.optimizers import Adam\n",
        "from keras.initializers import GlorotNormal\n",
        "from keras.regularizers import L1L2\n",
        "\n",
        "yKey_train = np.squeeze(yKey_train)\n",
        "\n",
        "tf.config.run_functions_eagerly(True)\n",
        "\n",
        "# Define model input shape\n",
        "input_shape = (16, 34, 2)\n",
        "\n",
        "# Build model architecture\n",
        "model = models.Sequential()\n",
        "\n",
        "model.add(TimeDistributed(Conv1D(filters=16, kernel_size=3, activation='relu'),input_shape = input_shape))\n",
        "# model.add(TimeDistributed(BatchNormalization()))\n",
        "model.add(TimeDistributed(MaxPooling1D(pool_size=2)))\n",
        "model.add(TimeDistributed(Conv1D(filters=128, kernel_size=3, activation='relu')))\n",
        "# model.add(TimeDistributed(BatchNormalization()))\n",
        "model.add(TimeDistributed(MaxPooling1D(pool_size=2)))\n",
        "model.add(TimeDistributed(Conv1D(filters=50, kernel_size=3, activation='relu')))\n",
        "# model.add(TimeDistributed(BatchNormalization()))\n",
        "model.add(TimeDistributed(MaxPooling1D(pool_size=2)))\n",
        "\n",
        "# flatten output from CNN layers\n",
        "model.add(TimeDistributed(GlobalAveragePooling1D()))\n",
        "\n",
        "# add LSTM layer\n",
        "# model.add(LSTM(100, dropout=0.0, recurrent_dropout=0.0, kernel_initializer=GlorotNormal(seed=42), recurrent_regularizer=L1L2(l1=0.0, l2=0.001), bias_regularizer=L1L2(l1=0.0, l2=0.001), recurrent_initializer=GlorotNormal(seed=42), return_sequences=False))\n",
        "model.add(LSTM(100, recurrent_regularizer=L1L2(l1=0.01, l2=0.001), bias_regularizer=L1L2(l1=0.01, l2=0.001), recurrent_initializer=GlorotNormal(seed=42), return_sequences=False))\n",
        "\n",
        "# TODO: forget bias \n",
        "# TODO: L1 = 0.01\n",
        "\n",
        "\n",
        "# add fully connected layers\n",
        "\n",
        "# model.add(Dropout(0.5))\n",
        "# model.add(Dense(100, activation='relu'))\n",
        "\n",
        "model.add(Dropout(0.5))\n",
        "model.add(Dense(80, activation='relu'))\n",
        "\n",
        "# add Softmax layer\n",
        "model.add(Dense(20, activation='softmax'))\n",
        "\n",
        "# compile model\n",
        "adam = Adam(learning_rate=0.001) \n",
        "model.compile(loss='sparse_categorical_crossentropy', optimizer=adam, metrics=['accuracy'])\n",
        "\n",
        "# print model summary\n",
        "# print(model.summary())\n",
        "\n",
        "history = model.fit(XKey_train,yKey_train,batch_size=32,epochs = 300,validation_split = 0.2)"
      ],
      "metadata": {
        "colab": {
          "base_uri": "https://localhost:8080/"
        },
        "id": "oIenRNsKJaz9",
        "outputId": "32dcd5d0-0139-4333-d970-aaff8f1f27ca"
      },
      "execution_count": null,
      "outputs": [
        {
          "output_type": "stream",
          "name": "stdout",
          "text": [
            "Epoch 1/300\n"
          ]
        },
        {
          "output_type": "stream",
          "name": "stderr",
          "text": [
            "/usr/local/lib/python3.9/dist-packages/tensorflow/python/data/ops/structured_function.py:254: UserWarning: Even though the `tf.config.experimental_run_functions_eagerly` option is set, this option does not apply to tf.data functions. To force eager execution of tf.data functions, please use `tf.data.experimental.enable_debug_mode()`.\n",
            "  warnings.warn(\n"
          ]
        },
        {
          "output_type": "stream",
          "name": "stdout",
          "text": [
            "20/20 [==============================] - 3s 161ms/step - loss: 21.6912 - accuracy: 0.1066 - val_loss: 17.9949 - val_accuracy: 0.1419\n",
            "Epoch 2/300\n",
            "20/20 [==============================] - 4s 207ms/step - loss: 15.3486 - accuracy: 0.1470 - val_loss: 12.4648 - val_accuracy: 0.1548\n",
            "Epoch 3/300\n",
            "20/20 [==============================] - 4s 175ms/step - loss: 10.3973 - accuracy: 0.1761 - val_loss: 8.3775 - val_accuracy: 0.2258\n",
            "Epoch 4/300\n",
            "20/20 [==============================] - 3s 157ms/step - loss: 6.8797 - accuracy: 0.3037 - val_loss: 5.6341 - val_accuracy: 0.2774\n",
            "Epoch 5/300\n",
            "20/20 [==============================] - 3s 159ms/step - loss: 4.6907 - accuracy: 0.3409 - val_loss: 4.1295 - val_accuracy: 0.2903\n",
            "Epoch 6/300\n",
            "20/20 [==============================] - 4s 201ms/step - loss: 3.5146 - accuracy: 0.3748 - val_loss: 3.3303 - val_accuracy: 0.3677\n",
            "Epoch 7/300\n",
            "20/20 [==============================] - 4s 177ms/step - loss: 2.8857 - accuracy: 0.4216 - val_loss: 2.9416 - val_accuracy: 0.4065\n",
            "Epoch 8/300\n",
            "20/20 [==============================] - 3s 156ms/step - loss: 2.6424 - accuracy: 0.4556 - val_loss: 2.7463 - val_accuracy: 0.4903\n",
            "Epoch 9/300\n",
            "20/20 [==============================] - 3s 155ms/step - loss: 2.5423 - accuracy: 0.4443 - val_loss: 2.7268 - val_accuracy: 0.4194\n",
            "Epoch 10/300\n",
            "20/20 [==============================] - 4s 201ms/step - loss: 2.4773 - accuracy: 0.4637 - val_loss: 2.5618 - val_accuracy: 0.4839\n",
            "Epoch 11/300\n",
            "20/20 [==============================] - 4s 178ms/step - loss: 2.3977 - accuracy: 0.4895 - val_loss: 2.5801 - val_accuracy: 0.5419\n",
            "Epoch 12/300\n",
            "20/20 [==============================] - 3s 156ms/step - loss: 2.3843 - accuracy: 0.4814 - val_loss: 2.6074 - val_accuracy: 0.4452\n",
            "Epoch 13/300\n",
            "20/20 [==============================] - 3s 156ms/step - loss: 2.2567 - accuracy: 0.5283 - val_loss: 2.5729 - val_accuracy: 0.4516\n",
            "Epoch 14/300\n",
            "20/20 [==============================] - 4s 201ms/step - loss: 2.2038 - accuracy: 0.5380 - val_loss: 2.4159 - val_accuracy: 0.5484\n",
            "Epoch 15/300\n",
            "20/20 [==============================] - 4s 179ms/step - loss: 2.0994 - accuracy: 0.5961 - val_loss: 2.4125 - val_accuracy: 0.5484\n",
            "Epoch 16/300\n",
            "20/20 [==============================] - 3s 154ms/step - loss: 2.0833 - accuracy: 0.5444 - val_loss: 2.3337 - val_accuracy: 0.5419\n",
            "Epoch 17/300\n",
            "20/20 [==============================] - 3s 170ms/step - loss: 2.0700 - accuracy: 0.5347 - val_loss: 2.3506 - val_accuracy: 0.5355\n",
            "Epoch 18/300\n",
            "20/20 [==============================] - 4s 193ms/step - loss: 2.0383 - accuracy: 0.5525 - val_loss: 2.2334 - val_accuracy: 0.5935\n",
            "Epoch 19/300\n",
            "20/20 [==============================] - 4s 183ms/step - loss: 1.9642 - accuracy: 0.5784 - val_loss: 2.2334 - val_accuracy: 0.5935\n",
            "Epoch 20/300\n",
            "20/20 [==============================] - 3s 174ms/step - loss: 1.9245 - accuracy: 0.6155 - val_loss: 2.2016 - val_accuracy: 0.5548\n",
            "Epoch 21/300\n",
            "20/20 [==============================] - 3s 154ms/step - loss: 1.9040 - accuracy: 0.5800 - val_loss: 2.1801 - val_accuracy: 0.5871\n",
            "Epoch 22/300\n",
            "20/20 [==============================] - 4s 203ms/step - loss: 1.9337 - accuracy: 0.5606 - val_loss: 2.2684 - val_accuracy: 0.5613\n",
            "Epoch 23/300\n",
            "20/20 [==============================] - 4s 176ms/step - loss: 1.8899 - accuracy: 0.5687 - val_loss: 2.1358 - val_accuracy: 0.6645\n",
            "Epoch 24/300\n",
            "20/20 [==============================] - 3s 155ms/step - loss: 1.7685 - accuracy: 0.6074 - val_loss: 2.1921 - val_accuracy: 0.5484\n",
            "Epoch 25/300\n",
            "20/20 [==============================] - 3s 157ms/step - loss: 1.7938 - accuracy: 0.5848 - val_loss: 2.0636 - val_accuracy: 0.5871\n",
            "Epoch 26/300\n",
            "20/20 [==============================] - 4s 204ms/step - loss: 1.6827 - accuracy: 0.6317 - val_loss: 1.9898 - val_accuracy: 0.6194\n",
            "Epoch 27/300\n",
            "20/20 [==============================] - 4s 177ms/step - loss: 1.5994 - accuracy: 0.6591 - val_loss: 1.9986 - val_accuracy: 0.5871\n",
            "Epoch 28/300\n",
            "20/20 [==============================] - 3s 157ms/step - loss: 1.6441 - accuracy: 0.6349 - val_loss: 2.1199 - val_accuracy: 0.5484\n",
            "Epoch 29/300\n",
            "20/20 [==============================] - 3s 156ms/step - loss: 1.6826 - accuracy: 0.5977 - val_loss: 1.9342 - val_accuracy: 0.6452\n",
            "Epoch 30/300\n",
            "20/20 [==============================] - 4s 200ms/step - loss: 1.6377 - accuracy: 0.6107 - val_loss: 1.9672 - val_accuracy: 0.5742\n",
            "Epoch 31/300\n",
            "20/20 [==============================] - 4s 178ms/step - loss: 1.5552 - accuracy: 0.6365 - val_loss: 1.8551 - val_accuracy: 0.6323\n",
            "Epoch 32/300\n",
            "20/20 [==============================] - 3s 154ms/step - loss: 1.5286 - accuracy: 0.6300 - val_loss: 1.8453 - val_accuracy: 0.6323\n",
            "Epoch 33/300\n",
            "20/20 [==============================] - 3s 152ms/step - loss: 1.5041 - accuracy: 0.6268 - val_loss: 1.8465 - val_accuracy: 0.6000\n",
            "Epoch 34/300\n",
            "20/20 [==============================] - 4s 196ms/step - loss: 1.4803 - accuracy: 0.6430 - val_loss: 1.7663 - val_accuracy: 0.6516\n",
            "Epoch 35/300\n",
            "20/20 [==============================] - 4s 186ms/step - loss: 1.3775 - accuracy: 0.6931 - val_loss: 1.7315 - val_accuracy: 0.6645\n",
            "Epoch 36/300\n",
            "20/20 [==============================] - 3s 154ms/step - loss: 1.3481 - accuracy: 0.6801 - val_loss: 1.8136 - val_accuracy: 0.5677\n",
            "Epoch 37/300\n",
            "20/20 [==============================] - 3s 157ms/step - loss: 1.3764 - accuracy: 0.6591 - val_loss: 1.7171 - val_accuracy: 0.6323\n",
            "Epoch 38/300\n",
            "20/20 [==============================] - 4s 194ms/step - loss: 1.3685 - accuracy: 0.6511 - val_loss: 1.6733 - val_accuracy: 0.7032\n",
            "Epoch 39/300\n",
            "20/20 [==============================] - 4s 187ms/step - loss: 1.2751 - accuracy: 0.7027 - val_loss: 1.6047 - val_accuracy: 0.7097\n",
            "Epoch 40/300\n",
            "20/20 [==============================] - 3s 156ms/step - loss: 1.2360 - accuracy: 0.7189 - val_loss: 1.6170 - val_accuracy: 0.6774\n",
            "Epoch 41/300\n",
            "20/20 [==============================] - 3s 154ms/step - loss: 1.2384 - accuracy: 0.6914 - val_loss: 1.6474 - val_accuracy: 0.6645\n",
            "Epoch 42/300\n",
            "20/20 [==============================] - 4s 188ms/step - loss: 1.2283 - accuracy: 0.6834 - val_loss: 1.6126 - val_accuracy: 0.6452\n",
            "Epoch 43/300\n",
            "20/20 [==============================] - 4s 192ms/step - loss: 1.1743 - accuracy: 0.6882 - val_loss: 1.5308 - val_accuracy: 0.7419\n",
            "Epoch 44/300\n",
            "20/20 [==============================] - 3s 155ms/step - loss: 1.1360 - accuracy: 0.7124 - val_loss: 1.5354 - val_accuracy: 0.6968\n",
            "Epoch 45/300\n",
            "20/20 [==============================] - 3s 154ms/step - loss: 1.0869 - accuracy: 0.7237 - val_loss: 1.4747 - val_accuracy: 0.6903\n",
            "Epoch 46/300\n",
            "20/20 [==============================] - 4s 182ms/step - loss: 1.0894 - accuracy: 0.7141 - val_loss: 1.5834 - val_accuracy: 0.6452\n",
            "Epoch 47/300\n",
            "20/20 [==============================] - 4s 197ms/step - loss: 1.0736 - accuracy: 0.7027 - val_loss: 1.5116 - val_accuracy: 0.7161\n",
            "Epoch 48/300\n",
            "20/20 [==============================] - 3s 153ms/step - loss: 1.0575 - accuracy: 0.7205 - val_loss: 1.5133 - val_accuracy: 0.6516\n",
            "Epoch 49/300\n",
            "20/20 [==============================] - 3s 156ms/step - loss: 0.9721 - accuracy: 0.7658 - val_loss: 1.4861 - val_accuracy: 0.6516\n",
            "Epoch 50/300\n",
            "20/20 [==============================] - 3s 169ms/step - loss: 1.0188 - accuracy: 0.7157 - val_loss: 1.3184 - val_accuracy: 0.7290\n",
            "Epoch 51/300\n",
            "20/20 [==============================] - 4s 206ms/step - loss: 0.8930 - accuracy: 0.7447 - val_loss: 1.4030 - val_accuracy: 0.6258\n",
            "Epoch 52/300\n",
            "20/20 [==============================] - 3s 154ms/step - loss: 0.9356 - accuracy: 0.7076 - val_loss: 1.4071 - val_accuracy: 0.6968\n",
            "Epoch 53/300\n",
            "20/20 [==============================] - 3s 156ms/step - loss: 0.9150 - accuracy: 0.7367 - val_loss: 1.4195 - val_accuracy: 0.6710\n",
            "Epoch 54/300\n",
            "20/20 [==============================] - 3s 173ms/step - loss: 0.9567 - accuracy: 0.7060 - val_loss: 1.3569 - val_accuracy: 0.6581\n",
            "Epoch 55/300\n",
            "20/20 [==============================] - 4s 212ms/step - loss: 0.9340 - accuracy: 0.7205 - val_loss: 1.3542 - val_accuracy: 0.7097\n",
            "Epoch 56/300\n",
            "20/20 [==============================] - 3s 157ms/step - loss: 0.8866 - accuracy: 0.7173 - val_loss: 1.3115 - val_accuracy: 0.6839\n",
            "Epoch 57/300\n",
            "20/20 [==============================] - 3s 154ms/step - loss: 0.8441 - accuracy: 0.7318 - val_loss: 1.3076 - val_accuracy: 0.6839\n",
            "Epoch 58/300\n",
            "20/20 [==============================] - 3s 174ms/step - loss: 0.8279 - accuracy: 0.7641 - val_loss: 1.3325 - val_accuracy: 0.6710\n",
            "Epoch 59/300\n",
            "20/20 [==============================] - 4s 210ms/step - loss: 0.8678 - accuracy: 0.7334 - val_loss: 1.2759 - val_accuracy: 0.6516\n",
            "Epoch 60/300\n",
            "20/20 [==============================] - 3s 156ms/step - loss: 0.8764 - accuracy: 0.7270 - val_loss: 1.2981 - val_accuracy: 0.6774\n",
            "Epoch 61/300\n",
            "20/20 [==============================] - 3s 156ms/step - loss: 0.8384 - accuracy: 0.7464 - val_loss: 1.2503 - val_accuracy: 0.7290\n",
            "Epoch 62/300\n",
            "20/20 [==============================] - 3s 174ms/step - loss: 0.7712 - accuracy: 0.7787 - val_loss: 1.3161 - val_accuracy: 0.6645\n",
            "Epoch 63/300\n",
            "20/20 [==============================] - 4s 209ms/step - loss: 0.8246 - accuracy: 0.7544 - val_loss: 1.3455 - val_accuracy: 0.6839\n",
            "Epoch 64/300\n",
            "20/20 [==============================] - 3s 158ms/step - loss: 0.8423 - accuracy: 0.7431 - val_loss: 1.2820 - val_accuracy: 0.7032\n",
            "Epoch 65/300\n",
            "20/20 [==============================] - 3s 157ms/step - loss: 0.7931 - accuracy: 0.7803 - val_loss: 1.2905 - val_accuracy: 0.7161\n",
            "Epoch 66/300\n",
            "20/20 [==============================] - 3s 174ms/step - loss: 0.7399 - accuracy: 0.7932 - val_loss: 1.2423 - val_accuracy: 0.7290\n",
            "Epoch 67/300\n",
            "20/20 [==============================] - 4s 211ms/step - loss: 0.7151 - accuracy: 0.7981 - val_loss: 1.2776 - val_accuracy: 0.7032\n",
            "Epoch 68/300\n",
            "20/20 [==============================] - 3s 157ms/step - loss: 0.7527 - accuracy: 0.7754 - val_loss: 1.3248 - val_accuracy: 0.6581\n",
            "Epoch 69/300\n",
            "20/20 [==============================] - 3s 158ms/step - loss: 0.7791 - accuracy: 0.7674 - val_loss: 1.3719 - val_accuracy: 0.6710\n",
            "Epoch 70/300\n",
            "20/20 [==============================] - 3s 172ms/step - loss: 0.8220 - accuracy: 0.7561 - val_loss: 1.2680 - val_accuracy: 0.7097\n",
            "Epoch 71/300\n",
            "20/20 [==============================] - 4s 208ms/step - loss: 0.8060 - accuracy: 0.7819 - val_loss: 1.3860 - val_accuracy: 0.6581\n",
            "Epoch 72/300\n",
            "20/20 [==============================] - 3s 156ms/step - loss: 0.7904 - accuracy: 0.7706 - val_loss: 1.3239 - val_accuracy: 0.7161\n",
            "Epoch 73/300\n",
            "20/20 [==============================] - 3s 156ms/step - loss: 0.7974 - accuracy: 0.7900 - val_loss: 1.2114 - val_accuracy: 0.7161\n",
            "Epoch 74/300\n",
            "20/20 [==============================] - 3s 173ms/step - loss: 0.7579 - accuracy: 0.7738 - val_loss: 1.2930 - val_accuracy: 0.6774\n",
            "Epoch 75/300\n",
            "20/20 [==============================] - 4s 211ms/step - loss: 0.7105 - accuracy: 0.8045 - val_loss: 1.1899 - val_accuracy: 0.7226\n",
            "Epoch 76/300\n",
            "20/20 [==============================] - 3s 156ms/step - loss: 0.6743 - accuracy: 0.8061 - val_loss: 1.1775 - val_accuracy: 0.7355\n",
            "Epoch 77/300\n",
            "20/20 [==============================] - 3s 157ms/step - loss: 0.6563 - accuracy: 0.8110 - val_loss: 1.2408 - val_accuracy: 0.7032\n",
            "Epoch 78/300\n",
            "20/20 [==============================] - 3s 174ms/step - loss: 0.6574 - accuracy: 0.8304 - val_loss: 1.2535 - val_accuracy: 0.7355\n",
            "Epoch 79/300\n",
            "20/20 [==============================] - 4s 209ms/step - loss: 0.7225 - accuracy: 0.8045 - val_loss: 1.2349 - val_accuracy: 0.7290\n",
            "Epoch 80/300\n",
            "20/20 [==============================] - 3s 156ms/step - loss: 0.7080 - accuracy: 0.8013 - val_loss: 1.1956 - val_accuracy: 0.7290\n",
            "Epoch 81/300\n",
            "20/20 [==============================] - 3s 156ms/step - loss: 0.6800 - accuracy: 0.8223 - val_loss: 1.2096 - val_accuracy: 0.7032\n",
            "Epoch 82/300\n",
            "20/20 [==============================] - 3s 174ms/step - loss: 0.6998 - accuracy: 0.7948 - val_loss: 1.2097 - val_accuracy: 0.7226\n",
            "Epoch 83/300\n",
            "20/20 [==============================] - 4s 209ms/step - loss: 0.6649 - accuracy: 0.8174 - val_loss: 1.2126 - val_accuracy: 0.7419\n",
            "Epoch 84/300\n",
            "20/20 [==============================] - 3s 155ms/step - loss: 0.6721 - accuracy: 0.8142 - val_loss: 1.2330 - val_accuracy: 0.7613\n",
            "Epoch 85/300\n",
            "20/20 [==============================] - 3s 154ms/step - loss: 0.6741 - accuracy: 0.8094 - val_loss: 1.2702 - val_accuracy: 0.7161\n",
            "Epoch 86/300\n",
            "20/20 [==============================] - 3s 173ms/step - loss: 0.6785 - accuracy: 0.8094 - val_loss: 1.2140 - val_accuracy: 0.7355\n",
            "Epoch 87/300\n",
            "20/20 [==============================] - 4s 211ms/step - loss: 0.7223 - accuracy: 0.8142 - val_loss: 1.2069 - val_accuracy: 0.7548\n",
            "Epoch 88/300\n",
            "20/20 [==============================] - 3s 156ms/step - loss: 0.6967 - accuracy: 0.8110 - val_loss: 1.2616 - val_accuracy: 0.7226\n",
            "Epoch 89/300\n",
            "20/20 [==============================] - 3s 156ms/step - loss: 0.6904 - accuracy: 0.8126 - val_loss: 1.2210 - val_accuracy: 0.7484\n",
            "Epoch 90/300\n",
            "20/20 [==============================] - 3s 177ms/step - loss: 0.6269 - accuracy: 0.8320 - val_loss: 1.2234 - val_accuracy: 0.7548\n",
            "Epoch 91/300\n",
            "20/20 [==============================] - 4s 213ms/step - loss: 0.6442 - accuracy: 0.8191 - val_loss: 1.2510 - val_accuracy: 0.7032\n",
            "Epoch 92/300\n",
            "20/20 [==============================] - 3s 155ms/step - loss: 0.6933 - accuracy: 0.8110 - val_loss: 1.2895 - val_accuracy: 0.6968\n",
            "Epoch 93/300\n",
            "20/20 [==============================] - 3s 156ms/step - loss: 0.7559 - accuracy: 0.7819 - val_loss: 1.1798 - val_accuracy: 0.7290\n",
            "Epoch 94/300\n",
            "20/20 [==============================] - 3s 175ms/step - loss: 0.6376 - accuracy: 0.8352 - val_loss: 1.2653 - val_accuracy: 0.6968\n",
            "Epoch 95/300\n",
            "20/20 [==============================] - 4s 212ms/step - loss: 0.6249 - accuracy: 0.8142 - val_loss: 1.2468 - val_accuracy: 0.7419\n",
            "Epoch 96/300\n",
            "20/20 [==============================] - 3s 159ms/step - loss: 0.6004 - accuracy: 0.8304 - val_loss: 1.2586 - val_accuracy: 0.7032\n",
            "Epoch 97/300\n",
            "20/20 [==============================] - 3s 157ms/step - loss: 0.6192 - accuracy: 0.8142 - val_loss: 1.1818 - val_accuracy: 0.7226\n",
            "Epoch 98/300\n",
            "20/20 [==============================] - 3s 174ms/step - loss: 0.6012 - accuracy: 0.8288 - val_loss: 1.3021 - val_accuracy: 0.7161\n",
            "Epoch 99/300\n",
            "20/20 [==============================] - 5s 227ms/step - loss: 0.6140 - accuracy: 0.8126 - val_loss: 1.1821 - val_accuracy: 0.7290\n",
            "Epoch 100/300\n",
            "20/20 [==============================] - 3s 173ms/step - loss: 0.5343 - accuracy: 0.8578 - val_loss: 1.2421 - val_accuracy: 0.6839\n",
            "Epoch 101/300\n",
            "20/20 [==============================] - 3s 156ms/step - loss: 0.5284 - accuracy: 0.8514 - val_loss: 1.2367 - val_accuracy: 0.7290\n",
            "Epoch 102/300\n",
            "20/20 [==============================] - 4s 189ms/step - loss: 0.5844 - accuracy: 0.8465 - val_loss: 1.2160 - val_accuracy: 0.7161\n",
            "Epoch 103/300\n",
            "20/20 [==============================] - 4s 196ms/step - loss: 0.6225 - accuracy: 0.8158 - val_loss: 1.1658 - val_accuracy: 0.7419\n",
            "Epoch 104/300\n",
            "20/20 [==============================] - 3s 156ms/step - loss: 0.5976 - accuracy: 0.8255 - val_loss: 1.2166 - val_accuracy: 0.6903\n",
            "Epoch 105/300\n",
            "20/20 [==============================] - 3s 155ms/step - loss: 0.5932 - accuracy: 0.8336 - val_loss: 1.1841 - val_accuracy: 0.7355\n",
            "Epoch 106/300\n",
            "20/20 [==============================] - 4s 188ms/step - loss: 0.5951 - accuracy: 0.8481 - val_loss: 1.1971 - val_accuracy: 0.7613\n",
            "Epoch 107/300\n",
            "20/20 [==============================] - 4s 199ms/step - loss: 0.6279 - accuracy: 0.8158 - val_loss: 1.3225 - val_accuracy: 0.7032\n",
            "Epoch 108/300\n",
            "20/20 [==============================] - 3s 157ms/step - loss: 0.6191 - accuracy: 0.8320 - val_loss: 1.1904 - val_accuracy: 0.7742\n",
            "Epoch 109/300\n",
            "20/20 [==============================] - 3s 160ms/step - loss: 0.5371 - accuracy: 0.8498 - val_loss: 1.1860 - val_accuracy: 0.7677\n",
            "Epoch 110/300\n",
            "20/20 [==============================] - 4s 177ms/step - loss: 0.5113 - accuracy: 0.8546 - val_loss: 1.1036 - val_accuracy: 0.7677\n",
            "Epoch 111/300\n",
            "20/20 [==============================] - 4s 202ms/step - loss: 0.5603 - accuracy: 0.8336 - val_loss: 1.2368 - val_accuracy: 0.7484\n",
            "Epoch 112/300\n",
            "20/20 [==============================] - 3s 174ms/step - loss: 0.5810 - accuracy: 0.8352 - val_loss: 1.1914 - val_accuracy: 0.7484\n",
            "Epoch 113/300\n",
            "20/20 [==============================] - 3s 158ms/step - loss: 0.5758 - accuracy: 0.8417 - val_loss: 1.2340 - val_accuracy: 0.7161\n",
            "Epoch 114/300\n",
            "20/20 [==============================] - 4s 192ms/step - loss: 0.5527 - accuracy: 0.8562 - val_loss: 1.1088 - val_accuracy: 0.7935\n",
            "Epoch 115/300\n",
            "20/20 [==============================] - 4s 190ms/step - loss: 0.5012 - accuracy: 0.8675 - val_loss: 1.2164 - val_accuracy: 0.7484\n",
            "Epoch 116/300\n",
            "20/20 [==============================] - 3s 158ms/step - loss: 0.5147 - accuracy: 0.8595 - val_loss: 1.2559 - val_accuracy: 0.7290\n",
            "Epoch 117/300\n",
            "20/20 [==============================] - 3s 156ms/step - loss: 0.5857 - accuracy: 0.8239 - val_loss: 1.1434 - val_accuracy: 0.7548\n",
            "Epoch 118/300\n",
            "20/20 [==============================] - 4s 190ms/step - loss: 0.4896 - accuracy: 0.8837 - val_loss: 1.0929 - val_accuracy: 0.7806\n",
            "Epoch 119/300\n",
            "20/20 [==============================] - 4s 192ms/step - loss: 0.4762 - accuracy: 0.8562 - val_loss: 1.1375 - val_accuracy: 0.7677\n",
            "Epoch 120/300\n",
            "20/20 [==============================] - 3s 157ms/step - loss: 0.4931 - accuracy: 0.8627 - val_loss: 1.1084 - val_accuracy: 0.7806\n",
            "Epoch 121/300\n",
            "20/20 [==============================] - 3s 158ms/step - loss: 0.5096 - accuracy: 0.8530 - val_loss: 1.2065 - val_accuracy: 0.7032\n",
            "Epoch 122/300\n",
            "20/20 [==============================] - 4s 190ms/step - loss: 0.4866 - accuracy: 0.8514 - val_loss: 1.1303 - val_accuracy: 0.7935\n",
            "Epoch 123/300\n",
            "20/20 [==============================] - 4s 191ms/step - loss: 0.5282 - accuracy: 0.8595 - val_loss: 1.1373 - val_accuracy: 0.7613\n",
            "Epoch 124/300\n",
            "20/20 [==============================] - 3s 174ms/step - loss: 0.4975 - accuracy: 0.8530 - val_loss: 1.1537 - val_accuracy: 0.7677\n",
            "Epoch 125/300\n",
            "20/20 [==============================] - 3s 158ms/step - loss: 0.5002 - accuracy: 0.8724 - val_loss: 1.2331 - val_accuracy: 0.7097\n",
            "Epoch 126/300\n",
            "20/20 [==============================] - 4s 199ms/step - loss: 0.5039 - accuracy: 0.8675 - val_loss: 1.1893 - val_accuracy: 0.7742\n",
            "Epoch 127/300\n",
            "20/20 [==============================] - 4s 181ms/step - loss: 0.4733 - accuracy: 0.8772 - val_loss: 1.1252 - val_accuracy: 0.7677\n",
            "Epoch 128/300\n",
            "20/20 [==============================] - 3s 158ms/step - loss: 0.4167 - accuracy: 0.8982 - val_loss: 1.0808 - val_accuracy: 0.7935\n",
            "Epoch 129/300\n",
            "20/20 [==============================] - 3s 156ms/step - loss: 0.4525 - accuracy: 0.8788 - val_loss: 1.1401 - val_accuracy: 0.7613\n",
            "Epoch 130/300\n",
            "20/20 [==============================] - 4s 190ms/step - loss: 0.4413 - accuracy: 0.8837 - val_loss: 1.2477 - val_accuracy: 0.7484\n",
            "Epoch 131/300\n",
            "20/20 [==============================] - 4s 208ms/step - loss: 0.5018 - accuracy: 0.8578 - val_loss: 1.2211 - val_accuracy: 0.7484\n",
            "Epoch 132/300\n",
            "20/20 [==============================] - 3s 158ms/step - loss: 0.5407 - accuracy: 0.8401 - val_loss: 1.1912 - val_accuracy: 0.7806\n",
            "Epoch 133/300\n",
            "20/20 [==============================] - 3s 158ms/step - loss: 0.5078 - accuracy: 0.8740 - val_loss: 1.1986 - val_accuracy: 0.7742\n",
            "Epoch 134/300\n",
            "20/20 [==============================] - 4s 200ms/step - loss: 0.4999 - accuracy: 0.8659 - val_loss: 1.1765 - val_accuracy: 0.7613\n",
            "Epoch 135/300\n",
            "20/20 [==============================] - 4s 180ms/step - loss: 0.5504 - accuracy: 0.8514 - val_loss: 1.1792 - val_accuracy: 0.7419\n",
            "Epoch 136/300\n",
            "20/20 [==============================] - 3s 156ms/step - loss: 0.5099 - accuracy: 0.8643 - val_loss: 1.1593 - val_accuracy: 0.7742\n",
            "Epoch 137/300\n",
            "20/20 [==============================] - 3s 173ms/step - loss: 0.4552 - accuracy: 0.8934 - val_loss: 1.1840 - val_accuracy: 0.7806\n",
            "Epoch 138/300\n",
            "20/20 [==============================] - 4s 197ms/step - loss: 0.4360 - accuracy: 0.8885 - val_loss: 1.1364 - val_accuracy: 0.7935\n",
            "Epoch 139/300\n",
            "20/20 [==============================] - 4s 180ms/step - loss: 0.4362 - accuracy: 0.8918 - val_loss: 1.1842 - val_accuracy: 0.7677\n",
            "Epoch 140/300\n",
            "20/20 [==============================] - 3s 158ms/step - loss: 0.4526 - accuracy: 0.8708 - val_loss: 1.2063 - val_accuracy: 0.7871\n",
            "Epoch 141/300\n",
            "20/20 [==============================] - 3s 160ms/step - loss: 0.4376 - accuracy: 0.8805 - val_loss: 1.1823 - val_accuracy: 0.7677\n",
            "Epoch 142/300\n",
            "20/20 [==============================] - 4s 212ms/step - loss: 0.4937 - accuracy: 0.8805 - val_loss: 1.1721 - val_accuracy: 0.7935\n",
            "Epoch 143/300\n",
            "20/20 [==============================] - 4s 179ms/step - loss: 0.5060 - accuracy: 0.8578 - val_loss: 1.1704 - val_accuracy: 0.7871\n",
            "Epoch 144/300\n",
            "20/20 [==============================] - 3s 158ms/step - loss: 0.4869 - accuracy: 0.8740 - val_loss: 1.2649 - val_accuracy: 0.7419\n",
            "Epoch 145/300\n",
            "20/20 [==============================] - 3s 158ms/step - loss: 0.5382 - accuracy: 0.8578 - val_loss: 1.1967 - val_accuracy: 0.7484\n",
            "Epoch 146/300\n",
            "20/20 [==============================] - 4s 208ms/step - loss: 0.4959 - accuracy: 0.8691 - val_loss: 1.1296 - val_accuracy: 0.8000\n",
            "Epoch 147/300\n",
            "20/20 [==============================] - 4s 177ms/step - loss: 0.4598 - accuracy: 0.8805 - val_loss: 1.0995 - val_accuracy: 0.7871\n",
            "Epoch 148/300\n",
            "20/20 [==============================] - 3s 157ms/step - loss: 0.4215 - accuracy: 0.8918 - val_loss: 1.0630 - val_accuracy: 0.7935\n",
            "Epoch 149/300\n",
            "20/20 [==============================] - 3s 157ms/step - loss: 0.4032 - accuracy: 0.8950 - val_loss: 1.1048 - val_accuracy: 0.7871\n",
            "Epoch 150/300\n",
            "20/20 [==============================] - 4s 210ms/step - loss: 0.4301 - accuracy: 0.8950 - val_loss: 1.1683 - val_accuracy: 0.7806\n",
            "Epoch 151/300\n",
            "20/20 [==============================] - 4s 177ms/step - loss: 0.4158 - accuracy: 0.9063 - val_loss: 1.1471 - val_accuracy: 0.8000\n",
            "Epoch 152/300\n",
            "20/20 [==============================] - 3s 157ms/step - loss: 0.4630 - accuracy: 0.8788 - val_loss: 1.2466 - val_accuracy: 0.7806\n",
            "Epoch 153/300\n",
            "20/20 [==============================] - 3s 157ms/step - loss: 0.5293 - accuracy: 0.8611 - val_loss: 1.1881 - val_accuracy: 0.7677\n",
            "Epoch 154/300\n",
            "20/20 [==============================] - 4s 211ms/step - loss: 0.4248 - accuracy: 0.8901 - val_loss: 1.1985 - val_accuracy: 0.7742\n",
            "Epoch 155/300\n",
            "20/20 [==============================] - 4s 176ms/step - loss: 0.4464 - accuracy: 0.8788 - val_loss: 1.1274 - val_accuracy: 0.7935\n",
            "Epoch 156/300\n",
            "20/20 [==============================] - 3s 159ms/step - loss: 0.4418 - accuracy: 0.8885 - val_loss: 1.2136 - val_accuracy: 0.7871\n",
            "Epoch 157/300\n",
            "20/20 [==============================] - 3s 160ms/step - loss: 0.4649 - accuracy: 0.8885 - val_loss: 1.1500 - val_accuracy: 0.7742\n",
            "Epoch 158/300\n",
            "20/20 [==============================] - 4s 204ms/step - loss: 0.4456 - accuracy: 0.8788 - val_loss: 1.2404 - val_accuracy: 0.7032\n",
            "Epoch 159/300\n",
            "20/20 [==============================] - 4s 181ms/step - loss: 0.4137 - accuracy: 0.8934 - val_loss: 1.0535 - val_accuracy: 0.7935\n",
            "Epoch 160/300\n",
            "20/20 [==============================] - 3s 158ms/step - loss: 0.3802 - accuracy: 0.9095 - val_loss: 1.1166 - val_accuracy: 0.8000\n",
            "Epoch 161/300\n",
            "20/20 [==============================] - 3s 158ms/step - loss: 0.4207 - accuracy: 0.8950 - val_loss: 1.2287 - val_accuracy: 0.7677\n",
            "Epoch 162/300\n",
            "20/20 [==============================] - 4s 199ms/step - loss: 0.4999 - accuracy: 0.8788 - val_loss: 1.2158 - val_accuracy: 0.7355\n",
            "Epoch 163/300\n",
            "20/20 [==============================] - 4s 181ms/step - loss: 0.4292 - accuracy: 0.8934 - val_loss: 1.1128 - val_accuracy: 0.7935\n",
            "Epoch 164/300\n",
            "20/20 [==============================] - 3s 176ms/step - loss: 0.3759 - accuracy: 0.9079 - val_loss: 1.0872 - val_accuracy: 0.7935\n",
            "Epoch 165/300\n",
            "20/20 [==============================] - 3s 159ms/step - loss: 0.3864 - accuracy: 0.8950 - val_loss: 1.0809 - val_accuracy: 0.7871\n",
            "Epoch 166/300\n",
            "20/20 [==============================] - 4s 202ms/step - loss: 0.3705 - accuracy: 0.9031 - val_loss: 1.0899 - val_accuracy: 0.8000\n",
            "Epoch 167/300\n",
            "20/20 [==============================] - 4s 178ms/step - loss: 0.4049 - accuracy: 0.8982 - val_loss: 1.2516 - val_accuracy: 0.7548\n",
            "Epoch 168/300\n",
            "20/20 [==============================] - 3s 156ms/step - loss: 0.4102 - accuracy: 0.8998 - val_loss: 1.2140 - val_accuracy: 0.7613\n",
            "Epoch 169/300\n",
            "20/20 [==============================] - 3s 157ms/step - loss: 0.4180 - accuracy: 0.8837 - val_loss: 1.1449 - val_accuracy: 0.8000\n",
            "Epoch 170/300\n",
            "20/20 [==============================] - 4s 191ms/step - loss: 0.4553 - accuracy: 0.8853 - val_loss: 1.2265 - val_accuracy: 0.7742\n",
            "Epoch 171/300\n",
            "20/20 [==============================] - 4s 186ms/step - loss: 0.4337 - accuracy: 0.8837 - val_loss: 1.1617 - val_accuracy: 0.7806\n",
            "Epoch 172/300\n",
            "20/20 [==============================] - 3s 158ms/step - loss: 0.4069 - accuracy: 0.9031 - val_loss: 1.1108 - val_accuracy: 0.7871\n",
            "Epoch 173/300\n",
            "20/20 [==============================] - 3s 157ms/step - loss: 0.4168 - accuracy: 0.8805 - val_loss: 1.1089 - val_accuracy: 0.7871\n",
            "Epoch 174/300\n",
            "20/20 [==============================] - 4s 198ms/step - loss: 0.4663 - accuracy: 0.8788 - val_loss: 1.1334 - val_accuracy: 0.8000\n",
            "Epoch 175/300\n",
            "20/20 [==============================] - 4s 188ms/step - loss: 0.4928 - accuracy: 0.8788 - val_loss: 1.1400 - val_accuracy: 0.8000\n",
            "Epoch 176/300\n",
            "20/20 [==============================] - 3s 157ms/step - loss: 0.3843 - accuracy: 0.9225 - val_loss: 1.0892 - val_accuracy: 0.8065\n",
            "Epoch 177/300\n",
            "20/20 [==============================] - 3s 157ms/step - loss: 0.3453 - accuracy: 0.9095 - val_loss: 1.1004 - val_accuracy: 0.8065\n",
            "Epoch 178/300\n",
            "20/20 [==============================] - 4s 202ms/step - loss: 0.4271 - accuracy: 0.8966 - val_loss: 1.1389 - val_accuracy: 0.7935\n",
            "Epoch 179/300\n",
            "20/20 [==============================] - 4s 185ms/step - loss: 0.3664 - accuracy: 0.9079 - val_loss: 1.1283 - val_accuracy: 0.8194\n",
            "Epoch 180/300\n",
            "20/20 [==============================] - 3s 157ms/step - loss: 0.3636 - accuracy: 0.9031 - val_loss: 1.1100 - val_accuracy: 0.7935\n",
            "Epoch 181/300\n",
            "20/20 [==============================] - 3s 156ms/step - loss: 0.3357 - accuracy: 0.9160 - val_loss: 1.1141 - val_accuracy: 0.8129\n",
            "Epoch 182/300\n",
            "20/20 [==============================] - 4s 191ms/step - loss: 0.3412 - accuracy: 0.9144 - val_loss: 1.1299 - val_accuracy: 0.7871\n",
            "Epoch 183/300\n",
            "20/20 [==============================] - 4s 188ms/step - loss: 0.3076 - accuracy: 0.9321 - val_loss: 1.1099 - val_accuracy: 0.7935\n",
            "Epoch 184/300\n",
            "20/20 [==============================] - 3s 157ms/step - loss: 0.3655 - accuracy: 0.8998 - val_loss: 1.1702 - val_accuracy: 0.8065\n",
            "Epoch 185/300\n",
            "20/20 [==============================] - 3s 159ms/step - loss: 0.4346 - accuracy: 0.8998 - val_loss: 1.1486 - val_accuracy: 0.8065\n",
            "Epoch 186/300\n",
            "20/20 [==============================] - 4s 195ms/step - loss: 0.3980 - accuracy: 0.8950 - val_loss: 1.1600 - val_accuracy: 0.8065\n",
            "Epoch 187/300\n",
            "20/20 [==============================] - 4s 187ms/step - loss: 0.3720 - accuracy: 0.9225 - val_loss: 1.2107 - val_accuracy: 0.8065\n",
            "Epoch 188/300\n",
            "20/20 [==============================] - 3s 158ms/step - loss: 0.3975 - accuracy: 0.9015 - val_loss: 1.1650 - val_accuracy: 0.7935\n",
            "Epoch 189/300\n",
            "20/20 [==============================] - 3s 158ms/step - loss: 0.3323 - accuracy: 0.9321 - val_loss: 1.1588 - val_accuracy: 0.7806\n",
            "Epoch 190/300\n",
            "20/20 [==============================] - 4s 223ms/step - loss: 0.3297 - accuracy: 0.9305 - val_loss: 1.1020 - val_accuracy: 0.8000\n",
            "Epoch 191/300\n",
            "20/20 [==============================] - 4s 181ms/step - loss: 0.3048 - accuracy: 0.9273 - val_loss: 1.2345 - val_accuracy: 0.7935\n",
            "Epoch 192/300\n",
            "20/20 [==============================] - 3s 161ms/step - loss: 0.3414 - accuracy: 0.9031 - val_loss: 1.2025 - val_accuracy: 0.7806\n",
            "Epoch 193/300\n",
            "20/20 [==============================] - 3s 161ms/step - loss: 0.3525 - accuracy: 0.9047 - val_loss: 1.1687 - val_accuracy: 0.8000\n",
            "Epoch 194/300\n",
            "20/20 [==============================] - 4s 210ms/step - loss: 0.3403 - accuracy: 0.9063 - val_loss: 1.1516 - val_accuracy: 0.8129\n",
            "Epoch 195/300\n",
            "20/20 [==============================] - 4s 178ms/step - loss: 0.3986 - accuracy: 0.8901 - val_loss: 1.2689 - val_accuracy: 0.7613\n",
            "Epoch 196/300\n",
            "20/20 [==============================] - 3s 159ms/step - loss: 0.3689 - accuracy: 0.8982 - val_loss: 1.1679 - val_accuracy: 0.7871\n",
            "Epoch 197/300\n",
            "20/20 [==============================] - 3s 159ms/step - loss: 0.4495 - accuracy: 0.8821 - val_loss: 1.2280 - val_accuracy: 0.8000\n",
            "Epoch 198/300\n",
            "20/20 [==============================] - 4s 217ms/step - loss: 0.4156 - accuracy: 0.8998 - val_loss: 1.2104 - val_accuracy: 0.8000\n",
            "Epoch 199/300\n",
            "20/20 [==============================] - 4s 190ms/step - loss: 0.3536 - accuracy: 0.9225 - val_loss: 1.1484 - val_accuracy: 0.8000\n",
            "Epoch 200/300\n",
            "20/20 [==============================] - 3s 159ms/step - loss: 0.3386 - accuracy: 0.9225 - val_loss: 1.2098 - val_accuracy: 0.7806\n",
            "Epoch 201/300\n",
            "20/20 [==============================] - 3s 176ms/step - loss: 0.3196 - accuracy: 0.9305 - val_loss: 1.1533 - val_accuracy: 0.8129\n",
            "Epoch 202/300\n",
            "20/20 [==============================] - 5s 230ms/step - loss: 0.3051 - accuracy: 0.9225 - val_loss: 1.1968 - val_accuracy: 0.7935\n",
            "Epoch 203/300\n",
            "20/20 [==============================] - 3s 156ms/step - loss: 0.3181 - accuracy: 0.9208 - val_loss: 1.1490 - val_accuracy: 0.7935\n",
            "Epoch 204/300\n",
            "20/20 [==============================] - 3s 159ms/step - loss: 0.3676 - accuracy: 0.9144 - val_loss: 1.1509 - val_accuracy: 0.7871\n",
            "Epoch 205/300\n",
            "20/20 [==============================] - 3s 175ms/step - loss: 0.3885 - accuracy: 0.9063 - val_loss: 1.1074 - val_accuracy: 0.8000\n",
            "Epoch 206/300\n",
            "20/20 [==============================] - 5s 243ms/step - loss: 0.3589 - accuracy: 0.9079 - val_loss: 1.1351 - val_accuracy: 0.8194\n",
            "Epoch 207/300\n",
            "20/20 [==============================] - 3s 176ms/step - loss: 0.3381 - accuracy: 0.9144 - val_loss: 1.4114 - val_accuracy: 0.7161\n",
            "Epoch 208/300\n",
            "20/20 [==============================] - 3s 160ms/step - loss: 0.3311 - accuracy: 0.9176 - val_loss: 1.2178 - val_accuracy: 0.7742\n",
            "Epoch 209/300\n",
            "20/20 [==============================] - 4s 179ms/step - loss: 0.3242 - accuracy: 0.9208 - val_loss: 1.1243 - val_accuracy: 0.8129\n",
            "Epoch 210/300\n",
            "20/20 [==============================] - 4s 210ms/step - loss: 0.3351 - accuracy: 0.9192 - val_loss: 1.1231 - val_accuracy: 0.8323\n",
            "Epoch 211/300\n",
            "20/20 [==============================] - 3s 160ms/step - loss: 0.2808 - accuracy: 0.9241 - val_loss: 1.0763 - val_accuracy: 0.8194\n",
            "Epoch 212/300\n",
            "20/20 [==============================] - 3s 159ms/step - loss: 0.3506 - accuracy: 0.9111 - val_loss: 1.3347 - val_accuracy: 0.7677\n",
            "Epoch 213/300\n",
            "20/20 [==============================] - 4s 183ms/step - loss: 0.4386 - accuracy: 0.8950 - val_loss: 1.2511 - val_accuracy: 0.8000\n",
            "Epoch 214/300\n",
            "20/20 [==============================] - 4s 209ms/step - loss: 0.3556 - accuracy: 0.9176 - val_loss: 1.2247 - val_accuracy: 0.7935\n",
            "Epoch 215/300\n",
            "20/20 [==============================] - 3s 159ms/step - loss: 0.3820 - accuracy: 0.9015 - val_loss: 1.2434 - val_accuracy: 0.7677\n",
            "Epoch 216/300\n",
            "20/20 [==============================] - 3s 161ms/step - loss: 0.3755 - accuracy: 0.9192 - val_loss: 1.2092 - val_accuracy: 0.7935\n",
            "Epoch 217/300\n",
            "20/20 [==============================] - 4s 182ms/step - loss: 0.3646 - accuracy: 0.9208 - val_loss: 1.3528 - val_accuracy: 0.7613\n",
            "Epoch 218/300\n",
            "20/20 [==============================] - 4s 206ms/step - loss: 0.3283 - accuracy: 0.9128 - val_loss: 1.2525 - val_accuracy: 0.7742\n",
            "Epoch 219/300\n",
            "20/20 [==============================] - 3s 160ms/step - loss: 0.2951 - accuracy: 0.9208 - val_loss: 1.1718 - val_accuracy: 0.8129\n",
            "Epoch 220/300\n",
            "20/20 [==============================] - 3s 158ms/step - loss: 0.3377 - accuracy: 0.9128 - val_loss: 1.2583 - val_accuracy: 0.7742\n",
            "Epoch 221/300\n",
            "20/20 [==============================] - 4s 186ms/step - loss: 0.3156 - accuracy: 0.9176 - val_loss: 1.2975 - val_accuracy: 0.7871\n",
            "Epoch 222/300\n",
            "20/20 [==============================] - 4s 201ms/step - loss: 0.3273 - accuracy: 0.9160 - val_loss: 1.3503 - val_accuracy: 0.7806\n",
            "Epoch 223/300\n",
            "20/20 [==============================] - 3s 158ms/step - loss: 0.3222 - accuracy: 0.9095 - val_loss: 1.1744 - val_accuracy: 0.8129\n",
            "Epoch 224/300\n",
            "20/20 [==============================] - 3s 160ms/step - loss: 0.2723 - accuracy: 0.9354 - val_loss: 1.2599 - val_accuracy: 0.7677\n",
            "Epoch 225/300\n",
            "20/20 [==============================] - 4s 189ms/step - loss: 0.2931 - accuracy: 0.9305 - val_loss: 1.2001 - val_accuracy: 0.8000\n",
            "Epoch 226/300\n",
            "20/20 [==============================] - 4s 196ms/step - loss: 0.2910 - accuracy: 0.9321 - val_loss: 1.1517 - val_accuracy: 0.8000\n",
            "Epoch 227/300\n",
            "20/20 [==============================] - 3s 160ms/step - loss: 0.2894 - accuracy: 0.9289 - val_loss: 1.1920 - val_accuracy: 0.7742\n",
            "Epoch 228/300\n",
            "20/20 [==============================] - 3s 160ms/step - loss: 0.2883 - accuracy: 0.9338 - val_loss: 1.2371 - val_accuracy: 0.7806\n",
            "Epoch 229/300\n",
            "20/20 [==============================] - 4s 193ms/step - loss: 0.3084 - accuracy: 0.9370 - val_loss: 1.2287 - val_accuracy: 0.7935\n",
            "Epoch 230/300\n",
            "20/20 [==============================] - 4s 212ms/step - loss: 0.3210 - accuracy: 0.9370 - val_loss: 1.3472 - val_accuracy: 0.7742\n",
            "Epoch 231/300\n",
            "20/20 [==============================] - 3s 160ms/step - loss: 0.4279 - accuracy: 0.9031 - val_loss: 1.3697 - val_accuracy: 0.7419\n",
            "Epoch 232/300\n",
            "20/20 [==============================] - 3s 159ms/step - loss: 0.4587 - accuracy: 0.8966 - val_loss: 1.2542 - val_accuracy: 0.7871\n",
            "Epoch 233/300\n",
            "20/20 [==============================] - 4s 206ms/step - loss: 0.3630 - accuracy: 0.9257 - val_loss: 1.2524 - val_accuracy: 0.7806\n",
            "Epoch 234/300\n",
            "20/20 [==============================] - 4s 184ms/step - loss: 0.3024 - accuracy: 0.9305 - val_loss: 1.3023 - val_accuracy: 0.7935\n",
            "Epoch 235/300\n",
            "20/20 [==============================] - 3s 162ms/step - loss: 0.3288 - accuracy: 0.9208 - val_loss: 1.2373 - val_accuracy: 0.7935\n",
            "Epoch 236/300\n",
            "20/20 [==============================] - 3s 160ms/step - loss: 0.2794 - accuracy: 0.9370 - val_loss: 1.1540 - val_accuracy: 0.7935\n",
            "Epoch 237/300\n",
            "20/20 [==============================] - 4s 209ms/step - loss: 0.2822 - accuracy: 0.9338 - val_loss: 1.1865 - val_accuracy: 0.8065\n",
            "Epoch 238/300\n",
            "20/20 [==============================] - 4s 179ms/step - loss: 0.2901 - accuracy: 0.9289 - val_loss: 1.1704 - val_accuracy: 0.7935\n",
            "Epoch 239/300\n",
            "20/20 [==============================] - 3s 158ms/step - loss: 0.2924 - accuracy: 0.9386 - val_loss: 1.1654 - val_accuracy: 0.8129\n",
            "Epoch 240/300\n",
            "20/20 [==============================] - 3s 157ms/step - loss: 0.2741 - accuracy: 0.9386 - val_loss: 1.1100 - val_accuracy: 0.8129\n",
            "Epoch 241/300\n",
            "20/20 [==============================] - 4s 219ms/step - loss: 0.2517 - accuracy: 0.9402 - val_loss: 1.1900 - val_accuracy: 0.7935\n",
            "Epoch 242/300\n",
            "20/20 [==============================] - 4s 190ms/step - loss: 0.2687 - accuracy: 0.9370 - val_loss: 1.2814 - val_accuracy: 0.7871\n",
            "Epoch 243/300\n",
            "20/20 [==============================] - 3s 161ms/step - loss: 0.3021 - accuracy: 0.9354 - val_loss: 1.2419 - val_accuracy: 0.7871\n",
            "Epoch 244/300\n",
            "20/20 [==============================] - 3s 163ms/step - loss: 0.2582 - accuracy: 0.9370 - val_loss: 1.2247 - val_accuracy: 0.7935\n",
            "Epoch 245/300\n",
            "20/20 [==============================] - 4s 224ms/step - loss: 0.2446 - accuracy: 0.9467 - val_loss: 1.2982 - val_accuracy: 0.7935\n",
            "Epoch 246/300\n",
            "20/20 [==============================] - 3s 161ms/step - loss: 0.2313 - accuracy: 0.9418 - val_loss: 1.2574 - val_accuracy: 0.7935\n",
            "Epoch 247/300\n",
            "20/20 [==============================] - 3s 159ms/step - loss: 0.2889 - accuracy: 0.9225 - val_loss: 1.2830 - val_accuracy: 0.7935\n",
            "Epoch 248/300\n",
            "20/20 [==============================] - 3s 157ms/step - loss: 0.3206 - accuracy: 0.9257 - val_loss: 1.1820 - val_accuracy: 0.8194\n",
            "Epoch 249/300\n",
            "20/20 [==============================] - 4s 228ms/step - loss: 0.2812 - accuracy: 0.9289 - val_loss: 1.3466 - val_accuracy: 0.8000\n",
            "Epoch 250/300\n",
            "20/20 [==============================] - 3s 159ms/step - loss: 0.3010 - accuracy: 0.9321 - val_loss: 1.2268 - val_accuracy: 0.8000\n",
            "Epoch 251/300\n",
            "20/20 [==============================] - 3s 161ms/step - loss: 0.2461 - accuracy: 0.9515 - val_loss: 1.2351 - val_accuracy: 0.7935\n",
            "Epoch 252/300\n",
            "20/20 [==============================] - 4s 177ms/step - loss: 0.2516 - accuracy: 0.9467 - val_loss: 1.2255 - val_accuracy: 0.8065\n",
            "Epoch 253/300\n",
            "20/20 [==============================] - 5s 247ms/step - loss: 0.2672 - accuracy: 0.9386 - val_loss: 1.2634 - val_accuracy: 0.7677\n",
            "Epoch 254/300\n",
            "20/20 [==============================] - 3s 160ms/step - loss: 0.2616 - accuracy: 0.9418 - val_loss: 1.2331 - val_accuracy: 0.8000\n",
            "Epoch 255/300\n",
            "20/20 [==============================] - 3s 159ms/step - loss: 0.2406 - accuracy: 0.9386 - val_loss: 1.2611 - val_accuracy: 0.7935\n",
            "Epoch 256/300\n",
            "20/20 [==============================] - 3s 176ms/step - loss: 0.2264 - accuracy: 0.9467 - val_loss: 1.3636 - val_accuracy: 0.7677\n",
            "Epoch 257/300\n",
            "20/20 [==============================] - 4s 216ms/step - loss: 0.3317 - accuracy: 0.9241 - val_loss: 1.3882 - val_accuracy: 0.7548\n",
            "Epoch 258/300\n",
            "20/20 [==============================] - 3s 159ms/step - loss: 0.3244 - accuracy: 0.9338 - val_loss: 1.3151 - val_accuracy: 0.7935\n",
            "Epoch 259/300\n",
            "20/20 [==============================] - 3s 159ms/step - loss: 0.2754 - accuracy: 0.9370 - val_loss: 1.2901 - val_accuracy: 0.7871\n",
            "Epoch 260/300\n",
            "20/20 [==============================] - 4s 177ms/step - loss: 0.3133 - accuracy: 0.9402 - val_loss: 1.2721 - val_accuracy: 0.8065\n",
            "Epoch 261/300\n",
            "20/20 [==============================] - 4s 214ms/step - loss: 0.3103 - accuracy: 0.9402 - val_loss: 1.2753 - val_accuracy: 0.7935\n",
            "Epoch 262/300\n",
            "20/20 [==============================] - 3s 158ms/step - loss: 0.2717 - accuracy: 0.9402 - val_loss: 1.2551 - val_accuracy: 0.8000\n",
            "Epoch 263/300\n",
            "20/20 [==============================] - 3s 160ms/step - loss: 0.2450 - accuracy: 0.9548 - val_loss: 1.2906 - val_accuracy: 0.7806\n",
            "Epoch 264/300\n",
            "20/20 [==============================] - 4s 181ms/step - loss: 0.3075 - accuracy: 0.9289 - val_loss: 1.4216 - val_accuracy: 0.7677\n",
            "Epoch 265/300\n",
            "20/20 [==============================] - 4s 207ms/step - loss: 0.3216 - accuracy: 0.9305 - val_loss: 1.4028 - val_accuracy: 0.7613\n",
            "Epoch 266/300\n",
            "20/20 [==============================] - 3s 159ms/step - loss: 0.3210 - accuracy: 0.9273 - val_loss: 1.2741 - val_accuracy: 0.7871\n",
            "Epoch 267/300\n",
            "20/20 [==============================] - 3s 159ms/step - loss: 0.3081 - accuracy: 0.9370 - val_loss: 1.2867 - val_accuracy: 0.8000\n",
            "Epoch 268/300\n",
            "20/20 [==============================] - 4s 187ms/step - loss: 0.2736 - accuracy: 0.9354 - val_loss: 1.2989 - val_accuracy: 0.7742\n",
            "Epoch 269/300\n",
            "20/20 [==============================] - 4s 205ms/step - loss: 0.3123 - accuracy: 0.9370 - val_loss: 1.2406 - val_accuracy: 0.8000\n",
            "Epoch 270/300\n",
            "20/20 [==============================] - 3s 158ms/step - loss: 0.2984 - accuracy: 0.9435 - val_loss: 1.3421 - val_accuracy: 0.7871\n",
            "Epoch 271/300\n",
            "20/20 [==============================] - 3s 160ms/step - loss: 0.3346 - accuracy: 0.9192 - val_loss: 1.3725 - val_accuracy: 0.7935\n",
            "Epoch 272/300\n",
            "20/20 [==============================] - 4s 186ms/step - loss: 0.3079 - accuracy: 0.9354 - val_loss: 1.4202 - val_accuracy: 0.7935\n",
            "Epoch 273/300\n",
            "20/20 [==============================] - 4s 203ms/step - loss: 0.3266 - accuracy: 0.9289 - val_loss: 1.5017 - val_accuracy: 0.7613\n",
            "Epoch 274/300\n",
            "20/20 [==============================] - 3s 160ms/step - loss: 0.3633 - accuracy: 0.9128 - val_loss: 1.1761 - val_accuracy: 0.8129\n",
            "Epoch 275/300\n",
            "20/20 [==============================] - 3s 160ms/step - loss: 0.3424 - accuracy: 0.9225 - val_loss: 1.2207 - val_accuracy: 0.8258\n",
            "Epoch 276/300\n",
            "20/20 [==============================] - 4s 190ms/step - loss: 0.2802 - accuracy: 0.9451 - val_loss: 1.2384 - val_accuracy: 0.7806\n",
            "Epoch 277/300\n",
            "20/20 [==============================] - 4s 203ms/step - loss: 0.4163 - accuracy: 0.8982 - val_loss: 1.4195 - val_accuracy: 0.7677\n",
            "Epoch 278/300\n",
            "20/20 [==============================] - 3s 161ms/step - loss: 0.4043 - accuracy: 0.9192 - val_loss: 1.4412 - val_accuracy: 0.7677\n",
            "Epoch 279/300\n",
            "20/20 [==============================] - 3s 159ms/step - loss: 0.3149 - accuracy: 0.9402 - val_loss: 1.2119 - val_accuracy: 0.8000\n",
            "Epoch 280/300\n",
            "20/20 [==============================] - 4s 199ms/step - loss: 0.2650 - accuracy: 0.9402 - val_loss: 1.1961 - val_accuracy: 0.8000\n",
            "Epoch 281/300\n",
            "20/20 [==============================] - 4s 194ms/step - loss: 0.2708 - accuracy: 0.9386 - val_loss: 1.2469 - val_accuracy: 0.7871\n",
            "Epoch 282/300\n",
            "20/20 [==============================] - 3s 159ms/step - loss: 0.2591 - accuracy: 0.9435 - val_loss: 1.2715 - val_accuracy: 0.8194\n",
            "Epoch 283/300\n",
            "20/20 [==============================] - 3s 160ms/step - loss: 0.2794 - accuracy: 0.9515 - val_loss: 1.2535 - val_accuracy: 0.8000\n",
            "Epoch 284/300\n",
            "20/20 [==============================] - 4s 201ms/step - loss: 0.2933 - accuracy: 0.9402 - val_loss: 1.2578 - val_accuracy: 0.7871\n",
            "Epoch 285/300\n",
            "20/20 [==============================] - 4s 205ms/step - loss: 0.3166 - accuracy: 0.9354 - val_loss: 1.1432 - val_accuracy: 0.8000\n",
            "Epoch 286/300\n",
            "20/20 [==============================] - 3s 162ms/step - loss: 0.2770 - accuracy: 0.9467 - val_loss: 1.3273 - val_accuracy: 0.7871\n",
            "Epoch 287/300\n",
            "20/20 [==============================] - 3s 160ms/step - loss: 0.2475 - accuracy: 0.9515 - val_loss: 1.2669 - val_accuracy: 0.8129\n",
            "Epoch 288/300\n",
            "20/20 [==============================] - 4s 214ms/step - loss: 0.2525 - accuracy: 0.9451 - val_loss: 1.2145 - val_accuracy: 0.8129\n",
            "Epoch 289/300\n",
            "20/20 [==============================] - 4s 181ms/step - loss: 0.2351 - accuracy: 0.9532 - val_loss: 1.2149 - val_accuracy: 0.8065\n",
            "Epoch 290/300\n",
            "20/20 [==============================] - 3s 160ms/step - loss: 0.2388 - accuracy: 0.9483 - val_loss: 1.2940 - val_accuracy: 0.7935\n",
            "Epoch 291/300\n",
            "20/20 [==============================] - 3s 160ms/step - loss: 0.2246 - accuracy: 0.9596 - val_loss: 1.2463 - val_accuracy: 0.7935\n",
            "Epoch 292/300\n",
            "20/20 [==============================] - 4s 219ms/step - loss: 0.2137 - accuracy: 0.9532 - val_loss: 1.2229 - val_accuracy: 0.7871\n",
            "Epoch 293/300\n",
            "20/20 [==============================] - 4s 174ms/step - loss: 0.2040 - accuracy: 0.9515 - val_loss: 1.2152 - val_accuracy: 0.8129\n",
            "Epoch 294/300\n",
            "20/20 [==============================] - 3s 161ms/step - loss: 0.2782 - accuracy: 0.9354 - val_loss: 1.2860 - val_accuracy: 0.7677\n",
            "Epoch 295/300\n",
            "20/20 [==============================] - 4s 178ms/step - loss: 0.2832 - accuracy: 0.9273 - val_loss: 1.3146 - val_accuracy: 0.7742\n",
            "Epoch 296/300\n",
            "20/20 [==============================] - 5s 232ms/step - loss: 0.2656 - accuracy: 0.9386 - val_loss: 1.3298 - val_accuracy: 0.8065\n",
            "Epoch 297/300\n",
            "20/20 [==============================] - 4s 180ms/step - loss: 0.2393 - accuracy: 0.9580 - val_loss: 1.2307 - val_accuracy: 0.7871\n",
            "Epoch 298/300\n",
            "20/20 [==============================] - 3s 163ms/step - loss: 0.2950 - accuracy: 0.9289 - val_loss: 1.3437 - val_accuracy: 0.7677\n",
            "Epoch 299/300\n",
            "20/20 [==============================] - 3s 162ms/step - loss: 0.3050 - accuracy: 0.9370 - val_loss: 1.3096 - val_accuracy: 0.7742\n",
            "Epoch 300/300\n",
            "20/20 [==============================] - 5s 232ms/step - loss: 0.3210 - accuracy: 0.9289 - val_loss: 1.3029 - val_accuracy: 0.8065\n"
          ]
        }
      ]
    },
    {
      "cell_type": "code",
      "source": [
        "\n",
        "\n",
        "# Get model summary\n",
        "# model.summary()\n",
        "\n",
        "# # Get training and validation accuracy\n",
        "# train_accuracy = history.history['accuracy']\n",
        "# val_accuracy = history.history['val_accuracy']\n",
        "\n",
        "# # Get training and validation loss\n",
        "# train_loss = history.history['loss']\n",
        "# val_loss = history.history['val_loss']\n"
      ],
      "metadata": {
        "colab": {
          "base_uri": "https://localhost:8080/"
        },
        "id": "XaQTq9CoSq3F",
        "outputId": "ffe310fe-7942-44ec-dab6-e67b6d2ce521"
      },
      "execution_count": null,
      "outputs": [
        {
          "output_type": "stream",
          "name": "stdout",
          "text": [
            "Model: \"sequential_1\"\n",
            "_________________________________________________________________\n",
            " Layer (type)                Output Shape              Param #   \n",
            "=================================================================\n",
            " time_distributed_7 (TimeDis  (None, 16, 32, 16)       112       \n",
            " tributed)                                                       \n",
            "                                                                 \n",
            " time_distributed_8 (TimeDis  (None, 16, 16, 16)       0         \n",
            " tributed)                                                       \n",
            "                                                                 \n",
            " time_distributed_9 (TimeDis  (None, 16, 14, 128)      6272      \n",
            " tributed)                                                       \n",
            "                                                                 \n",
            " time_distributed_10 (TimeDi  (None, 16, 7, 128)       0         \n",
            " stributed)                                                      \n",
            "                                                                 \n",
            " time_distributed_11 (TimeDi  (None, 16, 5, 50)        19250     \n",
            " stributed)                                                      \n",
            "                                                                 \n",
            " time_distributed_12 (TimeDi  (None, 16, 2, 50)        0         \n",
            " stributed)                                                      \n",
            "                                                                 \n",
            " time_distributed_13 (TimeDi  (None, 16, 50)           0         \n",
            " stributed)                                                      \n",
            "                                                                 \n",
            " lstm_1 (LSTM)               (None, 100)               60400     \n",
            "                                                                 \n",
            " dropout_1 (Dropout)         (None, 100)               0         \n",
            "                                                                 \n",
            " dense_2 (Dense)             (None, 80)                8080      \n",
            "                                                                 \n",
            " dense_3 (Dense)             (None, 20)                1620      \n",
            "                                                                 \n",
            "=================================================================\n",
            "Total params: 95,734\n",
            "Trainable params: 95,734\n",
            "Non-trainable params: 0\n",
            "_________________________________________________________________\n"
          ]
        }
      ]
    },
    {
      "cell_type": "code",
      "source": [
        "model.evaluate(XKey_test,yKey_test)"
      ],
      "metadata": {
        "colab": {
          "base_uri": "https://localhost:8080/"
        },
        "id": "dN9KVXyOiewC",
        "outputId": "1eb5bfea-2f10-4ca2-e3da-5e33878e756c"
      },
      "execution_count": null,
      "outputs": [
        {
          "output_type": "stream",
          "name": "stdout",
          "text": [
            "9/9 [==============================] - 1s 89ms/step - loss: 0.6893 - accuracy: 0.8494\n"
          ]
        },
        {
          "output_type": "execute_result",
          "data": {
            "text/plain": [
              "[0.6892863512039185, 0.8494208455085754]"
            ]
          },
          "metadata": {},
          "execution_count": 25
        }
      ]
    },
    {
      "cell_type": "code",
      "source": [
        "# Save the model to a file\n",
        "model.save('PoseStream.h5')\n",
        "\n",
        "# Load the saved model from the file\n",
        "loaded_model = load_model('PoseStream.h5')"
      ],
      "metadata": {
        "id": "Yfsu-uUIjN13"
      },
      "execution_count": null,
      "outputs": []
    },
    {
      "cell_type": "code",
      "source": [
        "loaded_model.evaluate(XKey_test,yKey_test)"
      ],
      "metadata": {
        "colab": {
          "base_uri": "https://localhost:8080/"
        },
        "id": "s_SttZ58j9MJ",
        "outputId": "d353cbd7-ab10-42db-aa2b-c203c23de2a9"
      },
      "execution_count": null,
      "outputs": [
        {
          "output_type": "stream",
          "name": "stdout",
          "text": [
            "9/9 [==============================] - 1s 62ms/step - loss: 0.6893 - accuracy: 0.8494\n"
          ]
        },
        {
          "output_type": "execute_result",
          "data": {
            "text/plain": [
              "[0.6892863512039185, 0.8494208455085754]"
            ]
          },
          "metadata": {},
          "execution_count": 27
        }
      ]
    },
    {
      "cell_type": "code",
      "source": [
        "input_data = new_train_keypoints[0]\n",
        "# Reshape the input data to include the batch size dimension\n",
        "input_data = np.expand_dims(input_data, axis=0)\n",
        "\n",
        "# Make a prediction with the model\n",
        "output = model.predict(input_data)\n",
        "output"
      ],
      "metadata": {
        "colab": {
          "base_uri": "https://localhost:8080/"
        },
        "id": "yzW5u9b4k18g",
        "outputId": "19985010-266d-4420-f73d-c27c64c4c0c0"
      },
      "execution_count": null,
      "outputs": [
        {
          "output_type": "stream",
          "name": "stderr",
          "text": [
            "/usr/local/lib/python3.9/dist-packages/tensorflow/python/data/ops/structured_function.py:254: UserWarning: Even though the `tf.config.experimental_run_functions_eagerly` option is set, this option does not apply to tf.data functions. To force eager execution of tf.data functions, please use `tf.data.experimental.enable_debug_mode()`.\n",
            "  warnings.warn(\n"
          ]
        },
        {
          "output_type": "stream",
          "name": "stdout",
          "text": [
            "1/1 [==============================] - 0s 299ms/step\n"
          ]
        },
        {
          "output_type": "execute_result",
          "data": {
            "text/plain": [
              "array([[9.99708712e-01, 2.62607158e-11, 8.06678546e-09, 1.93838652e-08,\n",
              "        4.37154535e-09, 3.91757027e-07, 7.37984745e-19, 7.65237303e-07,\n",
              "        2.77937128e-04, 2.42370291e-11, 1.20226105e-05, 3.20784697e-12,\n",
              "        1.26892900e-07, 1.34451783e-09, 6.71775569e-13, 3.91274763e-10,\n",
              "        7.01205912e-13, 3.00378666e-10, 9.27593319e-15, 4.94650870e-13]],\n",
              "      dtype=float32)"
            ]
          },
          "metadata": {},
          "execution_count": 32
        }
      ]
    },
    {
      "cell_type": "code",
      "source": [],
      "metadata": {
        "id": "GPUzTSH7k50O"
      },
      "execution_count": null,
      "outputs": []
    }
  ]
}