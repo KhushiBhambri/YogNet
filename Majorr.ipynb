{
 "cells": [
  {
   "cell_type": "code",
   "execution_count": 7,
   "id": "8a0d8c45",
   "metadata": {},
   "outputs": [],
   "source": [
    "import cv2\n",
    "import mediapipe as mp\n",
    "import matplotlib.pyplot as plt"
   ]
  },
  {
   "cell_type": "code",
   "execution_count": 8,
   "id": "c08557e4",
   "metadata": {},
   "outputs": [],
   "source": [
    "# Initialize mediapipe pose class.\n",
    "mp_pose = mp.solutions.pose\n",
    "\n",
    "# Setup the Pose function for images - independently for the images standalone processing.\n",
    "pose_image = mp_pose.Pose(static_image_mode=True, min_detection_confidence=0.5)\n",
    "\n",
    "# Setup the Pose function for videos - for video processing.\n",
    "pose_video = mp_pose.Pose(static_image_mode=False, min_detection_confidence=0.7,\n",
    "                          min_tracking_confidence=0.7)\n",
    "\n",
    "# Initialize mediapipe drawing class - to draw the landmarks points.\n",
    "mp_drawing = mp.solutions.drawing_utils"
   ]
  },
  {
   "cell_type": "code",
   "execution_count": 9,
   "id": "fcdbc7ad",
   "metadata": {},
   "outputs": [],
   "source": [
    "def detectPose(image_pose, pose, draw=False, display=False):\n",
    "    \n",
    "    original_image = image_pose.copy()\n",
    "    \n",
    "    image_in_RGB = cv2.cvtColor(image_pose, cv2.COLOR_BGR2RGB)\n",
    "    \n",
    "    resultant = pose.process(image_in_RGB)\n",
    "\n",
    "    if resultant.pose_landmarks and draw:    \n",
    "\n",
    "        mp_drawing.draw_landmarks(image=original_image, landmark_list=resultant.pose_landmarks,\n",
    "                                  connections=mp_pose.POSE_CONNECTIONS,\n",
    "                                  landmark_drawing_spec=mp_drawing.DrawingSpec(color=(255,255,255),\n",
    "                                                                               thickness=3, circle_radius=3),\n",
    "                                  connection_drawing_spec=mp_drawing.DrawingSpec(color=(49,125,237),\n",
    "                                                                               thickness=2, circle_radius=2))\n",
    "#     type(results)\n",
    "    if display:\n",
    "            plt.figure(figsize=[22,22])\n",
    "            plt.subplot(121);\n",
    "            plt.imshow(image_pose[:,:,::-1]);\n",
    "            plt.title(\"Input Image\");\n",
    "            plt.axis('off');\n",
    "            \n",
    "            \n",
    "            plt.subplot(122);\n",
    "            plt.imshow(original_image[:,:,::-1]);\n",
    "            plt.title(\"Pose detected Image\");\n",
    "            plt.axis('off');\n",
    "            print(type(original_image[:,:,::-1]))\n",
    "            \n",
    "\n",
    "    else:\n",
    "#         print(resultant.pose_landmarks)\n",
    "        return original_image, resultant"
   ]
  },
  {
   "cell_type": "code",
   "execution_count": 10,
   "id": "20744cff",
   "metadata": {
    "scrolled": true
   },
   "outputs": [],
   "source": [
    "import cv2\n",
    "image_path = 'img1.jpg'\n",
    "output = cv2.imread(image_path)\n",
    "ans = detectPose(output, pose_image, draw=True, display=False)\n",
    "cv2.imshow(\"frame\",ans[0])\n",
    "cv2.waitKey(0)\n",
    "cv2.destroyAllWindows()"
   ]
  },
  {
   "cell_type": "code",
   "execution_count": 15,
   "id": "fc87871c",
   "metadata": {},
   "outputs": [
    {
     "data": {
      "text/plain": [
       "{0: 'NOSE',\n",
       " 1: 'LEFT_EYE_INNER',\n",
       " 2: 'LEFT_EYE',\n",
       " 3: 'LEFT_EYE_OUTER',\n",
       " 4: 'RIGHT_EYE_INNER',\n",
       " 5: 'RIGHT_EYE',\n",
       " 6: 'RIGHT_EYE_OUTER',\n",
       " 7: 'LEFT_EAR',\n",
       " 8: 'RIGHT_EAR',\n",
       " 9: 'MOUTH_LEFT',\n",
       " 10: 'MOUTH_RIGHT',\n",
       " 11: 'LEFT_SHOULDER',\n",
       " 12: 'RIGHT_SHOULDER',\n",
       " 13: 'LEFT_ELBOW',\n",
       " 14: 'RIGHT_ELBOW',\n",
       " 15: 'LEFT_WRIST',\n",
       " 16: 'RIGHT_WRIST',\n",
       " 17: 'LEFT_PINKY',\n",
       " 18: 'RIGHT_PINKY',\n",
       " 19: 'LEFT_INDEX',\n",
       " 20: 'RIGHT_INDEX',\n",
       " 21: 'LEFT_THUMB',\n",
       " 22: 'RIGHT_THUMB',\n",
       " 23: 'LEFT_HIP',\n",
       " 24: 'RIGHT_HIP',\n",
       " 25: 'LEFT_KNEE',\n",
       " 26: 'RIGHT_KNEE',\n",
       " 27: 'LEFT_ANKLE',\n",
       " 28: 'RIGHT_ANKLE',\n",
       " 29: 'LEFT_HEEL',\n",
       " 30: 'RIGHT_HEEL',\n",
       " 31: 'LEFT_FOOT_INDEX',\n",
       " 32: 'RIGHT_FOOT_INDEX'}"
      ]
     },
     "execution_count": 15,
     "metadata": {},
     "output_type": "execute_result"
    }
   ],
   "source": [
    "BODY_PARTS_LIST = [e.name for e in mp_pose.PoseLandmark]\n",
    "BODY_PARTS = {index: value for index, value in enumerate(BODY_PARTS_LIST)}\n",
    "BODY_PARTS"
   ]
  },
  {
   "cell_type": "code",
   "execution_count": 32,
   "id": "2f0f9b49",
   "metadata": {
    "scrolled": true
   },
   "outputs": [],
   "source": [
    "# import the opencv library\n",
    "import cv2\n",
    "\n",
    "\n",
    "# define a video capture object\n",
    "vid = cv2.VideoCapture(0)\n",
    "\n",
    "while(True):\n",
    "\t\n",
    "\t# Capture the video frame\n",
    "\t# by frame\n",
    "\tret, frame = vid.read()\n",
    "\n",
    "\t# Display the resulting frame\n",
    "\tcv2.imshow('frame',detectPose(frame, pose_image, draw=True, display=False)[0])\n",
    "# \tprint(resultant)\n",
    "\n",
    "\t# the 'q' button is set as the\n",
    "\t# quitting button you may use any\n",
    "\t# desired button of your choice\n",
    "\tif cv2.waitKey(1) & 0xFF == ord('q'):\n",
    "\t\tbreak\n",
    "\n",
    "# After the loop release the cap object\n",
    "vid.release()\n",
    "# Destroy all the windows\n",
    "cv2.destroyAllWindows()"
   ]
  },
  {
   "cell_type": "code",
   "execution_count": 33,
   "id": "31b13db8",
   "metadata": {},
   "outputs": [],
   "source": [
    "import torch"
   ]
  },
  {
   "cell_type": "code",
   "execution_count": 34,
   "id": "19afa5f9",
   "metadata": {},
   "outputs": [
    {
     "data": {
      "text/plain": [
       "tensor([ 0.5562, -1.6706])"
      ]
     },
     "execution_count": 34,
     "metadata": {},
     "output_type": "execute_result"
    }
   ],
   "source": [
    "torch.randn(2)"
   ]
  },
  {
   "cell_type": "code",
   "execution_count": 35,
   "id": "c36845f3",
   "metadata": {},
   "outputs": [],
   "source": [
    "import cv2\n",
    "import numpy as np"
   ]
  },
  {
   "cell_type": "code",
   "execution_count": 36,
   "id": "061c7812",
   "metadata": {},
   "outputs": [],
   "source": [
    "BODY_PARTS = { \"Nose\": 0, \"Neck\": 1, \"RShoulder\": 2, \"RElbow\": 3, \"RWrist\": 4, \"LShoulder\": 5, \"LElbow\": 6,\n",
    "              \"LWrist\": 7, \"RHip\": 8, \"RKnee\": 9, \"RAnkle\": 10, \"LHip\": 11, \"LKnee\": 12, \"LAnkle\": 13, \"REye\": 14,\n",
    "              \"LEye\": 15, \"REar\": 16, \"LEar\": 17, \"Background\": 18 }\n",
    "\n",
    "POSE_PAIRS = [[\"Neck\", \"RShoulder\"], [\"Neck\", \"LShoulder\"], [\"RShoulder\", \"RElbow\"], [\"RElbow\", \"RWrist\"],\n",
    "              [\"LShoulder\", \"LElbow\"], [\"LElbow\", \"LWrist\"], [\"Neck\", \"RHip\"], [\"RHip\", \"RKnee\"], [\"RKnee\", \"RAnkle\"],\n",
    "              [\"Neck\", \"LHip\"], [\"LHip\", \"LKnee\"], [\"LKnee\", \"LAnkle\"], [\"Neck\", \"Nose\"], [\"Nose\", \"REye\"], [\"REye\", \"REar\"],\n",
    "              [\"Nose\", \"LEye\"], [\"LEye\", \"LEar\"] ]"
   ]
  },
  {
   "cell_type": "code",
   "execution_count": 42,
   "id": "49ccf73a",
   "metadata": {},
   "outputs": [],
   "source": [
    "keypoints = ['NOSE', 'NECK', 'RIGHT_SHOULDER', 'RIGHT_ELBOW', 'RIGHT_WRIST', 'LEFT_SHOULDER', 'LEFT_ELBOW', 'LEFT_WRIST', \n",
    "             'MID_HIP', 'RIGHT_HIP', 'RIGHT_KNEE', 'RIGHT_ANKLE', 'LEFT_HIP', 'LEFT_KNEE', 'LEFT_ANKLE', 'RIGHT_EYE', 'LEFT_EYE',\n",
    "             'RIGHT_EAR', 'LEFT_EAR', 'LEFT_BIG_TOE', 'LEFT_SMALL_TOE', 'LEFT_HEEL', 'RIGHT_BIG_TOE', 'RIGHT_SMALL_TOE',\n",
    "             'RIGHT_HEEL'\n",
    "            ]"
   ]
  },
  {
   "cell_type": "code",
   "execution_count": 37,
   "id": "26c048b3",
   "metadata": {},
   "outputs": [],
   "source": [
    "image_width=600 \n",
    "image_height=600\n",
    "\n",
    "net = cv2.dnn.readNetFromTensorflow(\"graph_opt.pb\")\n",
    "\n",
    "threshold = 0.2\n",
    "\n",
    "img = cv2.imread('./image.jpg',cv2.IMREAD_UNCHANGED)\n",
    "\n",
    "photo_height = img.shape[0]\n",
    "\n",
    "photo_width = img.shape[1]\n",
    "\n",
    "net.setInput(cv2.dnn.blobFromImage(img, 1.0, (image_width, image_height), (127.5, 127.5, 127.5)))\n",
    "\n",
    "out = net.forward()\n",
    "\n",
    "out = out[:, :19, :, :]"
   ]
  },
  {
   "cell_type": "code",
   "execution_count": 38,
   "id": "4756a419",
   "metadata": {},
   "outputs": [],
   "source": [
    "assert(len(BODY_PARTS) == out.shape[1])\n",
    "\n",
    "points = []\n",
    "\n",
    "for i in range(len(BODY_PARTS)):\n",
    "\n",
    "    # Slice heatmap of corresponging body's part.\n",
    "\n",
    "    heatMap = out[0, i, :, :]\n",
    "\n",
    "    # Originally, we try to find all the local maximums. To simplify a sample # we just find a global one. However only a single pose at the same time\n",
    "\n",
    "    # could be detected this way.\n",
    "\n",
    "    _, conf, _, point = cv2.minMaxLoc(heatMap)\n",
    "\n",
    "    x = (photo_width * point[0]) / out.shape[3]\n",
    "\n",
    "    y = (photo_height * point[1]) / out.shape[2]\n",
    "\n",
    "    # Add a point if it's confidence is higher than threshold.\n",
    "\n",
    "    points.append((int(x), int(y)) if conf > threshold else None)"
   ]
  },
  {
   "cell_type": "code",
   "execution_count": 39,
   "id": "6f1d4b45",
   "metadata": {},
   "outputs": [],
   "source": [
    "for pair in POSE_PAIRS:\n",
    "    partFrom = pair[0]\n",
    "    partTo = pair[1]\n",
    "    \n",
    "    assert(partFrom in BODY_PARTS)\n",
    "    assert(partTo in BODY_PARTS)\n",
    "    idFrom = BODY_PARTS[partFrom]\n",
    "    idTo = BODY_PARTS[partTo]\n",
    "    if points[idFrom] and points[idTo]:\n",
    "        cv2.line(img, points[idFrom], points[idTo], (0, 255, 0), 3) \n",
    "        cv2.ellipse (img, points[idFrom], (3, 3), 0, 0, 360, (0, 0, 255), cv2.FILLED) \n",
    "        cv2.ellipse (img, points[idTo], (3, 3), 0, 0, 360, (0, 0, 255), cv2.FILLED)\n",
    "t,_ = net.getPerfProfile()"
   ]
  },
  {
   "cell_type": "code",
   "execution_count": 40,
   "id": "ca84f0d9",
   "metadata": {},
   "outputs": [],
   "source": [
    "cv2.imshow('frame',img)\n",
    "cv2.waitKey(0)\n",
    "cv2.destroyAllWindows()"
   ]
  },
  {
   "cell_type": "code",
   "execution_count": 41,
   "id": "e8003e4f",
   "metadata": {},
   "outputs": [
    {
     "data": {
      "text/plain": [
       "< cv2.dnn.Net 000001A2F5F1B4B0>"
      ]
     },
     "execution_count": 41,
     "metadata": {},
     "output_type": "execute_result"
    }
   ],
   "source": [
    "net"
   ]
  },
  {
   "cell_type": "code",
   "execution_count": 116,
   "id": "e0c2eef4",
   "metadata": {},
   "outputs": [],
   "source": [
    "import h5py"
   ]
  },
  {
   "cell_type": "code",
   "execution_count": 119,
   "id": "901b5b6a",
   "metadata": {},
   "outputs": [
    {
     "ename": "OSError",
     "evalue": "Unable to open file (file signature not found)",
     "output_type": "error",
     "traceback": [
      "\u001b[1;31m---------------------------------------------------------------------------\u001b[0m",
      "\u001b[1;31mOSError\u001b[0m                                   Traceback (most recent call last)",
      "\u001b[1;32m~\\AppData\\Local\\Temp/ipykernel_35676/3111363240.py\u001b[0m in \u001b[0;36m<module>\u001b[1;34m\u001b[0m\n\u001b[1;32m----> 1\u001b[1;33m \u001b[0mhf\u001b[0m \u001b[1;33m=\u001b[0m \u001b[0mh5py\u001b[0m\u001b[1;33m.\u001b[0m\u001b[0mFile\u001b[0m\u001b[1;33m(\u001b[0m\u001b[1;34m'graph_opt.pb'\u001b[0m\u001b[1;33m,\u001b[0m \u001b[1;34m'r'\u001b[0m\u001b[1;33m)\u001b[0m\u001b[1;33m\u001b[0m\u001b[1;33m\u001b[0m\u001b[0m\n\u001b[0m",
      "\u001b[1;32mD:\\Installs\\Anaconda\\lib\\site-packages\\h5py\\_hl\\files.py\u001b[0m in \u001b[0;36m__init__\u001b[1;34m(self, name, mode, driver, libver, userblock_size, swmr, rdcc_nslots, rdcc_nbytes, rdcc_w0, track_order, fs_strategy, fs_persist, fs_threshold, **kwds)\u001b[0m\n\u001b[0;32m    440\u001b[0m             \u001b[1;32mwith\u001b[0m \u001b[0mphil\u001b[0m\u001b[1;33m:\u001b[0m\u001b[1;33m\u001b[0m\u001b[1;33m\u001b[0m\u001b[0m\n\u001b[0;32m    441\u001b[0m                 \u001b[0mfapl\u001b[0m \u001b[1;33m=\u001b[0m \u001b[0mmake_fapl\u001b[0m\u001b[1;33m(\u001b[0m\u001b[0mdriver\u001b[0m\u001b[1;33m,\u001b[0m \u001b[0mlibver\u001b[0m\u001b[1;33m,\u001b[0m \u001b[0mrdcc_nslots\u001b[0m\u001b[1;33m,\u001b[0m \u001b[0mrdcc_nbytes\u001b[0m\u001b[1;33m,\u001b[0m \u001b[0mrdcc_w0\u001b[0m\u001b[1;33m,\u001b[0m \u001b[1;33m**\u001b[0m\u001b[0mkwds\u001b[0m\u001b[1;33m)\u001b[0m\u001b[1;33m\u001b[0m\u001b[1;33m\u001b[0m\u001b[0m\n\u001b[1;32m--> 442\u001b[1;33m                 fid = make_fid(name, mode, userblock_size,\n\u001b[0m\u001b[0;32m    443\u001b[0m                                fapl, fcpl=make_fcpl(track_order=track_order, fs_strategy=fs_strategy,\n\u001b[0;32m    444\u001b[0m                                fs_persist=fs_persist, fs_threshold=fs_threshold),\n",
      "\u001b[1;32mD:\\Installs\\Anaconda\\lib\\site-packages\\h5py\\_hl\\files.py\u001b[0m in \u001b[0;36mmake_fid\u001b[1;34m(name, mode, userblock_size, fapl, fcpl, swmr)\u001b[0m\n\u001b[0;32m    193\u001b[0m         \u001b[1;32mif\u001b[0m \u001b[0mswmr\u001b[0m \u001b[1;32mand\u001b[0m \u001b[0mswmr_support\u001b[0m\u001b[1;33m:\u001b[0m\u001b[1;33m\u001b[0m\u001b[1;33m\u001b[0m\u001b[0m\n\u001b[0;32m    194\u001b[0m             \u001b[0mflags\u001b[0m \u001b[1;33m|=\u001b[0m \u001b[0mh5f\u001b[0m\u001b[1;33m.\u001b[0m\u001b[0mACC_SWMR_READ\u001b[0m\u001b[1;33m\u001b[0m\u001b[1;33m\u001b[0m\u001b[0m\n\u001b[1;32m--> 195\u001b[1;33m         \u001b[0mfid\u001b[0m \u001b[1;33m=\u001b[0m \u001b[0mh5f\u001b[0m\u001b[1;33m.\u001b[0m\u001b[0mopen\u001b[0m\u001b[1;33m(\u001b[0m\u001b[0mname\u001b[0m\u001b[1;33m,\u001b[0m \u001b[0mflags\u001b[0m\u001b[1;33m,\u001b[0m \u001b[0mfapl\u001b[0m\u001b[1;33m=\u001b[0m\u001b[0mfapl\u001b[0m\u001b[1;33m)\u001b[0m\u001b[1;33m\u001b[0m\u001b[1;33m\u001b[0m\u001b[0m\n\u001b[0m\u001b[0;32m    196\u001b[0m     \u001b[1;32melif\u001b[0m \u001b[0mmode\u001b[0m \u001b[1;33m==\u001b[0m \u001b[1;34m'r+'\u001b[0m\u001b[1;33m:\u001b[0m\u001b[1;33m\u001b[0m\u001b[1;33m\u001b[0m\u001b[0m\n\u001b[0;32m    197\u001b[0m         \u001b[0mfid\u001b[0m \u001b[1;33m=\u001b[0m \u001b[0mh5f\u001b[0m\u001b[1;33m.\u001b[0m\u001b[0mopen\u001b[0m\u001b[1;33m(\u001b[0m\u001b[0mname\u001b[0m\u001b[1;33m,\u001b[0m \u001b[0mh5f\u001b[0m\u001b[1;33m.\u001b[0m\u001b[0mACC_RDWR\u001b[0m\u001b[1;33m,\u001b[0m \u001b[0mfapl\u001b[0m\u001b[1;33m=\u001b[0m\u001b[0mfapl\u001b[0m\u001b[1;33m)\u001b[0m\u001b[1;33m\u001b[0m\u001b[1;33m\u001b[0m\u001b[0m\n",
      "\u001b[1;32mh5py\\_objects.pyx\u001b[0m in \u001b[0;36mh5py._objects.with_phil.wrapper\u001b[1;34m()\u001b[0m\n",
      "\u001b[1;32mh5py\\_objects.pyx\u001b[0m in \u001b[0;36mh5py._objects.with_phil.wrapper\u001b[1;34m()\u001b[0m\n",
      "\u001b[1;32mh5py\\h5f.pyx\u001b[0m in \u001b[0;36mh5py.h5f.open\u001b[1;34m()\u001b[0m\n",
      "\u001b[1;31mOSError\u001b[0m: Unable to open file (file signature not found)"
     ]
    }
   ],
   "source": [
    "hf = h5py.File('graph_opt.pb', 'r')"
   ]
  },
  {
   "cell_type": "code",
   "execution_count": 120,
   "id": "9a39f162",
   "metadata": {},
   "outputs": [
    {
     "ename": "ModuleNotFoundError",
     "evalue": "No module named 'openpose'",
     "output_type": "error",
     "traceback": [
      "\u001b[1;31m---------------------------------------------------------------------------\u001b[0m",
      "\u001b[1;31mModuleNotFoundError\u001b[0m                       Traceback (most recent call last)",
      "\u001b[1;32m~\\AppData\\Local\\Temp/ipykernel_35676/885863014.py\u001b[0m in \u001b[0;36m<module>\u001b[1;34m\u001b[0m\n\u001b[0;32m      1\u001b[0m \u001b[1;32mimport\u001b[0m \u001b[0mcv2\u001b[0m\u001b[1;33m\u001b[0m\u001b[1;33m\u001b[0m\u001b[0m\n\u001b[1;32m----> 2\u001b[1;33m \u001b[1;32mfrom\u001b[0m \u001b[0mopenpose\u001b[0m \u001b[1;32mimport\u001b[0m \u001b[0mpyopenpose\u001b[0m \u001b[1;32mas\u001b[0m \u001b[0mop\u001b[0m\u001b[1;33m\u001b[0m\u001b[1;33m\u001b[0m\u001b[0m\n\u001b[0m",
      "\u001b[1;31mModuleNotFoundError\u001b[0m: No module named 'openpose'"
     ]
    }
   ],
   "source": [
    "import cv2\n",
    "from openpose import pyopenpose as op\n"
   ]
  },
  {
   "cell_type": "code",
   "execution_count": 121,
   "id": "21e5ee2a",
   "metadata": {},
   "outputs": [
    {
     "ename": "NameError",
     "evalue": "name 'op' is not defined",
     "output_type": "error",
     "traceback": [
      "\u001b[1;31m---------------------------------------------------------------------------\u001b[0m",
      "\u001b[1;31mNameError\u001b[0m                                 Traceback (most recent call last)",
      "\u001b[1;32m~\\AppData\\Local\\Temp/ipykernel_35676/152738061.py\u001b[0m in \u001b[0;36m<module>\u001b[1;34m\u001b[0m\n\u001b[0;32m      7\u001b[0m \u001b[0mparams\u001b[0m\u001b[1;33m[\u001b[0m\u001b[1;34m\"net_resolution\"\u001b[0m\u001b[1;33m]\u001b[0m \u001b[1;33m=\u001b[0m \u001b[1;34m\"-1x368\"\u001b[0m\u001b[1;33m\u001b[0m\u001b[1;33m\u001b[0m\u001b[0m\n\u001b[0;32m      8\u001b[0m \u001b[1;33m\u001b[0m\u001b[0m\n\u001b[1;32m----> 9\u001b[1;33m \u001b[0mopWrapper\u001b[0m \u001b[1;33m=\u001b[0m \u001b[0mop\u001b[0m\u001b[1;33m.\u001b[0m\u001b[0mWrapperPython\u001b[0m\u001b[1;33m(\u001b[0m\u001b[1;33m)\u001b[0m\u001b[1;33m\u001b[0m\u001b[1;33m\u001b[0m\u001b[0m\n\u001b[0m\u001b[0;32m     10\u001b[0m \u001b[0mopWrapper\u001b[0m\u001b[1;33m.\u001b[0m\u001b[0mconfigure\u001b[0m\u001b[1;33m(\u001b[0m\u001b[0mparams\u001b[0m\u001b[1;33m)\u001b[0m\u001b[1;33m\u001b[0m\u001b[1;33m\u001b[0m\u001b[0m\n\u001b[0;32m     11\u001b[0m \u001b[0mopWrapper\u001b[0m\u001b[1;33m.\u001b[0m\u001b[0mstart\u001b[0m\u001b[1;33m(\u001b[0m\u001b[1;33m)\u001b[0m\u001b[1;33m\u001b[0m\u001b[1;33m\u001b[0m\u001b[0m\n",
      "\u001b[1;31mNameError\u001b[0m: name 'op' is not defined"
     ]
    }
   ],
   "source": [
    "params = dict()\n",
    "params[\"model_folder\"] = \"path/to/openpose/models\"\n",
    "params[\"number_people_max\"] = 1\n",
    "params[\"body\"] = 0\n",
    "params[\"face\"] = False\n",
    "params[\"hand\"] = False\n",
    "params[\"net_resolution\"] = \"-1x368\"\n",
    "\n",
    "opWrapper = op.WrapperPython()\n",
    "opWrapper.configure(params)\n",
    "opWrapper.start()\n"
   ]
  },
  {
   "cell_type": "code",
   "execution_count": 122,
   "id": "dd761227",
   "metadata": {},
   "outputs": [
    {
     "ename": "NameError",
     "evalue": "name 'opWrapper' is not defined",
     "output_type": "error",
     "traceback": [
      "\u001b[1;31m---------------------------------------------------------------------------\u001b[0m",
      "\u001b[1;31mNameError\u001b[0m                                 Traceback (most recent call last)",
      "\u001b[1;32m~\\AppData\\Local\\Temp/ipykernel_35676/3093509755.py\u001b[0m in \u001b[0;36m<module>\u001b[1;34m\u001b[0m\n\u001b[0;32m      1\u001b[0m \u001b[0mimage\u001b[0m \u001b[1;33m=\u001b[0m \u001b[0mcv2\u001b[0m\u001b[1;33m.\u001b[0m\u001b[0mimread\u001b[0m\u001b[1;33m(\u001b[0m\u001b[1;34m\"path/to/image.jpg\"\u001b[0m\u001b[1;33m)\u001b[0m\u001b[1;33m\u001b[0m\u001b[1;33m\u001b[0m\u001b[0m\n\u001b[1;32m----> 2\u001b[1;33m \u001b[0mkeypoints\u001b[0m\u001b[1;33m,\u001b[0m \u001b[0moutput_image\u001b[0m \u001b[1;33m=\u001b[0m \u001b[0mopWrapper\u001b[0m\u001b[1;33m.\u001b[0m\u001b[0mforward\u001b[0m\u001b[1;33m(\u001b[0m\u001b[0mimage\u001b[0m\u001b[1;33m,\u001b[0m \u001b[1;32mTrue\u001b[0m\u001b[1;33m)\u001b[0m\u001b[1;33m\u001b[0m\u001b[1;33m\u001b[0m\u001b[0m\n\u001b[0m",
      "\u001b[1;31mNameError\u001b[0m: name 'opWrapper' is not defined"
     ]
    }
   ],
   "source": [
    "image = cv2.imread(\"path/to/image.jpg\")\n",
    "keypoints, output_image = opWrapper.forward(image, True)\n"
   ]
  },
  {
   "cell_type": "code",
   "execution_count": 8,
   "id": "552f5872",
   "metadata": {},
   "outputs": [],
   "source": [
    "import cv2\n",
    "import openpose"
   ]
  },
  {
   "cell_type": "code",
   "execution_count": 9,
   "id": "1b707c20",
   "metadata": {},
   "outputs": [
    {
     "data": {
      "text/plain": [
       "['__doc__',\n",
       " '__file__',\n",
       " '__loader__',\n",
       " '__name__',\n",
       " '__package__',\n",
       " '__path__',\n",
       " '__spec__']"
      ]
     },
     "execution_count": 9,
     "metadata": {},
     "output_type": "execute_result"
    }
   ],
   "source": [
    "dir(openpose)"
   ]
  },
  {
   "cell_type": "code",
   "execution_count": 10,
   "id": "be0c40d9",
   "metadata": {},
   "outputs": [
    {
     "name": "stdout",
     "output_type": "stream",
     "text": [
      "Help on package openpose:\n",
      "\n",
      "NAME\n",
      "    openpose\n",
      "\n",
      "PACKAGE CONTENTS\n",
      "\n",
      "\n",
      "FILE\n",
      "    (built-in)\n",
      "\n",
      "\n"
     ]
    }
   ],
   "source": [
    "help(openpose)"
   ]
  },
  {
   "cell_type": "code",
   "execution_count": 11,
   "id": "93a34b85",
   "metadata": {},
   "outputs": [
    {
     "ename": "NameError",
     "evalue": "name 'package_contents' is not defined",
     "output_type": "error",
     "traceback": [
      "\u001b[1;31m---------------------------------------------------------------------------\u001b[0m",
      "\u001b[1;31mNameError\u001b[0m                                 Traceback (most recent call last)",
      "\u001b[1;32m~\\AppData\\Local\\Temp/ipykernel_22132/2077768737.py\u001b[0m in \u001b[0;36m<module>\u001b[1;34m\u001b[0m\n\u001b[1;32m----> 1\u001b[1;33m \u001b[0mpackage_contents\u001b[0m\u001b[1;33m(\u001b[0m\u001b[1;34m\"openpose\"\u001b[0m\u001b[1;33m)\u001b[0m\u001b[1;33m\u001b[0m\u001b[1;33m\u001b[0m\u001b[0m\n\u001b[0m",
      "\u001b[1;31mNameError\u001b[0m: name 'package_contents' is not defined"
     ]
    }
   ],
   "source": [
    "package_contents(\"openpose\")"
   ]
  },
  {
   "cell_type": "code",
   "execution_count": 12,
   "id": "bda1902f",
   "metadata": {},
   "outputs": [
    {
     "data": {
      "text/plain": [
       "[]"
      ]
     },
     "execution_count": 12,
     "metadata": {},
     "output_type": "execute_result"
    }
   ],
   "source": [
    "import pkgutil\n",
    "[name for _, name, _ in pkgutil.iter_modules(['openpose'])]"
   ]
  },
  {
   "cell_type": "code",
   "execution_count": 13,
   "id": "66c3a244",
   "metadata": {},
   "outputs": [
    {
     "ename": "ImportError",
     "evalue": "cannot import name 'pyopenpose' from 'openpose' (unknown location)",
     "output_type": "error",
     "traceback": [
      "\u001b[1;31m---------------------------------------------------------------------------\u001b[0m",
      "\u001b[1;31mImportError\u001b[0m                               Traceback (most recent call last)",
      "\u001b[1;32m~\\AppData\\Local\\Temp/ipykernel_22132/2655016974.py\u001b[0m in \u001b[0;36m<module>\u001b[1;34m\u001b[0m\n\u001b[0;32m      1\u001b[0m \u001b[1;32mimport\u001b[0m \u001b[0mcv2\u001b[0m\u001b[1;33m\u001b[0m\u001b[1;33m\u001b[0m\u001b[0m\n\u001b[1;32m----> 2\u001b[1;33m \u001b[1;32mfrom\u001b[0m \u001b[0mopenpose\u001b[0m \u001b[1;32mimport\u001b[0m \u001b[0mpyopenpose\u001b[0m \u001b[1;32mas\u001b[0m \u001b[0mop\u001b[0m\u001b[1;33m\u001b[0m\u001b[1;33m\u001b[0m\u001b[0m\n\u001b[0m",
      "\u001b[1;31mImportError\u001b[0m: cannot import name 'pyopenpose' from 'openpose' (unknown location)"
     ]
    }
   ],
   "source": [
    "import cv2\n",
    "from openpose import pyopenpose as op"
   ]
  },
  {
   "cell_type": "code",
   "execution_count": 27,
   "id": "24737838",
   "metadata": {},
   "outputs": [
    {
     "name": "stderr",
     "output_type": "stream",
     "text": [
      "fatal: destination path 'posenet-python' already exists and is not an empty directory.\n"
     ]
    },
    {
     "name": "stdout",
     "output_type": "stream",
     "text": [
      "Initializing\n"
     ]
    },
    {
     "ename": "TypeError",
     "evalue": "load() missing 1 required positional argument: 'Loader'",
     "output_type": "error",
     "traceback": [
      "\u001b[1;31m---------------------------------------------------------------------------\u001b[0m",
      "\u001b[1;31mTypeError\u001b[0m                                 Traceback (most recent call last)",
      "\u001b[1;32m~\\AppData\\Local\\Temp/ipykernel_22132/3728900930.py\u001b[0m in \u001b[0;36m<module>\u001b[1;34m\u001b[0m\n\u001b[0;32m     32\u001b[0m \u001b[1;32mwith\u001b[0m \u001b[0mtf\u001b[0m\u001b[1;33m.\u001b[0m\u001b[0mSession\u001b[0m\u001b[1;33m(\u001b[0m\u001b[1;33m)\u001b[0m \u001b[1;32mas\u001b[0m \u001b[0msess\u001b[0m\u001b[1;33m:\u001b[0m\u001b[1;33m\u001b[0m\u001b[1;33m\u001b[0m\u001b[0m\n\u001b[0;32m     33\u001b[0m       \u001b[1;31m# Load PoseNet model\u001b[0m\u001b[1;33m\u001b[0m\u001b[1;33m\u001b[0m\u001b[0m\n\u001b[1;32m---> 34\u001b[1;33m     \u001b[0mmodel_cfg\u001b[0m\u001b[1;33m,\u001b[0m \u001b[0mmodel_outputs\u001b[0m \u001b[1;33m=\u001b[0m \u001b[0mposenet\u001b[0m\u001b[1;33m.\u001b[0m\u001b[0mload_model\u001b[0m\u001b[1;33m(\u001b[0m\u001b[0mmodel\u001b[0m\u001b[1;33m,\u001b[0m \u001b[0msess\u001b[0m\u001b[1;33m)\u001b[0m\u001b[1;33m\u001b[0m\u001b[1;33m\u001b[0m\u001b[0m\n\u001b[0m\u001b[0;32m     35\u001b[0m     \u001b[0moutput_stride\u001b[0m \u001b[1;33m=\u001b[0m \u001b[0mmodel_cfg\u001b[0m\u001b[1;33m[\u001b[0m\u001b[1;34m'output_stride'\u001b[0m\u001b[1;33m]\u001b[0m\u001b[1;33m\u001b[0m\u001b[1;33m\u001b[0m\u001b[0m\n\u001b[0;32m     36\u001b[0m     \u001b[0mstart\u001b[0m \u001b[1;33m=\u001b[0m \u001b[0mtime\u001b[0m\u001b[1;33m.\u001b[0m\u001b[0mtime\u001b[0m\u001b[1;33m(\u001b[0m\u001b[1;33m)\u001b[0m\u001b[1;33m\u001b[0m\u001b[1;33m\u001b[0m\u001b[0m\n",
      "\u001b[1;32mD:\\Installs\\Anaconda\\lib\\site-packages\\posenet\\model.py\u001b[0m in \u001b[0;36mload_model\u001b[1;34m(model_id, sess, model_dir)\u001b[0m\n\u001b[0;32m     35\u001b[0m \u001b[1;32mdef\u001b[0m \u001b[0mload_model\u001b[0m\u001b[1;33m(\u001b[0m\u001b[0mmodel_id\u001b[0m\u001b[1;33m,\u001b[0m \u001b[0msess\u001b[0m\u001b[1;33m,\u001b[0m \u001b[0mmodel_dir\u001b[0m\u001b[1;33m=\u001b[0m\u001b[0mMODEL_DIR\u001b[0m\u001b[1;33m)\u001b[0m\u001b[1;33m:\u001b[0m\u001b[1;33m\u001b[0m\u001b[1;33m\u001b[0m\u001b[0m\n\u001b[0;32m     36\u001b[0m   \u001b[0mmodel_ord\u001b[0m \u001b[1;33m=\u001b[0m \u001b[0mmodel_id_to_ord\u001b[0m\u001b[1;33m(\u001b[0m\u001b[0mmodel_id\u001b[0m\u001b[1;33m)\u001b[0m\u001b[1;33m\u001b[0m\u001b[1;33m\u001b[0m\u001b[0m\n\u001b[1;32m---> 37\u001b[1;33m   \u001b[0mmodel_cfg\u001b[0m \u001b[1;33m=\u001b[0m \u001b[0mload_config\u001b[0m\u001b[1;33m(\u001b[0m\u001b[0mmodel_ord\u001b[0m\u001b[1;33m)\u001b[0m\u001b[1;33m\u001b[0m\u001b[1;33m\u001b[0m\u001b[0m\n\u001b[0m\u001b[0;32m     38\u001b[0m   \u001b[0mmodel_path\u001b[0m \u001b[1;33m=\u001b[0m \u001b[0mos\u001b[0m\u001b[1;33m.\u001b[0m\u001b[0mpath\u001b[0m\u001b[1;33m.\u001b[0m\u001b[0mjoin\u001b[0m\u001b[1;33m(\u001b[0m\u001b[0mmodel_dir\u001b[0m\u001b[1;33m,\u001b[0m \u001b[1;34m'model-%s.pb'\u001b[0m \u001b[1;33m%\u001b[0m \u001b[0mmodel_cfg\u001b[0m\u001b[1;33m[\u001b[0m\u001b[1;34m'checkpoint_name'\u001b[0m\u001b[1;33m]\u001b[0m\u001b[1;33m)\u001b[0m\u001b[1;33m\u001b[0m\u001b[1;33m\u001b[0m\u001b[0m\n\u001b[0;32m     39\u001b[0m   \u001b[1;32mif\u001b[0m \u001b[1;32mnot\u001b[0m \u001b[0mos\u001b[0m\u001b[1;33m.\u001b[0m\u001b[0mpath\u001b[0m\u001b[1;33m.\u001b[0m\u001b[0mexists\u001b[0m\u001b[1;33m(\u001b[0m\u001b[0mmodel_path\u001b[0m\u001b[1;33m)\u001b[0m\u001b[1;33m:\u001b[0m\u001b[1;33m\u001b[0m\u001b[1;33m\u001b[0m\u001b[0m\n",
      "\u001b[1;32mD:\\Installs\\Anaconda\\lib\\site-packages\\posenet\\model.py\u001b[0m in \u001b[0;36mload_config\u001b[1;34m(model_ord)\u001b[0m\n\u001b[0;32m     21\u001b[0m \u001b[1;33m\u001b[0m\u001b[0m\n\u001b[0;32m     22\u001b[0m \u001b[1;32mdef\u001b[0m \u001b[0mload_config\u001b[0m\u001b[1;33m(\u001b[0m\u001b[0mmodel_ord\u001b[0m\u001b[1;33m)\u001b[0m\u001b[1;33m:\u001b[0m\u001b[1;33m\u001b[0m\u001b[1;33m\u001b[0m\u001b[0m\n\u001b[1;32m---> 23\u001b[1;33m   \u001b[0mconverter_cfg\u001b[0m \u001b[1;33m=\u001b[0m \u001b[0mposenet\u001b[0m\u001b[1;33m.\u001b[0m\u001b[0mconverter\u001b[0m\u001b[1;33m.\u001b[0m\u001b[0mconfig\u001b[0m\u001b[1;33m.\u001b[0m\u001b[0mload_config\u001b[0m\u001b[1;33m(\u001b[0m\u001b[1;33m)\u001b[0m\u001b[1;33m\u001b[0m\u001b[1;33m\u001b[0m\u001b[0m\n\u001b[0m\u001b[0;32m     24\u001b[0m   \u001b[0mcheckpoints\u001b[0m \u001b[1;33m=\u001b[0m \u001b[0mconverter_cfg\u001b[0m\u001b[1;33m[\u001b[0m\u001b[1;34m'checkpoints'\u001b[0m\u001b[1;33m]\u001b[0m\u001b[1;33m\u001b[0m\u001b[1;33m\u001b[0m\u001b[0m\n\u001b[0;32m     25\u001b[0m   \u001b[0moutput_stride\u001b[0m \u001b[1;33m=\u001b[0m \u001b[0mconverter_cfg\u001b[0m\u001b[1;33m[\u001b[0m\u001b[1;34m'outputStride'\u001b[0m\u001b[1;33m]\u001b[0m\u001b[1;33m\u001b[0m\u001b[1;33m\u001b[0m\u001b[0m\n",
      "\u001b[1;32mD:\\Installs\\Anaconda\\lib\\site-packages\\posenet\\converter\\config.py\u001b[0m in \u001b[0;36mload_config\u001b[1;34m(config_name)\u001b[0m\n\u001b[0;32m      6\u001b[0m \u001b[1;32mdef\u001b[0m \u001b[0mload_config\u001b[0m\u001b[1;33m(\u001b[0m\u001b[0mconfig_name\u001b[0m\u001b[1;33m=\u001b[0m\u001b[1;34m'config.yaml'\u001b[0m\u001b[1;33m)\u001b[0m\u001b[1;33m:\u001b[0m\u001b[1;33m\u001b[0m\u001b[1;33m\u001b[0m\u001b[0m\n\u001b[0;32m      7\u001b[0m   \u001b[0mcfg_f\u001b[0m \u001b[1;33m=\u001b[0m \u001b[0mopen\u001b[0m\u001b[1;33m(\u001b[0m\u001b[0mos\u001b[0m\u001b[1;33m.\u001b[0m\u001b[0mpath\u001b[0m\u001b[1;33m.\u001b[0m\u001b[0mjoin\u001b[0m\u001b[1;33m(\u001b[0m\u001b[0mBASE_DIR\u001b[0m\u001b[1;33m,\u001b[0m \u001b[0mconfig_name\u001b[0m\u001b[1;33m)\u001b[0m\u001b[1;33m,\u001b[0m \u001b[1;34m\"r+\"\u001b[0m\u001b[1;33m)\u001b[0m\u001b[1;33m\u001b[0m\u001b[1;33m\u001b[0m\u001b[0m\n\u001b[1;32m----> 8\u001b[1;33m   \u001b[0mcfg\u001b[0m \u001b[1;33m=\u001b[0m \u001b[0myaml\u001b[0m\u001b[1;33m.\u001b[0m\u001b[0mload\u001b[0m\u001b[1;33m(\u001b[0m\u001b[0mcfg_f\u001b[0m\u001b[1;33m)\u001b[0m\u001b[1;33m\u001b[0m\u001b[1;33m\u001b[0m\u001b[0m\n\u001b[0m\u001b[0;32m      9\u001b[0m   \u001b[1;32mreturn\u001b[0m \u001b[0mcfg\u001b[0m\u001b[1;33m\u001b[0m\u001b[1;33m\u001b[0m\u001b[0m\n",
      "\u001b[1;31mTypeError\u001b[0m: load() missing 1 required positional argument: 'Loader'"
     ]
    }
   ],
   "source": [
    "\n",
    "# Clone some Code from GitHub\n",
    "!git clone https://www.github.com/rwightman/posenet-python\n",
    " \n",
    "\n",
    "import os\n",
    "import cv2\n",
    "import time\n",
    "import argparse\n",
    "import posenet\n",
    "import tensorflow as tf\n",
    "import matplotlib.pyplot as plt\n",
    "import tensorflow.compat.v1 as tf\n",
    "tf.disable_v2_behavior()\n",
    " \n",
    "print('Initializing')\n",
    "input_file = '/content/posenet-python/video.avi'\n",
    "output_file = '/content/posenet-python/output.mp4'\n",
    " \n",
    "# Load input video files and\n",
    "cap = cv2.VideoCapture(input_file)\n",
    "width = int(cap.get(cv2.CAP_PROP_FRAME_WIDTH))\n",
    "height = int(cap.get(cv2.CAP_PROP_FRAME_HEIGHT))\n",
    "fps = cap.get(cv2.CAP_PROP_FPS)\n",
    "# create a video writer to write the output file\n",
    "fourcc = cv2.VideoWriter_fourcc('M','J','P','G')\n",
    "video = cv2.VideoWriter(output_file, fourcc, fps, (width, height))\n",
    " \n",
    "model = 101\n",
    "###scale_factor = 1.0\n",
    "scale_factor = 0.4\n",
    " \n",
    "with tf.Session() as sess:\n",
    "      # Load PoseNet model\n",
    "    model_cfg, model_outputs = posenet.load_model(model, sess)\n",
    "    output_stride = model_cfg['output_stride']\n",
    "    start = time.time()\n",
    " \n",
    "    incnt = 0\n",
    "    # Process the whole video frame by frame\n",
    "    while True:\n",
    "        # Increase frame count by one\n",
    "        incnt = incnt + 1\n",
    "        try:\n",
    "          # read_cap is utility function to read and process from video\n",
    "          input_image, draw_image, output_scale = posenet.read_cap(\n",
    "                cap, scale_factor=scale_factor, output_stride=output_stride)\n",
    "        except:\n",
    "          break\n",
    "        # run the model on the image and generate output results\n",
    "        heatmaps_result, offsets_result, displacement_fwd_result, displacement_bwd_result = sess.run(\n",
    "            model_outputs,\n",
    "            feed_dict={'image:0': input_image}\n",
    "        )\n",
    "        # here we filter poses generated by above model\n",
    "        # and output pose score, keypoint scores and their keypoint coordinates\n",
    "        # this function will return maximum 10 pose, it can be changed by maximum_pose\n",
    "        # variable.\n",
    "        pose_scores, keypoint_scores, keypoint_coords = posenet.decode_multiple_poses(\n",
    "            heatmaps_result.squeeze(axis=0),\n",
    "            offsets_result.squeeze(axis=0),\n",
    "            displacement_fwd_result.squeeze(axis=0),\n",
    "            displacement_bwd_result.squeeze(axis=0),\n",
    "            output_stride=output_stride,\n",
    "            min_pose_score=0.25)\n",
    "        # scale keypoint co-ordinate to output scale\n",
    "        keypoint_coords *= output_scale\n",
    "        # draw pose on input frame to obtain output frame\n",
    "        draw_image = posenet.draw_skel_and_kp(\n",
    "                draw_image, pose_scores, keypoint_scores, keypoint_coords,\n",
    "                min_pose_score=0.25, min_part_score=0.25)\n",
    "        video.write(draw_image)\n",
    "# release the videoreader and writer\n",
    "video.release()\n",
    "cap.release()"
   ]
  },
  {
   "cell_type": "code",
   "execution_count": 44,
   "id": "83286013",
   "metadata": {},
   "outputs": [],
   "source": [
    "keypoints = ['NOSE', 'NECK', 'RIGHT_SHOULDER', 'RIGHT_ELBOW', 'RIGHT_WRIST', 'LEFT_SHOULDER', 'LEFT_ELBOW', 'LEFT_WRIST', \n",
    "             'MID_HIP', 'RIGHT_HIP', 'RIGHT_KNEE', 'RIGHT_ANKLE', 'LEFT_HIP', 'LEFT_KNEE', 'LEFT_ANKLE', 'RIGHT_EYE', 'LEFT_EYE',\n",
    "             'RIGHT_EAR', 'LEFT_EAR', 'LEFT_BIG_TOE', 'LEFT_SMALL_TOE', 'LEFT_HEEL', 'RIGHT_BIG_TOE', 'RIGHT_SMALL_TOE',\n",
    "             'RIGHT_HEEL'\n",
    "            ]"
   ]
  },
  {
   "cell_type": "code",
   "execution_count": 46,
   "id": "41e71b9c",
   "metadata": {},
   "outputs": [],
   "source": [
    "drawing_details = mp.solutions.drawing_utils"
   ]
  },
  {
   "cell_type": "code",
   "execution_count": 107,
   "id": "a84557f9",
   "metadata": {},
   "outputs": [],
   "source": [
    "drawing_details = mp.solutions.drawing_utils\n",
    "mp_holistic = mp.solutions.holistic\n",
    "with mp_holistic.Holistic(min_detection_confidence = 0.5,min_tracking_confidence = 0.5) as holistic:\n",
    "    cam = cv2.VideoCapture(0)\n",
    "    while True:\n",
    "        _,frame = cam.read()\n",
    "        cvtImg = cv2.cvtColor(frame,cv2.COLOR_BGR2RGB)\n",
    "        res = holistic.process(cvtImg)\n",
    "        drawing_details.draw_landmarks(frame,res.left_hand_landmarks,mp_holistic.HAND_CONNECTIONS)\n",
    "        drawing_details.draw_landmarks(frame,res.right_hand_landmarks,mp_holistic.HAND_CONNECTIONS)\n",
    "        drawing_details.draw_landmarks(frame,res.pose_landmarks,mp_holistic.POSE_CONNECTIONS)\n",
    "        cv2.imshow('webcam',frame)\n",
    "        if cv2.waitKey(1)==ord('q'):\n",
    "            break\n",
    "    cv2.destroyAllWindows()\n",
    "    cam.release()"
   ]
  },
  {
   "cell_type": "code",
   "execution_count": 48,
   "id": "8c81d3cb",
   "metadata": {
    "scrolled": true
   },
   "outputs": [
    {
     "data": {
      "text/plain": [
       "['FACEMESH_CONTOURS',\n",
       " 'FACEMESH_TESSELATION',\n",
       " 'HAND_CONNECTIONS',\n",
       " 'HandLandmark',\n",
       " 'Holistic',\n",
       " 'NamedTuple',\n",
       " 'POSE_CONNECTIONS',\n",
       " 'PoseLandmark',\n",
       " 'SolutionBase',\n",
       " '_BINARYPB_FILE_PATH',\n",
       " '__builtins__',\n",
       " '__cached__',\n",
       " '__doc__',\n",
       " '__file__',\n",
       " '__loader__',\n",
       " '__name__',\n",
       " '__package__',\n",
       " '__spec__',\n",
       " '_download_oss_pose_landmark_model',\n",
       " 'constant_side_packet_calculator_pb2',\n",
       " 'detections_to_rects_calculator_pb2',\n",
       " 'download_utils',\n",
       " 'gate_calculator_pb2',\n",
       " 'image_to_tensor_calculator_pb2',\n",
       " 'inference_calculator_pb2',\n",
       " 'landmark_projection_calculator_pb2',\n",
       " 'local_file_contents_calculator_pb2',\n",
       " 'non_max_suppression_calculator_pb2',\n",
       " 'np',\n",
       " 'rect_transformation_calculator_pb2',\n",
       " 'roi_tracking_calculator_pb2',\n",
       " 'split_vector_calculator_pb2',\n",
       " 'ssd_anchors_calculator_pb2',\n",
       " 'switch_container_pb2',\n",
       " 'tensors_to_classification_calculator_pb2',\n",
       " 'tensors_to_floats_calculator_pb2',\n",
       " 'tensors_to_landmarks_calculator_pb2']"
      ]
     },
     "execution_count": 48,
     "metadata": {},
     "output_type": "execute_result"
    }
   ],
   "source": [
    "dir(mp_holistic)"
   ]
  },
  {
   "cell_type": "code",
   "execution_count": 49,
   "id": "31cd1527",
   "metadata": {},
   "outputs": [
    {
     "data": {
      "text/plain": [
       "<enum 'HandLandmark'>"
      ]
     },
     "execution_count": 49,
     "metadata": {},
     "output_type": "execute_result"
    }
   ],
   "source": [
    "mp_holistic.HandLandmark"
   ]
  },
  {
   "cell_type": "code",
   "execution_count": 69,
   "id": "16687c2e",
   "metadata": {
    "scrolled": false
   },
   "outputs": [
    {
     "data": {
      "text/plain": [
       "['NOSE',\n",
       " 'LEFT_EYE_INNER',\n",
       " 'LEFT_EYE',\n",
       " 'LEFT_EYE_OUTER',\n",
       " 'RIGHT_EYE_INNER',\n",
       " 'RIGHT_EYE',\n",
       " 'RIGHT_EYE_OUTER',\n",
       " 'LEFT_EAR',\n",
       " 'RIGHT_EAR',\n",
       " 'MOUTH_LEFT',\n",
       " 'MOUTH_RIGHT',\n",
       " 'LEFT_SHOULDER',\n",
       " 'RIGHT_SHOULDER',\n",
       " 'LEFT_ELBOW',\n",
       " 'RIGHT_ELBOW',\n",
       " 'LEFT_WRIST',\n",
       " 'RIGHT_WRIST',\n",
       " 'LEFT_PINKY',\n",
       " 'RIGHT_PINKY',\n",
       " 'LEFT_INDEX',\n",
       " 'RIGHT_INDEX',\n",
       " 'LEFT_THUMB',\n",
       " 'RIGHT_THUMB',\n",
       " 'LEFT_HIP',\n",
       " 'RIGHT_HIP',\n",
       " 'LEFT_KNEE',\n",
       " 'RIGHT_KNEE',\n",
       " 'LEFT_ANKLE',\n",
       " 'RIGHT_ANKLE',\n",
       " 'LEFT_HEEL',\n",
       " 'RIGHT_HEEL',\n",
       " 'LEFT_FOOT_INDEX',\n",
       " 'RIGHT_FOOT_INDEX']"
      ]
     },
     "execution_count": 69,
     "metadata": {},
     "output_type": "execute_result"
    }
   ],
   "source": [
    "[e.name for e in mp_holistic.PoseLandmark]"
   ]
  },
  {
   "cell_type": "code",
   "execution_count": 68,
   "id": "8988f3bc",
   "metadata": {
    "scrolled": true
   },
   "outputs": [
    {
     "data": {
      "text/plain": [
       "[x: 0.48986944556236267\n",
       "y: 0.643073320388794\n",
       "z: -0.9447919726371765\n",
       "visibility: 0.99969482421875\n",
       ", x: 0.5131209492683411\n",
       "y: 0.5499991178512573\n",
       "z: -0.8825820684432983\n",
       "visibility: 0.9992833733558655\n",
       ", x: 0.5347422361373901\n",
       "y: 0.547756552696228\n",
       "z: -0.882668137550354\n",
       "visibility: 0.9994224905967712\n",
       ", x: 0.5522118806838989\n",
       "y: 0.5464622974395752\n",
       "z: -0.8829854726791382\n",
       "visibility: 0.9993098974227905\n",
       ", x: 0.44332432746887207\n",
       "y: 0.5612661242485046\n",
       "z: -0.8863263130187988\n",
       "visibility: 0.9991350173950195\n",
       ", x: 0.42184028029441833\n",
       "y: 0.5715991854667664\n",
       "z: -0.8854605555534363\n",
       "visibility: 0.9992386698722839\n",
       ", x: 0.40224361419677734\n",
       "y: 0.5824688076972961\n",
       "z: -0.8858397603034973\n",
       "visibility: 0.9990535974502563\n",
       ", x: 0.573452353477478\n",
       "y: 0.5833842754364014\n",
       "z: -0.49959129095077515\n",
       "visibility: 0.9994747638702393\n",
       ", x: 0.356870174407959\n",
       "y: 0.6335065364837646\n",
       "z: -0.4809455871582031\n",
       "visibility: 0.9992932677268982\n",
       ", x: 0.5363684892654419\n",
       "y: 0.7185221314430237\n",
       "z: -0.7975432872772217\n",
       "visibility: 0.999726414680481\n",
       ", x: 0.45072227716445923\n",
       "y: 0.7398838400840759\n",
       "z: -0.7946659326553345\n",
       "visibility: 0.9995876550674438\n",
       ", x: 0.7996026277542114\n",
       "y: 0.9525798559188843\n",
       "z: -0.26951417326927185\n",
       "visibility: 0.9962300658226013\n",
       ", x: 0.26203832030296326\n",
       "y: 1.007468819618225\n",
       "z: -0.36877721548080444\n",
       "visibility: 0.9910613894462585\n",
       ", x: 0.9790371060371399\n",
       "y: 1.3542901277542114\n",
       "z: -0.2964816689491272\n",
       "visibility: 0.17414595186710358\n",
       ", x: 0.2329687774181366\n",
       "y: 1.5224088430404663\n",
       "z: -0.3615422248840332\n",
       "visibility: 0.23445767164230347\n",
       ", x: 0.9280885457992554\n",
       "y: 1.6980438232421875\n",
       "z: -0.5791805982589722\n",
       "visibility: 0.03176766633987427\n",
       ", x: 0.2504114806652069\n",
       "y: 1.8284209966659546\n",
       "z: -1.0408133268356323\n",
       "visibility: 0.056514620780944824\n",
       ", x: 0.9529411196708679\n",
       "y: 1.8306667804718018\n",
       "z: -0.6679102182388306\n",
       "visibility: 0.027713915333151817\n",
       ", x: 0.23111653327941895\n",
       "y: 1.9547427892684937\n",
       "z: -1.1862311363220215\n",
       "visibility: 0.04449472203850746\n",
       ", x: 0.8804356455802917\n",
       "y: 1.8324296474456787\n",
       "z: -0.6904290914535522\n",
       "visibility: 0.0462515652179718\n",
       ", x: 0.27663105726242065\n",
       "y: 1.9387142658233643\n",
       "z: -1.252732276916504\n",
       "visibility: 0.06770326942205429\n",
       ", x: 0.865725040435791\n",
       "y: 1.78071129322052\n",
       "z: -0.6062223315238953\n",
       "visibility: 0.05287408456206322\n",
       ", x: 0.29113247990608215\n",
       "y: 1.8852118253707886\n",
       "z: -1.095908284187317\n",
       "visibility: 0.07558082789182663\n",
       ", x: 0.7534811496734619\n",
       "y: 1.7665413618087769\n",
       "z: -0.05795560032129288\n",
       "visibility: 0.00085872394265607\n",
       ", x: 0.4041464924812317\n",
       "y: 1.8116309642791748\n",
       "z: 0.06501221656799316\n",
       "visibility: 0.0007062211516313255\n",
       ", x: 0.7783510088920593\n",
       "y: 2.4243977069854736\n",
       "z: 0.042970921844244\n",
       "visibility: 0.0005607276689261198\n",
       ", x: 0.45780596137046814\n",
       "y: 2.4629335403442383\n",
       "z: 0.39492470026016235\n",
       "visibility: 0.0002643718908075243\n",
       ", x: 0.8042329549789429\n",
       "y: 2.99702525138855\n",
       "z: 0.8327306509017944\n",
       "visibility: 2.287703682668507e-05\n",
       ", x: 0.5072066187858582\n",
       "y: 3.0109713077545166\n",
       "z: 1.1151795387268066\n",
       "visibility: 7.69810412748484e-06\n",
       ", x: 0.8230012059211731\n",
       "y: 3.1099727153778076\n",
       "z: 0.8739345669746399\n",
       "visibility: 1.9574104953790084e-05\n",
       ", x: 0.5105422735214233\n",
       "y: 3.1176300048828125\n",
       "z: 1.170191764831543\n",
       "visibility: 1.9391372916288674e-05\n",
       ", x: 0.7598244547843933\n",
       "y: 3.196230173110962\n",
       "z: 0.21551358699798584\n",
       "visibility: 2.5533374355291016e-05\n",
       ", x: 0.5904932022094727\n",
       "y: 3.2109642028808594\n",
       "z: 0.4942478537559509\n",
       "visibility: 4.561740206554532e-05\n",
       "]"
      ]
     },
     "execution_count": 68,
     "metadata": {},
     "output_type": "execute_result"
    }
   ],
   "source": [
    "res.pose_landmarks.landmark"
   ]
  },
  {
   "cell_type": "code",
   "execution_count": 67,
   "id": "0094085d",
   "metadata": {
    "scrolled": true
   },
   "outputs": [
    {
     "name": "stdout",
     "output_type": "stream",
     "text": [
      "x: 0.48986944556236267\n",
      "y: 0.643073320388794\n",
      "z: -0.9447919726371765\n",
      "visibility: 0.99969482421875\n",
      "\n",
      "x: 0.5131209492683411\n",
      "y: 0.5499991178512573\n",
      "z: -0.8825820684432983\n",
      "visibility: 0.9992833733558655\n",
      "\n",
      "x: 0.5347422361373901\n",
      "y: 0.547756552696228\n",
      "z: -0.882668137550354\n",
      "visibility: 0.9994224905967712\n",
      "\n",
      "x: 0.5522118806838989\n",
      "y: 0.5464622974395752\n",
      "z: -0.8829854726791382\n",
      "visibility: 0.9993098974227905\n",
      "\n",
      "x: 0.44332432746887207\n",
      "y: 0.5612661242485046\n",
      "z: -0.8863263130187988\n",
      "visibility: 0.9991350173950195\n",
      "\n",
      "x: 0.42184028029441833\n",
      "y: 0.5715991854667664\n",
      "z: -0.8854605555534363\n",
      "visibility: 0.9992386698722839\n",
      "\n",
      "x: 0.40224361419677734\n",
      "y: 0.5824688076972961\n",
      "z: -0.8858397603034973\n",
      "visibility: 0.9990535974502563\n",
      "\n",
      "x: 0.573452353477478\n",
      "y: 0.5833842754364014\n",
      "z: -0.49959129095077515\n",
      "visibility: 0.9994747638702393\n",
      "\n",
      "x: 0.356870174407959\n",
      "y: 0.6335065364837646\n",
      "z: -0.4809455871582031\n",
      "visibility: 0.9992932677268982\n",
      "\n",
      "x: 0.5363684892654419\n",
      "y: 0.7185221314430237\n",
      "z: -0.7975432872772217\n",
      "visibility: 0.999726414680481\n",
      "\n",
      "x: 0.45072227716445923\n",
      "y: 0.7398838400840759\n",
      "z: -0.7946659326553345\n",
      "visibility: 0.9995876550674438\n",
      "\n",
      "x: 0.7996026277542114\n",
      "y: 0.9525798559188843\n",
      "z: -0.26951417326927185\n",
      "visibility: 0.9962300658226013\n",
      "\n",
      "x: 0.26203832030296326\n",
      "y: 1.007468819618225\n",
      "z: -0.36877721548080444\n",
      "visibility: 0.9910613894462585\n",
      "\n",
      "x: 0.9790371060371399\n",
      "y: 1.3542901277542114\n",
      "z: -0.2964816689491272\n",
      "visibility: 0.17414595186710358\n",
      "\n",
      "x: 0.2329687774181366\n",
      "y: 1.5224088430404663\n",
      "z: -0.3615422248840332\n",
      "visibility: 0.23445767164230347\n",
      "\n",
      "x: 0.9280885457992554\n",
      "y: 1.6980438232421875\n",
      "z: -0.5791805982589722\n",
      "visibility: 0.03176766633987427\n",
      "\n",
      "x: 0.2504114806652069\n",
      "y: 1.8284209966659546\n",
      "z: -1.0408133268356323\n",
      "visibility: 0.056514620780944824\n",
      "\n",
      "x: 0.9529411196708679\n",
      "y: 1.8306667804718018\n",
      "z: -0.6679102182388306\n",
      "visibility: 0.027713915333151817\n",
      "\n",
      "x: 0.23111653327941895\n",
      "y: 1.9547427892684937\n",
      "z: -1.1862311363220215\n",
      "visibility: 0.04449472203850746\n",
      "\n",
      "x: 0.8804356455802917\n",
      "y: 1.8324296474456787\n",
      "z: -0.6904290914535522\n",
      "visibility: 0.0462515652179718\n",
      "\n",
      "x: 0.27663105726242065\n",
      "y: 1.9387142658233643\n",
      "z: -1.252732276916504\n",
      "visibility: 0.06770326942205429\n",
      "\n",
      "x: 0.865725040435791\n",
      "y: 1.78071129322052\n",
      "z: -0.6062223315238953\n",
      "visibility: 0.05287408456206322\n",
      "\n",
      "x: 0.29113247990608215\n",
      "y: 1.8852118253707886\n",
      "z: -1.095908284187317\n",
      "visibility: 0.07558082789182663\n",
      "\n",
      "x: 0.7534811496734619\n",
      "y: 1.7665413618087769\n",
      "z: -0.05795560032129288\n",
      "visibility: 0.00085872394265607\n",
      "\n",
      "x: 0.4041464924812317\n",
      "y: 1.8116309642791748\n",
      "z: 0.06501221656799316\n",
      "visibility: 0.0007062211516313255\n",
      "\n",
      "x: 0.7783510088920593\n",
      "y: 2.4243977069854736\n",
      "z: 0.042970921844244\n",
      "visibility: 0.0005607276689261198\n",
      "\n",
      "x: 0.45780596137046814\n",
      "y: 2.4629335403442383\n",
      "z: 0.39492470026016235\n",
      "visibility: 0.0002643718908075243\n",
      "\n",
      "x: 0.8042329549789429\n",
      "y: 2.99702525138855\n",
      "z: 0.8327306509017944\n",
      "visibility: 2.287703682668507e-05\n",
      "\n",
      "x: 0.5072066187858582\n",
      "y: 3.0109713077545166\n",
      "z: 1.1151795387268066\n",
      "visibility: 7.69810412748484e-06\n",
      "\n",
      "x: 0.8230012059211731\n",
      "y: 3.1099727153778076\n",
      "z: 0.8739345669746399\n",
      "visibility: 1.9574104953790084e-05\n",
      "\n",
      "x: 0.5105422735214233\n",
      "y: 3.1176300048828125\n",
      "z: 1.170191764831543\n",
      "visibility: 1.9391372916288674e-05\n",
      "\n",
      "x: 0.7598244547843933\n",
      "y: 3.196230173110962\n",
      "z: 0.21551358699798584\n",
      "visibility: 2.5533374355291016e-05\n",
      "\n",
      "x: 0.5904932022094727\n",
      "y: 3.2109642028808594\n",
      "z: 0.4942478537559509\n",
      "visibility: 4.561740206554532e-05\n",
      "\n"
     ]
    }
   ],
   "source": [
    "for e in mp_holistic.PoseLandmark:\n",
    "    print(res.pose_landmarks.landmark[e])"
   ]
  },
  {
   "cell_type": "code",
   "execution_count": 160,
   "id": "782e187d",
   "metadata": {},
   "outputs": [],
   "source": [
    "keypoints2 = ['NOSE',  'RIGHT_SHOULDER', 'RIGHT_ELBOW', 'RIGHT_WRIST', 'LEFT_SHOULDER', 'LEFT_ELBOW', 'LEFT_WRIST', \n",
    "              'RIGHT_HIP', 'RIGHT_KNEE', 'RIGHT_ANKLE', 'LEFT_HIP', 'LEFT_KNEE', 'LEFT_ANKLE', 'RIGHT_EYE', 'LEFT_EYE',\n",
    "             'RIGHT_EAR', 'LEFT_EAR', 'LEFT_HEEL',\n",
    "             'RIGHT_HEEL'\n",
    "            ]"
   ]
  },
  {
   "cell_type": "code",
   "execution_count": 161,
   "id": "295a5933",
   "metadata": {},
   "outputs": [],
   "source": [
    "keypoints = ['NOSE', 'NECK', 'RIGHT_SHOULDER', 'RIGHT_ELBOW', 'RIGHT_WRIST', 'LEFT_SHOULDER', 'LEFT_ELBOW', 'LEFT_WRIST', \n",
    "             'MID_HIP', 'RIGHT_HIP', 'RIGHT_KNEE', 'RIGHT_ANKLE', 'LEFT_HIP', 'LEFT_KNEE', 'LEFT_ANKLE', 'RIGHT_EYE', 'LEFT_EYE',\n",
    "             'RIGHT_EAR', 'LEFT_EAR', 'LEFT_BIG_TOE', 'LEFT_SMALL_TOE', 'LEFT_HEEL', 'RIGHT_BIG_TOE', 'RIGHT_SMALL_TOE',\n",
    "             'RIGHT_HEEL'\n",
    "            ]"
   ]
  },
  {
   "cell_type": "code",
   "execution_count": 162,
   "id": "d252ad00",
   "metadata": {},
   "outputs": [],
   "source": [
    "dictt = dict()\n",
    "for e in keypoints2:\n",
    "    mark = res.pose_landmarks.landmark[mp_holistic.PoseLandmark[e]]\n",
    "    dictt[e] = {'x':mark.x,'y':mark.y,'z':mark.z}"
   ]
  },
  {
   "cell_type": "code",
   "execution_count": 163,
   "id": "ab043879",
   "metadata": {
    "scrolled": true
   },
   "outputs": [
    {
     "data": {
      "text/plain": [
       "{'NOSE': {'x': 0.5051655173301697,\n",
       "  'y': 0.5878684520721436,\n",
       "  'z': -1.2726480960845947},\n",
       " 'RIGHT_SHOULDER': {'x': 0.17977575957775116,\n",
       "  'y': 0.9144696593284607,\n",
       "  'z': -0.4861775040626526},\n",
       " 'RIGHT_ELBOW': {'x': 0.02062901481986046,\n",
       "  'y': 1.3847410678863525,\n",
       "  'z': -0.40958571434020996},\n",
       " 'RIGHT_WRIST': {'x': 0.023604894056916237,\n",
       "  'y': 1.708860158920288,\n",
       "  'z': -0.9937295913696289},\n",
       " 'LEFT_SHOULDER': {'x': 0.7511666417121887,\n",
       "  'y': 0.9739003777503967,\n",
       "  'z': -0.2804003357887268},\n",
       " 'LEFT_ELBOW': {'x': 0.8755531311035156,\n",
       "  'y': 1.3975104093551636,\n",
       "  'z': -0.07394911348819733},\n",
       " 'LEFT_WRIST': {'x': 0.8839441537857056,\n",
       "  'y': 1.7836682796478271,\n",
       "  'z': -0.44566792249679565},\n",
       " 'RIGHT_HIP': {'x': 0.2684464752674103,\n",
       "  'y': 1.8315004110336304,\n",
       "  'z': 0.07047810405492783},\n",
       " 'RIGHT_KNEE': {'x': 0.2684403359889984,\n",
       "  'y': 2.5618157386779785,\n",
       "  'z': 0.209668830037117},\n",
       " 'RIGHT_ANKLE': {'x': 0.2633739113807678,\n",
       "  'y': 3.2285332679748535,\n",
       "  'z': 0.9911748170852661},\n",
       " 'LEFT_HIP': {'x': 0.6325321793556213,\n",
       "  'y': 1.838982105255127,\n",
       "  'z': -0.0625007301568985},\n",
       " 'LEFT_KNEE': {'x': 0.6058965921401978,\n",
       "  'y': 2.5857841968536377,\n",
       "  'z': -0.007157008163630962},\n",
       " 'LEFT_ANKLE': {'x': 0.6058904528617859,\n",
       "  'y': 3.250812292098999,\n",
       "  'z': 0.9381211400032043},\n",
       " 'RIGHT_EYE': {'x': 0.44062361121177673,\n",
       "  'y': 0.5197127461433411,\n",
       "  'z': -1.2008731365203857},\n",
       " 'LEFT_EYE': {'x': 0.547529399394989,\n",
       "  'y': 0.5018487572669983,\n",
       "  'z': -1.188391923904419},\n",
       " 'RIGHT_EAR': {'x': 0.3840661346912384,\n",
       "  'y': 0.5560404658317566,\n",
       "  'z': -0.7037491202354431},\n",
       " 'LEFT_EAR': {'x': 0.5865737199783325,\n",
       "  'y': 0.5403307676315308,\n",
       "  'z': -0.670432448387146},\n",
       " 'LEFT_HEEL': {'x': 0.6120039820671082,\n",
       "  'y': 3.3722379207611084,\n",
       "  'z': 0.9858666658401489},\n",
       " 'RIGHT_HEEL': {'x': 0.25190770626068115,\n",
       "  'y': 3.3580005168914795,\n",
       "  'z': 1.045100212097168}}"
      ]
     },
     "execution_count": 163,
     "metadata": {},
     "output_type": "execute_result"
    }
   ],
   "source": [
    "dictt"
   ]
  },
  {
   "cell_type": "code",
   "execution_count": 164,
   "id": "cc489abc",
   "metadata": {},
   "outputs": [],
   "source": [
    "dictt['MID_HIP'] = {'x' : (dictt['LEFT_HIP']['x'] + dictt['RIGHT_HIP']['x'])/2,\n",
    "                   'y' : (dictt['LEFT_HIP']['y'] + dictt['RIGHT_HIP']['y'])/2,\n",
    "                   'z' : (dictt['LEFT_HIP']['z'] + dictt['RIGHT_HIP']['z'])/2}\n",
    "dictt['NECK'] = {'x' : (dictt['LEFT_SHOULDER']['x'] + dictt['RIGHT_SHOULDER']['x'])/2,\n",
    "                   'y' : (dictt['LEFT_SHOULDER']['y'] + dictt['RIGHT_SHOULDER']['y'])/2,\n",
    "                   'z' : (dictt['LEFT_SHOULDER']['z'] + dictt['RIGHT_SHOULDER']['z'])/2}"
   ]
  },
  {
   "cell_type": "code",
   "execution_count": 165,
   "id": "d555db99",
   "metadata": {
    "scrolled": false
   },
   "outputs": [
    {
     "data": {
      "text/plain": [
       "{'NOSE': {'x': 0.5051655173301697,\n",
       "  'y': 0.5878684520721436,\n",
       "  'z': -1.2726480960845947},\n",
       " 'RIGHT_SHOULDER': {'x': 0.17977575957775116,\n",
       "  'y': 0.9144696593284607,\n",
       "  'z': -0.4861775040626526},\n",
       " 'RIGHT_ELBOW': {'x': 0.02062901481986046,\n",
       "  'y': 1.3847410678863525,\n",
       "  'z': -0.40958571434020996},\n",
       " 'RIGHT_WRIST': {'x': 0.023604894056916237,\n",
       "  'y': 1.708860158920288,\n",
       "  'z': -0.9937295913696289},\n",
       " 'LEFT_SHOULDER': {'x': 0.7511666417121887,\n",
       "  'y': 0.9739003777503967,\n",
       "  'z': -0.2804003357887268},\n",
       " 'LEFT_ELBOW': {'x': 0.8755531311035156,\n",
       "  'y': 1.3975104093551636,\n",
       "  'z': -0.07394911348819733},\n",
       " 'LEFT_WRIST': {'x': 0.8839441537857056,\n",
       "  'y': 1.7836682796478271,\n",
       "  'z': -0.44566792249679565},\n",
       " 'RIGHT_HIP': {'x': 0.2684464752674103,\n",
       "  'y': 1.8315004110336304,\n",
       "  'z': 0.07047810405492783},\n",
       " 'RIGHT_KNEE': {'x': 0.2684403359889984,\n",
       "  'y': 2.5618157386779785,\n",
       "  'z': 0.209668830037117},\n",
       " 'RIGHT_ANKLE': {'x': 0.2633739113807678,\n",
       "  'y': 3.2285332679748535,\n",
       "  'z': 0.9911748170852661},\n",
       " 'LEFT_HIP': {'x': 0.6325321793556213,\n",
       "  'y': 1.838982105255127,\n",
       "  'z': -0.0625007301568985},\n",
       " 'LEFT_KNEE': {'x': 0.6058965921401978,\n",
       "  'y': 2.5857841968536377,\n",
       "  'z': -0.007157008163630962},\n",
       " 'LEFT_ANKLE': {'x': 0.6058904528617859,\n",
       "  'y': 3.250812292098999,\n",
       "  'z': 0.9381211400032043},\n",
       " 'RIGHT_EYE': {'x': 0.44062361121177673,\n",
       "  'y': 0.5197127461433411,\n",
       "  'z': -1.2008731365203857},\n",
       " 'LEFT_EYE': {'x': 0.547529399394989,\n",
       "  'y': 0.5018487572669983,\n",
       "  'z': -1.188391923904419},\n",
       " 'RIGHT_EAR': {'x': 0.3840661346912384,\n",
       "  'y': 0.5560404658317566,\n",
       "  'z': -0.7037491202354431},\n",
       " 'LEFT_EAR': {'x': 0.5865737199783325,\n",
       "  'y': 0.5403307676315308,\n",
       "  'z': -0.670432448387146},\n",
       " 'LEFT_HEEL': {'x': 0.6120039820671082,\n",
       "  'y': 3.3722379207611084,\n",
       "  'z': 0.9858666658401489},\n",
       " 'RIGHT_HEEL': {'x': 0.25190770626068115,\n",
       "  'y': 3.3580005168914795,\n",
       "  'z': 1.045100212097168},\n",
       " 'MID_HIP': {'x': 0.4504893273115158,\n",
       "  'y': 1.8352412581443787,\n",
       "  'z': 0.003988686949014664},\n",
       " 'NECK': {'x': 0.46547120064496994,\n",
       "  'y': 0.9441850185394287,\n",
       "  'z': -0.3832889199256897}}"
      ]
     },
     "execution_count": 165,
     "metadata": {},
     "output_type": "execute_result"
    }
   ],
   "source": [
    "dictt"
   ]
  },
  {
   "cell_type": "code",
   "execution_count": 166,
   "id": "6ea4b551",
   "metadata": {
    "scrolled": true
   },
   "outputs": [
    {
     "data": {
      "text/plain": [
       "frozenset({(0, 1),\n",
       "           (0, 4),\n",
       "           (1, 2),\n",
       "           (2, 3),\n",
       "           (3, 7),\n",
       "           (4, 5),\n",
       "           (5, 6),\n",
       "           (6, 8),\n",
       "           (9, 10),\n",
       "           (11, 12),\n",
       "           (11, 13),\n",
       "           (11, 23),\n",
       "           (12, 14),\n",
       "           (12, 24),\n",
       "           (13, 15),\n",
       "           (14, 16),\n",
       "           (15, 17),\n",
       "           (15, 19),\n",
       "           (15, 21),\n",
       "           (16, 18),\n",
       "           (16, 20),\n",
       "           (16, 22),\n",
       "           (17, 19),\n",
       "           (18, 20),\n",
       "           (23, 24),\n",
       "           (23, 25),\n",
       "           (24, 26),\n",
       "           (25, 27),\n",
       "           (26, 28),\n",
       "           (27, 29),\n",
       "           (27, 31),\n",
       "           (28, 30),\n",
       "           (28, 32),\n",
       "           (29, 31),\n",
       "           (30, 32)})"
      ]
     },
     "execution_count": 166,
     "metadata": {},
     "output_type": "execute_result"
    }
   ],
   "source": [
    "mp_holistic.POSE_CONNECTIONS"
   ]
  },
  {
   "cell_type": "code",
   "execution_count": 167,
   "id": "7d489fe3",
   "metadata": {},
   "outputs": [],
   "source": [
    "connections = {(0, 1),\n",
    "           (0, 4),\n",
    "           (1, 2),\n",
    "           (2, 3),\n",
    "           (3, 7),\n",
    "           (4, 5),\n",
    "           (5, 6),\n",
    "           (6, 8),\n",
    "           (9, 10),\n",
    "           (11, 12),\n",
    "           (11, 13),\n",
    "           (11, 23),\n",
    "           (12, 14),\n",
    "           (12, 24),\n",
    "           (13, 15),\n",
    "           (14, 16),\n",
    "           (15, 17),\n",
    "           (15, 19),\n",
    "           (15, 21),\n",
    "           (16, 18),\n",
    "           (16, 20),\n",
    "           (16, 22),\n",
    "           (17, 19),\n",
    "           (18, 20),\n",
    "           (23, 24),\n",
    "           (23, 25),\n",
    "           (24, 26),\n",
    "           (25, 27),\n",
    "           (26, 28),\n",
    "           (27, 29),\n",
    "           (27, 31),\n",
    "           (28, 30),\n",
    "           (28, 32),\n",
    "           (29, 31),\n",
    "           (30, 32),\n",
    "              (0,)}"
   ]
  },
  {
   "cell_type": "code",
   "execution_count": 168,
   "id": "2c2b13eb",
   "metadata": {},
   "outputs": [],
   "source": []
  },
  {
   "cell_type": "code",
   "execution_count": 169,
   "id": "c0e34561",
   "metadata": {},
   "outputs": [
    {
     "data": {
      "text/plain": [
       "<Points.NOSE: {'x': 0.5051655173301697, 'y': 0.5878684520721436, 'z': -1.2726480960845947}>"
      ]
     },
     "execution_count": 169,
     "metadata": {},
     "output_type": "execute_result"
    }
   ],
   "source": [
    "Points.NOSE"
   ]
  },
  {
   "cell_type": "code",
   "execution_count": 170,
   "id": "b9c538ac",
   "metadata": {},
   "outputs": [
    {
     "data": {
      "text/plain": [
       "21"
      ]
     },
     "execution_count": 170,
     "metadata": {},
     "output_type": "execute_result"
    }
   ],
   "source": [
    "len(dictt)"
   ]
  },
  {
   "cell_type": "code",
   "execution_count": 171,
   "id": "3cdb0a68",
   "metadata": {},
   "outputs": [
    {
     "data": {
      "text/plain": [
       "<PoseLandmark.LEFT_PINKY: 17>"
      ]
     },
     "execution_count": 171,
     "metadata": {},
     "output_type": "execute_result"
    }
   ],
   "source": [
    "mp_holistic.PoseLandmark['LEFT_PINKY']"
   ]
  },
  {
   "cell_type": "code",
   "execution_count": 172,
   "id": "3273075d",
   "metadata": {},
   "outputs": [],
   "source": [
    "mark = res.pose_landmarks.landmark[mp_holistic.PoseLandmark['RIGHT_FOOT_INDEX']]\n",
    "dictt['RIGHT_BIG_TOE'] = {'x':mark.x,'y':mark.y,'z':mark.z}\n",
    "mark = res.pose_landmarks.landmark[mp_holistic.PoseLandmark['LEFT_FOOT_INDEX']]\n",
    "dictt['LEFT_BIG_TOE'] = {'x':mark.x,'y':mark.y,'z':mark.z}"
   ]
  },
  {
   "cell_type": "code",
   "execution_count": 173,
   "id": "4624a84c",
   "metadata": {
    "scrolled": false
   },
   "outputs": [
    {
     "data": {
      "text/plain": [
       "{'NOSE': {'x': 0.5051655173301697,\n",
       "  'y': 0.5878684520721436,\n",
       "  'z': -1.2726480960845947},\n",
       " 'RIGHT_SHOULDER': {'x': 0.17977575957775116,\n",
       "  'y': 0.9144696593284607,\n",
       "  'z': -0.4861775040626526},\n",
       " 'RIGHT_ELBOW': {'x': 0.02062901481986046,\n",
       "  'y': 1.3847410678863525,\n",
       "  'z': -0.40958571434020996},\n",
       " 'RIGHT_WRIST': {'x': 0.023604894056916237,\n",
       "  'y': 1.708860158920288,\n",
       "  'z': -0.9937295913696289},\n",
       " 'LEFT_SHOULDER': {'x': 0.7511666417121887,\n",
       "  'y': 0.9739003777503967,\n",
       "  'z': -0.2804003357887268},\n",
       " 'LEFT_ELBOW': {'x': 0.8755531311035156,\n",
       "  'y': 1.3975104093551636,\n",
       "  'z': -0.07394911348819733},\n",
       " 'LEFT_WRIST': {'x': 0.8839441537857056,\n",
       "  'y': 1.7836682796478271,\n",
       "  'z': -0.44566792249679565},\n",
       " 'RIGHT_HIP': {'x': 0.2684464752674103,\n",
       "  'y': 1.8315004110336304,\n",
       "  'z': 0.07047810405492783},\n",
       " 'RIGHT_KNEE': {'x': 0.2684403359889984,\n",
       "  'y': 2.5618157386779785,\n",
       "  'z': 0.209668830037117},\n",
       " 'RIGHT_ANKLE': {'x': 0.2633739113807678,\n",
       "  'y': 3.2285332679748535,\n",
       "  'z': 0.9911748170852661},\n",
       " 'LEFT_HIP': {'x': 0.6325321793556213,\n",
       "  'y': 1.838982105255127,\n",
       "  'z': -0.0625007301568985},\n",
       " 'LEFT_KNEE': {'x': 0.6058965921401978,\n",
       "  'y': 2.5857841968536377,\n",
       "  'z': -0.007157008163630962},\n",
       " 'LEFT_ANKLE': {'x': 0.6058904528617859,\n",
       "  'y': 3.250812292098999,\n",
       "  'z': 0.9381211400032043},\n",
       " 'RIGHT_EYE': {'x': 0.44062361121177673,\n",
       "  'y': 0.5197127461433411,\n",
       "  'z': -1.2008731365203857},\n",
       " 'LEFT_EYE': {'x': 0.547529399394989,\n",
       "  'y': 0.5018487572669983,\n",
       "  'z': -1.188391923904419},\n",
       " 'RIGHT_EAR': {'x': 0.3840661346912384,\n",
       "  'y': 0.5560404658317566,\n",
       "  'z': -0.7037491202354431},\n",
       " 'LEFT_EAR': {'x': 0.5865737199783325,\n",
       "  'y': 0.5403307676315308,\n",
       "  'z': -0.670432448387146},\n",
       " 'LEFT_HEEL': {'x': 0.6120039820671082,\n",
       "  'y': 3.3722379207611084,\n",
       "  'z': 0.9858666658401489},\n",
       " 'RIGHT_HEEL': {'x': 0.25190770626068115,\n",
       "  'y': 3.3580005168914795,\n",
       "  'z': 1.045100212097168},\n",
       " 'MID_HIP': {'x': 0.4504893273115158,\n",
       "  'y': 1.8352412581443787,\n",
       "  'z': 0.003988686949014664},\n",
       " 'NECK': {'x': 0.46547120064496994,\n",
       "  'y': 0.9441850185394287,\n",
       "  'z': -0.3832889199256897},\n",
       " 'RIGHT_BIG_TOE': {'x': 0.3287920355796814,\n",
       "  'y': 3.436811923980713,\n",
       "  'z': 0.17331084609031677},\n",
       " 'LEFT_BIG_TOE': {'x': 0.5459610819816589,\n",
       "  'y': 3.4661524295806885,\n",
       "  'z': 0.1692519187927246}}"
      ]
     },
     "execution_count": 173,
     "metadata": {},
     "output_type": "execute_result"
    }
   ],
   "source": [
    "dictt"
   ]
  },
  {
   "cell_type": "code",
   "execution_count": 174,
   "id": "1d194c6b",
   "metadata": {},
   "outputs": [
    {
     "data": {
      "text/plain": [
       "23"
      ]
     },
     "execution_count": 174,
     "metadata": {},
     "output_type": "execute_result"
    }
   ],
   "source": [
    "len(dictt)"
   ]
  },
  {
   "cell_type": "code",
   "execution_count": 175,
   "id": "6e84e6f7",
   "metadata": {},
   "outputs": [],
   "source": [
    "from enum import Enum\n",
    "Points = Enum('Points', dictt)"
   ]
  },
  {
   "cell_type": "code",
   "execution_count": 176,
   "id": "15047d45",
   "metadata": {},
   "outputs": [
    {
     "data": {
      "text/plain": [
       "<enum 'Points'>"
      ]
     },
     "execution_count": 176,
     "metadata": {},
     "output_type": "execute_result"
    }
   ],
   "source": [
    "Points"
   ]
  },
  {
   "cell_type": "code",
   "execution_count": 177,
   "id": "d0839ca9",
   "metadata": {},
   "outputs": [],
   "source": [
    "keypoints = ['NOSE', 'NECK', 'RIGHT_SHOULDER', 'RIGHT_ELBOW', 'RIGHT_WRIST', 'LEFT_SHOULDER', 'LEFT_ELBOW', 'LEFT_WRIST', \n",
    "             'MID_HIP', 'RIGHT_HIP', 'RIGHT_KNEE', 'RIGHT_ANKLE', 'LEFT_HIP', 'LEFT_KNEE', 'LEFT_ANKLE', 'RIGHT_EYE', 'LEFT_EYE',\n",
    "             'RIGHT_EAR', 'LEFT_EAR', 'LEFT_BIG_TOE', 'LEFT_SMALL_TOE', 'LEFT_HEEL', 'RIGHT_BIG_TOE', 'RIGHT_SMALL_TOE',\n",
    "             'RIGHT_HEEL'\n",
    "            ]"
   ]
  },
  {
   "cell_type": "code",
   "execution_count": 187,
   "id": "f2f08273",
   "metadata": {},
   "outputs": [],
   "source": [
    "Points = Enum('Points',keypoints)"
   ]
  },
  {
   "cell_type": "code",
   "execution_count": 188,
   "id": "8e685d9c",
   "metadata": {
    "scrolled": true
   },
   "outputs": [
    {
     "name": "stdout",
     "output_type": "stream",
     "text": [
      "NOSE = 1\n",
      "NECK = 2\n",
      "RIGHT_SHOULDER = 3\n",
      "RIGHT_ELBOW = 4\n",
      "RIGHT_WRIST = 5\n",
      "LEFT_SHOULDER = 6\n",
      "LEFT_ELBOW = 7\n",
      "LEFT_WRIST = 8\n",
      "MID_HIP = 9\n",
      "RIGHT_HIP = 10\n",
      "RIGHT_KNEE = 11\n",
      "RIGHT_ANKLE = 12\n",
      "LEFT_HIP = 13\n",
      "LEFT_KNEE = 14\n",
      "LEFT_ANKLE = 15\n",
      "RIGHT_EYE = 16\n",
      "LEFT_EYE = 17\n",
      "RIGHT_EAR = 18\n",
      "LEFT_EAR = 19\n",
      "LEFT_BIG_TOE = 20\n",
      "LEFT_SMALL_TOE = 21\n",
      "LEFT_HEEL = 22\n",
      "RIGHT_BIG_TOE = 23\n",
      "RIGHT_SMALL_TOE = 24\n",
      "RIGHT_HEEL = 25\n"
     ]
    }
   ],
   "source": [
    "for i in Points:\n",
    "    print(i.name,'=',i.value)"
   ]
  },
  {
   "cell_type": "code",
   "execution_count": 189,
   "id": "729959f8",
   "metadata": {},
   "outputs": [
    {
     "data": {
      "text/plain": [
       "<enum 'PoseLandmark'>"
      ]
     },
     "execution_count": 189,
     "metadata": {},
     "output_type": "execute_result"
    }
   ],
   "source": [
    "mp_holistic.PoseLandmark"
   ]
  },
  {
   "cell_type": "code",
   "execution_count": 191,
   "id": "82382f18",
   "metadata": {
    "scrolled": false
   },
   "outputs": [
    {
     "name": "stdout",
     "output_type": "stream",
     "text": [
      "NOSE = 0\n",
      "LEFT_EYE_INNER = 1\n",
      "LEFT_EYE = 2\n",
      "LEFT_EYE_OUTER = 3\n",
      "RIGHT_EYE_INNER = 4\n",
      "RIGHT_EYE = 5\n",
      "RIGHT_EYE_OUTER = 6\n",
      "LEFT_EAR = 7\n",
      "RIGHT_EAR = 8\n",
      "MOUTH_LEFT = 9\n",
      "MOUTH_RIGHT = 10\n",
      "LEFT_SHOULDER = 11\n",
      "RIGHT_SHOULDER = 12\n",
      "LEFT_ELBOW = 13\n",
      "RIGHT_ELBOW = 14\n",
      "LEFT_WRIST = 15\n",
      "RIGHT_WRIST = 16\n",
      "LEFT_PINKY = 17\n",
      "RIGHT_PINKY = 18\n",
      "LEFT_INDEX = 19\n",
      "RIGHT_INDEX = 20\n",
      "LEFT_THUMB = 21\n",
      "RIGHT_THUMB = 22\n",
      "LEFT_HIP = 23\n",
      "RIGHT_HIP = 24\n",
      "LEFT_KNEE = 25\n",
      "RIGHT_KNEE = 26\n",
      "LEFT_ANKLE = 27\n",
      "RIGHT_ANKLE = 28\n",
      "LEFT_HEEL = 29\n",
      "RIGHT_HEEL = 30\n",
      "LEFT_FOOT_INDEX = 31\n",
      "RIGHT_FOOT_INDEX = 32\n"
     ]
    }
   ],
   "source": [
    "for i in mp_holistic.PoseLandmark:\n",
    "    print(i.name,'=',i.value)"
   ]
  },
  {
   "cell_type": "code",
   "execution_count": 192,
   "id": "5ccce5f4",
   "metadata": {
    "scrolled": false
   },
   "outputs": [
    {
     "name": "stdout",
     "output_type": "stream",
     "text": [
      "Help on class Enum in module enum:\n",
      "\n",
      "class Enum(builtins.object)\n",
      " |  Enum(value, names=None, *, module=None, qualname=None, type=None, start=1)\n",
      " |  \n",
      " |  Generic enumeration.\n",
      " |  \n",
      " |  Derive from this class to define new enumerations.\n",
      " |  \n",
      " |  Data descriptors defined here:\n",
      " |  \n",
      " |  name\n",
      " |      The name of the Enum member.\n",
      " |  \n",
      " |  value\n",
      " |      The value of the Enum member.\n",
      " |  \n",
      " |  ----------------------------------------------------------------------\n",
      " |  Readonly properties inherited from EnumMeta:\n",
      " |  \n",
      " |  __members__\n",
      " |      Returns a mapping of member name->value.\n",
      " |      \n",
      " |      This mapping lists all enum members, including aliases. Note that this\n",
      " |      is a read-only view of the internal mapping.\n",
      "\n"
     ]
    }
   ],
   "source": []
  },
  {
   "cell_type": "code",
   "execution_count": null,
   "id": "950618ad",
   "metadata": {},
   "outputs": [],
   "source": [
    "drawing_details = mp.solutions.drawing_utils\n",
    "mp_holistic = mp.solutions.holistic\n",
    "with mp_holistic.Holistic(min_detection_confidence = 0.5,min_tracking_confidence = 0.5) as holistic:\n",
    "    cam = cv2.VideoCapture(0)\n",
    "    while True:\n",
    "        _,frame = cam.read()\n",
    "        cvtImg = cv2.cvtColor(frame,cv2.COLOR_BGR2RGB)\n",
    "        res = holistic.process(cvtImg)\n",
    "        dictt = dict()\n",
    "        for e in keypoints2:\n",
    "            mark = res.pose_landmarks.landmark[mp_holistic.PoseLandmark[e]]\n",
    "            dictt[e] = {'x':mark.x,'y':mark.y,'z':mark.z}\n",
    "        \n",
    "        drawing_details.draw_landmarks(frame,res.left_hand_landmarks,mp_holistic.HAND_CONNECTIONS)\n",
    "        drawing_details.draw_landmarks(frame,res.right_hand_landmarks,mp_holistic.HAND_CONNECTIONS)\n",
    "        drawing_details.draw_landmarks(frame,res.pose_landmarks,mp_holistic.POSE_CONNECTIONS)\n",
    "        cv2.imshow('webcam',frame)\n",
    "        if cv2.waitKey(1)==ord('q'):\n",
    "            break\n",
    "    cv2.destroyAllWindows()\n",
    "    cam.release()"
   ]
  },
  {
   "cell_type": "code",
   "execution_count": 196,
   "id": "9b05485b",
   "metadata": {
    "scrolled": false
   },
   "outputs": [
    {
     "data": {
      "text/plain": [
       "google.protobuf.pyext._message.RepeatedCompositeContainer"
      ]
     },
     "execution_count": 196,
     "metadata": {},
     "output_type": "execute_result"
    }
   ],
   "source": [
    "type(res.pose_landmarks.landmark)"
   ]
  },
  {
   "cell_type": "code",
   "execution_count": 197,
   "id": "9ae14fe2",
   "metadata": {
    "scrolled": true
   },
   "outputs": [
    {
     "data": {
      "text/plain": [
       "landmark {\n",
       "  x: 0.5051655173301697\n",
       "  y: 0.5878684520721436\n",
       "  z: -1.2726480960845947\n",
       "  visibility: 0.9998417496681213\n",
       "}\n",
       "landmark {\n",
       "  x: 0.5323472619056702\n",
       "  y: 0.504381537437439\n",
       "  z: -1.1882760524749756\n",
       "  visibility: 0.9995017647743225\n",
       "}\n",
       "landmark {\n",
       "  x: 0.547529399394989\n",
       "  y: 0.5018487572669983\n",
       "  z: -1.188391923904419\n",
       "  visibility: 0.9996675848960876\n",
       "}\n",
       "landmark {\n",
       "  x: 0.5654011964797974\n",
       "  y: 0.5005584359169006\n",
       "  z: -1.1885864734649658\n",
       "  visibility: 0.9994562268257141\n",
       "}\n",
       "landmark {\n",
       "  x: 0.46485796570777893\n",
       "  y: 0.5155656933784485\n",
       "  z: -1.2020301818847656\n",
       "  visibility: 0.9995229244232178\n",
       "}\n",
       "landmark {\n",
       "  x: 0.44062361121177673\n",
       "  y: 0.5197127461433411\n",
       "  z: -1.2008731365203857\n",
       "  visibility: 0.9996914267539978\n",
       "}\n",
       "landmark {\n",
       "  x: 0.4194837510585785\n",
       "  y: 0.5249584913253784\n",
       "  z: -1.2013360261917114\n",
       "  visibility: 0.9995527267456055\n",
       "}\n",
       "landmark {\n",
       "  x: 0.5865737199783325\n",
       "  y: 0.5403307676315308\n",
       "  z: -0.670432448387146\n",
       "  visibility: 0.9995263814926147\n",
       "}\n",
       "landmark {\n",
       "  x: 0.3840661346912384\n",
       "  y: 0.5560404658317566\n",
       "  z: -0.7037491202354431\n",
       "  visibility: 0.9997528791427612\n",
       "}\n",
       "landmark {\n",
       "  x: 0.5401014089584351\n",
       "  y: 0.665396511554718\n",
       "  z: -1.076805830001831\n",
       "  visibility: 0.9997694492340088\n",
       "}\n",
       "landmark {\n",
       "  x: 0.46189385652542114\n",
       "  y: 0.6730251908302307\n",
       "  z: -1.0878748893737793\n",
       "  visibility: 0.999797523021698\n",
       "}\n",
       "landmark {\n",
       "  x: 0.7511666417121887\n",
       "  y: 0.9739003777503967\n",
       "  z: -0.2804003357887268\n",
       "  visibility: 0.9979867339134216\n",
       "}\n",
       "landmark {\n",
       "  x: 0.17977575957775116\n",
       "  y: 0.9144696593284607\n",
       "  z: -0.4861775040626526\n",
       "  visibility: 0.9990856051445007\n",
       "}\n",
       "landmark {\n",
       "  x: 0.8755531311035156\n",
       "  y: 1.3975104093551636\n",
       "  z: -0.07394911348819733\n",
       "  visibility: 0.049794718623161316\n",
       "}\n",
       "landmark {\n",
       "  x: 0.02062901481986046\n",
       "  y: 1.3847410678863525\n",
       "  z: -0.40958571434020996\n",
       "  visibility: 0.34860751032829285\n",
       "}\n",
       "landmark {\n",
       "  x: 0.8839441537857056\n",
       "  y: 1.7836682796478271\n",
       "  z: -0.44566792249679565\n",
       "  visibility: 0.01292730774730444\n",
       "}\n",
       "landmark {\n",
       "  x: 0.023604894056916237\n",
       "  y: 1.708860158920288\n",
       "  z: -0.9937295913696289\n",
       "  visibility: 0.04518964886665344\n",
       "}\n",
       "landmark {\n",
       "  x: 0.9284729957580566\n",
       "  y: 1.917720079421997\n",
       "  z: -0.5425829887390137\n",
       "  visibility: 0.014508059248328209\n",
       "}\n",
       "landmark {\n",
       "  x: 0.012166546657681465\n",
       "  y: 1.8797730207443237\n",
       "  z: -1.1607439517974854\n",
       "  visibility: 0.04173365235328674\n",
       "}\n",
       "landmark {\n",
       "  x: 0.875616729259491\n",
       "  y: 1.9347094297409058\n",
       "  z: -0.6318402886390686\n",
       "  visibility: 0.02573462948203087\n",
       "}\n",
       "landmark {\n",
       "  x: 0.0694289579987526\n",
       "  y: 1.8792827129364014\n",
       "  z: -1.2575887441635132\n",
       "  visibility: 0.07018997520208359\n",
       "}\n",
       "landmark {\n",
       "  x: 0.8460887670516968\n",
       "  y: 1.8786698579788208\n",
       "  z: -0.5088614225387573\n",
       "  visibility: 0.02786685712635517\n",
       "}\n",
       "landmark {\n",
       "  x: 0.08565312623977661\n",
       "  y: 1.824035882949829\n",
       "  z: -1.0578900575637817\n",
       "  visibility: 0.0666017085313797\n",
       "}\n",
       "landmark {\n",
       "  x: 0.6325321793556213\n",
       "  y: 1.838982105255127\n",
       "  z: -0.0625007301568985\n",
       "  visibility: 0.00021262392692733556\n",
       "}\n",
       "landmark {\n",
       "  x: 0.2684464752674103\n",
       "  y: 1.8315004110336304\n",
       "  z: 0.07047810405492783\n",
       "  visibility: 0.0001960375957423821\n",
       "}\n",
       "landmark {\n",
       "  x: 0.6058965921401978\n",
       "  y: 2.5857841968536377\n",
       "  z: -0.007157008163630962\n",
       "  visibility: 7.820301107130945e-05\n",
       "}\n",
       "landmark {\n",
       "  x: 0.2684403359889984\n",
       "  y: 2.5618157386779785\n",
       "  z: 0.209668830037117\n",
       "  visibility: 4.7875633754301816e-05\n",
       "}\n",
       "landmark {\n",
       "  x: 0.6058904528617859\n",
       "  y: 3.250812292098999\n",
       "  z: 0.9381211400032043\n",
       "  visibility: 7.175364316935884e-06\n",
       "}\n",
       "landmark {\n",
       "  x: 0.2633739113807678\n",
       "  y: 3.2285332679748535\n",
       "  z: 0.9911748170852661\n",
       "  visibility: 1.317375563303358e-06\n",
       "}\n",
       "landmark {\n",
       "  x: 0.6120039820671082\n",
       "  y: 3.3722379207611084\n",
       "  z: 0.9858666658401489\n",
       "  visibility: 5.907782906433567e-06\n",
       "}\n",
       "landmark {\n",
       "  x: 0.25190770626068115\n",
       "  y: 3.3580005168914795\n",
       "  z: 1.045100212097168\n",
       "  visibility: 4.255218300386332e-06\n",
       "}\n",
       "landmark {\n",
       "  x: 0.5459610819816589\n",
       "  y: 3.4661524295806885\n",
       "  z: 0.1692519187927246\n",
       "  visibility: 1.7806145478971303e-05\n",
       "}\n",
       "landmark {\n",
       "  x: 0.3287920355796814\n",
       "  y: 3.436811923980713\n",
       "  z: 0.17331084609031677\n",
       "  visibility: 1.7553125871927477e-05\n",
       "}"
      ]
     },
     "execution_count": 197,
     "metadata": {},
     "output_type": "execute_result"
    }
   ],
   "source": [
    "res.pose_landmarks"
   ]
  },
  {
   "cell_type": "code",
   "execution_count": 198,
   "id": "afefc029",
   "metadata": {
    "scrolled": true
   },
   "outputs": [
    {
     "data": {
      "text/plain": [
       "['ByteSize',\n",
       " 'Clear',\n",
       " 'ClearExtension',\n",
       " 'ClearField',\n",
       " 'CopyFrom',\n",
       " 'DESCRIPTOR',\n",
       " 'DiscardUnknownFields',\n",
       " 'Extensions',\n",
       " 'FindInitializationErrors',\n",
       " 'FromString',\n",
       " 'HasExtension',\n",
       " 'HasField',\n",
       " 'IsInitialized',\n",
       " 'ListFields',\n",
       " 'MergeFrom',\n",
       " 'MergeFromString',\n",
       " 'ParseFromString',\n",
       " 'RegisterExtension',\n",
       " 'SerializePartialToString',\n",
       " 'SerializeToString',\n",
       " 'SetInParent',\n",
       " 'UnknownFields',\n",
       " 'WhichOneof',\n",
       " '_CheckCalledFromGeneratedFile',\n",
       " '_SetListener',\n",
       " '__class__',\n",
       " '__deepcopy__',\n",
       " '__delattr__',\n",
       " '__dir__',\n",
       " '__doc__',\n",
       " '__eq__',\n",
       " '__format__',\n",
       " '__ge__',\n",
       " '__getattribute__',\n",
       " '__getstate__',\n",
       " '__gt__',\n",
       " '__hash__',\n",
       " '__init__',\n",
       " '__init_subclass__',\n",
       " '__le__',\n",
       " '__lt__',\n",
       " '__module__',\n",
       " '__ne__',\n",
       " '__new__',\n",
       " '__reduce__',\n",
       " '__reduce_ex__',\n",
       " '__repr__',\n",
       " '__setattr__',\n",
       " '__setstate__',\n",
       " '__sizeof__',\n",
       " '__slots__',\n",
       " '__str__',\n",
       " '__subclasshook__',\n",
       " '__unicode__',\n",
       " '_extensions_by_name',\n",
       " '_extensions_by_number',\n",
       " 'landmark']"
      ]
     },
     "execution_count": 198,
     "metadata": {},
     "output_type": "execute_result"
    }
   ],
   "source": [
    "dir(res.pose_landmarks)"
   ]
  },
  {
   "cell_type": "code",
   "execution_count": 205,
   "id": "0599aa6a",
   "metadata": {
    "scrolled": false
   },
   "outputs": [
    {
     "data": {
      "text/plain": [
       "['__call__',\n",
       " '__class__',\n",
       " '__delattr__',\n",
       " '__dir__',\n",
       " '__doc__',\n",
       " '__eq__',\n",
       " '__format__',\n",
       " '__ge__',\n",
       " '__getattribute__',\n",
       " '__gt__',\n",
       " '__hash__',\n",
       " '__init__',\n",
       " '__init_subclass__',\n",
       " '__le__',\n",
       " '__lt__',\n",
       " '__module__',\n",
       " '__name__',\n",
       " '__ne__',\n",
       " '__new__',\n",
       " '__qualname__',\n",
       " '__reduce__',\n",
       " '__reduce_ex__',\n",
       " '__repr__',\n",
       " '__self__',\n",
       " '__setattr__',\n",
       " '__sizeof__',\n",
       " '__str__',\n",
       " '__subclasshook__',\n",
       " '__text_signature__']"
      ]
     },
     "execution_count": 205,
     "metadata": {},
     "output_type": "execute_result"
    }
   ],
   "source": [
    "dir(res.pose_landmarks.MergeFrom)"
   ]
  },
  {
   "cell_type": "code",
   "execution_count": 207,
   "id": "d4e9aa33",
   "metadata": {},
   "outputs": [],
   "source": [
    "keypoints = ['NOSE', 'NECK', 'RIGHT_SHOULDER', 'RIGHT_ELBOW', 'RIGHT_WRIST', 'LEFT_SHOULDER', 'LEFT_ELBOW', 'LEFT_WRIST', \n",
    "             'MID_HIP', 'RIGHT_HIP', 'RIGHT_KNEE', 'RIGHT_ANKLE', 'LEFT_HIP', 'LEFT_KNEE', 'LEFT_ANKLE', 'RIGHT_EYE', 'LEFT_EYE',\n",
    "             'RIGHT_EAR', 'LEFT_EAR', 'LEFT_BIG_TOE', 'LEFT_SMALL_TOE', 'LEFT_HEEL', 'RIGHT_BIG_TOE', 'RIGHT_SMALL_TOE',\n",
    "             'RIGHT_HEEL'\n",
    "            ]"
   ]
  },
  {
   "cell_type": "code",
   "execution_count": 210,
   "id": "25deb52f",
   "metadata": {},
   "outputs": [],
   "source": [
    "keysDict ={}\n",
    "val=0\n",
    "for i in keypoints:\n",
    "    keysDict[i]=val;\n",
    "    val+=1"
   ]
  },
  {
   "cell_type": "code",
   "execution_count": 216,
   "id": "bab0dccd",
   "metadata": {},
   "outputs": [],
   "source": [
    "keysNum = Enum('keys',keysDict)"
   ]
  },
  {
   "cell_type": "code",
   "execution_count": 219,
   "id": "8f566e4d",
   "metadata": {
    "scrolled": true
   },
   "outputs": [
    {
     "data": {
      "text/plain": [
       "['NOSE',\n",
       " 'NECK',\n",
       " 'RIGHT_SHOULDER',\n",
       " 'RIGHT_ELBOW',\n",
       " 'RIGHT_WRIST',\n",
       " 'LEFT_SHOULDER',\n",
       " 'LEFT_ELBOW',\n",
       " 'LEFT_WRIST',\n",
       " 'MID_HIP',\n",
       " 'RIGHT_HIP',\n",
       " 'RIGHT_KNEE',\n",
       " 'RIGHT_ANKLE',\n",
       " 'LEFT_HIP',\n",
       " 'LEFT_KNEE',\n",
       " 'LEFT_ANKLE',\n",
       " 'RIGHT_EYE',\n",
       " 'LEFT_EYE',\n",
       " 'RIGHT_EAR',\n",
       " 'LEFT_EAR',\n",
       " 'LEFT_BIG_TOE',\n",
       " 'LEFT_SMALL_TOE',\n",
       " 'LEFT_HEEL',\n",
       " 'RIGHT_BIG_TOE',\n",
       " 'RIGHT_SMALL_TOE',\n",
       " 'RIGHT_HEEL']"
      ]
     },
     "execution_count": 219,
     "metadata": {},
     "output_type": "execute_result"
    }
   ],
   "source": [
    "[i.name for i in keysNum]"
   ]
  },
  {
   "cell_type": "code",
   "execution_count": 4,
   "id": "d3393270",
   "metadata": {
    "scrolled": false
   },
   "outputs": [],
   "source": [
    "import cv2\n",
    "import mediapipe as mp\n",
    "\n",
    "BODY_PARTS = {0: 'NOSE',\n",
    "             1: 'NECK',\n",
    "             2: 'RIGHT_SHOULDER',\n",
    "             3: 'RIGHT_ELBOW',\n",
    "             4: 'RIGHT_WRIST',\n",
    "             5: 'LEFT_SHOULDER',\n",
    "             6: 'LEFT_ELBOW',\n",
    "             7: 'LEFT_WRIST',\n",
    "             8: 'MID_HIP',\n",
    "             9: 'RIGHT_HIP',\n",
    "             10: 'RIGHT_KNEE',\n",
    "             11: 'RIGHT_ANKLE',\n",
    "             12: 'LEFT_HIP',\n",
    "             13: 'LEFT_KNEE',\n",
    "             14: 'LEFT_ANKLE',\n",
    "             15: 'RIGHT_EYE',\n",
    "             16: 'LEFT_EYE',\n",
    "             17: 'RIGHT_EAR',\n",
    "             18: 'LEFT_EAR',\n",
    "             19: 'LEFT_BIG_TOE',\n",
    "             20: 'LEFT_SMALL_TOE',\n",
    "             21: 'LEFT_HEEL',\n",
    "             22: 'RIGHT_BIG_TOE',\n",
    "             23: 'RIGHT_SMALL_TOE',\n",
    "             24: 'RIGHT_HEEL'}\n",
    "\n",
    "# BODY_PARTS = { \"Nose\": 0, \"Neck\": 1, \"RShoulder\": 2, \"RElbow\": 3, \"RWrist\": 4, \"LShoulder\": 5, \"LElbow\": 6,\n",
    "#               \"LWrist\": 7, \"RHip\": 8, \"RKnee\": 9, \"RAnkle\": 10, \"LHip\": 11, \"LKnee\": 12, \"LAnkle\": 13, \"REye\": 14,\n",
    "#               \"LEye\": 15, \"REar\": 16, \"LEar\": 17, \"Background\": 18 }\n",
    "\n",
    "# POSE_PAIRS = [[\"Neck\", \"RShoulder\"], [\"Neck\", \"LShoulder\"], [\"RShoulder\", \"RElbow\"], [\"RElbow\", \"RWrist\"],\n",
    "#               [\"LShoulder\", \"LElbow\"], [\"LElbow\", \"LWrist\"], [\"Neck\", \"RHip\"], [\"RHip\", \"RKnee\"], [\"RKnee\", \"RAnkle\"],\n",
    "#               [\"Neck\", \"LHip\"], [\"LHip\", \"LKnee\"], [\"LKnee\", \"LAnkle\"], [\"Neck\", \"Nose\"], [\"Nose\", \"REye\"], [\"REye\", \"REar\"],\n",
    "#               [\"Nose\", \"LEye\"], [\"LEye\", \"LEar\"] ]\n",
    "\n",
    "POSE_PAIRS = [[17,15],[15,0],[16,0],[16,18],[0,1],[2,1],[1,5],[2,3],[3,4],[5,6],[6,7],\n",
    "              [1,8],[9,8],[8,12],[9,10],[12,13],[10,11],[13,14],[11,22],[11,24],[23,22],[14,19],[14,21],[19,20]]\n",
    "\n",
    "\n",
    "image_width=600 \n",
    "image_height=600\n",
    "\n",
    "img = cv2.imread('./image.jpg',cv2.IMREAD_UNCHANGED)\n",
    "\n",
    "drawing_details = mp.solutions.drawing_utils\n",
    "mp_holistic = mp.solutions.holistic\n",
    "with mp_holistic.Holistic(min_detection_confidence = 0.5,min_tracking_confidence = 0.5) as holistic:\n",
    "    cam = cv2.VideoCapture(0)\n",
    "    while True:\n",
    "        _,frame = cam.read()\n",
    "        photo_height = frame.shape[0]\n",
    "        photo_width = frame.shape[1]\n",
    "        \n",
    "        cvtImg = cv2.cvtColor(frame,cv2.COLOR_BGR2RGB)\n",
    "        res = holistic.process(cvtImg)\n",
    "        if(res == None or res.pose_landmarks == None):\n",
    "            continue\n",
    "        drawing_details.draw_landmarks(frame,res.left_hand_landmarks,mp_holistic.HAND_CONNECTIONS)\n",
    "        drawing_details.draw_landmarks(frame,res.right_hand_landmarks,mp_holistic.HAND_CONNECTIONS)\n",
    "        dictt = dict()\n",
    "        for e in BODY_PARTS:\n",
    "            if(BODY_PARTS[e] not in mp_holistic.PoseLandmark.__members__):\n",
    "                continue\n",
    "            mark = res.pose_landmarks.landmark[mp_holistic.PoseLandmark[BODY_PARTS[e]]]\n",
    "            dictt[BODY_PARTS[e]] = {'x':mark.x,'y':mark.y,'z':mark.z}\n",
    "        try:\n",
    "#         if('LEFT_HIP' in dictt.keys() and 'RIGHT_HIP' in dictt.keys()):\n",
    "            dictt['MID_HIP'] = {'x' : (dictt['LEFT_HIP']['x'] + dictt['RIGHT_HIP']['x'])/2,\n",
    "                               'y' : (dictt['LEFT_HIP']['y'] + dictt['RIGHT_HIP']['y'])/2,\n",
    "                               'z' : (dictt['LEFT_HIP']['z'] + dictt['RIGHT_HIP']['z'])/2}\n",
    "        except:\n",
    "            pass\n",
    "            \n",
    "#         if('LEFT_SHOULDER' in dictt.keys() and 'RIGHT_SHOULDER' in dictt.keys()):\n",
    "        try:\n",
    "            dictt['NECK'] = {'x' : (dictt['LEFT_SHOULDER']['x'] + dictt['RIGHT_SHOULDER']['x'])/2,\n",
    "                               'y' : (dictt['LEFT_SHOULDER']['y'] + dictt['RIGHT_SHOULDER']['y'])/2,\n",
    "                               'z' : (dictt['LEFT_SHOULDER']['z'] + dictt['RIGHT_SHOULDER']['z'])/2}\n",
    "        except:\n",
    "            pass\n",
    "        \n",
    "        \n",
    "#         if('RIGHT_FOOT_INDEX' in mp_holistic.PoseLandmark.__members__):\n",
    "        try:\n",
    "            mark = res.pose_landmarks.landmark[mp_holistic.PoseLandmark['RIGHT_FOOT_INDEX']]\n",
    "            dictt['RIGHT_BIG_TOE'] = {'x':mark.x,'y':mark.y,'z':mark.z}\n",
    "        except:\n",
    "            pass\n",
    "        \n",
    "#         if('LEFT_FOOT_INDEX' in mp_holistic.PoseLandmark.__members__):\n",
    "        try:\n",
    "            mark = res.pose_landmarks.landmark[mp_holistic.PoseLandmark['LEFT_FOOT_INDEX']]\n",
    "            dictt['LEFT_BIG_TOE'] = {'x':mark.x,'y':mark.y,'z':mark.z}\n",
    "        except:\n",
    "            pass\n",
    "\n",
    "        for pair in POSE_PAIRS:\n",
    "            partFrom = pair[0]\n",
    "            partTo = pair[1]\n",
    "            \n",
    "            assert(partFrom in BODY_PARTS)\n",
    "            assert(partTo in BODY_PARTS)\n",
    "            \n",
    "            if(BODY_PARTS[partFrom] in dictt and BODY_PARTS[partTo] in dictt):\n",
    "                idFrom = BODY_PARTS[partFrom]\n",
    "                idTo = BODY_PARTS[partTo]\n",
    "                if dictt[idFrom] and dictt[idTo]:\n",
    "                    pt1 = (int(dictt[idFrom]['x']*photo_width),int(dictt[idFrom]['y']*photo_height))\n",
    "                    pt2 = (int(dictt[idTo]['x']*photo_width),int(dictt[idTo]['y']*photo_height))\n",
    "                    \n",
    "                    cv2.line(frame, pt1,pt2, (0, 255, 0), 3) \n",
    "                    cv2.ellipse (frame, pt1, (3, 3), 0, 0, 360, (0, 0, 255), cv2.FILLED) \n",
    "                    cv2.ellipse (frame, pt2, (3, 3), 0, 0, 360, (0, 0, 255), cv2.FILLED)\n",
    "            \n",
    "        cv2.imshow('webcam',frame)\n",
    "        if cv2.waitKey(1)==ord('q'):\n",
    "            break\n",
    "    cv2.destroyAllWindows()\n",
    "    cam.release()\n"
   ]
  },
  {
   "cell_type": "code",
   "execution_count": 222,
   "id": "adaa89d5",
   "metadata": {},
   "outputs": [],
   "source": [
    "for i in POSE_PAIRS:\n",
    "    for j in i:\n",
    "        map(str.lower,j)"
   ]
  },
  {
   "cell_type": "code",
   "execution_count": 223,
   "id": "60919ca8",
   "metadata": {},
   "outputs": [
    {
     "data": {
      "text/plain": [
       "[['Neck', 'RShoulder'],\n",
       " ['Neck', 'LShoulder'],\n",
       " ['RShoulder', 'RElbow'],\n",
       " ['RElbow', 'RWrist'],\n",
       " ['LShoulder', 'LElbow'],\n",
       " ['LElbow', 'LWrist'],\n",
       " ['Neck', 'RHip'],\n",
       " ['RHip', 'RKnee'],\n",
       " ['RKnee', 'RAnkle'],\n",
       " ['Neck', 'LHip'],\n",
       " ['LHip', 'LKnee'],\n",
       " ['LKnee', 'LAnkle'],\n",
       " ['Neck', 'Nose'],\n",
       " ['Nose', 'REye'],\n",
       " ['REye', 'REar'],\n",
       " ['Nose', 'LEye'],\n",
       " ['LEye', 'LEar']]"
      ]
     },
     "execution_count": 223,
     "metadata": {},
     "output_type": "execute_result"
    }
   ],
   "source": [
    "POSE_PAIRS"
   ]
  },
  {
   "cell_type": "code",
   "execution_count": 224,
   "id": "647c1053",
   "metadata": {
    "scrolled": true
   },
   "outputs": [
    {
     "data": {
      "text/plain": [
       "['NOSE',\n",
       " 'LEFT_EYE_INNER',\n",
       " 'LEFT_EYE',\n",
       " 'LEFT_EYE_OUTER',\n",
       " 'RIGHT_EYE_INNER',\n",
       " 'RIGHT_EYE',\n",
       " 'RIGHT_EYE_OUTER',\n",
       " 'LEFT_EAR',\n",
       " 'RIGHT_EAR',\n",
       " 'MOUTH_LEFT',\n",
       " 'MOUTH_RIGHT',\n",
       " 'LEFT_SHOULDER',\n",
       " 'RIGHT_SHOULDER',\n",
       " 'LEFT_ELBOW',\n",
       " 'RIGHT_ELBOW',\n",
       " 'LEFT_WRIST',\n",
       " 'RIGHT_WRIST',\n",
       " 'LEFT_PINKY',\n",
       " 'RIGHT_PINKY',\n",
       " 'LEFT_INDEX',\n",
       " 'RIGHT_INDEX',\n",
       " 'LEFT_THUMB',\n",
       " 'RIGHT_THUMB',\n",
       " 'LEFT_HIP',\n",
       " 'RIGHT_HIP',\n",
       " 'LEFT_KNEE',\n",
       " 'RIGHT_KNEE',\n",
       " 'LEFT_ANKLE',\n",
       " 'RIGHT_ANKLE',\n",
       " 'LEFT_HEEL',\n",
       " 'RIGHT_HEEL',\n",
       " 'LEFT_FOOT_INDEX',\n",
       " 'RIGHT_FOOT_INDEX']"
      ]
     },
     "execution_count": 224,
     "metadata": {},
     "output_type": "execute_result"
    }
   ],
   "source": [
    "[e.name for e in mp_holistic.PoseLandmark]"
   ]
  },
  {
   "cell_type": "code",
   "execution_count": 228,
   "id": "a99aec44",
   "metadata": {},
   "outputs": [],
   "source": [
    "dic = {}\n",
    "for i,j in keypoints.items():\n",
    "    dic[j] = i"
   ]
  },
  {
   "cell_type": "code",
   "execution_count": 229,
   "id": "d27a0bae",
   "metadata": {
    "scrolled": true
   },
   "outputs": [
    {
     "data": {
      "text/plain": [
       "{0: 'NOSE',\n",
       " 1: 'NECK',\n",
       " 2: 'RIGHT_SHOULDER',\n",
       " 3: 'RIGHT_ELBOW',\n",
       " 4: 'RIGHT_WRIST',\n",
       " 5: 'LEFT_SHOULDER',\n",
       " 6: 'LEFT_ELBOW',\n",
       " 7: 'LEFT_WRIST',\n",
       " 8: 'MID_HIP',\n",
       " 9: 'RIGHT_HIP',\n",
       " 10: 'RIGHT_KNEE',\n",
       " 11: 'RIGHT_ANKLE',\n",
       " 12: 'LEFT_HIP',\n",
       " 13: 'LEFT_KNEE',\n",
       " 14: 'LEFT_ANKLE',\n",
       " 15: 'RIGHT_EYE',\n",
       " 16: 'LEFT_EYE',\n",
       " 17: 'RIGHT_EAR',\n",
       " 18: 'LEFT_EAR',\n",
       " 19: 'LEFT_BIG_TOE',\n",
       " 20: 'LEFT_SMALL_TOE',\n",
       " 21: 'LEFT_HEEL',\n",
       " 22: 'RIGHT_BIG_TOE',\n",
       " 23: 'RIGHT_SMALL_TOE',\n",
       " 24: 'RIGHT_HEEL'}"
      ]
     },
     "execution_count": 229,
     "metadata": {},
     "output_type": "execute_result"
    }
   ],
   "source": [
    "dic"
   ]
  },
  {
   "cell_type": "code",
   "execution_count": 4,
   "id": "078511f1",
   "metadata": {},
   "outputs": [],
   "source": [
    "import numpy as np\n",
    "import pandas as pd\n",
    "import tensorflow as tf\n",
    "import os,cv2\n",
    "\n",
    "import warnings\n",
    "warnings.filterwarnings(\"ignore\")\n",
    "\n",
    "data_path = './Dataset'\n",
    "\n",
    "labels=[]\n",
    "for folder in os.listdir(data_path):\n",
    "    labels.append(folder)\n",
    "labels.sort() #len = 107"
   ]
  },
  {
   "cell_type": "code",
   "execution_count": 5,
   "id": "413a8865",
   "metadata": {},
   "outputs": [
    {
     "data": {
      "text/plain": [
       "['adho mukha svanasana',\n",
       " 'agnistambhasana',\n",
       " 'bhujangasana',\n",
       " 'dhanurasana',\n",
       " 'marjaryasana',\n",
       " 'padmasana',\n",
       " 'phalakasana',\n",
       " 'setu bandha sarvangasana',\n",
       " 'tadasana',\n",
       " 'ustrasana',\n",
       " 'virabhadrasana i',\n",
       " 'virabhadrasana ii']"
      ]
     },
     "execution_count": 5,
     "metadata": {},
     "output_type": "execute_result"
    }
   ],
   "source": [
    "labels"
   ]
  },
  {
   "cell_type": "code",
   "execution_count": 11,
   "id": "b6f3188b",
   "metadata": {},
   "outputs": [],
   "source": [
    "train_images=[]\n",
    "train_labels=[]\n",
    "\n",
    "for i,folder in enumerate(labels):\n",
    "    try:\n",
    "        for image in os.listdir(data_path+'/'+folder):\n",
    "            img = os.path.join(data_path+'/'+folder+'/'+image)\n",
    "            img = cv2.imread(img)\n",
    "            img = cv2.resize(img,(256,256))\n",
    "            train_images.append(img)\n",
    "            train_labels.append(i)\n",
    "    except:\n",
    "#         print(i,folder,image,img)\n",
    "            pass\n",
    "train_images = np.asarray(train_images)\n",
    "train_labels = np.asarray(train_labels).astype('int64')"
   ]
  },
  {
   "cell_type": "code",
   "execution_count": 12,
   "id": "4a6ea858",
   "metadata": {},
   "outputs": [],
   "source": [
    "cv2.imshow('frame',train_images[0])\n",
    "cv2.waitKey(0)\n",
    "cv2.destroyAllWindows()"
   ]
  },
  {
   "cell_type": "code",
   "execution_count": 13,
   "id": "e9a9a9d5",
   "metadata": {},
   "outputs": [],
   "source": [
    "from sklearn.model_selection import train_test_split\n",
    "X_train,X_test,y_train,y_test = train_test_split(train_images,train_labels,test_size=0.1,shuffle=True)"
   ]
  },
  {
   "cell_type": "code",
   "execution_count": 18,
   "id": "3142ad5e",
   "metadata": {},
   "outputs": [],
   "source": [
    "from tensorflow.keras.layers import Conv3D, MaxPooling3D,Dense,ZeroPadding3D,Flatten,Activation,BatchNormalization,Dropout,Rescaling\n",
    "from tensorflow.keras.models import load_model"
   ]
  },
  {
   "cell_type": "code",
   "execution_count": 4,
   "id": "ec2f0b26",
   "metadata": {},
   "outputs": [],
   "source": [
    "import cv2\n",
    "import mediapipe as mp\n",
    "\n",
    "BODY_PARTS = {0: 'NOSE',\n",
    "             1: 'NECK',\n",
    "             2: 'RIGHT_SHOULDER',\n",
    "             3: 'RIGHT_ELBOW',\n",
    "             4: 'RIGHT_WRIST',\n",
    "             5: 'LEFT_SHOULDER',\n",
    "             6: 'LEFT_ELBOW',\n",
    "             7: 'LEFT_WRIST',\n",
    "             8: 'MID_HIP',\n",
    "             9: 'RIGHT_HIP',\n",
    "             10: 'RIGHT_KNEE',\n",
    "             11: 'RIGHT_ANKLE',\n",
    "             12: 'LEFT_HIP',\n",
    "             13: 'LEFT_KNEE',\n",
    "             14: 'LEFT_ANKLE',\n",
    "             15: 'RIGHT_EYE',\n",
    "             16: 'LEFT_EYE',\n",
    "             17: 'RIGHT_EAR',\n",
    "             18: 'LEFT_EAR',\n",
    "             19: 'LEFT_BIG_TOE',\n",
    "             20: 'LEFT_SMALL_TOE',\n",
    "             21: 'LEFT_HEEL',\n",
    "             22: 'RIGHT_BIG_TOE',\n",
    "             23: 'RIGHT_SMALL_TOE',\n",
    "             24: 'RIGHT_HEEL'}\n",
    "\n",
    "# BODY_PARTS = { \"Nose\": 0, \"Neck\": 1, \"RShoulder\": 2, \"RElbow\": 3, \"RWrist\": 4, \"LShoulder\": 5, \"LElbow\": 6,\n",
    "#               \"LWrist\": 7, \"RHip\": 8, \"RKnee\": 9, \"RAnkle\": 10, \"LHip\": 11, \"LKnee\": 12, \"LAnkle\": 13, \"REye\": 14,\n",
    "#               \"LEye\": 15, \"REar\": 16, \"LEar\": 17, \"Background\": 18 }\n",
    "\n",
    "# POSE_PAIRS = [[\"Neck\", \"RShoulder\"], [\"Neck\", \"LShoulder\"], [\"RShoulder\", \"RElbow\"], [\"RElbow\", \"RWrist\"],\n",
    "#               [\"LShoulder\", \"LElbow\"], [\"LElbow\", \"LWrist\"], [\"Neck\", \"RHip\"], [\"RHip\", \"RKnee\"], [\"RKnee\", \"RAnkle\"],\n",
    "#               [\"Neck\", \"LHip\"], [\"LHip\", \"LKnee\"], [\"LKnee\", \"LAnkle\"], [\"Neck\", \"Nose\"], [\"Nose\", \"REye\"], [\"REye\", \"REar\"],\n",
    "#               [\"Nose\", \"LEye\"], [\"LEye\", \"LEar\"] ]\n",
    "\n",
    "POSE_PAIRS = [[17,15],[15,0],[16,0],[16,18],[0,1],[2,1],[1,5],[2,3],[3,4],[5,6],[6,7],\n",
    "              [1,8],[9,8],[8,12],[9,10],[12,13],[10,11],[13,14],[11,22],[11,24],[23,22],[14,19],[14,21],[19,20]]\n",
    "\n",
    "\n",
    "image_width=600 \n",
    "image_height=600\n",
    "\n",
    "img = cv2.imread('./image.jpg',cv2.IMREAD_UNCHANGED)\n",
    "\n",
    "drawing_details = mp.solutions.drawing_utils\n",
    "mp_holistic = mp.solutions.holistic\n",
    "with mp_holistic.Holistic(min_detection_confidence = 0.5,min_tracking_confidence = 0.5) as holistic:\n",
    "    cam = cv2.VideoCapture(0)\n",
    "    while True:\n",
    "        _,frame = cam.read()\n",
    "        photo_height = frame.shape[0]\n",
    "        photo_width = frame.shape[1]\n",
    "        \n",
    "        cvtImg = cv2.cvtColor(frame,cv2.COLOR_BGR2RGB)\n",
    "        res = holistic.process(cvtImg)\n",
    "        if(res == None or res.pose_landmarks == None):\n",
    "            continue\n",
    "        try:\n",
    "            drawing_details.draw_landmarks(frame,res.left_hand_landmarks,mp_holistic.HAND_CONNECTIONS)\n",
    "            drawing_details.draw_landmarks(frame,res.right_hand_landmarks,mp_holistic.HAND_CONNECTIONS)\n",
    "        except:\n",
    "            pass\n",
    "        dictt = dict()\n",
    "        for e in BODY_PARTS:\n",
    "            if(BODY_PARTS[e] not in mp_holistic.PoseLandmark.__members__):\n",
    "                continue\n",
    "            mark = res.pose_landmarks.landmark[mp_holistic.PoseLandmark[BODY_PARTS[e]]]\n",
    "            dictt[BODY_PARTS[e]] = {'x':mark.x,'y':mark.y,'z':mark.z}\n",
    "        try:\n",
    "#         if('LEFT_HIP' in dictt.keys() and 'RIGHT_HIP' in dictt.keys()):\n",
    "            dictt['MID_HIP'] = {'x' : (dictt['LEFT_HIP']['x'] + dictt['RIGHT_HIP']['x'])/2,\n",
    "                               'y' : (dictt['LEFT_HIP']['y'] + dictt['RIGHT_HIP']['y'])/2,\n",
    "                               'z' : (dictt['LEFT_HIP']['z'] + dictt['RIGHT_HIP']['z'])/2}\n",
    "        except:\n",
    "            pass\n",
    "            \n",
    "#         if('LEFT_SHOULDER' in dictt.keys() and 'RIGHT_SHOULDER' in dictt.keys()):\n",
    "        try:\n",
    "            dictt['NECK'] = {'x' : (dictt['LEFT_SHOULDER']['x'] + dictt['RIGHT_SHOULDER']['x'])/2,\n",
    "                               'y' : (dictt['LEFT_SHOULDER']['y'] + dictt['RIGHT_SHOULDER']['y'])/2,\n",
    "                               'z' : (dictt['LEFT_SHOULDER']['z'] + dictt['RIGHT_SHOULDER']['z'])/2}\n",
    "        except:\n",
    "            pass\n",
    "        \n",
    "        \n",
    "#         if('RIGHT_FOOT_INDEX' in mp_holistic.PoseLandmark.__members__):\n",
    "        try:\n",
    "            mark = res.pose_landmarks.landmark[mp_holistic.PoseLandmark['RIGHT_FOOT_INDEX']]\n",
    "            dictt['RIGHT_BIG_TOE'] = {'x':mark.x,'y':mark.y,'z':mark.z}\n",
    "        except:\n",
    "            pass\n",
    "        \n",
    "#         if('LEFT_FOOT_INDEX' in mp_holistic.PoseLandmark.__members__):\n",
    "        try:\n",
    "            mark = res.pose_landmarks.landmark[mp_holistic.PoseLandmark['LEFT_FOOT_INDEX']]\n",
    "            dictt['LEFT_BIG_TOE'] = {'x':mark.x,'y':mark.y,'z':mark.z}\n",
    "        except:\n",
    "            pass\n",
    "\n",
    "        for pair in POSE_PAIRS:\n",
    "            partFrom = pair[0]\n",
    "            partTo = pair[1]\n",
    "            \n",
    "            assert(partFrom in BODY_PARTS)\n",
    "            assert(partTo in BODY_PARTS)\n",
    "            \n",
    "            if(BODY_PARTS[partFrom] in dictt and BODY_PARTS[partTo] in dictt):\n",
    "                idFrom = BODY_PARTS[partFrom]\n",
    "                idTo = BODY_PARTS[partTo]\n",
    "#                 if dictt[idFrom] and dictt[idTo]:\n",
    "                try:\n",
    "                    pt1 = (int(dictt[idFrom]['x']*photo_width),int(dictt[idFrom]['y']*photo_height))\n",
    "                    pt2 = (int(dictt[idTo]['x']*photo_width),int(dictt[idTo]['y']*photo_height))\n",
    "                    \n",
    "                    cv2.line(frame, pt1,pt2, (0, 255, 0), 3) \n",
    "                    cv2.ellipse (frame, pt1, (3, 3), 0, 0, 360, (0, 0, 255), cv2.FILLED) \n",
    "                    cv2.ellipse (frame, pt2, (3, 3), 0, 0, 360, (0, 0, 255), cv2.FILLED)\n",
    "                except:\n",
    "                    pass\n",
    "            \n",
    "        cv2.imshow('webcam',frame)\n",
    "        if cv2.waitKey(1)==ord('q'):\n",
    "            break\n",
    "    cv2.destroyAllWindows()\n",
    "    cam.release()\n"
   ]
  },
  {
   "cell_type": "code",
   "execution_count": 3,
   "id": "d1e206f7",
   "metadata": {},
   "outputs": [],
   "source": [
    "import cv2\n",
    "import mediapipe as mp\n",
    "import numpy as np\n",
    "\n",
    "BODY_PARTS = {0: 'NOSE',\n",
    "             1: 'NECK',\n",
    "             2: 'RIGHT_SHOULDER',\n",
    "             3: 'RIGHT_ELBOW',\n",
    "             4: 'RIGHT_WRIST',\n",
    "             5: 'LEFT_SHOULDER',\n",
    "             6: 'LEFT_ELBOW',\n",
    "             7: 'LEFT_WRIST',\n",
    "             8: 'MID_HIP',\n",
    "             9: 'RIGHT_HIP',\n",
    "             10: 'RIGHT_KNEE',\n",
    "             11: 'RIGHT_ANKLE',\n",
    "             12: 'LEFT_HIP',\n",
    "             13: 'LEFT_KNEE',\n",
    "             14: 'LEFT_ANKLE',\n",
    "             15: 'RIGHT_EYE',\n",
    "             16: 'LEFT_EYE',\n",
    "             17: 'RIGHT_EAR',\n",
    "             18: 'LEFT_EAR',\n",
    "             19: 'LEFT_BIG_TOE',\n",
    "             20: 'LEFT_SMALL_TOE',\n",
    "             21: 'LEFT_HEEL',\n",
    "             22: 'RIGHT_BIG_TOE',\n",
    "             23: 'RIGHT_SMALL_TOE',\n",
    "             24: 'RIGHT_HEEL'}\n",
    "\n",
    "POSE_PAIRS = [[17,15],[15,0],[16,0],[16,18],[0,1],[2,1],[1,5],[2,3],[3,4],[5,6],[6,7],\n",
    "              [1,8],[9,8],[8,12],[9,10],[12,13],[10,11],[13,14],[11,22],[11,24],[23,22],[14,19],[14,21],[19,20]]\n",
    "\n",
    "\n",
    "image_width=600 \n",
    "image_height=600\n",
    "drawing_details = mp.solutions.drawing_utils\n",
    "mp_pose = mp.solutions.pose\n",
    "\n",
    "def getKeyPoints(frame):\n",
    "    keypoints = [[None,None]] * 25\n",
    "    with mp_pose.Pose(static_image_mode=True, min_detection_confidence=0.5) as mp: \n",
    "        photo_height = frame.shape[0]\n",
    "        photo_width = frame.shape[1]\n",
    "\n",
    "        cvtImg = cv2.cvtColor(frame,cv2.COLOR_BGR2RGB)\n",
    "        res = mp.process(cvtImg)\n",
    "        if(res == None or res.pose_landmarks == None):\n",
    "            return keypoints,frame\n",
    "#         drawing_details.draw_landmarks(frame,res.left_hand_landmarks,mp_pose.HAND_CONNECTIONS)\n",
    "#         drawing_details.draw_landmarks(frame,res.right_hand_landmarks,mp_pose.HAND_CONNECTIONS)\n",
    "        dictt = dict()\n",
    "        for e in BODY_PARTS:\n",
    "            if(BODY_PARTS[e] not in mp_pose.PoseLandmark.__members__):\n",
    "                continue\n",
    "            mark = res.pose_landmarks.landmark[mp_pose.PoseLandmark[BODY_PARTS[e]]]\n",
    "            dictt[BODY_PARTS[e]] = {'x':mark.x,'y':mark.y,'z':mark.z}\n",
    "\n",
    "        #------------------------------------------------------------------------------------------------\n",
    "        try:\n",
    "            dictt['MID_HIP'] = {'x' : (dictt['LEFT_HIP']['x'] + dictt['RIGHT_HIP']['x'])/2,\n",
    "                               'y' : (dictt['LEFT_HIP']['y'] + dictt['RIGHT_HIP']['y'])/2,\n",
    "                               'z' : (dictt['LEFT_HIP']['z'] + dictt['RIGHT_HIP']['z'])/2}\n",
    "        except:\n",
    "            pass\n",
    "\n",
    "        #------------------------------------------------------------------------------------------------\n",
    "        try:\n",
    "            dictt['NECK'] = {'x' : (dictt['LEFT_SHOULDER']['x'] + dictt['RIGHT_SHOULDER']['x'])/2,\n",
    "                               'y' : (dictt['LEFT_SHOULDER']['y'] + dictt['RIGHT_SHOULDER']['y'])/2,\n",
    "                               'z' : (dictt['LEFT_SHOULDER']['z'] + dictt['RIGHT_SHOULDER']['z'])/2}\n",
    "        except:\n",
    "            pass\n",
    "\n",
    "        #------------------------------------------------------------------------------------------------\n",
    "        try:\n",
    "            mark = res.pose_landmarks.landmark[mp_pose.PoseLandmark['RIGHT_FOOT_INDEX']]\n",
    "            dictt['RIGHT_BIG_TOE'] = {'x':mark.x,'y':mark.y,'z':mark.z}\n",
    "        except:\n",
    "            pass\n",
    "\n",
    "        #------------------------------------------------------------------------------------------------\n",
    "        try:\n",
    "            mark = res.pose_landmarks.landmark[mp_pose.PoseLandmark['LEFT_FOOT_INDEX']]\n",
    "            dictt['LEFT_BIG_TOE'] = {'x':mark.x,'y':mark.y,'z':mark.z}\n",
    "        except:\n",
    "            pass\n",
    "\n",
    "        #------------------------------------------------------------------------------------------------\n",
    "\n",
    "        \n",
    "        for i,j in BODY_PARTS.items():\n",
    "            try:\n",
    "                keypoints[i][0] = dictt[j]['x']\n",
    "                keypoints[i][1] = dictt[j]['y']\n",
    "            except:\n",
    "                pass\n",
    "\n",
    "        for pair in POSE_PAIRS:\n",
    "            partFrom = pair[0]\n",
    "            partTo = pair[1]\n",
    "\n",
    "            assert(partFrom in BODY_PARTS)\n",
    "            assert(partTo in BODY_PARTS)\n",
    "\n",
    "            if(BODY_PARTS[partFrom] in dictt and BODY_PARTS[partTo] in dictt):\n",
    "                idFrom = BODY_PARTS[partFrom]\n",
    "                idTo = BODY_PARTS[partTo]\n",
    "                if dictt[idFrom] and dictt[idTo]:\n",
    "                    pt1 = (int(dictt[idFrom]['x']*photo_width),int(dictt[idFrom]['y']*photo_height))\n",
    "                    pt2 = (int(dictt[idTo]['x']*photo_width),int(dictt[idTo]['y']*photo_height))\n",
    "\n",
    "                    cv2.line(frame, pt1,pt2, (0, 255, 0), 3) \n",
    "                    cv2.ellipse (frame, pt1, (3, 3), 0, 0, 360, (0, 0, 255), cv2.FILLED) \n",
    "                    cv2.ellipse (frame, pt2, (3, 3), 0, 0, 360, (0, 0, 255), cv2.FILLED)\n",
    "    print(keypoints)\n",
    "    return keypoints,frame\n"
   ]
  },
  {
   "cell_type": "code",
   "execution_count": 4,
   "id": "16147570",
   "metadata": {
    "scrolled": true
   },
   "outputs": [
    {
     "name": "stdout",
     "output_type": "stream",
     "text": [
      "[[0.38151293992996216, 2.642277240753174], [0.38151293992996216, 2.642277240753174], [0.38151293992996216, 2.642277240753174], [0.38151293992996216, 2.642277240753174], [0.38151293992996216, 2.642277240753174], [0.38151293992996216, 2.642277240753174], [0.38151293992996216, 2.642277240753174], [0.38151293992996216, 2.642277240753174], [0.38151293992996216, 2.642277240753174], [0.38151293992996216, 2.642277240753174], [0.38151293992996216, 2.642277240753174], [0.38151293992996216, 2.642277240753174], [0.38151293992996216, 2.642277240753174], [0.38151293992996216, 2.642277240753174], [0.38151293992996216, 2.642277240753174], [0.38151293992996216, 2.642277240753174], [0.38151293992996216, 2.642277240753174], [0.38151293992996216, 2.642277240753174], [0.38151293992996216, 2.642277240753174], [0.38151293992996216, 2.642277240753174], [0.38151293992996216, 2.642277240753174], [0.38151293992996216, 2.642277240753174], [0.38151293992996216, 2.642277240753174], [0.38151293992996216, 2.642277240753174], [0.38151293992996216, 2.642277240753174]]\n",
      "[[0.373968243598938, 2.6414761543273926], [0.373968243598938, 2.6414761543273926], [0.373968243598938, 2.6414761543273926], [0.373968243598938, 2.6414761543273926], [0.373968243598938, 2.6414761543273926], [0.373968243598938, 2.6414761543273926], [0.373968243598938, 2.6414761543273926], [0.373968243598938, 2.6414761543273926], [0.373968243598938, 2.6414761543273926], [0.373968243598938, 2.6414761543273926], [0.373968243598938, 2.6414761543273926], [0.373968243598938, 2.6414761543273926], [0.373968243598938, 2.6414761543273926], [0.373968243598938, 2.6414761543273926], [0.373968243598938, 2.6414761543273926], [0.373968243598938, 2.6414761543273926], [0.373968243598938, 2.6414761543273926], [0.373968243598938, 2.6414761543273926], [0.373968243598938, 2.6414761543273926], [0.373968243598938, 2.6414761543273926], [0.373968243598938, 2.6414761543273926], [0.373968243598938, 2.6414761543273926], [0.373968243598938, 2.6414761543273926], [0.373968243598938, 2.6414761543273926], [0.373968243598938, 2.6414761543273926]]\n",
      "[[0.3905332684516907, 2.6367547512054443], [0.3905332684516907, 2.6367547512054443], [0.3905332684516907, 2.6367547512054443], [0.3905332684516907, 2.6367547512054443], [0.3905332684516907, 2.6367547512054443], [0.3905332684516907, 2.6367547512054443], [0.3905332684516907, 2.6367547512054443], [0.3905332684516907, 2.6367547512054443], [0.3905332684516907, 2.6367547512054443], [0.3905332684516907, 2.6367547512054443], [0.3905332684516907, 2.6367547512054443], [0.3905332684516907, 2.6367547512054443], [0.3905332684516907, 2.6367547512054443], [0.3905332684516907, 2.6367547512054443], [0.3905332684516907, 2.6367547512054443], [0.3905332684516907, 2.6367547512054443], [0.3905332684516907, 2.6367547512054443], [0.3905332684516907, 2.6367547512054443], [0.3905332684516907, 2.6367547512054443], [0.3905332684516907, 2.6367547512054443], [0.3905332684516907, 2.6367547512054443], [0.3905332684516907, 2.6367547512054443], [0.3905332684516907, 2.6367547512054443], [0.3905332684516907, 2.6367547512054443], [0.3905332684516907, 2.6367547512054443]]\n",
      "[[0.37075546383857727, 2.647810459136963], [0.37075546383857727, 2.647810459136963], [0.37075546383857727, 2.647810459136963], [0.37075546383857727, 2.647810459136963], [0.37075546383857727, 2.647810459136963], [0.37075546383857727, 2.647810459136963], [0.37075546383857727, 2.647810459136963], [0.37075546383857727, 2.647810459136963], [0.37075546383857727, 2.647810459136963], [0.37075546383857727, 2.647810459136963], [0.37075546383857727, 2.647810459136963], [0.37075546383857727, 2.647810459136963], [0.37075546383857727, 2.647810459136963], [0.37075546383857727, 2.647810459136963], [0.37075546383857727, 2.647810459136963], [0.37075546383857727, 2.647810459136963], [0.37075546383857727, 2.647810459136963], [0.37075546383857727, 2.647810459136963], [0.37075546383857727, 2.647810459136963], [0.37075546383857727, 2.647810459136963], [0.37075546383857727, 2.647810459136963], [0.37075546383857727, 2.647810459136963], [0.37075546383857727, 2.647810459136963], [0.37075546383857727, 2.647810459136963], [0.37075546383857727, 2.647810459136963]]\n",
      "[[0.3607947826385498, 2.6408684253692627], [0.3607947826385498, 2.6408684253692627], [0.3607947826385498, 2.6408684253692627], [0.3607947826385498, 2.6408684253692627], [0.3607947826385498, 2.6408684253692627], [0.3607947826385498, 2.6408684253692627], [0.3607947826385498, 2.6408684253692627], [0.3607947826385498, 2.6408684253692627], [0.3607947826385498, 2.6408684253692627], [0.3607947826385498, 2.6408684253692627], [0.3607947826385498, 2.6408684253692627], [0.3607947826385498, 2.6408684253692627], [0.3607947826385498, 2.6408684253692627], [0.3607947826385498, 2.6408684253692627], [0.3607947826385498, 2.6408684253692627], [0.3607947826385498, 2.6408684253692627], [0.3607947826385498, 2.6408684253692627], [0.3607947826385498, 2.6408684253692627], [0.3607947826385498, 2.6408684253692627], [0.3607947826385498, 2.6408684253692627], [0.3607947826385498, 2.6408684253692627], [0.3607947826385498, 2.6408684253692627], [0.3607947826385498, 2.6408684253692627], [0.3607947826385498, 2.6408684253692627], [0.3607947826385498, 2.6408684253692627]]\n",
      "[[0.3952099680900574, 2.6751770973205566], [0.3952099680900574, 2.6751770973205566], [0.3952099680900574, 2.6751770973205566], [0.3952099680900574, 2.6751770973205566], [0.3952099680900574, 2.6751770973205566], [0.3952099680900574, 2.6751770973205566], [0.3952099680900574, 2.6751770973205566], [0.3952099680900574, 2.6751770973205566], [0.3952099680900574, 2.6751770973205566], [0.3952099680900574, 2.6751770973205566], [0.3952099680900574, 2.6751770973205566], [0.3952099680900574, 2.6751770973205566], [0.3952099680900574, 2.6751770973205566], [0.3952099680900574, 2.6751770973205566], [0.3952099680900574, 2.6751770973205566], [0.3952099680900574, 2.6751770973205566], [0.3952099680900574, 2.6751770973205566], [0.3952099680900574, 2.6751770973205566], [0.3952099680900574, 2.6751770973205566], [0.3952099680900574, 2.6751770973205566], [0.3952099680900574, 2.6751770973205566], [0.3952099680900574, 2.6751770973205566], [0.3952099680900574, 2.6751770973205566], [0.3952099680900574, 2.6751770973205566], [0.3952099680900574, 2.6751770973205566]]\n",
      "[[0.4148121476173401, 2.744640350341797], [0.4148121476173401, 2.744640350341797], [0.4148121476173401, 2.744640350341797], [0.4148121476173401, 2.744640350341797], [0.4148121476173401, 2.744640350341797], [0.4148121476173401, 2.744640350341797], [0.4148121476173401, 2.744640350341797], [0.4148121476173401, 2.744640350341797], [0.4148121476173401, 2.744640350341797], [0.4148121476173401, 2.744640350341797], [0.4148121476173401, 2.744640350341797], [0.4148121476173401, 2.744640350341797], [0.4148121476173401, 2.744640350341797], [0.4148121476173401, 2.744640350341797], [0.4148121476173401, 2.744640350341797], [0.4148121476173401, 2.744640350341797], [0.4148121476173401, 2.744640350341797], [0.4148121476173401, 2.744640350341797], [0.4148121476173401, 2.744640350341797], [0.4148121476173401, 2.744640350341797], [0.4148121476173401, 2.744640350341797], [0.4148121476173401, 2.744640350341797], [0.4148121476173401, 2.744640350341797], [0.4148121476173401, 2.744640350341797], [0.4148121476173401, 2.744640350341797]]\n",
      "[[0.3344888389110565, 2.718169689178467], [0.3344888389110565, 2.718169689178467], [0.3344888389110565, 2.718169689178467], [0.3344888389110565, 2.718169689178467], [0.3344888389110565, 2.718169689178467], [0.3344888389110565, 2.718169689178467], [0.3344888389110565, 2.718169689178467], [0.3344888389110565, 2.718169689178467], [0.3344888389110565, 2.718169689178467], [0.3344888389110565, 2.718169689178467], [0.3344888389110565, 2.718169689178467], [0.3344888389110565, 2.718169689178467], [0.3344888389110565, 2.718169689178467], [0.3344888389110565, 2.718169689178467], [0.3344888389110565, 2.718169689178467], [0.3344888389110565, 2.718169689178467], [0.3344888389110565, 2.718169689178467], [0.3344888389110565, 2.718169689178467], [0.3344888389110565, 2.718169689178467], [0.3344888389110565, 2.718169689178467], [0.3344888389110565, 2.718169689178467], [0.3344888389110565, 2.718169689178467], [0.3344888389110565, 2.718169689178467], [0.3344888389110565, 2.718169689178467], [0.3344888389110565, 2.718169689178467]]\n"
     ]
    },
    {
     "name": "stdout",
     "output_type": "stream",
     "text": [
      "[[0.3172778785228729, 2.9121158123016357], [0.3172778785228729, 2.9121158123016357], [0.3172778785228729, 2.9121158123016357], [0.3172778785228729, 2.9121158123016357], [0.3172778785228729, 2.9121158123016357], [0.3172778785228729, 2.9121158123016357], [0.3172778785228729, 2.9121158123016357], [0.3172778785228729, 2.9121158123016357], [0.3172778785228729, 2.9121158123016357], [0.3172778785228729, 2.9121158123016357], [0.3172778785228729, 2.9121158123016357], [0.3172778785228729, 2.9121158123016357], [0.3172778785228729, 2.9121158123016357], [0.3172778785228729, 2.9121158123016357], [0.3172778785228729, 2.9121158123016357], [0.3172778785228729, 2.9121158123016357], [0.3172778785228729, 2.9121158123016357], [0.3172778785228729, 2.9121158123016357], [0.3172778785228729, 2.9121158123016357], [0.3172778785228729, 2.9121158123016357], [0.3172778785228729, 2.9121158123016357], [0.3172778785228729, 2.9121158123016357], [0.3172778785228729, 2.9121158123016357], [0.3172778785228729, 2.9121158123016357], [0.3172778785228729, 2.9121158123016357]]\n",
      "[[0.32264816761016846, 2.766813039779663], [0.32264816761016846, 2.766813039779663], [0.32264816761016846, 2.766813039779663], [0.32264816761016846, 2.766813039779663], [0.32264816761016846, 2.766813039779663], [0.32264816761016846, 2.766813039779663], [0.32264816761016846, 2.766813039779663], [0.32264816761016846, 2.766813039779663], [0.32264816761016846, 2.766813039779663], [0.32264816761016846, 2.766813039779663], [0.32264816761016846, 2.766813039779663], [0.32264816761016846, 2.766813039779663], [0.32264816761016846, 2.766813039779663], [0.32264816761016846, 2.766813039779663], [0.32264816761016846, 2.766813039779663], [0.32264816761016846, 2.766813039779663], [0.32264816761016846, 2.766813039779663], [0.32264816761016846, 2.766813039779663], [0.32264816761016846, 2.766813039779663], [0.32264816761016846, 2.766813039779663], [0.32264816761016846, 2.766813039779663], [0.32264816761016846, 2.766813039779663], [0.32264816761016846, 2.766813039779663], [0.32264816761016846, 2.766813039779663], [0.32264816761016846, 2.766813039779663]]\n",
      "[[0.3415001630783081, 2.7694690227508545], [0.3415001630783081, 2.7694690227508545], [0.3415001630783081, 2.7694690227508545], [0.3415001630783081, 2.7694690227508545], [0.3415001630783081, 2.7694690227508545], [0.3415001630783081, 2.7694690227508545], [0.3415001630783081, 2.7694690227508545], [0.3415001630783081, 2.7694690227508545], [0.3415001630783081, 2.7694690227508545], [0.3415001630783081, 2.7694690227508545], [0.3415001630783081, 2.7694690227508545], [0.3415001630783081, 2.7694690227508545], [0.3415001630783081, 2.7694690227508545], [0.3415001630783081, 2.7694690227508545], [0.3415001630783081, 2.7694690227508545], [0.3415001630783081, 2.7694690227508545], [0.3415001630783081, 2.7694690227508545], [0.3415001630783081, 2.7694690227508545], [0.3415001630783081, 2.7694690227508545], [0.3415001630783081, 2.7694690227508545], [0.3415001630783081, 2.7694690227508545], [0.3415001630783081, 2.7694690227508545], [0.3415001630783081, 2.7694690227508545], [0.3415001630783081, 2.7694690227508545], [0.3415001630783081, 2.7694690227508545]]\n",
      "[[0.3541857898235321, 2.7156975269317627], [0.3541857898235321, 2.7156975269317627], [0.3541857898235321, 2.7156975269317627], [0.3541857898235321, 2.7156975269317627], [0.3541857898235321, 2.7156975269317627], [0.3541857898235321, 2.7156975269317627], [0.3541857898235321, 2.7156975269317627], [0.3541857898235321, 2.7156975269317627], [0.3541857898235321, 2.7156975269317627], [0.3541857898235321, 2.7156975269317627], [0.3541857898235321, 2.7156975269317627], [0.3541857898235321, 2.7156975269317627], [0.3541857898235321, 2.7156975269317627], [0.3541857898235321, 2.7156975269317627], [0.3541857898235321, 2.7156975269317627], [0.3541857898235321, 2.7156975269317627], [0.3541857898235321, 2.7156975269317627], [0.3541857898235321, 2.7156975269317627], [0.3541857898235321, 2.7156975269317627], [0.3541857898235321, 2.7156975269317627], [0.3541857898235321, 2.7156975269317627], [0.3541857898235321, 2.7156975269317627], [0.3541857898235321, 2.7156975269317627], [0.3541857898235321, 2.7156975269317627], [0.3541857898235321, 2.7156975269317627]]\n",
      "[[0.31654512882232666, 2.8836748600006104], [0.31654512882232666, 2.8836748600006104], [0.31654512882232666, 2.8836748600006104], [0.31654512882232666, 2.8836748600006104], [0.31654512882232666, 2.8836748600006104], [0.31654512882232666, 2.8836748600006104], [0.31654512882232666, 2.8836748600006104], [0.31654512882232666, 2.8836748600006104], [0.31654512882232666, 2.8836748600006104], [0.31654512882232666, 2.8836748600006104], [0.31654512882232666, 2.8836748600006104], [0.31654512882232666, 2.8836748600006104], [0.31654512882232666, 2.8836748600006104], [0.31654512882232666, 2.8836748600006104], [0.31654512882232666, 2.8836748600006104], [0.31654512882232666, 2.8836748600006104], [0.31654512882232666, 2.8836748600006104], [0.31654512882232666, 2.8836748600006104], [0.31654512882232666, 2.8836748600006104], [0.31654512882232666, 2.8836748600006104], [0.31654512882232666, 2.8836748600006104], [0.31654512882232666, 2.8836748600006104], [0.31654512882232666, 2.8836748600006104], [0.31654512882232666, 2.8836748600006104], [0.31654512882232666, 2.8836748600006104]]\n",
      "[[0.29922300577163696, 3.1510305404663086], [0.29922300577163696, 3.1510305404663086], [0.29922300577163696, 3.1510305404663086], [0.29922300577163696, 3.1510305404663086], [0.29922300577163696, 3.1510305404663086], [0.29922300577163696, 3.1510305404663086], [0.29922300577163696, 3.1510305404663086], [0.29922300577163696, 3.1510305404663086], [0.29922300577163696, 3.1510305404663086], [0.29922300577163696, 3.1510305404663086], [0.29922300577163696, 3.1510305404663086], [0.29922300577163696, 3.1510305404663086], [0.29922300577163696, 3.1510305404663086], [0.29922300577163696, 3.1510305404663086], [0.29922300577163696, 3.1510305404663086], [0.29922300577163696, 3.1510305404663086], [0.29922300577163696, 3.1510305404663086], [0.29922300577163696, 3.1510305404663086], [0.29922300577163696, 3.1510305404663086], [0.29922300577163696, 3.1510305404663086], [0.29922300577163696, 3.1510305404663086], [0.29922300577163696, 3.1510305404663086], [0.29922300577163696, 3.1510305404663086], [0.29922300577163696, 3.1510305404663086], [0.29922300577163696, 3.1510305404663086]]\n",
      "[[0.25371313095092773, 2.940622568130493], [0.25371313095092773, 2.940622568130493], [0.25371313095092773, 2.940622568130493], [0.25371313095092773, 2.940622568130493], [0.25371313095092773, 2.940622568130493], [0.25371313095092773, 2.940622568130493], [0.25371313095092773, 2.940622568130493], [0.25371313095092773, 2.940622568130493], [0.25371313095092773, 2.940622568130493], [0.25371313095092773, 2.940622568130493], [0.25371313095092773, 2.940622568130493], [0.25371313095092773, 2.940622568130493], [0.25371313095092773, 2.940622568130493], [0.25371313095092773, 2.940622568130493], [0.25371313095092773, 2.940622568130493], [0.25371313095092773, 2.940622568130493], [0.25371313095092773, 2.940622568130493], [0.25371313095092773, 2.940622568130493], [0.25371313095092773, 2.940622568130493], [0.25371313095092773, 2.940622568130493], [0.25371313095092773, 2.940622568130493], [0.25371313095092773, 2.940622568130493], [0.25371313095092773, 2.940622568130493], [0.25371313095092773, 2.940622568130493], [0.25371313095092773, 2.940622568130493]]\n",
      "[[0.2828965485095978, 2.991065502166748], [0.2828965485095978, 2.991065502166748], [0.2828965485095978, 2.991065502166748], [0.2828965485095978, 2.991065502166748], [0.2828965485095978, 2.991065502166748], [0.2828965485095978, 2.991065502166748], [0.2828965485095978, 2.991065502166748], [0.2828965485095978, 2.991065502166748], [0.2828965485095978, 2.991065502166748], [0.2828965485095978, 2.991065502166748], [0.2828965485095978, 2.991065502166748], [0.2828965485095978, 2.991065502166748], [0.2828965485095978, 2.991065502166748], [0.2828965485095978, 2.991065502166748], [0.2828965485095978, 2.991065502166748], [0.2828965485095978, 2.991065502166748], [0.2828965485095978, 2.991065502166748], [0.2828965485095978, 2.991065502166748], [0.2828965485095978, 2.991065502166748], [0.2828965485095978, 2.991065502166748], [0.2828965485095978, 2.991065502166748], [0.2828965485095978, 2.991065502166748], [0.2828965485095978, 2.991065502166748], [0.2828965485095978, 2.991065502166748], [0.2828965485095978, 2.991065502166748]]\n"
     ]
    },
    {
     "name": "stdout",
     "output_type": "stream",
     "text": [
      "[[0.1601736694574356, 2.233128070831299], [0.1601736694574356, 2.233128070831299], [0.1601736694574356, 2.233128070831299], [0.1601736694574356, 2.233128070831299], [0.1601736694574356, 2.233128070831299], [0.1601736694574356, 2.233128070831299], [0.1601736694574356, 2.233128070831299], [0.1601736694574356, 2.233128070831299], [0.1601736694574356, 2.233128070831299], [0.1601736694574356, 2.233128070831299], [0.1601736694574356, 2.233128070831299], [0.1601736694574356, 2.233128070831299], [0.1601736694574356, 2.233128070831299], [0.1601736694574356, 2.233128070831299], [0.1601736694574356, 2.233128070831299], [0.1601736694574356, 2.233128070831299], [0.1601736694574356, 2.233128070831299], [0.1601736694574356, 2.233128070831299], [0.1601736694574356, 2.233128070831299], [0.1601736694574356, 2.233128070831299], [0.1601736694574356, 2.233128070831299], [0.1601736694574356, 2.233128070831299], [0.1601736694574356, 2.233128070831299], [0.1601736694574356, 2.233128070831299], [0.1601736694574356, 2.233128070831299]]\n",
      "[[0.2248421162366867, 2.600151538848877], [0.2248421162366867, 2.600151538848877], [0.2248421162366867, 2.600151538848877], [0.2248421162366867, 2.600151538848877], [0.2248421162366867, 2.600151538848877], [0.2248421162366867, 2.600151538848877], [0.2248421162366867, 2.600151538848877], [0.2248421162366867, 2.600151538848877], [0.2248421162366867, 2.600151538848877], [0.2248421162366867, 2.600151538848877], [0.2248421162366867, 2.600151538848877], [0.2248421162366867, 2.600151538848877], [0.2248421162366867, 2.600151538848877], [0.2248421162366867, 2.600151538848877], [0.2248421162366867, 2.600151538848877], [0.2248421162366867, 2.600151538848877], [0.2248421162366867, 2.600151538848877], [0.2248421162366867, 2.600151538848877], [0.2248421162366867, 2.600151538848877], [0.2248421162366867, 2.600151538848877], [0.2248421162366867, 2.600151538848877], [0.2248421162366867, 2.600151538848877], [0.2248421162366867, 2.600151538848877], [0.2248421162366867, 2.600151538848877], [0.2248421162366867, 2.600151538848877]]\n",
      "[[0.3815985321998596, 2.820746898651123], [0.3815985321998596, 2.820746898651123], [0.3815985321998596, 2.820746898651123], [0.3815985321998596, 2.820746898651123], [0.3815985321998596, 2.820746898651123], [0.3815985321998596, 2.820746898651123], [0.3815985321998596, 2.820746898651123], [0.3815985321998596, 2.820746898651123], [0.3815985321998596, 2.820746898651123], [0.3815985321998596, 2.820746898651123], [0.3815985321998596, 2.820746898651123], [0.3815985321998596, 2.820746898651123], [0.3815985321998596, 2.820746898651123], [0.3815985321998596, 2.820746898651123], [0.3815985321998596, 2.820746898651123], [0.3815985321998596, 2.820746898651123], [0.3815985321998596, 2.820746898651123], [0.3815985321998596, 2.820746898651123], [0.3815985321998596, 2.820746898651123], [0.3815985321998596, 2.820746898651123], [0.3815985321998596, 2.820746898651123], [0.3815985321998596, 2.820746898651123], [0.3815985321998596, 2.820746898651123], [0.3815985321998596, 2.820746898651123], [0.3815985321998596, 2.820746898651123]]\n",
      "[[0.3787747919559479, 1.4590357542037964], [0.3787747919559479, 1.4590357542037964], [0.3787747919559479, 1.4590357542037964], [0.3787747919559479, 1.4590357542037964], [0.3787747919559479, 1.4590357542037964], [0.3787747919559479, 1.4590357542037964], [0.3787747919559479, 1.4590357542037964], [0.3787747919559479, 1.4590357542037964], [0.3787747919559479, 1.4590357542037964], [0.3787747919559479, 1.4590357542037964], [0.3787747919559479, 1.4590357542037964], [0.3787747919559479, 1.4590357542037964], [0.3787747919559479, 1.4590357542037964], [0.3787747919559479, 1.4590357542037964], [0.3787747919559479, 1.4590357542037964], [0.3787747919559479, 1.4590357542037964], [0.3787747919559479, 1.4590357542037964], [0.3787747919559479, 1.4590357542037964], [0.3787747919559479, 1.4590357542037964], [0.3787747919559479, 1.4590357542037964], [0.3787747919559479, 1.4590357542037964], [0.3787747919559479, 1.4590357542037964], [0.3787747919559479, 1.4590357542037964], [0.3787747919559479, 1.4590357542037964], [0.3787747919559479, 1.4590357542037964]]\n",
      "[[0.43003231287002563, 1.9726340770721436], [0.43003231287002563, 1.9726340770721436], [0.43003231287002563, 1.9726340770721436], [0.43003231287002563, 1.9726340770721436], [0.43003231287002563, 1.9726340770721436], [0.43003231287002563, 1.9726340770721436], [0.43003231287002563, 1.9726340770721436], [0.43003231287002563, 1.9726340770721436], [0.43003231287002563, 1.9726340770721436], [0.43003231287002563, 1.9726340770721436], [0.43003231287002563, 1.9726340770721436], [0.43003231287002563, 1.9726340770721436], [0.43003231287002563, 1.9726340770721436], [0.43003231287002563, 1.9726340770721436], [0.43003231287002563, 1.9726340770721436], [0.43003231287002563, 1.9726340770721436], [0.43003231287002563, 1.9726340770721436], [0.43003231287002563, 1.9726340770721436], [0.43003231287002563, 1.9726340770721436], [0.43003231287002563, 1.9726340770721436], [0.43003231287002563, 1.9726340770721436], [0.43003231287002563, 1.9726340770721436], [0.43003231287002563, 1.9726340770721436], [0.43003231287002563, 1.9726340770721436], [0.43003231287002563, 1.9726340770721436]]\n",
      "[[0.37867820262908936, 2.707190990447998], [0.37867820262908936, 2.707190990447998], [0.37867820262908936, 2.707190990447998], [0.37867820262908936, 2.707190990447998], [0.37867820262908936, 2.707190990447998], [0.37867820262908936, 2.707190990447998], [0.37867820262908936, 2.707190990447998], [0.37867820262908936, 2.707190990447998], [0.37867820262908936, 2.707190990447998], [0.37867820262908936, 2.707190990447998], [0.37867820262908936, 2.707190990447998], [0.37867820262908936, 2.707190990447998], [0.37867820262908936, 2.707190990447998], [0.37867820262908936, 2.707190990447998], [0.37867820262908936, 2.707190990447998], [0.37867820262908936, 2.707190990447998], [0.37867820262908936, 2.707190990447998], [0.37867820262908936, 2.707190990447998], [0.37867820262908936, 2.707190990447998], [0.37867820262908936, 2.707190990447998], [0.37867820262908936, 2.707190990447998], [0.37867820262908936, 2.707190990447998], [0.37867820262908936, 2.707190990447998], [0.37867820262908936, 2.707190990447998], [0.37867820262908936, 2.707190990447998]]\n",
      "[[0.3034302294254303, 2.7070226669311523], [0.3034302294254303, 2.7070226669311523], [0.3034302294254303, 2.7070226669311523], [0.3034302294254303, 2.7070226669311523], [0.3034302294254303, 2.7070226669311523], [0.3034302294254303, 2.7070226669311523], [0.3034302294254303, 2.7070226669311523], [0.3034302294254303, 2.7070226669311523], [0.3034302294254303, 2.7070226669311523], [0.3034302294254303, 2.7070226669311523], [0.3034302294254303, 2.7070226669311523], [0.3034302294254303, 2.7070226669311523], [0.3034302294254303, 2.7070226669311523], [0.3034302294254303, 2.7070226669311523], [0.3034302294254303, 2.7070226669311523], [0.3034302294254303, 2.7070226669311523], [0.3034302294254303, 2.7070226669311523], [0.3034302294254303, 2.7070226669311523], [0.3034302294254303, 2.7070226669311523], [0.3034302294254303, 2.7070226669311523], [0.3034302294254303, 2.7070226669311523], [0.3034302294254303, 2.7070226669311523], [0.3034302294254303, 2.7070226669311523], [0.3034302294254303, 2.7070226669311523], [0.3034302294254303, 2.7070226669311523]]\n",
      "[[0.3225420415401459, 2.9425735473632812], [0.3225420415401459, 2.9425735473632812], [0.3225420415401459, 2.9425735473632812], [0.3225420415401459, 2.9425735473632812], [0.3225420415401459, 2.9425735473632812], [0.3225420415401459, 2.9425735473632812], [0.3225420415401459, 2.9425735473632812], [0.3225420415401459, 2.9425735473632812], [0.3225420415401459, 2.9425735473632812], [0.3225420415401459, 2.9425735473632812], [0.3225420415401459, 2.9425735473632812], [0.3225420415401459, 2.9425735473632812], [0.3225420415401459, 2.9425735473632812], [0.3225420415401459, 2.9425735473632812], [0.3225420415401459, 2.9425735473632812], [0.3225420415401459, 2.9425735473632812], [0.3225420415401459, 2.9425735473632812], [0.3225420415401459, 2.9425735473632812], [0.3225420415401459, 2.9425735473632812], [0.3225420415401459, 2.9425735473632812], [0.3225420415401459, 2.9425735473632812], [0.3225420415401459, 2.9425735473632812], [0.3225420415401459, 2.9425735473632812], [0.3225420415401459, 2.9425735473632812], [0.3225420415401459, 2.9425735473632812]]\n",
      "[[0.33685940504074097, 2.9148075580596924], [0.33685940504074097, 2.9148075580596924], [0.33685940504074097, 2.9148075580596924], [0.33685940504074097, 2.9148075580596924], [0.33685940504074097, 2.9148075580596924], [0.33685940504074097, 2.9148075580596924], [0.33685940504074097, 2.9148075580596924], [0.33685940504074097, 2.9148075580596924], [0.33685940504074097, 2.9148075580596924], [0.33685940504074097, 2.9148075580596924], [0.33685940504074097, 2.9148075580596924], [0.33685940504074097, 2.9148075580596924], [0.33685940504074097, 2.9148075580596924], [0.33685940504074097, 2.9148075580596924], [0.33685940504074097, 2.9148075580596924], [0.33685940504074097, 2.9148075580596924], [0.33685940504074097, 2.9148075580596924], [0.33685940504074097, 2.9148075580596924], [0.33685940504074097, 2.9148075580596924], [0.33685940504074097, 2.9148075580596924], [0.33685940504074097, 2.9148075580596924], [0.33685940504074097, 2.9148075580596924], [0.33685940504074097, 2.9148075580596924], [0.33685940504074097, 2.9148075580596924], [0.33685940504074097, 2.9148075580596924]]\n"
     ]
    },
    {
     "name": "stdout",
     "output_type": "stream",
     "text": [
      "[[0.31381094455718994, 2.8020362854003906], [0.31381094455718994, 2.8020362854003906], [0.31381094455718994, 2.8020362854003906], [0.31381094455718994, 2.8020362854003906], [0.31381094455718994, 2.8020362854003906], [0.31381094455718994, 2.8020362854003906], [0.31381094455718994, 2.8020362854003906], [0.31381094455718994, 2.8020362854003906], [0.31381094455718994, 2.8020362854003906], [0.31381094455718994, 2.8020362854003906], [0.31381094455718994, 2.8020362854003906], [0.31381094455718994, 2.8020362854003906], [0.31381094455718994, 2.8020362854003906], [0.31381094455718994, 2.8020362854003906], [0.31381094455718994, 2.8020362854003906], [0.31381094455718994, 2.8020362854003906], [0.31381094455718994, 2.8020362854003906], [0.31381094455718994, 2.8020362854003906], [0.31381094455718994, 2.8020362854003906], [0.31381094455718994, 2.8020362854003906], [0.31381094455718994, 2.8020362854003906], [0.31381094455718994, 2.8020362854003906], [0.31381094455718994, 2.8020362854003906], [0.31381094455718994, 2.8020362854003906], [0.31381094455718994, 2.8020362854003906]]\n",
      "[[0.3043396770954132, 2.8589577674865723], [0.3043396770954132, 2.8589577674865723], [0.3043396770954132, 2.8589577674865723], [0.3043396770954132, 2.8589577674865723], [0.3043396770954132, 2.8589577674865723], [0.3043396770954132, 2.8589577674865723], [0.3043396770954132, 2.8589577674865723], [0.3043396770954132, 2.8589577674865723], [0.3043396770954132, 2.8589577674865723], [0.3043396770954132, 2.8589577674865723], [0.3043396770954132, 2.8589577674865723], [0.3043396770954132, 2.8589577674865723], [0.3043396770954132, 2.8589577674865723], [0.3043396770954132, 2.8589577674865723], [0.3043396770954132, 2.8589577674865723], [0.3043396770954132, 2.8589577674865723], [0.3043396770954132, 2.8589577674865723], [0.3043396770954132, 2.8589577674865723], [0.3043396770954132, 2.8589577674865723], [0.3043396770954132, 2.8589577674865723], [0.3043396770954132, 2.8589577674865723], [0.3043396770954132, 2.8589577674865723], [0.3043396770954132, 2.8589577674865723], [0.3043396770954132, 2.8589577674865723], [0.3043396770954132, 2.8589577674865723]]\n",
      "[[0.3017856478691101, 2.8042993545532227], [0.3017856478691101, 2.8042993545532227], [0.3017856478691101, 2.8042993545532227], [0.3017856478691101, 2.8042993545532227], [0.3017856478691101, 2.8042993545532227], [0.3017856478691101, 2.8042993545532227], [0.3017856478691101, 2.8042993545532227], [0.3017856478691101, 2.8042993545532227], [0.3017856478691101, 2.8042993545532227], [0.3017856478691101, 2.8042993545532227], [0.3017856478691101, 2.8042993545532227], [0.3017856478691101, 2.8042993545532227], [0.3017856478691101, 2.8042993545532227], [0.3017856478691101, 2.8042993545532227], [0.3017856478691101, 2.8042993545532227], [0.3017856478691101, 2.8042993545532227], [0.3017856478691101, 2.8042993545532227], [0.3017856478691101, 2.8042993545532227], [0.3017856478691101, 2.8042993545532227], [0.3017856478691101, 2.8042993545532227], [0.3017856478691101, 2.8042993545532227], [0.3017856478691101, 2.8042993545532227], [0.3017856478691101, 2.8042993545532227], [0.3017856478691101, 2.8042993545532227], [0.3017856478691101, 2.8042993545532227]]\n",
      "[[0.3258591592311859, 2.810159921646118], [0.3258591592311859, 2.810159921646118], [0.3258591592311859, 2.810159921646118], [0.3258591592311859, 2.810159921646118], [0.3258591592311859, 2.810159921646118], [0.3258591592311859, 2.810159921646118], [0.3258591592311859, 2.810159921646118], [0.3258591592311859, 2.810159921646118], [0.3258591592311859, 2.810159921646118], [0.3258591592311859, 2.810159921646118], [0.3258591592311859, 2.810159921646118], [0.3258591592311859, 2.810159921646118], [0.3258591592311859, 2.810159921646118], [0.3258591592311859, 2.810159921646118], [0.3258591592311859, 2.810159921646118], [0.3258591592311859, 2.810159921646118], [0.3258591592311859, 2.810159921646118], [0.3258591592311859, 2.810159921646118], [0.3258591592311859, 2.810159921646118], [0.3258591592311859, 2.810159921646118], [0.3258591592311859, 2.810159921646118], [0.3258591592311859, 2.810159921646118], [0.3258591592311859, 2.810159921646118], [0.3258591592311859, 2.810159921646118], [0.3258591592311859, 2.810159921646118]]\n",
      "[[0.3497810959815979, 2.6955325603485107], [0.3497810959815979, 2.6955325603485107], [0.3497810959815979, 2.6955325603485107], [0.3497810959815979, 2.6955325603485107], [0.3497810959815979, 2.6955325603485107], [0.3497810959815979, 2.6955325603485107], [0.3497810959815979, 2.6955325603485107], [0.3497810959815979, 2.6955325603485107], [0.3497810959815979, 2.6955325603485107], [0.3497810959815979, 2.6955325603485107], [0.3497810959815979, 2.6955325603485107], [0.3497810959815979, 2.6955325603485107], [0.3497810959815979, 2.6955325603485107], [0.3497810959815979, 2.6955325603485107], [0.3497810959815979, 2.6955325603485107], [0.3497810959815979, 2.6955325603485107], [0.3497810959815979, 2.6955325603485107], [0.3497810959815979, 2.6955325603485107], [0.3497810959815979, 2.6955325603485107], [0.3497810959815979, 2.6955325603485107], [0.3497810959815979, 2.6955325603485107], [0.3497810959815979, 2.6955325603485107], [0.3497810959815979, 2.6955325603485107], [0.3497810959815979, 2.6955325603485107], [0.3497810959815979, 2.6955325603485107]]\n",
      "[[0.3688426613807678, 2.6417922973632812], [0.3688426613807678, 2.6417922973632812], [0.3688426613807678, 2.6417922973632812], [0.3688426613807678, 2.6417922973632812], [0.3688426613807678, 2.6417922973632812], [0.3688426613807678, 2.6417922973632812], [0.3688426613807678, 2.6417922973632812], [0.3688426613807678, 2.6417922973632812], [0.3688426613807678, 2.6417922973632812], [0.3688426613807678, 2.6417922973632812], [0.3688426613807678, 2.6417922973632812], [0.3688426613807678, 2.6417922973632812], [0.3688426613807678, 2.6417922973632812], [0.3688426613807678, 2.6417922973632812], [0.3688426613807678, 2.6417922973632812], [0.3688426613807678, 2.6417922973632812], [0.3688426613807678, 2.6417922973632812], [0.3688426613807678, 2.6417922973632812], [0.3688426613807678, 2.6417922973632812], [0.3688426613807678, 2.6417922973632812], [0.3688426613807678, 2.6417922973632812], [0.3688426613807678, 2.6417922973632812], [0.3688426613807678, 2.6417922973632812], [0.3688426613807678, 2.6417922973632812], [0.3688426613807678, 2.6417922973632812]]\n",
      "[[0.3125442564487457, 2.642559289932251], [0.3125442564487457, 2.642559289932251], [0.3125442564487457, 2.642559289932251], [0.3125442564487457, 2.642559289932251], [0.3125442564487457, 2.642559289932251], [0.3125442564487457, 2.642559289932251], [0.3125442564487457, 2.642559289932251], [0.3125442564487457, 2.642559289932251], [0.3125442564487457, 2.642559289932251], [0.3125442564487457, 2.642559289932251], [0.3125442564487457, 2.642559289932251], [0.3125442564487457, 2.642559289932251], [0.3125442564487457, 2.642559289932251], [0.3125442564487457, 2.642559289932251], [0.3125442564487457, 2.642559289932251], [0.3125442564487457, 2.642559289932251], [0.3125442564487457, 2.642559289932251], [0.3125442564487457, 2.642559289932251], [0.3125442564487457, 2.642559289932251], [0.3125442564487457, 2.642559289932251], [0.3125442564487457, 2.642559289932251], [0.3125442564487457, 2.642559289932251], [0.3125442564487457, 2.642559289932251], [0.3125442564487457, 2.642559289932251], [0.3125442564487457, 2.642559289932251]]\n",
      "[[0.3436521887779236, 2.628202199935913], [0.3436521887779236, 2.628202199935913], [0.3436521887779236, 2.628202199935913], [0.3436521887779236, 2.628202199935913], [0.3436521887779236, 2.628202199935913], [0.3436521887779236, 2.628202199935913], [0.3436521887779236, 2.628202199935913], [0.3436521887779236, 2.628202199935913], [0.3436521887779236, 2.628202199935913], [0.3436521887779236, 2.628202199935913], [0.3436521887779236, 2.628202199935913], [0.3436521887779236, 2.628202199935913], [0.3436521887779236, 2.628202199935913], [0.3436521887779236, 2.628202199935913], [0.3436521887779236, 2.628202199935913], [0.3436521887779236, 2.628202199935913], [0.3436521887779236, 2.628202199935913], [0.3436521887779236, 2.628202199935913], [0.3436521887779236, 2.628202199935913], [0.3436521887779236, 2.628202199935913], [0.3436521887779236, 2.628202199935913], [0.3436521887779236, 2.628202199935913], [0.3436521887779236, 2.628202199935913], [0.3436521887779236, 2.628202199935913], [0.3436521887779236, 2.628202199935913]]\n"
     ]
    },
    {
     "name": "stdout",
     "output_type": "stream",
     "text": [
      "[[0.35544711351394653, 2.6625518798828125], [0.35544711351394653, 2.6625518798828125], [0.35544711351394653, 2.6625518798828125], [0.35544711351394653, 2.6625518798828125], [0.35544711351394653, 2.6625518798828125], [0.35544711351394653, 2.6625518798828125], [0.35544711351394653, 2.6625518798828125], [0.35544711351394653, 2.6625518798828125], [0.35544711351394653, 2.6625518798828125], [0.35544711351394653, 2.6625518798828125], [0.35544711351394653, 2.6625518798828125], [0.35544711351394653, 2.6625518798828125], [0.35544711351394653, 2.6625518798828125], [0.35544711351394653, 2.6625518798828125], [0.35544711351394653, 2.6625518798828125], [0.35544711351394653, 2.6625518798828125], [0.35544711351394653, 2.6625518798828125], [0.35544711351394653, 2.6625518798828125], [0.35544711351394653, 2.6625518798828125], [0.35544711351394653, 2.6625518798828125], [0.35544711351394653, 2.6625518798828125], [0.35544711351394653, 2.6625518798828125], [0.35544711351394653, 2.6625518798828125], [0.35544711351394653, 2.6625518798828125], [0.35544711351394653, 2.6625518798828125]]\n",
      "[[0.3455316126346588, 2.671187162399292], [0.3455316126346588, 2.671187162399292], [0.3455316126346588, 2.671187162399292], [0.3455316126346588, 2.671187162399292], [0.3455316126346588, 2.671187162399292], [0.3455316126346588, 2.671187162399292], [0.3455316126346588, 2.671187162399292], [0.3455316126346588, 2.671187162399292], [0.3455316126346588, 2.671187162399292], [0.3455316126346588, 2.671187162399292], [0.3455316126346588, 2.671187162399292], [0.3455316126346588, 2.671187162399292], [0.3455316126346588, 2.671187162399292], [0.3455316126346588, 2.671187162399292], [0.3455316126346588, 2.671187162399292], [0.3455316126346588, 2.671187162399292], [0.3455316126346588, 2.671187162399292], [0.3455316126346588, 2.671187162399292], [0.3455316126346588, 2.671187162399292], [0.3455316126346588, 2.671187162399292], [0.3455316126346588, 2.671187162399292], [0.3455316126346588, 2.671187162399292], [0.3455316126346588, 2.671187162399292], [0.3455316126346588, 2.671187162399292], [0.3455316126346588, 2.671187162399292]]\n",
      "[[0.35820460319519043, 2.6576614379882812], [0.35820460319519043, 2.6576614379882812], [0.35820460319519043, 2.6576614379882812], [0.35820460319519043, 2.6576614379882812], [0.35820460319519043, 2.6576614379882812], [0.35820460319519043, 2.6576614379882812], [0.35820460319519043, 2.6576614379882812], [0.35820460319519043, 2.6576614379882812], [0.35820460319519043, 2.6576614379882812], [0.35820460319519043, 2.6576614379882812], [0.35820460319519043, 2.6576614379882812], [0.35820460319519043, 2.6576614379882812], [0.35820460319519043, 2.6576614379882812], [0.35820460319519043, 2.6576614379882812], [0.35820460319519043, 2.6576614379882812], [0.35820460319519043, 2.6576614379882812], [0.35820460319519043, 2.6576614379882812], [0.35820460319519043, 2.6576614379882812], [0.35820460319519043, 2.6576614379882812], [0.35820460319519043, 2.6576614379882812], [0.35820460319519043, 2.6576614379882812], [0.35820460319519043, 2.6576614379882812], [0.35820460319519043, 2.6576614379882812], [0.35820460319519043, 2.6576614379882812], [0.35820460319519043, 2.6576614379882812]]\n",
      "[[0.3492615222930908, 2.7668681144714355], [0.3492615222930908, 2.7668681144714355], [0.3492615222930908, 2.7668681144714355], [0.3492615222930908, 2.7668681144714355], [0.3492615222930908, 2.7668681144714355], [0.3492615222930908, 2.7668681144714355], [0.3492615222930908, 2.7668681144714355], [0.3492615222930908, 2.7668681144714355], [0.3492615222930908, 2.7668681144714355], [0.3492615222930908, 2.7668681144714355], [0.3492615222930908, 2.7668681144714355], [0.3492615222930908, 2.7668681144714355], [0.3492615222930908, 2.7668681144714355], [0.3492615222930908, 2.7668681144714355], [0.3492615222930908, 2.7668681144714355], [0.3492615222930908, 2.7668681144714355], [0.3492615222930908, 2.7668681144714355], [0.3492615222930908, 2.7668681144714355], [0.3492615222930908, 2.7668681144714355], [0.3492615222930908, 2.7668681144714355], [0.3492615222930908, 2.7668681144714355], [0.3492615222930908, 2.7668681144714355], [0.3492615222930908, 2.7668681144714355], [0.3492615222930908, 2.7668681144714355], [0.3492615222930908, 2.7668681144714355]]\n",
      "[[0.33745649456977844, 2.7287368774414062], [0.33745649456977844, 2.7287368774414062], [0.33745649456977844, 2.7287368774414062], [0.33745649456977844, 2.7287368774414062], [0.33745649456977844, 2.7287368774414062], [0.33745649456977844, 2.7287368774414062], [0.33745649456977844, 2.7287368774414062], [0.33745649456977844, 2.7287368774414062], [0.33745649456977844, 2.7287368774414062], [0.33745649456977844, 2.7287368774414062], [0.33745649456977844, 2.7287368774414062], [0.33745649456977844, 2.7287368774414062], [0.33745649456977844, 2.7287368774414062], [0.33745649456977844, 2.7287368774414062], [0.33745649456977844, 2.7287368774414062], [0.33745649456977844, 2.7287368774414062], [0.33745649456977844, 2.7287368774414062], [0.33745649456977844, 2.7287368774414062], [0.33745649456977844, 2.7287368774414062], [0.33745649456977844, 2.7287368774414062], [0.33745649456977844, 2.7287368774414062], [0.33745649456977844, 2.7287368774414062], [0.33745649456977844, 2.7287368774414062], [0.33745649456977844, 2.7287368774414062], [0.33745649456977844, 2.7287368774414062]]\n",
      "[[0.3296012878417969, 2.547351360321045], [0.3296012878417969, 2.547351360321045], [0.3296012878417969, 2.547351360321045], [0.3296012878417969, 2.547351360321045], [0.3296012878417969, 2.547351360321045], [0.3296012878417969, 2.547351360321045], [0.3296012878417969, 2.547351360321045], [0.3296012878417969, 2.547351360321045], [0.3296012878417969, 2.547351360321045], [0.3296012878417969, 2.547351360321045], [0.3296012878417969, 2.547351360321045], [0.3296012878417969, 2.547351360321045], [0.3296012878417969, 2.547351360321045], [0.3296012878417969, 2.547351360321045], [0.3296012878417969, 2.547351360321045], [0.3296012878417969, 2.547351360321045], [0.3296012878417969, 2.547351360321045], [0.3296012878417969, 2.547351360321045], [0.3296012878417969, 2.547351360321045], [0.3296012878417969, 2.547351360321045], [0.3296012878417969, 2.547351360321045], [0.3296012878417969, 2.547351360321045], [0.3296012878417969, 2.547351360321045], [0.3296012878417969, 2.547351360321045], [0.3296012878417969, 2.547351360321045]]\n",
      "[[0.3382353186607361, 2.574732780456543], [0.3382353186607361, 2.574732780456543], [0.3382353186607361, 2.574732780456543], [0.3382353186607361, 2.574732780456543], [0.3382353186607361, 2.574732780456543], [0.3382353186607361, 2.574732780456543], [0.3382353186607361, 2.574732780456543], [0.3382353186607361, 2.574732780456543], [0.3382353186607361, 2.574732780456543], [0.3382353186607361, 2.574732780456543], [0.3382353186607361, 2.574732780456543], [0.3382353186607361, 2.574732780456543], [0.3382353186607361, 2.574732780456543], [0.3382353186607361, 2.574732780456543], [0.3382353186607361, 2.574732780456543], [0.3382353186607361, 2.574732780456543], [0.3382353186607361, 2.574732780456543], [0.3382353186607361, 2.574732780456543], [0.3382353186607361, 2.574732780456543], [0.3382353186607361, 2.574732780456543], [0.3382353186607361, 2.574732780456543], [0.3382353186607361, 2.574732780456543], [0.3382353186607361, 2.574732780456543], [0.3382353186607361, 2.574732780456543], [0.3382353186607361, 2.574732780456543]]\n",
      "[[0.3412399888038635, 2.6017980575561523], [0.3412399888038635, 2.6017980575561523], [0.3412399888038635, 2.6017980575561523], [0.3412399888038635, 2.6017980575561523], [0.3412399888038635, 2.6017980575561523], [0.3412399888038635, 2.6017980575561523], [0.3412399888038635, 2.6017980575561523], [0.3412399888038635, 2.6017980575561523], [0.3412399888038635, 2.6017980575561523], [0.3412399888038635, 2.6017980575561523], [0.3412399888038635, 2.6017980575561523], [0.3412399888038635, 2.6017980575561523], [0.3412399888038635, 2.6017980575561523], [0.3412399888038635, 2.6017980575561523], [0.3412399888038635, 2.6017980575561523], [0.3412399888038635, 2.6017980575561523], [0.3412399888038635, 2.6017980575561523], [0.3412399888038635, 2.6017980575561523], [0.3412399888038635, 2.6017980575561523], [0.3412399888038635, 2.6017980575561523], [0.3412399888038635, 2.6017980575561523], [0.3412399888038635, 2.6017980575561523], [0.3412399888038635, 2.6017980575561523], [0.3412399888038635, 2.6017980575561523], [0.3412399888038635, 2.6017980575561523]]\n"
     ]
    },
    {
     "name": "stdout",
     "output_type": "stream",
     "text": [
      "[[0.3388560116291046, 2.570047616958618], [0.3388560116291046, 2.570047616958618], [0.3388560116291046, 2.570047616958618], [0.3388560116291046, 2.570047616958618], [0.3388560116291046, 2.570047616958618], [0.3388560116291046, 2.570047616958618], [0.3388560116291046, 2.570047616958618], [0.3388560116291046, 2.570047616958618], [0.3388560116291046, 2.570047616958618], [0.3388560116291046, 2.570047616958618], [0.3388560116291046, 2.570047616958618], [0.3388560116291046, 2.570047616958618], [0.3388560116291046, 2.570047616958618], [0.3388560116291046, 2.570047616958618], [0.3388560116291046, 2.570047616958618], [0.3388560116291046, 2.570047616958618], [0.3388560116291046, 2.570047616958618], [0.3388560116291046, 2.570047616958618], [0.3388560116291046, 2.570047616958618], [0.3388560116291046, 2.570047616958618], [0.3388560116291046, 2.570047616958618], [0.3388560116291046, 2.570047616958618], [0.3388560116291046, 2.570047616958618], [0.3388560116291046, 2.570047616958618], [0.3388560116291046, 2.570047616958618]]\n",
      "[[0.3615771532058716, 2.5385937690734863], [0.3615771532058716, 2.5385937690734863], [0.3615771532058716, 2.5385937690734863], [0.3615771532058716, 2.5385937690734863], [0.3615771532058716, 2.5385937690734863], [0.3615771532058716, 2.5385937690734863], [0.3615771532058716, 2.5385937690734863], [0.3615771532058716, 2.5385937690734863], [0.3615771532058716, 2.5385937690734863], [0.3615771532058716, 2.5385937690734863], [0.3615771532058716, 2.5385937690734863], [0.3615771532058716, 2.5385937690734863], [0.3615771532058716, 2.5385937690734863], [0.3615771532058716, 2.5385937690734863], [0.3615771532058716, 2.5385937690734863], [0.3615771532058716, 2.5385937690734863], [0.3615771532058716, 2.5385937690734863], [0.3615771532058716, 2.5385937690734863], [0.3615771532058716, 2.5385937690734863], [0.3615771532058716, 2.5385937690734863], [0.3615771532058716, 2.5385937690734863], [0.3615771532058716, 2.5385937690734863], [0.3615771532058716, 2.5385937690734863], [0.3615771532058716, 2.5385937690734863], [0.3615771532058716, 2.5385937690734863]]\n",
      "[[0.34526747465133667, 2.522854804992676], [0.34526747465133667, 2.522854804992676], [0.34526747465133667, 2.522854804992676], [0.34526747465133667, 2.522854804992676], [0.34526747465133667, 2.522854804992676], [0.34526747465133667, 2.522854804992676], [0.34526747465133667, 2.522854804992676], [0.34526747465133667, 2.522854804992676], [0.34526747465133667, 2.522854804992676], [0.34526747465133667, 2.522854804992676], [0.34526747465133667, 2.522854804992676], [0.34526747465133667, 2.522854804992676], [0.34526747465133667, 2.522854804992676], [0.34526747465133667, 2.522854804992676], [0.34526747465133667, 2.522854804992676], [0.34526747465133667, 2.522854804992676], [0.34526747465133667, 2.522854804992676], [0.34526747465133667, 2.522854804992676], [0.34526747465133667, 2.522854804992676], [0.34526747465133667, 2.522854804992676], [0.34526747465133667, 2.522854804992676], [0.34526747465133667, 2.522854804992676], [0.34526747465133667, 2.522854804992676], [0.34526747465133667, 2.522854804992676], [0.34526747465133667, 2.522854804992676]]\n",
      "[[0.3531087636947632, 2.4342129230499268], [0.3531087636947632, 2.4342129230499268], [0.3531087636947632, 2.4342129230499268], [0.3531087636947632, 2.4342129230499268], [0.3531087636947632, 2.4342129230499268], [0.3531087636947632, 2.4342129230499268], [0.3531087636947632, 2.4342129230499268], [0.3531087636947632, 2.4342129230499268], [0.3531087636947632, 2.4342129230499268], [0.3531087636947632, 2.4342129230499268], [0.3531087636947632, 2.4342129230499268], [0.3531087636947632, 2.4342129230499268], [0.3531087636947632, 2.4342129230499268], [0.3531087636947632, 2.4342129230499268], [0.3531087636947632, 2.4342129230499268], [0.3531087636947632, 2.4342129230499268], [0.3531087636947632, 2.4342129230499268], [0.3531087636947632, 2.4342129230499268], [0.3531087636947632, 2.4342129230499268], [0.3531087636947632, 2.4342129230499268], [0.3531087636947632, 2.4342129230499268], [0.3531087636947632, 2.4342129230499268], [0.3531087636947632, 2.4342129230499268], [0.3531087636947632, 2.4342129230499268], [0.3531087636947632, 2.4342129230499268]]\n",
      "[[0.34735363721847534, 2.498728036880493], [0.34735363721847534, 2.498728036880493], [0.34735363721847534, 2.498728036880493], [0.34735363721847534, 2.498728036880493], [0.34735363721847534, 2.498728036880493], [0.34735363721847534, 2.498728036880493], [0.34735363721847534, 2.498728036880493], [0.34735363721847534, 2.498728036880493], [0.34735363721847534, 2.498728036880493], [0.34735363721847534, 2.498728036880493], [0.34735363721847534, 2.498728036880493], [0.34735363721847534, 2.498728036880493], [0.34735363721847534, 2.498728036880493], [0.34735363721847534, 2.498728036880493], [0.34735363721847534, 2.498728036880493], [0.34735363721847534, 2.498728036880493], [0.34735363721847534, 2.498728036880493], [0.34735363721847534, 2.498728036880493], [0.34735363721847534, 2.498728036880493], [0.34735363721847534, 2.498728036880493], [0.34735363721847534, 2.498728036880493], [0.34735363721847534, 2.498728036880493], [0.34735363721847534, 2.498728036880493], [0.34735363721847534, 2.498728036880493], [0.34735363721847534, 2.498728036880493]]\n",
      "[[0.35426831245422363, 2.6096861362457275], [0.35426831245422363, 2.6096861362457275], [0.35426831245422363, 2.6096861362457275], [0.35426831245422363, 2.6096861362457275], [0.35426831245422363, 2.6096861362457275], [0.35426831245422363, 2.6096861362457275], [0.35426831245422363, 2.6096861362457275], [0.35426831245422363, 2.6096861362457275], [0.35426831245422363, 2.6096861362457275], [0.35426831245422363, 2.6096861362457275], [0.35426831245422363, 2.6096861362457275], [0.35426831245422363, 2.6096861362457275], [0.35426831245422363, 2.6096861362457275], [0.35426831245422363, 2.6096861362457275], [0.35426831245422363, 2.6096861362457275], [0.35426831245422363, 2.6096861362457275], [0.35426831245422363, 2.6096861362457275], [0.35426831245422363, 2.6096861362457275], [0.35426831245422363, 2.6096861362457275], [0.35426831245422363, 2.6096861362457275], [0.35426831245422363, 2.6096861362457275], [0.35426831245422363, 2.6096861362457275], [0.35426831245422363, 2.6096861362457275], [0.35426831245422363, 2.6096861362457275], [0.35426831245422363, 2.6096861362457275]]\n",
      "[[0.3357812762260437, 2.5833358764648438], [0.3357812762260437, 2.5833358764648438], [0.3357812762260437, 2.5833358764648438], [0.3357812762260437, 2.5833358764648438], [0.3357812762260437, 2.5833358764648438], [0.3357812762260437, 2.5833358764648438], [0.3357812762260437, 2.5833358764648438], [0.3357812762260437, 2.5833358764648438], [0.3357812762260437, 2.5833358764648438], [0.3357812762260437, 2.5833358764648438], [0.3357812762260437, 2.5833358764648438], [0.3357812762260437, 2.5833358764648438], [0.3357812762260437, 2.5833358764648438], [0.3357812762260437, 2.5833358764648438], [0.3357812762260437, 2.5833358764648438], [0.3357812762260437, 2.5833358764648438], [0.3357812762260437, 2.5833358764648438], [0.3357812762260437, 2.5833358764648438], [0.3357812762260437, 2.5833358764648438], [0.3357812762260437, 2.5833358764648438], [0.3357812762260437, 2.5833358764648438], [0.3357812762260437, 2.5833358764648438], [0.3357812762260437, 2.5833358764648438], [0.3357812762260437, 2.5833358764648438], [0.3357812762260437, 2.5833358764648438]]\n",
      "[[0.33510154485702515, 2.629202365875244], [0.33510154485702515, 2.629202365875244], [0.33510154485702515, 2.629202365875244], [0.33510154485702515, 2.629202365875244], [0.33510154485702515, 2.629202365875244], [0.33510154485702515, 2.629202365875244], [0.33510154485702515, 2.629202365875244], [0.33510154485702515, 2.629202365875244], [0.33510154485702515, 2.629202365875244], [0.33510154485702515, 2.629202365875244], [0.33510154485702515, 2.629202365875244], [0.33510154485702515, 2.629202365875244], [0.33510154485702515, 2.629202365875244], [0.33510154485702515, 2.629202365875244], [0.33510154485702515, 2.629202365875244], [0.33510154485702515, 2.629202365875244], [0.33510154485702515, 2.629202365875244], [0.33510154485702515, 2.629202365875244], [0.33510154485702515, 2.629202365875244], [0.33510154485702515, 2.629202365875244], [0.33510154485702515, 2.629202365875244], [0.33510154485702515, 2.629202365875244], [0.33510154485702515, 2.629202365875244], [0.33510154485702515, 2.629202365875244], [0.33510154485702515, 2.629202365875244]]\n"
     ]
    },
    {
     "name": "stdout",
     "output_type": "stream",
     "text": [
      "[[0.334347665309906, 2.6940150260925293], [0.334347665309906, 2.6940150260925293], [0.334347665309906, 2.6940150260925293], [0.334347665309906, 2.6940150260925293], [0.334347665309906, 2.6940150260925293], [0.334347665309906, 2.6940150260925293], [0.334347665309906, 2.6940150260925293], [0.334347665309906, 2.6940150260925293], [0.334347665309906, 2.6940150260925293], [0.334347665309906, 2.6940150260925293], [0.334347665309906, 2.6940150260925293], [0.334347665309906, 2.6940150260925293], [0.334347665309906, 2.6940150260925293], [0.334347665309906, 2.6940150260925293], [0.334347665309906, 2.6940150260925293], [0.334347665309906, 2.6940150260925293], [0.334347665309906, 2.6940150260925293], [0.334347665309906, 2.6940150260925293], [0.334347665309906, 2.6940150260925293], [0.334347665309906, 2.6940150260925293], [0.334347665309906, 2.6940150260925293], [0.334347665309906, 2.6940150260925293], [0.334347665309906, 2.6940150260925293], [0.334347665309906, 2.6940150260925293], [0.334347665309906, 2.6940150260925293]]\n",
      "[[0.3516674041748047, 2.4542078971862793], [0.3516674041748047, 2.4542078971862793], [0.3516674041748047, 2.4542078971862793], [0.3516674041748047, 2.4542078971862793], [0.3516674041748047, 2.4542078971862793], [0.3516674041748047, 2.4542078971862793], [0.3516674041748047, 2.4542078971862793], [0.3516674041748047, 2.4542078971862793], [0.3516674041748047, 2.4542078971862793], [0.3516674041748047, 2.4542078971862793], [0.3516674041748047, 2.4542078971862793], [0.3516674041748047, 2.4542078971862793], [0.3516674041748047, 2.4542078971862793], [0.3516674041748047, 2.4542078971862793], [0.3516674041748047, 2.4542078971862793], [0.3516674041748047, 2.4542078971862793], [0.3516674041748047, 2.4542078971862793], [0.3516674041748047, 2.4542078971862793], [0.3516674041748047, 2.4542078971862793], [0.3516674041748047, 2.4542078971862793], [0.3516674041748047, 2.4542078971862793], [0.3516674041748047, 2.4542078971862793], [0.3516674041748047, 2.4542078971862793], [0.3516674041748047, 2.4542078971862793], [0.3516674041748047, 2.4542078971862793]]\n",
      "[[0.4058004915714264, 2.4908370971679688], [0.4058004915714264, 2.4908370971679688], [0.4058004915714264, 2.4908370971679688], [0.4058004915714264, 2.4908370971679688], [0.4058004915714264, 2.4908370971679688], [0.4058004915714264, 2.4908370971679688], [0.4058004915714264, 2.4908370971679688], [0.4058004915714264, 2.4908370971679688], [0.4058004915714264, 2.4908370971679688], [0.4058004915714264, 2.4908370971679688], [0.4058004915714264, 2.4908370971679688], [0.4058004915714264, 2.4908370971679688], [0.4058004915714264, 2.4908370971679688], [0.4058004915714264, 2.4908370971679688], [0.4058004915714264, 2.4908370971679688], [0.4058004915714264, 2.4908370971679688], [0.4058004915714264, 2.4908370971679688], [0.4058004915714264, 2.4908370971679688], [0.4058004915714264, 2.4908370971679688], [0.4058004915714264, 2.4908370971679688], [0.4058004915714264, 2.4908370971679688], [0.4058004915714264, 2.4908370971679688], [0.4058004915714264, 2.4908370971679688], [0.4058004915714264, 2.4908370971679688], [0.4058004915714264, 2.4908370971679688]]\n",
      "[[0.3167535662651062, 2.7126383781433105], [0.3167535662651062, 2.7126383781433105], [0.3167535662651062, 2.7126383781433105], [0.3167535662651062, 2.7126383781433105], [0.3167535662651062, 2.7126383781433105], [0.3167535662651062, 2.7126383781433105], [0.3167535662651062, 2.7126383781433105], [0.3167535662651062, 2.7126383781433105], [0.3167535662651062, 2.7126383781433105], [0.3167535662651062, 2.7126383781433105], [0.3167535662651062, 2.7126383781433105], [0.3167535662651062, 2.7126383781433105], [0.3167535662651062, 2.7126383781433105], [0.3167535662651062, 2.7126383781433105], [0.3167535662651062, 2.7126383781433105], [0.3167535662651062, 2.7126383781433105], [0.3167535662651062, 2.7126383781433105], [0.3167535662651062, 2.7126383781433105], [0.3167535662651062, 2.7126383781433105], [0.3167535662651062, 2.7126383781433105], [0.3167535662651062, 2.7126383781433105], [0.3167535662651062, 2.7126383781433105], [0.3167535662651062, 2.7126383781433105], [0.3167535662651062, 2.7126383781433105], [0.3167535662651062, 2.7126383781433105]]\n",
      "[[0.32600802183151245, 2.6493568420410156], [0.32600802183151245, 2.6493568420410156], [0.32600802183151245, 2.6493568420410156], [0.32600802183151245, 2.6493568420410156], [0.32600802183151245, 2.6493568420410156], [0.32600802183151245, 2.6493568420410156], [0.32600802183151245, 2.6493568420410156], [0.32600802183151245, 2.6493568420410156], [0.32600802183151245, 2.6493568420410156], [0.32600802183151245, 2.6493568420410156], [0.32600802183151245, 2.6493568420410156], [0.32600802183151245, 2.6493568420410156], [0.32600802183151245, 2.6493568420410156], [0.32600802183151245, 2.6493568420410156], [0.32600802183151245, 2.6493568420410156], [0.32600802183151245, 2.6493568420410156], [0.32600802183151245, 2.6493568420410156], [0.32600802183151245, 2.6493568420410156], [0.32600802183151245, 2.6493568420410156], [0.32600802183151245, 2.6493568420410156], [0.32600802183151245, 2.6493568420410156], [0.32600802183151245, 2.6493568420410156], [0.32600802183151245, 2.6493568420410156], [0.32600802183151245, 2.6493568420410156], [0.32600802183151245, 2.6493568420410156]]\n",
      "[[0.2915573716163635, 2.718587636947632], [0.2915573716163635, 2.718587636947632], [0.2915573716163635, 2.718587636947632], [0.2915573716163635, 2.718587636947632], [0.2915573716163635, 2.718587636947632], [0.2915573716163635, 2.718587636947632], [0.2915573716163635, 2.718587636947632], [0.2915573716163635, 2.718587636947632], [0.2915573716163635, 2.718587636947632], [0.2915573716163635, 2.718587636947632], [0.2915573716163635, 2.718587636947632], [0.2915573716163635, 2.718587636947632], [0.2915573716163635, 2.718587636947632], [0.2915573716163635, 2.718587636947632], [0.2915573716163635, 2.718587636947632], [0.2915573716163635, 2.718587636947632], [0.2915573716163635, 2.718587636947632], [0.2915573716163635, 2.718587636947632], [0.2915573716163635, 2.718587636947632], [0.2915573716163635, 2.718587636947632], [0.2915573716163635, 2.718587636947632], [0.2915573716163635, 2.718587636947632], [0.2915573716163635, 2.718587636947632], [0.2915573716163635, 2.718587636947632], [0.2915573716163635, 2.718587636947632]]\n",
      "[[0.3988538682460785, 2.76625394821167], [0.3988538682460785, 2.76625394821167], [0.3988538682460785, 2.76625394821167], [0.3988538682460785, 2.76625394821167], [0.3988538682460785, 2.76625394821167], [0.3988538682460785, 2.76625394821167], [0.3988538682460785, 2.76625394821167], [0.3988538682460785, 2.76625394821167], [0.3988538682460785, 2.76625394821167], [0.3988538682460785, 2.76625394821167], [0.3988538682460785, 2.76625394821167], [0.3988538682460785, 2.76625394821167], [0.3988538682460785, 2.76625394821167], [0.3988538682460785, 2.76625394821167], [0.3988538682460785, 2.76625394821167], [0.3988538682460785, 2.76625394821167], [0.3988538682460785, 2.76625394821167], [0.3988538682460785, 2.76625394821167], [0.3988538682460785, 2.76625394821167], [0.3988538682460785, 2.76625394821167], [0.3988538682460785, 2.76625394821167], [0.3988538682460785, 2.76625394821167], [0.3988538682460785, 2.76625394821167], [0.3988538682460785, 2.76625394821167], [0.3988538682460785, 2.76625394821167]]\n",
      "[[0.341043084859848, 2.83566951751709], [0.341043084859848, 2.83566951751709], [0.341043084859848, 2.83566951751709], [0.341043084859848, 2.83566951751709], [0.341043084859848, 2.83566951751709], [0.341043084859848, 2.83566951751709], [0.341043084859848, 2.83566951751709], [0.341043084859848, 2.83566951751709], [0.341043084859848, 2.83566951751709], [0.341043084859848, 2.83566951751709], [0.341043084859848, 2.83566951751709], [0.341043084859848, 2.83566951751709], [0.341043084859848, 2.83566951751709], [0.341043084859848, 2.83566951751709], [0.341043084859848, 2.83566951751709], [0.341043084859848, 2.83566951751709], [0.341043084859848, 2.83566951751709], [0.341043084859848, 2.83566951751709], [0.341043084859848, 2.83566951751709], [0.341043084859848, 2.83566951751709], [0.341043084859848, 2.83566951751709], [0.341043084859848, 2.83566951751709], [0.341043084859848, 2.83566951751709], [0.341043084859848, 2.83566951751709], [0.341043084859848, 2.83566951751709]]\n",
      "[[0.3189886808395386, 2.66904354095459], [0.3189886808395386, 2.66904354095459], [0.3189886808395386, 2.66904354095459], [0.3189886808395386, 2.66904354095459], [0.3189886808395386, 2.66904354095459], [0.3189886808395386, 2.66904354095459], [0.3189886808395386, 2.66904354095459], [0.3189886808395386, 2.66904354095459], [0.3189886808395386, 2.66904354095459], [0.3189886808395386, 2.66904354095459], [0.3189886808395386, 2.66904354095459], [0.3189886808395386, 2.66904354095459], [0.3189886808395386, 2.66904354095459], [0.3189886808395386, 2.66904354095459], [0.3189886808395386, 2.66904354095459], [0.3189886808395386, 2.66904354095459], [0.3189886808395386, 2.66904354095459], [0.3189886808395386, 2.66904354095459], [0.3189886808395386, 2.66904354095459], [0.3189886808395386, 2.66904354095459], [0.3189886808395386, 2.66904354095459], [0.3189886808395386, 2.66904354095459], [0.3189886808395386, 2.66904354095459], [0.3189886808395386, 2.66904354095459], [0.3189886808395386, 2.66904354095459]]\n"
     ]
    },
    {
     "name": "stdout",
     "output_type": "stream",
     "text": [
      "[[0.37406018376350403, 2.5313878059387207], [0.37406018376350403, 2.5313878059387207], [0.37406018376350403, 2.5313878059387207], [0.37406018376350403, 2.5313878059387207], [0.37406018376350403, 2.5313878059387207], [0.37406018376350403, 2.5313878059387207], [0.37406018376350403, 2.5313878059387207], [0.37406018376350403, 2.5313878059387207], [0.37406018376350403, 2.5313878059387207], [0.37406018376350403, 2.5313878059387207], [0.37406018376350403, 2.5313878059387207], [0.37406018376350403, 2.5313878059387207], [0.37406018376350403, 2.5313878059387207], [0.37406018376350403, 2.5313878059387207], [0.37406018376350403, 2.5313878059387207], [0.37406018376350403, 2.5313878059387207], [0.37406018376350403, 2.5313878059387207], [0.37406018376350403, 2.5313878059387207], [0.37406018376350403, 2.5313878059387207], [0.37406018376350403, 2.5313878059387207], [0.37406018376350403, 2.5313878059387207], [0.37406018376350403, 2.5313878059387207], [0.37406018376350403, 2.5313878059387207], [0.37406018376350403, 2.5313878059387207], [0.37406018376350403, 2.5313878059387207]]\n",
      "[[0.35943591594696045, 2.519989252090454], [0.35943591594696045, 2.519989252090454], [0.35943591594696045, 2.519989252090454], [0.35943591594696045, 2.519989252090454], [0.35943591594696045, 2.519989252090454], [0.35943591594696045, 2.519989252090454], [0.35943591594696045, 2.519989252090454], [0.35943591594696045, 2.519989252090454], [0.35943591594696045, 2.519989252090454], [0.35943591594696045, 2.519989252090454], [0.35943591594696045, 2.519989252090454], [0.35943591594696045, 2.519989252090454], [0.35943591594696045, 2.519989252090454], [0.35943591594696045, 2.519989252090454], [0.35943591594696045, 2.519989252090454], [0.35943591594696045, 2.519989252090454], [0.35943591594696045, 2.519989252090454], [0.35943591594696045, 2.519989252090454], [0.35943591594696045, 2.519989252090454], [0.35943591594696045, 2.519989252090454], [0.35943591594696045, 2.519989252090454], [0.35943591594696045, 2.519989252090454], [0.35943591594696045, 2.519989252090454], [0.35943591594696045, 2.519989252090454], [0.35943591594696045, 2.519989252090454]]\n",
      "[[0.39414986968040466, 2.5633091926574707], [0.39414986968040466, 2.5633091926574707], [0.39414986968040466, 2.5633091926574707], [0.39414986968040466, 2.5633091926574707], [0.39414986968040466, 2.5633091926574707], [0.39414986968040466, 2.5633091926574707], [0.39414986968040466, 2.5633091926574707], [0.39414986968040466, 2.5633091926574707], [0.39414986968040466, 2.5633091926574707], [0.39414986968040466, 2.5633091926574707], [0.39414986968040466, 2.5633091926574707], [0.39414986968040466, 2.5633091926574707], [0.39414986968040466, 2.5633091926574707], [0.39414986968040466, 2.5633091926574707], [0.39414986968040466, 2.5633091926574707], [0.39414986968040466, 2.5633091926574707], [0.39414986968040466, 2.5633091926574707], [0.39414986968040466, 2.5633091926574707], [0.39414986968040466, 2.5633091926574707], [0.39414986968040466, 2.5633091926574707], [0.39414986968040466, 2.5633091926574707], [0.39414986968040466, 2.5633091926574707], [0.39414986968040466, 2.5633091926574707], [0.39414986968040466, 2.5633091926574707], [0.39414986968040466, 2.5633091926574707]]\n",
      "[[0.3737563490867615, 2.442554235458374], [0.3737563490867615, 2.442554235458374], [0.3737563490867615, 2.442554235458374], [0.3737563490867615, 2.442554235458374], [0.3737563490867615, 2.442554235458374], [0.3737563490867615, 2.442554235458374], [0.3737563490867615, 2.442554235458374], [0.3737563490867615, 2.442554235458374], [0.3737563490867615, 2.442554235458374], [0.3737563490867615, 2.442554235458374], [0.3737563490867615, 2.442554235458374], [0.3737563490867615, 2.442554235458374], [0.3737563490867615, 2.442554235458374], [0.3737563490867615, 2.442554235458374], [0.3737563490867615, 2.442554235458374], [0.3737563490867615, 2.442554235458374], [0.3737563490867615, 2.442554235458374], [0.3737563490867615, 2.442554235458374], [0.3737563490867615, 2.442554235458374], [0.3737563490867615, 2.442554235458374], [0.3737563490867615, 2.442554235458374], [0.3737563490867615, 2.442554235458374], [0.3737563490867615, 2.442554235458374], [0.3737563490867615, 2.442554235458374], [0.3737563490867615, 2.442554235458374]]\n",
      "[[0.3779439926147461, 2.3622822761535645], [0.3779439926147461, 2.3622822761535645], [0.3779439926147461, 2.3622822761535645], [0.3779439926147461, 2.3622822761535645], [0.3779439926147461, 2.3622822761535645], [0.3779439926147461, 2.3622822761535645], [0.3779439926147461, 2.3622822761535645], [0.3779439926147461, 2.3622822761535645], [0.3779439926147461, 2.3622822761535645], [0.3779439926147461, 2.3622822761535645], [0.3779439926147461, 2.3622822761535645], [0.3779439926147461, 2.3622822761535645], [0.3779439926147461, 2.3622822761535645], [0.3779439926147461, 2.3622822761535645], [0.3779439926147461, 2.3622822761535645], [0.3779439926147461, 2.3622822761535645], [0.3779439926147461, 2.3622822761535645], [0.3779439926147461, 2.3622822761535645], [0.3779439926147461, 2.3622822761535645], [0.3779439926147461, 2.3622822761535645], [0.3779439926147461, 2.3622822761535645], [0.3779439926147461, 2.3622822761535645], [0.3779439926147461, 2.3622822761535645], [0.3779439926147461, 2.3622822761535645], [0.3779439926147461, 2.3622822761535645]]\n",
      "[[0.32386958599090576, 2.4962713718414307], [0.32386958599090576, 2.4962713718414307], [0.32386958599090576, 2.4962713718414307], [0.32386958599090576, 2.4962713718414307], [0.32386958599090576, 2.4962713718414307], [0.32386958599090576, 2.4962713718414307], [0.32386958599090576, 2.4962713718414307], [0.32386958599090576, 2.4962713718414307], [0.32386958599090576, 2.4962713718414307], [0.32386958599090576, 2.4962713718414307], [0.32386958599090576, 2.4962713718414307], [0.32386958599090576, 2.4962713718414307], [0.32386958599090576, 2.4962713718414307], [0.32386958599090576, 2.4962713718414307], [0.32386958599090576, 2.4962713718414307], [0.32386958599090576, 2.4962713718414307], [0.32386958599090576, 2.4962713718414307], [0.32386958599090576, 2.4962713718414307], [0.32386958599090576, 2.4962713718414307], [0.32386958599090576, 2.4962713718414307], [0.32386958599090576, 2.4962713718414307], [0.32386958599090576, 2.4962713718414307], [0.32386958599090576, 2.4962713718414307], [0.32386958599090576, 2.4962713718414307], [0.32386958599090576, 2.4962713718414307]]\n",
      "[[0.38610535860061646, 2.197911024093628], [0.38610535860061646, 2.197911024093628], [0.38610535860061646, 2.197911024093628], [0.38610535860061646, 2.197911024093628], [0.38610535860061646, 2.197911024093628], [0.38610535860061646, 2.197911024093628], [0.38610535860061646, 2.197911024093628], [0.38610535860061646, 2.197911024093628], [0.38610535860061646, 2.197911024093628], [0.38610535860061646, 2.197911024093628], [0.38610535860061646, 2.197911024093628], [0.38610535860061646, 2.197911024093628], [0.38610535860061646, 2.197911024093628], [0.38610535860061646, 2.197911024093628], [0.38610535860061646, 2.197911024093628], [0.38610535860061646, 2.197911024093628], [0.38610535860061646, 2.197911024093628], [0.38610535860061646, 2.197911024093628], [0.38610535860061646, 2.197911024093628], [0.38610535860061646, 2.197911024093628], [0.38610535860061646, 2.197911024093628], [0.38610535860061646, 2.197911024093628], [0.38610535860061646, 2.197911024093628], [0.38610535860061646, 2.197911024093628], [0.38610535860061646, 2.197911024093628]]\n",
      "[[0.2719101309776306, 2.2302465438842773], [0.2719101309776306, 2.2302465438842773], [0.2719101309776306, 2.2302465438842773], [0.2719101309776306, 2.2302465438842773], [0.2719101309776306, 2.2302465438842773], [0.2719101309776306, 2.2302465438842773], [0.2719101309776306, 2.2302465438842773], [0.2719101309776306, 2.2302465438842773], [0.2719101309776306, 2.2302465438842773], [0.2719101309776306, 2.2302465438842773], [0.2719101309776306, 2.2302465438842773], [0.2719101309776306, 2.2302465438842773], [0.2719101309776306, 2.2302465438842773], [0.2719101309776306, 2.2302465438842773], [0.2719101309776306, 2.2302465438842773], [0.2719101309776306, 2.2302465438842773], [0.2719101309776306, 2.2302465438842773], [0.2719101309776306, 2.2302465438842773], [0.2719101309776306, 2.2302465438842773], [0.2719101309776306, 2.2302465438842773], [0.2719101309776306, 2.2302465438842773], [0.2719101309776306, 2.2302465438842773], [0.2719101309776306, 2.2302465438842773], [0.2719101309776306, 2.2302465438842773], [0.2719101309776306, 2.2302465438842773]]\n"
     ]
    },
    {
     "name": "stdout",
     "output_type": "stream",
     "text": [
      "[[0.3387726843357086, 2.037571907043457], [0.3387726843357086, 2.037571907043457], [0.3387726843357086, 2.037571907043457], [0.3387726843357086, 2.037571907043457], [0.3387726843357086, 2.037571907043457], [0.3387726843357086, 2.037571907043457], [0.3387726843357086, 2.037571907043457], [0.3387726843357086, 2.037571907043457], [0.3387726843357086, 2.037571907043457], [0.3387726843357086, 2.037571907043457], [0.3387726843357086, 2.037571907043457], [0.3387726843357086, 2.037571907043457], [0.3387726843357086, 2.037571907043457], [0.3387726843357086, 2.037571907043457], [0.3387726843357086, 2.037571907043457], [0.3387726843357086, 2.037571907043457], [0.3387726843357086, 2.037571907043457], [0.3387726843357086, 2.037571907043457], [0.3387726843357086, 2.037571907043457], [0.3387726843357086, 2.037571907043457], [0.3387726843357086, 2.037571907043457], [0.3387726843357086, 2.037571907043457], [0.3387726843357086, 2.037571907043457], [0.3387726843357086, 2.037571907043457], [0.3387726843357086, 2.037571907043457]]\n",
      "[[0.21746380627155304, 1.2915481328964233], [0.21746380627155304, 1.2915481328964233], [0.21746380627155304, 1.2915481328964233], [0.21746380627155304, 1.2915481328964233], [0.21746380627155304, 1.2915481328964233], [0.21746380627155304, 1.2915481328964233], [0.21746380627155304, 1.2915481328964233], [0.21746380627155304, 1.2915481328964233], [0.21746380627155304, 1.2915481328964233], [0.21746380627155304, 1.2915481328964233], [0.21746380627155304, 1.2915481328964233], [0.21746380627155304, 1.2915481328964233], [0.21746380627155304, 1.2915481328964233], [0.21746380627155304, 1.2915481328964233], [0.21746380627155304, 1.2915481328964233], [0.21746380627155304, 1.2915481328964233], [0.21746380627155304, 1.2915481328964233], [0.21746380627155304, 1.2915481328964233], [0.21746380627155304, 1.2915481328964233], [0.21746380627155304, 1.2915481328964233], [0.21746380627155304, 1.2915481328964233], [0.21746380627155304, 1.2915481328964233], [0.21746380627155304, 1.2915481328964233], [0.21746380627155304, 1.2915481328964233], [0.21746380627155304, 1.2915481328964233]]\n",
      "[[0.3708285093307495, 1.292681097984314], [0.3708285093307495, 1.292681097984314], [0.3708285093307495, 1.292681097984314], [0.3708285093307495, 1.292681097984314], [0.3708285093307495, 1.292681097984314], [0.3708285093307495, 1.292681097984314], [0.3708285093307495, 1.292681097984314], [0.3708285093307495, 1.292681097984314], [0.3708285093307495, 1.292681097984314], [0.3708285093307495, 1.292681097984314], [0.3708285093307495, 1.292681097984314], [0.3708285093307495, 1.292681097984314], [0.3708285093307495, 1.292681097984314], [0.3708285093307495, 1.292681097984314], [0.3708285093307495, 1.292681097984314], [0.3708285093307495, 1.292681097984314], [0.3708285093307495, 1.292681097984314], [0.3708285093307495, 1.292681097984314], [0.3708285093307495, 1.292681097984314], [0.3708285093307495, 1.292681097984314], [0.3708285093307495, 1.292681097984314], [0.3708285093307495, 1.292681097984314], [0.3708285093307495, 1.292681097984314], [0.3708285093307495, 1.292681097984314], [0.3708285093307495, 1.292681097984314]]\n",
      "[[0.49062269926071167, 1.2926965951919556], [0.49062269926071167, 1.2926965951919556], [0.49062269926071167, 1.2926965951919556], [0.49062269926071167, 1.2926965951919556], [0.49062269926071167, 1.2926965951919556], [0.49062269926071167, 1.2926965951919556], [0.49062269926071167, 1.2926965951919556], [0.49062269926071167, 1.2926965951919556], [0.49062269926071167, 1.2926965951919556], [0.49062269926071167, 1.2926965951919556], [0.49062269926071167, 1.2926965951919556], [0.49062269926071167, 1.2926965951919556], [0.49062269926071167, 1.2926965951919556], [0.49062269926071167, 1.2926965951919556], [0.49062269926071167, 1.2926965951919556], [0.49062269926071167, 1.2926965951919556], [0.49062269926071167, 1.2926965951919556], [0.49062269926071167, 1.2926965951919556], [0.49062269926071167, 1.2926965951919556], [0.49062269926071167, 1.2926965951919556], [0.49062269926071167, 1.2926965951919556], [0.49062269926071167, 1.2926965951919556], [0.49062269926071167, 1.2926965951919556], [0.49062269926071167, 1.2926965951919556], [0.49062269926071167, 1.2926965951919556]]\n",
      "[[0.3107437491416931, 1.4274979829788208], [0.3107437491416931, 1.4274979829788208], [0.3107437491416931, 1.4274979829788208], [0.3107437491416931, 1.4274979829788208], [0.3107437491416931, 1.4274979829788208], [0.3107437491416931, 1.4274979829788208], [0.3107437491416931, 1.4274979829788208], [0.3107437491416931, 1.4274979829788208], [0.3107437491416931, 1.4274979829788208], [0.3107437491416931, 1.4274979829788208], [0.3107437491416931, 1.4274979829788208], [0.3107437491416931, 1.4274979829788208], [0.3107437491416931, 1.4274979829788208], [0.3107437491416931, 1.4274979829788208], [0.3107437491416931, 1.4274979829788208], [0.3107437491416931, 1.4274979829788208], [0.3107437491416931, 1.4274979829788208], [0.3107437491416931, 1.4274979829788208], [0.3107437491416931, 1.4274979829788208], [0.3107437491416931, 1.4274979829788208], [0.3107437491416931, 1.4274979829788208], [0.3107437491416931, 1.4274979829788208], [0.3107437491416931, 1.4274979829788208], [0.3107437491416931, 1.4274979829788208], [0.3107437491416931, 1.4274979829788208]]\n",
      "[[0.37601178884506226, 2.1348321437835693], [0.37601178884506226, 2.1348321437835693], [0.37601178884506226, 2.1348321437835693], [0.37601178884506226, 2.1348321437835693], [0.37601178884506226, 2.1348321437835693], [0.37601178884506226, 2.1348321437835693], [0.37601178884506226, 2.1348321437835693], [0.37601178884506226, 2.1348321437835693], [0.37601178884506226, 2.1348321437835693], [0.37601178884506226, 2.1348321437835693], [0.37601178884506226, 2.1348321437835693], [0.37601178884506226, 2.1348321437835693], [0.37601178884506226, 2.1348321437835693], [0.37601178884506226, 2.1348321437835693], [0.37601178884506226, 2.1348321437835693], [0.37601178884506226, 2.1348321437835693], [0.37601178884506226, 2.1348321437835693], [0.37601178884506226, 2.1348321437835693], [0.37601178884506226, 2.1348321437835693], [0.37601178884506226, 2.1348321437835693], [0.37601178884506226, 2.1348321437835693], [0.37601178884506226, 2.1348321437835693], [0.37601178884506226, 2.1348321437835693], [0.37601178884506226, 2.1348321437835693], [0.37601178884506226, 2.1348321437835693]]\n",
      "[[0.3638249933719635, 2.1557796001434326], [0.3638249933719635, 2.1557796001434326], [0.3638249933719635, 2.1557796001434326], [0.3638249933719635, 2.1557796001434326], [0.3638249933719635, 2.1557796001434326], [0.3638249933719635, 2.1557796001434326], [0.3638249933719635, 2.1557796001434326], [0.3638249933719635, 2.1557796001434326], [0.3638249933719635, 2.1557796001434326], [0.3638249933719635, 2.1557796001434326], [0.3638249933719635, 2.1557796001434326], [0.3638249933719635, 2.1557796001434326], [0.3638249933719635, 2.1557796001434326], [0.3638249933719635, 2.1557796001434326], [0.3638249933719635, 2.1557796001434326], [0.3638249933719635, 2.1557796001434326], [0.3638249933719635, 2.1557796001434326], [0.3638249933719635, 2.1557796001434326], [0.3638249933719635, 2.1557796001434326], [0.3638249933719635, 2.1557796001434326], [0.3638249933719635, 2.1557796001434326], [0.3638249933719635, 2.1557796001434326], [0.3638249933719635, 2.1557796001434326], [0.3638249933719635, 2.1557796001434326], [0.3638249933719635, 2.1557796001434326]]\n",
      "[[0.6031748056411743, 0.8281653523445129], [0.6031748056411743, 0.8281653523445129], [0.6031748056411743, 0.8281653523445129], [0.6031748056411743, 0.8281653523445129], [0.6031748056411743, 0.8281653523445129], [0.6031748056411743, 0.8281653523445129], [0.6031748056411743, 0.8281653523445129], [0.6031748056411743, 0.8281653523445129], [0.6031748056411743, 0.8281653523445129], [0.6031748056411743, 0.8281653523445129], [0.6031748056411743, 0.8281653523445129], [0.6031748056411743, 0.8281653523445129], [0.6031748056411743, 0.8281653523445129], [0.6031748056411743, 0.8281653523445129], [0.6031748056411743, 0.8281653523445129], [0.6031748056411743, 0.8281653523445129], [0.6031748056411743, 0.8281653523445129], [0.6031748056411743, 0.8281653523445129], [0.6031748056411743, 0.8281653523445129], [0.6031748056411743, 0.8281653523445129], [0.6031748056411743, 0.8281653523445129], [0.6031748056411743, 0.8281653523445129], [0.6031748056411743, 0.8281653523445129], [0.6031748056411743, 0.8281653523445129], [0.6031748056411743, 0.8281653523445129]]\n",
      "[[0.5838328003883362, 0.829901933670044], [0.5838328003883362, 0.829901933670044], [0.5838328003883362, 0.829901933670044], [0.5838328003883362, 0.829901933670044], [0.5838328003883362, 0.829901933670044], [0.5838328003883362, 0.829901933670044], [0.5838328003883362, 0.829901933670044], [0.5838328003883362, 0.829901933670044], [0.5838328003883362, 0.829901933670044], [0.5838328003883362, 0.829901933670044], [0.5838328003883362, 0.829901933670044], [0.5838328003883362, 0.829901933670044], [0.5838328003883362, 0.829901933670044], [0.5838328003883362, 0.829901933670044], [0.5838328003883362, 0.829901933670044], [0.5838328003883362, 0.829901933670044], [0.5838328003883362, 0.829901933670044], [0.5838328003883362, 0.829901933670044], [0.5838328003883362, 0.829901933670044], [0.5838328003883362, 0.829901933670044], [0.5838328003883362, 0.829901933670044], [0.5838328003883362, 0.829901933670044], [0.5838328003883362, 0.829901933670044], [0.5838328003883362, 0.829901933670044], [0.5838328003883362, 0.829901933670044]]\n"
     ]
    },
    {
     "name": "stdout",
     "output_type": "stream",
     "text": [
      "[[0.5603210926055908, 0.816095232963562], [0.5603210926055908, 0.816095232963562], [0.5603210926055908, 0.816095232963562], [0.5603210926055908, 0.816095232963562], [0.5603210926055908, 0.816095232963562], [0.5603210926055908, 0.816095232963562], [0.5603210926055908, 0.816095232963562], [0.5603210926055908, 0.816095232963562], [0.5603210926055908, 0.816095232963562], [0.5603210926055908, 0.816095232963562], [0.5603210926055908, 0.816095232963562], [0.5603210926055908, 0.816095232963562], [0.5603210926055908, 0.816095232963562], [0.5603210926055908, 0.816095232963562], [0.5603210926055908, 0.816095232963562], [0.5603210926055908, 0.816095232963562], [0.5603210926055908, 0.816095232963562], [0.5603210926055908, 0.816095232963562], [0.5603210926055908, 0.816095232963562], [0.5603210926055908, 0.816095232963562], [0.5603210926055908, 0.816095232963562], [0.5603210926055908, 0.816095232963562], [0.5603210926055908, 0.816095232963562], [0.5603210926055908, 0.816095232963562], [0.5603210926055908, 0.816095232963562]]\n",
      "[[0.5483531951904297, 0.8386906385421753], [0.5483531951904297, 0.8386906385421753], [0.5483531951904297, 0.8386906385421753], [0.5483531951904297, 0.8386906385421753], [0.5483531951904297, 0.8386906385421753], [0.5483531951904297, 0.8386906385421753], [0.5483531951904297, 0.8386906385421753], [0.5483531951904297, 0.8386906385421753], [0.5483531951904297, 0.8386906385421753], [0.5483531951904297, 0.8386906385421753], [0.5483531951904297, 0.8386906385421753], [0.5483531951904297, 0.8386906385421753], [0.5483531951904297, 0.8386906385421753], [0.5483531951904297, 0.8386906385421753], [0.5483531951904297, 0.8386906385421753], [0.5483531951904297, 0.8386906385421753], [0.5483531951904297, 0.8386906385421753], [0.5483531951904297, 0.8386906385421753], [0.5483531951904297, 0.8386906385421753], [0.5483531951904297, 0.8386906385421753], [0.5483531951904297, 0.8386906385421753], [0.5483531951904297, 0.8386906385421753], [0.5483531951904297, 0.8386906385421753], [0.5483531951904297, 0.8386906385421753], [0.5483531951904297, 0.8386906385421753]]\n",
      "[[0.6456152200698853, 0.8246885538101196], [0.6456152200698853, 0.8246885538101196], [0.6456152200698853, 0.8246885538101196], [0.6456152200698853, 0.8246885538101196], [0.6456152200698853, 0.8246885538101196], [0.6456152200698853, 0.8246885538101196], [0.6456152200698853, 0.8246885538101196], [0.6456152200698853, 0.8246885538101196], [0.6456152200698853, 0.8246885538101196], [0.6456152200698853, 0.8246885538101196], [0.6456152200698853, 0.8246885538101196], [0.6456152200698853, 0.8246885538101196], [0.6456152200698853, 0.8246885538101196], [0.6456152200698853, 0.8246885538101196], [0.6456152200698853, 0.8246885538101196], [0.6456152200698853, 0.8246885538101196], [0.6456152200698853, 0.8246885538101196], [0.6456152200698853, 0.8246885538101196], [0.6456152200698853, 0.8246885538101196], [0.6456152200698853, 0.8246885538101196], [0.6456152200698853, 0.8246885538101196], [0.6456152200698853, 0.8246885538101196], [0.6456152200698853, 0.8246885538101196], [0.6456152200698853, 0.8246885538101196], [0.6456152200698853, 0.8246885538101196]]\n",
      "[[0.6404218673706055, 0.8119500875473022], [0.6404218673706055, 0.8119500875473022], [0.6404218673706055, 0.8119500875473022], [0.6404218673706055, 0.8119500875473022], [0.6404218673706055, 0.8119500875473022], [0.6404218673706055, 0.8119500875473022], [0.6404218673706055, 0.8119500875473022], [0.6404218673706055, 0.8119500875473022], [0.6404218673706055, 0.8119500875473022], [0.6404218673706055, 0.8119500875473022], [0.6404218673706055, 0.8119500875473022], [0.6404218673706055, 0.8119500875473022], [0.6404218673706055, 0.8119500875473022], [0.6404218673706055, 0.8119500875473022], [0.6404218673706055, 0.8119500875473022], [0.6404218673706055, 0.8119500875473022], [0.6404218673706055, 0.8119500875473022], [0.6404218673706055, 0.8119500875473022], [0.6404218673706055, 0.8119500875473022], [0.6404218673706055, 0.8119500875473022], [0.6404218673706055, 0.8119500875473022], [0.6404218673706055, 0.8119500875473022], [0.6404218673706055, 0.8119500875473022], [0.6404218673706055, 0.8119500875473022], [0.6404218673706055, 0.8119500875473022]]\n",
      "[[0.6601398587226868, 0.8440498113632202], [0.6601398587226868, 0.8440498113632202], [0.6601398587226868, 0.8440498113632202], [0.6601398587226868, 0.8440498113632202], [0.6601398587226868, 0.8440498113632202], [0.6601398587226868, 0.8440498113632202], [0.6601398587226868, 0.8440498113632202], [0.6601398587226868, 0.8440498113632202], [0.6601398587226868, 0.8440498113632202], [0.6601398587226868, 0.8440498113632202], [0.6601398587226868, 0.8440498113632202], [0.6601398587226868, 0.8440498113632202], [0.6601398587226868, 0.8440498113632202], [0.6601398587226868, 0.8440498113632202], [0.6601398587226868, 0.8440498113632202], [0.6601398587226868, 0.8440498113632202], [0.6601398587226868, 0.8440498113632202], [0.6601398587226868, 0.8440498113632202], [0.6601398587226868, 0.8440498113632202], [0.6601398587226868, 0.8440498113632202], [0.6601398587226868, 0.8440498113632202], [0.6601398587226868, 0.8440498113632202], [0.6601398587226868, 0.8440498113632202], [0.6601398587226868, 0.8440498113632202], [0.6601398587226868, 0.8440498113632202]]\n",
      "[[0.6427466869354248, 0.8492023944854736], [0.6427466869354248, 0.8492023944854736], [0.6427466869354248, 0.8492023944854736], [0.6427466869354248, 0.8492023944854736], [0.6427466869354248, 0.8492023944854736], [0.6427466869354248, 0.8492023944854736], [0.6427466869354248, 0.8492023944854736], [0.6427466869354248, 0.8492023944854736], [0.6427466869354248, 0.8492023944854736], [0.6427466869354248, 0.8492023944854736], [0.6427466869354248, 0.8492023944854736], [0.6427466869354248, 0.8492023944854736], [0.6427466869354248, 0.8492023944854736], [0.6427466869354248, 0.8492023944854736], [0.6427466869354248, 0.8492023944854736], [0.6427466869354248, 0.8492023944854736], [0.6427466869354248, 0.8492023944854736], [0.6427466869354248, 0.8492023944854736], [0.6427466869354248, 0.8492023944854736], [0.6427466869354248, 0.8492023944854736], [0.6427466869354248, 0.8492023944854736], [0.6427466869354248, 0.8492023944854736], [0.6427466869354248, 0.8492023944854736], [0.6427466869354248, 0.8492023944854736], [0.6427466869354248, 0.8492023944854736]]\n",
      "[[0.6095335483551025, 0.8416486382484436], [0.6095335483551025, 0.8416486382484436], [0.6095335483551025, 0.8416486382484436], [0.6095335483551025, 0.8416486382484436], [0.6095335483551025, 0.8416486382484436], [0.6095335483551025, 0.8416486382484436], [0.6095335483551025, 0.8416486382484436], [0.6095335483551025, 0.8416486382484436], [0.6095335483551025, 0.8416486382484436], [0.6095335483551025, 0.8416486382484436], [0.6095335483551025, 0.8416486382484436], [0.6095335483551025, 0.8416486382484436], [0.6095335483551025, 0.8416486382484436], [0.6095335483551025, 0.8416486382484436], [0.6095335483551025, 0.8416486382484436], [0.6095335483551025, 0.8416486382484436], [0.6095335483551025, 0.8416486382484436], [0.6095335483551025, 0.8416486382484436], [0.6095335483551025, 0.8416486382484436], [0.6095335483551025, 0.8416486382484436], [0.6095335483551025, 0.8416486382484436], [0.6095335483551025, 0.8416486382484436], [0.6095335483551025, 0.8416486382484436], [0.6095335483551025, 0.8416486382484436], [0.6095335483551025, 0.8416486382484436]]\n",
      "[[0.6073436737060547, 0.8350794911384583], [0.6073436737060547, 0.8350794911384583], [0.6073436737060547, 0.8350794911384583], [0.6073436737060547, 0.8350794911384583], [0.6073436737060547, 0.8350794911384583], [0.6073436737060547, 0.8350794911384583], [0.6073436737060547, 0.8350794911384583], [0.6073436737060547, 0.8350794911384583], [0.6073436737060547, 0.8350794911384583], [0.6073436737060547, 0.8350794911384583], [0.6073436737060547, 0.8350794911384583], [0.6073436737060547, 0.8350794911384583], [0.6073436737060547, 0.8350794911384583], [0.6073436737060547, 0.8350794911384583], [0.6073436737060547, 0.8350794911384583], [0.6073436737060547, 0.8350794911384583], [0.6073436737060547, 0.8350794911384583], [0.6073436737060547, 0.8350794911384583], [0.6073436737060547, 0.8350794911384583], [0.6073436737060547, 0.8350794911384583], [0.6073436737060547, 0.8350794911384583], [0.6073436737060547, 0.8350794911384583], [0.6073436737060547, 0.8350794911384583], [0.6073436737060547, 0.8350794911384583], [0.6073436737060547, 0.8350794911384583]]\n"
     ]
    },
    {
     "name": "stdout",
     "output_type": "stream",
     "text": [
      "[[0.6358556151390076, 0.83994060754776], [0.6358556151390076, 0.83994060754776], [0.6358556151390076, 0.83994060754776], [0.6358556151390076, 0.83994060754776], [0.6358556151390076, 0.83994060754776], [0.6358556151390076, 0.83994060754776], [0.6358556151390076, 0.83994060754776], [0.6358556151390076, 0.83994060754776], [0.6358556151390076, 0.83994060754776], [0.6358556151390076, 0.83994060754776], [0.6358556151390076, 0.83994060754776], [0.6358556151390076, 0.83994060754776], [0.6358556151390076, 0.83994060754776], [0.6358556151390076, 0.83994060754776], [0.6358556151390076, 0.83994060754776], [0.6358556151390076, 0.83994060754776], [0.6358556151390076, 0.83994060754776], [0.6358556151390076, 0.83994060754776], [0.6358556151390076, 0.83994060754776], [0.6358556151390076, 0.83994060754776], [0.6358556151390076, 0.83994060754776], [0.6358556151390076, 0.83994060754776], [0.6358556151390076, 0.83994060754776], [0.6358556151390076, 0.83994060754776], [0.6358556151390076, 0.83994060754776]]\n",
      "[[0.6313776969909668, 0.8383249640464783], [0.6313776969909668, 0.8383249640464783], [0.6313776969909668, 0.8383249640464783], [0.6313776969909668, 0.8383249640464783], [0.6313776969909668, 0.8383249640464783], [0.6313776969909668, 0.8383249640464783], [0.6313776969909668, 0.8383249640464783], [0.6313776969909668, 0.8383249640464783], [0.6313776969909668, 0.8383249640464783], [0.6313776969909668, 0.8383249640464783], [0.6313776969909668, 0.8383249640464783], [0.6313776969909668, 0.8383249640464783], [0.6313776969909668, 0.8383249640464783], [0.6313776969909668, 0.8383249640464783], [0.6313776969909668, 0.8383249640464783], [0.6313776969909668, 0.8383249640464783], [0.6313776969909668, 0.8383249640464783], [0.6313776969909668, 0.8383249640464783], [0.6313776969909668, 0.8383249640464783], [0.6313776969909668, 0.8383249640464783], [0.6313776969909668, 0.8383249640464783], [0.6313776969909668, 0.8383249640464783], [0.6313776969909668, 0.8383249640464783], [0.6313776969909668, 0.8383249640464783], [0.6313776969909668, 0.8383249640464783]]\n",
      "[[0.6318404674530029, 0.8506487607955933], [0.6318404674530029, 0.8506487607955933], [0.6318404674530029, 0.8506487607955933], [0.6318404674530029, 0.8506487607955933], [0.6318404674530029, 0.8506487607955933], [0.6318404674530029, 0.8506487607955933], [0.6318404674530029, 0.8506487607955933], [0.6318404674530029, 0.8506487607955933], [0.6318404674530029, 0.8506487607955933], [0.6318404674530029, 0.8506487607955933], [0.6318404674530029, 0.8506487607955933], [0.6318404674530029, 0.8506487607955933], [0.6318404674530029, 0.8506487607955933], [0.6318404674530029, 0.8506487607955933], [0.6318404674530029, 0.8506487607955933], [0.6318404674530029, 0.8506487607955933], [0.6318404674530029, 0.8506487607955933], [0.6318404674530029, 0.8506487607955933], [0.6318404674530029, 0.8506487607955933], [0.6318404674530029, 0.8506487607955933], [0.6318404674530029, 0.8506487607955933], [0.6318404674530029, 0.8506487607955933], [0.6318404674530029, 0.8506487607955933], [0.6318404674530029, 0.8506487607955933], [0.6318404674530029, 0.8506487607955933]]\n",
      "[[0.6250104904174805, 0.8496068716049194], [0.6250104904174805, 0.8496068716049194], [0.6250104904174805, 0.8496068716049194], [0.6250104904174805, 0.8496068716049194], [0.6250104904174805, 0.8496068716049194], [0.6250104904174805, 0.8496068716049194], [0.6250104904174805, 0.8496068716049194], [0.6250104904174805, 0.8496068716049194], [0.6250104904174805, 0.8496068716049194], [0.6250104904174805, 0.8496068716049194], [0.6250104904174805, 0.8496068716049194], [0.6250104904174805, 0.8496068716049194], [0.6250104904174805, 0.8496068716049194], [0.6250104904174805, 0.8496068716049194], [0.6250104904174805, 0.8496068716049194], [0.6250104904174805, 0.8496068716049194], [0.6250104904174805, 0.8496068716049194], [0.6250104904174805, 0.8496068716049194], [0.6250104904174805, 0.8496068716049194], [0.6250104904174805, 0.8496068716049194], [0.6250104904174805, 0.8496068716049194], [0.6250104904174805, 0.8496068716049194], [0.6250104904174805, 0.8496068716049194], [0.6250104904174805, 0.8496068716049194], [0.6250104904174805, 0.8496068716049194]]\n",
      "[[0.6114490032196045, 0.8483827114105225], [0.6114490032196045, 0.8483827114105225], [0.6114490032196045, 0.8483827114105225], [0.6114490032196045, 0.8483827114105225], [0.6114490032196045, 0.8483827114105225], [0.6114490032196045, 0.8483827114105225], [0.6114490032196045, 0.8483827114105225], [0.6114490032196045, 0.8483827114105225], [0.6114490032196045, 0.8483827114105225], [0.6114490032196045, 0.8483827114105225], [0.6114490032196045, 0.8483827114105225], [0.6114490032196045, 0.8483827114105225], [0.6114490032196045, 0.8483827114105225], [0.6114490032196045, 0.8483827114105225], [0.6114490032196045, 0.8483827114105225], [0.6114490032196045, 0.8483827114105225], [0.6114490032196045, 0.8483827114105225], [0.6114490032196045, 0.8483827114105225], [0.6114490032196045, 0.8483827114105225], [0.6114490032196045, 0.8483827114105225], [0.6114490032196045, 0.8483827114105225], [0.6114490032196045, 0.8483827114105225], [0.6114490032196045, 0.8483827114105225], [0.6114490032196045, 0.8483827114105225], [0.6114490032196045, 0.8483827114105225]]\n",
      "[[0.5679653286933899, 0.8512704968452454], [0.5679653286933899, 0.8512704968452454], [0.5679653286933899, 0.8512704968452454], [0.5679653286933899, 0.8512704968452454], [0.5679653286933899, 0.8512704968452454], [0.5679653286933899, 0.8512704968452454], [0.5679653286933899, 0.8512704968452454], [0.5679653286933899, 0.8512704968452454], [0.5679653286933899, 0.8512704968452454], [0.5679653286933899, 0.8512704968452454], [0.5679653286933899, 0.8512704968452454], [0.5679653286933899, 0.8512704968452454], [0.5679653286933899, 0.8512704968452454], [0.5679653286933899, 0.8512704968452454], [0.5679653286933899, 0.8512704968452454], [0.5679653286933899, 0.8512704968452454], [0.5679653286933899, 0.8512704968452454], [0.5679653286933899, 0.8512704968452454], [0.5679653286933899, 0.8512704968452454], [0.5679653286933899, 0.8512704968452454], [0.5679653286933899, 0.8512704968452454], [0.5679653286933899, 0.8512704968452454], [0.5679653286933899, 0.8512704968452454], [0.5679653286933899, 0.8512704968452454], [0.5679653286933899, 0.8512704968452454]]\n",
      "[[0.6028046011924744, 0.8410372138023376], [0.6028046011924744, 0.8410372138023376], [0.6028046011924744, 0.8410372138023376], [0.6028046011924744, 0.8410372138023376], [0.6028046011924744, 0.8410372138023376], [0.6028046011924744, 0.8410372138023376], [0.6028046011924744, 0.8410372138023376], [0.6028046011924744, 0.8410372138023376], [0.6028046011924744, 0.8410372138023376], [0.6028046011924744, 0.8410372138023376], [0.6028046011924744, 0.8410372138023376], [0.6028046011924744, 0.8410372138023376], [0.6028046011924744, 0.8410372138023376], [0.6028046011924744, 0.8410372138023376], [0.6028046011924744, 0.8410372138023376], [0.6028046011924744, 0.8410372138023376], [0.6028046011924744, 0.8410372138023376], [0.6028046011924744, 0.8410372138023376], [0.6028046011924744, 0.8410372138023376], [0.6028046011924744, 0.8410372138023376], [0.6028046011924744, 0.8410372138023376], [0.6028046011924744, 0.8410372138023376], [0.6028046011924744, 0.8410372138023376], [0.6028046011924744, 0.8410372138023376], [0.6028046011924744, 0.8410372138023376]]\n",
      "[[0.6160401105880737, 0.8490894436836243], [0.6160401105880737, 0.8490894436836243], [0.6160401105880737, 0.8490894436836243], [0.6160401105880737, 0.8490894436836243], [0.6160401105880737, 0.8490894436836243], [0.6160401105880737, 0.8490894436836243], [0.6160401105880737, 0.8490894436836243], [0.6160401105880737, 0.8490894436836243], [0.6160401105880737, 0.8490894436836243], [0.6160401105880737, 0.8490894436836243], [0.6160401105880737, 0.8490894436836243], [0.6160401105880737, 0.8490894436836243], [0.6160401105880737, 0.8490894436836243], [0.6160401105880737, 0.8490894436836243], [0.6160401105880737, 0.8490894436836243], [0.6160401105880737, 0.8490894436836243], [0.6160401105880737, 0.8490894436836243], [0.6160401105880737, 0.8490894436836243], [0.6160401105880737, 0.8490894436836243], [0.6160401105880737, 0.8490894436836243], [0.6160401105880737, 0.8490894436836243], [0.6160401105880737, 0.8490894436836243], [0.6160401105880737, 0.8490894436836243], [0.6160401105880737, 0.8490894436836243], [0.6160401105880737, 0.8490894436836243]]\n"
     ]
    },
    {
     "name": "stdout",
     "output_type": "stream",
     "text": [
      "[[0.613795816898346, 0.835313081741333], [0.613795816898346, 0.835313081741333], [0.613795816898346, 0.835313081741333], [0.613795816898346, 0.835313081741333], [0.613795816898346, 0.835313081741333], [0.613795816898346, 0.835313081741333], [0.613795816898346, 0.835313081741333], [0.613795816898346, 0.835313081741333], [0.613795816898346, 0.835313081741333], [0.613795816898346, 0.835313081741333], [0.613795816898346, 0.835313081741333], [0.613795816898346, 0.835313081741333], [0.613795816898346, 0.835313081741333], [0.613795816898346, 0.835313081741333], [0.613795816898346, 0.835313081741333], [0.613795816898346, 0.835313081741333], [0.613795816898346, 0.835313081741333], [0.613795816898346, 0.835313081741333], [0.613795816898346, 0.835313081741333], [0.613795816898346, 0.835313081741333], [0.613795816898346, 0.835313081741333], [0.613795816898346, 0.835313081741333], [0.613795816898346, 0.835313081741333], [0.613795816898346, 0.835313081741333], [0.613795816898346, 0.835313081741333]]\n",
      "[[0.570412814617157, 0.8026686906814575], [0.570412814617157, 0.8026686906814575], [0.570412814617157, 0.8026686906814575], [0.570412814617157, 0.8026686906814575], [0.570412814617157, 0.8026686906814575], [0.570412814617157, 0.8026686906814575], [0.570412814617157, 0.8026686906814575], [0.570412814617157, 0.8026686906814575], [0.570412814617157, 0.8026686906814575], [0.570412814617157, 0.8026686906814575], [0.570412814617157, 0.8026686906814575], [0.570412814617157, 0.8026686906814575], [0.570412814617157, 0.8026686906814575], [0.570412814617157, 0.8026686906814575], [0.570412814617157, 0.8026686906814575], [0.570412814617157, 0.8026686906814575], [0.570412814617157, 0.8026686906814575], [0.570412814617157, 0.8026686906814575], [0.570412814617157, 0.8026686906814575], [0.570412814617157, 0.8026686906814575], [0.570412814617157, 0.8026686906814575], [0.570412814617157, 0.8026686906814575], [0.570412814617157, 0.8026686906814575], [0.570412814617157, 0.8026686906814575], [0.570412814617157, 0.8026686906814575]]\n",
      "[[0.6780927777290344, 0.8175671696662903], [0.6780927777290344, 0.8175671696662903], [0.6780927777290344, 0.8175671696662903], [0.6780927777290344, 0.8175671696662903], [0.6780927777290344, 0.8175671696662903], [0.6780927777290344, 0.8175671696662903], [0.6780927777290344, 0.8175671696662903], [0.6780927777290344, 0.8175671696662903], [0.6780927777290344, 0.8175671696662903], [0.6780927777290344, 0.8175671696662903], [0.6780927777290344, 0.8175671696662903], [0.6780927777290344, 0.8175671696662903], [0.6780927777290344, 0.8175671696662903], [0.6780927777290344, 0.8175671696662903], [0.6780927777290344, 0.8175671696662903], [0.6780927777290344, 0.8175671696662903], [0.6780927777290344, 0.8175671696662903], [0.6780927777290344, 0.8175671696662903], [0.6780927777290344, 0.8175671696662903], [0.6780927777290344, 0.8175671696662903], [0.6780927777290344, 0.8175671696662903], [0.6780927777290344, 0.8175671696662903], [0.6780927777290344, 0.8175671696662903], [0.6780927777290344, 0.8175671696662903], [0.6780927777290344, 0.8175671696662903]]\n",
      "[[0.6113595962524414, 0.8198373913764954], [0.6113595962524414, 0.8198373913764954], [0.6113595962524414, 0.8198373913764954], [0.6113595962524414, 0.8198373913764954], [0.6113595962524414, 0.8198373913764954], [0.6113595962524414, 0.8198373913764954], [0.6113595962524414, 0.8198373913764954], [0.6113595962524414, 0.8198373913764954], [0.6113595962524414, 0.8198373913764954], [0.6113595962524414, 0.8198373913764954], [0.6113595962524414, 0.8198373913764954], [0.6113595962524414, 0.8198373913764954], [0.6113595962524414, 0.8198373913764954], [0.6113595962524414, 0.8198373913764954], [0.6113595962524414, 0.8198373913764954], [0.6113595962524414, 0.8198373913764954], [0.6113595962524414, 0.8198373913764954], [0.6113595962524414, 0.8198373913764954], [0.6113595962524414, 0.8198373913764954], [0.6113595962524414, 0.8198373913764954], [0.6113595962524414, 0.8198373913764954], [0.6113595962524414, 0.8198373913764954], [0.6113595962524414, 0.8198373913764954], [0.6113595962524414, 0.8198373913764954], [0.6113595962524414, 0.8198373913764954]]\n",
      "[[0.6802170872688293, 0.834396481513977], [0.6802170872688293, 0.834396481513977], [0.6802170872688293, 0.834396481513977], [0.6802170872688293, 0.834396481513977], [0.6802170872688293, 0.834396481513977], [0.6802170872688293, 0.834396481513977], [0.6802170872688293, 0.834396481513977], [0.6802170872688293, 0.834396481513977], [0.6802170872688293, 0.834396481513977], [0.6802170872688293, 0.834396481513977], [0.6802170872688293, 0.834396481513977], [0.6802170872688293, 0.834396481513977], [0.6802170872688293, 0.834396481513977], [0.6802170872688293, 0.834396481513977], [0.6802170872688293, 0.834396481513977], [0.6802170872688293, 0.834396481513977], [0.6802170872688293, 0.834396481513977], [0.6802170872688293, 0.834396481513977], [0.6802170872688293, 0.834396481513977], [0.6802170872688293, 0.834396481513977], [0.6802170872688293, 0.834396481513977], [0.6802170872688293, 0.834396481513977], [0.6802170872688293, 0.834396481513977], [0.6802170872688293, 0.834396481513977], [0.6802170872688293, 0.834396481513977]]\n",
      "[[0.636215329170227, 0.8110223412513733], [0.636215329170227, 0.8110223412513733], [0.636215329170227, 0.8110223412513733], [0.636215329170227, 0.8110223412513733], [0.636215329170227, 0.8110223412513733], [0.636215329170227, 0.8110223412513733], [0.636215329170227, 0.8110223412513733], [0.636215329170227, 0.8110223412513733], [0.636215329170227, 0.8110223412513733], [0.636215329170227, 0.8110223412513733], [0.636215329170227, 0.8110223412513733], [0.636215329170227, 0.8110223412513733], [0.636215329170227, 0.8110223412513733], [0.636215329170227, 0.8110223412513733], [0.636215329170227, 0.8110223412513733], [0.636215329170227, 0.8110223412513733], [0.636215329170227, 0.8110223412513733], [0.636215329170227, 0.8110223412513733], [0.636215329170227, 0.8110223412513733], [0.636215329170227, 0.8110223412513733], [0.636215329170227, 0.8110223412513733], [0.636215329170227, 0.8110223412513733], [0.636215329170227, 0.8110223412513733], [0.636215329170227, 0.8110223412513733], [0.636215329170227, 0.8110223412513733]]\n",
      "[[0.6182079315185547, 0.8038373589515686], [0.6182079315185547, 0.8038373589515686], [0.6182079315185547, 0.8038373589515686], [0.6182079315185547, 0.8038373589515686], [0.6182079315185547, 0.8038373589515686], [0.6182079315185547, 0.8038373589515686], [0.6182079315185547, 0.8038373589515686], [0.6182079315185547, 0.8038373589515686], [0.6182079315185547, 0.8038373589515686], [0.6182079315185547, 0.8038373589515686], [0.6182079315185547, 0.8038373589515686], [0.6182079315185547, 0.8038373589515686], [0.6182079315185547, 0.8038373589515686], [0.6182079315185547, 0.8038373589515686], [0.6182079315185547, 0.8038373589515686], [0.6182079315185547, 0.8038373589515686], [0.6182079315185547, 0.8038373589515686], [0.6182079315185547, 0.8038373589515686], [0.6182079315185547, 0.8038373589515686], [0.6182079315185547, 0.8038373589515686], [0.6182079315185547, 0.8038373589515686], [0.6182079315185547, 0.8038373589515686], [0.6182079315185547, 0.8038373589515686], [0.6182079315185547, 0.8038373589515686], [0.6182079315185547, 0.8038373589515686]]\n",
      "[[0.6221377849578857, 0.8185364007949829], [0.6221377849578857, 0.8185364007949829], [0.6221377849578857, 0.8185364007949829], [0.6221377849578857, 0.8185364007949829], [0.6221377849578857, 0.8185364007949829], [0.6221377849578857, 0.8185364007949829], [0.6221377849578857, 0.8185364007949829], [0.6221377849578857, 0.8185364007949829], [0.6221377849578857, 0.8185364007949829], [0.6221377849578857, 0.8185364007949829], [0.6221377849578857, 0.8185364007949829], [0.6221377849578857, 0.8185364007949829], [0.6221377849578857, 0.8185364007949829], [0.6221377849578857, 0.8185364007949829], [0.6221377849578857, 0.8185364007949829], [0.6221377849578857, 0.8185364007949829], [0.6221377849578857, 0.8185364007949829], [0.6221377849578857, 0.8185364007949829], [0.6221377849578857, 0.8185364007949829], [0.6221377849578857, 0.8185364007949829], [0.6221377849578857, 0.8185364007949829], [0.6221377849578857, 0.8185364007949829], [0.6221377849578857, 0.8185364007949829], [0.6221377849578857, 0.8185364007949829], [0.6221377849578857, 0.8185364007949829]]\n",
      "[[0.6336408853530884, 0.779540479183197], [0.6336408853530884, 0.779540479183197], [0.6336408853530884, 0.779540479183197], [0.6336408853530884, 0.779540479183197], [0.6336408853530884, 0.779540479183197], [0.6336408853530884, 0.779540479183197], [0.6336408853530884, 0.779540479183197], [0.6336408853530884, 0.779540479183197], [0.6336408853530884, 0.779540479183197], [0.6336408853530884, 0.779540479183197], [0.6336408853530884, 0.779540479183197], [0.6336408853530884, 0.779540479183197], [0.6336408853530884, 0.779540479183197], [0.6336408853530884, 0.779540479183197], [0.6336408853530884, 0.779540479183197], [0.6336408853530884, 0.779540479183197], [0.6336408853530884, 0.779540479183197], [0.6336408853530884, 0.779540479183197], [0.6336408853530884, 0.779540479183197], [0.6336408853530884, 0.779540479183197], [0.6336408853530884, 0.779540479183197], [0.6336408853530884, 0.779540479183197], [0.6336408853530884, 0.779540479183197], [0.6336408853530884, 0.779540479183197], [0.6336408853530884, 0.779540479183197]]\n"
     ]
    },
    {
     "name": "stdout",
     "output_type": "stream",
     "text": [
      "[[0.6115078926086426, 0.8276023864746094], [0.6115078926086426, 0.8276023864746094], [0.6115078926086426, 0.8276023864746094], [0.6115078926086426, 0.8276023864746094], [0.6115078926086426, 0.8276023864746094], [0.6115078926086426, 0.8276023864746094], [0.6115078926086426, 0.8276023864746094], [0.6115078926086426, 0.8276023864746094], [0.6115078926086426, 0.8276023864746094], [0.6115078926086426, 0.8276023864746094], [0.6115078926086426, 0.8276023864746094], [0.6115078926086426, 0.8276023864746094], [0.6115078926086426, 0.8276023864746094], [0.6115078926086426, 0.8276023864746094], [0.6115078926086426, 0.8276023864746094], [0.6115078926086426, 0.8276023864746094], [0.6115078926086426, 0.8276023864746094], [0.6115078926086426, 0.8276023864746094], [0.6115078926086426, 0.8276023864746094], [0.6115078926086426, 0.8276023864746094], [0.6115078926086426, 0.8276023864746094], [0.6115078926086426, 0.8276023864746094], [0.6115078926086426, 0.8276023864746094], [0.6115078926086426, 0.8276023864746094], [0.6115078926086426, 0.8276023864746094]]\n",
      "[[0.6162052750587463, 0.8283887505531311], [0.6162052750587463, 0.8283887505531311], [0.6162052750587463, 0.8283887505531311], [0.6162052750587463, 0.8283887505531311], [0.6162052750587463, 0.8283887505531311], [0.6162052750587463, 0.8283887505531311], [0.6162052750587463, 0.8283887505531311], [0.6162052750587463, 0.8283887505531311], [0.6162052750587463, 0.8283887505531311], [0.6162052750587463, 0.8283887505531311], [0.6162052750587463, 0.8283887505531311], [0.6162052750587463, 0.8283887505531311], [0.6162052750587463, 0.8283887505531311], [0.6162052750587463, 0.8283887505531311], [0.6162052750587463, 0.8283887505531311], [0.6162052750587463, 0.8283887505531311], [0.6162052750587463, 0.8283887505531311], [0.6162052750587463, 0.8283887505531311], [0.6162052750587463, 0.8283887505531311], [0.6162052750587463, 0.8283887505531311], [0.6162052750587463, 0.8283887505531311], [0.6162052750587463, 0.8283887505531311], [0.6162052750587463, 0.8283887505531311], [0.6162052750587463, 0.8283887505531311], [0.6162052750587463, 0.8283887505531311]]\n",
      "[[0.6055425405502319, 0.8059793710708618], [0.6055425405502319, 0.8059793710708618], [0.6055425405502319, 0.8059793710708618], [0.6055425405502319, 0.8059793710708618], [0.6055425405502319, 0.8059793710708618], [0.6055425405502319, 0.8059793710708618], [0.6055425405502319, 0.8059793710708618], [0.6055425405502319, 0.8059793710708618], [0.6055425405502319, 0.8059793710708618], [0.6055425405502319, 0.8059793710708618], [0.6055425405502319, 0.8059793710708618], [0.6055425405502319, 0.8059793710708618], [0.6055425405502319, 0.8059793710708618], [0.6055425405502319, 0.8059793710708618], [0.6055425405502319, 0.8059793710708618], [0.6055425405502319, 0.8059793710708618], [0.6055425405502319, 0.8059793710708618], [0.6055425405502319, 0.8059793710708618], [0.6055425405502319, 0.8059793710708618], [0.6055425405502319, 0.8059793710708618], [0.6055425405502319, 0.8059793710708618], [0.6055425405502319, 0.8059793710708618], [0.6055425405502319, 0.8059793710708618], [0.6055425405502319, 0.8059793710708618], [0.6055425405502319, 0.8059793710708618]]\n",
      "[[0.6377178430557251, 0.8492674231529236], [0.6377178430557251, 0.8492674231529236], [0.6377178430557251, 0.8492674231529236], [0.6377178430557251, 0.8492674231529236], [0.6377178430557251, 0.8492674231529236], [0.6377178430557251, 0.8492674231529236], [0.6377178430557251, 0.8492674231529236], [0.6377178430557251, 0.8492674231529236], [0.6377178430557251, 0.8492674231529236], [0.6377178430557251, 0.8492674231529236], [0.6377178430557251, 0.8492674231529236], [0.6377178430557251, 0.8492674231529236], [0.6377178430557251, 0.8492674231529236], [0.6377178430557251, 0.8492674231529236], [0.6377178430557251, 0.8492674231529236], [0.6377178430557251, 0.8492674231529236], [0.6377178430557251, 0.8492674231529236], [0.6377178430557251, 0.8492674231529236], [0.6377178430557251, 0.8492674231529236], [0.6377178430557251, 0.8492674231529236], [0.6377178430557251, 0.8492674231529236], [0.6377178430557251, 0.8492674231529236], [0.6377178430557251, 0.8492674231529236], [0.6377178430557251, 0.8492674231529236], [0.6377178430557251, 0.8492674231529236]]\n",
      "[[0.6219128370285034, 0.8445630669593811], [0.6219128370285034, 0.8445630669593811], [0.6219128370285034, 0.8445630669593811], [0.6219128370285034, 0.8445630669593811], [0.6219128370285034, 0.8445630669593811], [0.6219128370285034, 0.8445630669593811], [0.6219128370285034, 0.8445630669593811], [0.6219128370285034, 0.8445630669593811], [0.6219128370285034, 0.8445630669593811], [0.6219128370285034, 0.8445630669593811], [0.6219128370285034, 0.8445630669593811], [0.6219128370285034, 0.8445630669593811], [0.6219128370285034, 0.8445630669593811], [0.6219128370285034, 0.8445630669593811], [0.6219128370285034, 0.8445630669593811], [0.6219128370285034, 0.8445630669593811], [0.6219128370285034, 0.8445630669593811], [0.6219128370285034, 0.8445630669593811], [0.6219128370285034, 0.8445630669593811], [0.6219128370285034, 0.8445630669593811], [0.6219128370285034, 0.8445630669593811], [0.6219128370285034, 0.8445630669593811], [0.6219128370285034, 0.8445630669593811], [0.6219128370285034, 0.8445630669593811], [0.6219128370285034, 0.8445630669593811]]\n",
      "[[0.6699908375740051, 0.8076921105384827], [0.6699908375740051, 0.8076921105384827], [0.6699908375740051, 0.8076921105384827], [0.6699908375740051, 0.8076921105384827], [0.6699908375740051, 0.8076921105384827], [0.6699908375740051, 0.8076921105384827], [0.6699908375740051, 0.8076921105384827], [0.6699908375740051, 0.8076921105384827], [0.6699908375740051, 0.8076921105384827], [0.6699908375740051, 0.8076921105384827], [0.6699908375740051, 0.8076921105384827], [0.6699908375740051, 0.8076921105384827], [0.6699908375740051, 0.8076921105384827], [0.6699908375740051, 0.8076921105384827], [0.6699908375740051, 0.8076921105384827], [0.6699908375740051, 0.8076921105384827], [0.6699908375740051, 0.8076921105384827], [0.6699908375740051, 0.8076921105384827], [0.6699908375740051, 0.8076921105384827], [0.6699908375740051, 0.8076921105384827], [0.6699908375740051, 0.8076921105384827], [0.6699908375740051, 0.8076921105384827], [0.6699908375740051, 0.8076921105384827], [0.6699908375740051, 0.8076921105384827], [0.6699908375740051, 0.8076921105384827]]\n",
      "[[0.5853249430656433, 0.8451347947120667], [0.5853249430656433, 0.8451347947120667], [0.5853249430656433, 0.8451347947120667], [0.5853249430656433, 0.8451347947120667], [0.5853249430656433, 0.8451347947120667], [0.5853249430656433, 0.8451347947120667], [0.5853249430656433, 0.8451347947120667], [0.5853249430656433, 0.8451347947120667], [0.5853249430656433, 0.8451347947120667], [0.5853249430656433, 0.8451347947120667], [0.5853249430656433, 0.8451347947120667], [0.5853249430656433, 0.8451347947120667], [0.5853249430656433, 0.8451347947120667], [0.5853249430656433, 0.8451347947120667], [0.5853249430656433, 0.8451347947120667], [0.5853249430656433, 0.8451347947120667], [0.5853249430656433, 0.8451347947120667], [0.5853249430656433, 0.8451347947120667], [0.5853249430656433, 0.8451347947120667], [0.5853249430656433, 0.8451347947120667], [0.5853249430656433, 0.8451347947120667], [0.5853249430656433, 0.8451347947120667], [0.5853249430656433, 0.8451347947120667], [0.5853249430656433, 0.8451347947120667], [0.5853249430656433, 0.8451347947120667]]\n",
      "[[0.6429892778396606, 0.8238752484321594], [0.6429892778396606, 0.8238752484321594], [0.6429892778396606, 0.8238752484321594], [0.6429892778396606, 0.8238752484321594], [0.6429892778396606, 0.8238752484321594], [0.6429892778396606, 0.8238752484321594], [0.6429892778396606, 0.8238752484321594], [0.6429892778396606, 0.8238752484321594], [0.6429892778396606, 0.8238752484321594], [0.6429892778396606, 0.8238752484321594], [0.6429892778396606, 0.8238752484321594], [0.6429892778396606, 0.8238752484321594], [0.6429892778396606, 0.8238752484321594], [0.6429892778396606, 0.8238752484321594], [0.6429892778396606, 0.8238752484321594], [0.6429892778396606, 0.8238752484321594], [0.6429892778396606, 0.8238752484321594], [0.6429892778396606, 0.8238752484321594], [0.6429892778396606, 0.8238752484321594], [0.6429892778396606, 0.8238752484321594], [0.6429892778396606, 0.8238752484321594], [0.6429892778396606, 0.8238752484321594], [0.6429892778396606, 0.8238752484321594], [0.6429892778396606, 0.8238752484321594], [0.6429892778396606, 0.8238752484321594]]\n"
     ]
    },
    {
     "name": "stdout",
     "output_type": "stream",
     "text": [
      "[[0.6661213636398315, 0.8720000982284546], [0.6661213636398315, 0.8720000982284546], [0.6661213636398315, 0.8720000982284546], [0.6661213636398315, 0.8720000982284546], [0.6661213636398315, 0.8720000982284546], [0.6661213636398315, 0.8720000982284546], [0.6661213636398315, 0.8720000982284546], [0.6661213636398315, 0.8720000982284546], [0.6661213636398315, 0.8720000982284546], [0.6661213636398315, 0.8720000982284546], [0.6661213636398315, 0.8720000982284546], [0.6661213636398315, 0.8720000982284546], [0.6661213636398315, 0.8720000982284546], [0.6661213636398315, 0.8720000982284546], [0.6661213636398315, 0.8720000982284546], [0.6661213636398315, 0.8720000982284546], [0.6661213636398315, 0.8720000982284546], [0.6661213636398315, 0.8720000982284546], [0.6661213636398315, 0.8720000982284546], [0.6661213636398315, 0.8720000982284546], [0.6661213636398315, 0.8720000982284546], [0.6661213636398315, 0.8720000982284546], [0.6661213636398315, 0.8720000982284546], [0.6661213636398315, 0.8720000982284546], [0.6661213636398315, 0.8720000982284546]]\n",
      "[[0.6218490600585938, 0.8548659086227417], [0.6218490600585938, 0.8548659086227417], [0.6218490600585938, 0.8548659086227417], [0.6218490600585938, 0.8548659086227417], [0.6218490600585938, 0.8548659086227417], [0.6218490600585938, 0.8548659086227417], [0.6218490600585938, 0.8548659086227417], [0.6218490600585938, 0.8548659086227417], [0.6218490600585938, 0.8548659086227417], [0.6218490600585938, 0.8548659086227417], [0.6218490600585938, 0.8548659086227417], [0.6218490600585938, 0.8548659086227417], [0.6218490600585938, 0.8548659086227417], [0.6218490600585938, 0.8548659086227417], [0.6218490600585938, 0.8548659086227417], [0.6218490600585938, 0.8548659086227417], [0.6218490600585938, 0.8548659086227417], [0.6218490600585938, 0.8548659086227417], [0.6218490600585938, 0.8548659086227417], [0.6218490600585938, 0.8548659086227417], [0.6218490600585938, 0.8548659086227417], [0.6218490600585938, 0.8548659086227417], [0.6218490600585938, 0.8548659086227417], [0.6218490600585938, 0.8548659086227417], [0.6218490600585938, 0.8548659086227417]]\n",
      "[[0.6858594417572021, 0.820686399936676], [0.6858594417572021, 0.820686399936676], [0.6858594417572021, 0.820686399936676], [0.6858594417572021, 0.820686399936676], [0.6858594417572021, 0.820686399936676], [0.6858594417572021, 0.820686399936676], [0.6858594417572021, 0.820686399936676], [0.6858594417572021, 0.820686399936676], [0.6858594417572021, 0.820686399936676], [0.6858594417572021, 0.820686399936676], [0.6858594417572021, 0.820686399936676], [0.6858594417572021, 0.820686399936676], [0.6858594417572021, 0.820686399936676], [0.6858594417572021, 0.820686399936676], [0.6858594417572021, 0.820686399936676], [0.6858594417572021, 0.820686399936676], [0.6858594417572021, 0.820686399936676], [0.6858594417572021, 0.820686399936676], [0.6858594417572021, 0.820686399936676], [0.6858594417572021, 0.820686399936676], [0.6858594417572021, 0.820686399936676], [0.6858594417572021, 0.820686399936676], [0.6858594417572021, 0.820686399936676], [0.6858594417572021, 0.820686399936676], [0.6858594417572021, 0.820686399936676]]\n",
      "[[0.7161936163902283, 0.8291065096855164], [0.7161936163902283, 0.8291065096855164], [0.7161936163902283, 0.8291065096855164], [0.7161936163902283, 0.8291065096855164], [0.7161936163902283, 0.8291065096855164], [0.7161936163902283, 0.8291065096855164], [0.7161936163902283, 0.8291065096855164], [0.7161936163902283, 0.8291065096855164], [0.7161936163902283, 0.8291065096855164], [0.7161936163902283, 0.8291065096855164], [0.7161936163902283, 0.8291065096855164], [0.7161936163902283, 0.8291065096855164], [0.7161936163902283, 0.8291065096855164], [0.7161936163902283, 0.8291065096855164], [0.7161936163902283, 0.8291065096855164], [0.7161936163902283, 0.8291065096855164], [0.7161936163902283, 0.8291065096855164], [0.7161936163902283, 0.8291065096855164], [0.7161936163902283, 0.8291065096855164], [0.7161936163902283, 0.8291065096855164], [0.7161936163902283, 0.8291065096855164], [0.7161936163902283, 0.8291065096855164], [0.7161936163902283, 0.8291065096855164], [0.7161936163902283, 0.8291065096855164], [0.7161936163902283, 0.8291065096855164]]\n",
      "[[0.576827347278595, 0.8288605213165283], [0.576827347278595, 0.8288605213165283], [0.576827347278595, 0.8288605213165283], [0.576827347278595, 0.8288605213165283], [0.576827347278595, 0.8288605213165283], [0.576827347278595, 0.8288605213165283], [0.576827347278595, 0.8288605213165283], [0.576827347278595, 0.8288605213165283], [0.576827347278595, 0.8288605213165283], [0.576827347278595, 0.8288605213165283], [0.576827347278595, 0.8288605213165283], [0.576827347278595, 0.8288605213165283], [0.576827347278595, 0.8288605213165283], [0.576827347278595, 0.8288605213165283], [0.576827347278595, 0.8288605213165283], [0.576827347278595, 0.8288605213165283], [0.576827347278595, 0.8288605213165283], [0.576827347278595, 0.8288605213165283], [0.576827347278595, 0.8288605213165283], [0.576827347278595, 0.8288605213165283], [0.576827347278595, 0.8288605213165283], [0.576827347278595, 0.8288605213165283], [0.576827347278595, 0.8288605213165283], [0.576827347278595, 0.8288605213165283], [0.576827347278595, 0.8288605213165283]]\n",
      "[[0.5771116614341736, 0.8361561298370361], [0.5771116614341736, 0.8361561298370361], [0.5771116614341736, 0.8361561298370361], [0.5771116614341736, 0.8361561298370361], [0.5771116614341736, 0.8361561298370361], [0.5771116614341736, 0.8361561298370361], [0.5771116614341736, 0.8361561298370361], [0.5771116614341736, 0.8361561298370361], [0.5771116614341736, 0.8361561298370361], [0.5771116614341736, 0.8361561298370361], [0.5771116614341736, 0.8361561298370361], [0.5771116614341736, 0.8361561298370361], [0.5771116614341736, 0.8361561298370361], [0.5771116614341736, 0.8361561298370361], [0.5771116614341736, 0.8361561298370361], [0.5771116614341736, 0.8361561298370361], [0.5771116614341736, 0.8361561298370361], [0.5771116614341736, 0.8361561298370361], [0.5771116614341736, 0.8361561298370361], [0.5771116614341736, 0.8361561298370361], [0.5771116614341736, 0.8361561298370361], [0.5771116614341736, 0.8361561298370361], [0.5771116614341736, 0.8361561298370361], [0.5771116614341736, 0.8361561298370361], [0.5771116614341736, 0.8361561298370361]]\n",
      "[[0.62556391954422, 0.8277251720428467], [0.62556391954422, 0.8277251720428467], [0.62556391954422, 0.8277251720428467], [0.62556391954422, 0.8277251720428467], [0.62556391954422, 0.8277251720428467], [0.62556391954422, 0.8277251720428467], [0.62556391954422, 0.8277251720428467], [0.62556391954422, 0.8277251720428467], [0.62556391954422, 0.8277251720428467], [0.62556391954422, 0.8277251720428467], [0.62556391954422, 0.8277251720428467], [0.62556391954422, 0.8277251720428467], [0.62556391954422, 0.8277251720428467], [0.62556391954422, 0.8277251720428467], [0.62556391954422, 0.8277251720428467], [0.62556391954422, 0.8277251720428467], [0.62556391954422, 0.8277251720428467], [0.62556391954422, 0.8277251720428467], [0.62556391954422, 0.8277251720428467], [0.62556391954422, 0.8277251720428467], [0.62556391954422, 0.8277251720428467], [0.62556391954422, 0.8277251720428467], [0.62556391954422, 0.8277251720428467], [0.62556391954422, 0.8277251720428467], [0.62556391954422, 0.8277251720428467]]\n",
      "[[0.6456989645957947, 0.816153883934021], [0.6456989645957947, 0.816153883934021], [0.6456989645957947, 0.816153883934021], [0.6456989645957947, 0.816153883934021], [0.6456989645957947, 0.816153883934021], [0.6456989645957947, 0.816153883934021], [0.6456989645957947, 0.816153883934021], [0.6456989645957947, 0.816153883934021], [0.6456989645957947, 0.816153883934021], [0.6456989645957947, 0.816153883934021], [0.6456989645957947, 0.816153883934021], [0.6456989645957947, 0.816153883934021], [0.6456989645957947, 0.816153883934021], [0.6456989645957947, 0.816153883934021], [0.6456989645957947, 0.816153883934021], [0.6456989645957947, 0.816153883934021], [0.6456989645957947, 0.816153883934021], [0.6456989645957947, 0.816153883934021], [0.6456989645957947, 0.816153883934021], [0.6456989645957947, 0.816153883934021], [0.6456989645957947, 0.816153883934021], [0.6456989645957947, 0.816153883934021], [0.6456989645957947, 0.816153883934021], [0.6456989645957947, 0.816153883934021], [0.6456989645957947, 0.816153883934021]]\n"
     ]
    },
    {
     "name": "stdout",
     "output_type": "stream",
     "text": [
      "[[0.6310508251190186, 0.8661684393882751], [0.6310508251190186, 0.8661684393882751], [0.6310508251190186, 0.8661684393882751], [0.6310508251190186, 0.8661684393882751], [0.6310508251190186, 0.8661684393882751], [0.6310508251190186, 0.8661684393882751], [0.6310508251190186, 0.8661684393882751], [0.6310508251190186, 0.8661684393882751], [0.6310508251190186, 0.8661684393882751], [0.6310508251190186, 0.8661684393882751], [0.6310508251190186, 0.8661684393882751], [0.6310508251190186, 0.8661684393882751], [0.6310508251190186, 0.8661684393882751], [0.6310508251190186, 0.8661684393882751], [0.6310508251190186, 0.8661684393882751], [0.6310508251190186, 0.8661684393882751], [0.6310508251190186, 0.8661684393882751], [0.6310508251190186, 0.8661684393882751], [0.6310508251190186, 0.8661684393882751], [0.6310508251190186, 0.8661684393882751], [0.6310508251190186, 0.8661684393882751], [0.6310508251190186, 0.8661684393882751], [0.6310508251190186, 0.8661684393882751], [0.6310508251190186, 0.8661684393882751], [0.6310508251190186, 0.8661684393882751]]\n",
      "[[0.6092191934585571, 0.8444591164588928], [0.6092191934585571, 0.8444591164588928], [0.6092191934585571, 0.8444591164588928], [0.6092191934585571, 0.8444591164588928], [0.6092191934585571, 0.8444591164588928], [0.6092191934585571, 0.8444591164588928], [0.6092191934585571, 0.8444591164588928], [0.6092191934585571, 0.8444591164588928], [0.6092191934585571, 0.8444591164588928], [0.6092191934585571, 0.8444591164588928], [0.6092191934585571, 0.8444591164588928], [0.6092191934585571, 0.8444591164588928], [0.6092191934585571, 0.8444591164588928], [0.6092191934585571, 0.8444591164588928], [0.6092191934585571, 0.8444591164588928], [0.6092191934585571, 0.8444591164588928], [0.6092191934585571, 0.8444591164588928], [0.6092191934585571, 0.8444591164588928], [0.6092191934585571, 0.8444591164588928], [0.6092191934585571, 0.8444591164588928], [0.6092191934585571, 0.8444591164588928], [0.6092191934585571, 0.8444591164588928], [0.6092191934585571, 0.8444591164588928], [0.6092191934585571, 0.8444591164588928], [0.6092191934585571, 0.8444591164588928]]\n",
      "[[0.6086708307266235, 0.8413599729537964], [0.6086708307266235, 0.8413599729537964], [0.6086708307266235, 0.8413599729537964], [0.6086708307266235, 0.8413599729537964], [0.6086708307266235, 0.8413599729537964], [0.6086708307266235, 0.8413599729537964], [0.6086708307266235, 0.8413599729537964], [0.6086708307266235, 0.8413599729537964], [0.6086708307266235, 0.8413599729537964], [0.6086708307266235, 0.8413599729537964], [0.6086708307266235, 0.8413599729537964], [0.6086708307266235, 0.8413599729537964], [0.6086708307266235, 0.8413599729537964], [0.6086708307266235, 0.8413599729537964], [0.6086708307266235, 0.8413599729537964], [0.6086708307266235, 0.8413599729537964], [0.6086708307266235, 0.8413599729537964], [0.6086708307266235, 0.8413599729537964], [0.6086708307266235, 0.8413599729537964], [0.6086708307266235, 0.8413599729537964], [0.6086708307266235, 0.8413599729537964], [0.6086708307266235, 0.8413599729537964], [0.6086708307266235, 0.8413599729537964], [0.6086708307266235, 0.8413599729537964], [0.6086708307266235, 0.8413599729537964]]\n",
      "[[0.6248739957809448, 0.8314301371574402], [0.6248739957809448, 0.8314301371574402], [0.6248739957809448, 0.8314301371574402], [0.6248739957809448, 0.8314301371574402], [0.6248739957809448, 0.8314301371574402], [0.6248739957809448, 0.8314301371574402], [0.6248739957809448, 0.8314301371574402], [0.6248739957809448, 0.8314301371574402], [0.6248739957809448, 0.8314301371574402], [0.6248739957809448, 0.8314301371574402], [0.6248739957809448, 0.8314301371574402], [0.6248739957809448, 0.8314301371574402], [0.6248739957809448, 0.8314301371574402], [0.6248739957809448, 0.8314301371574402], [0.6248739957809448, 0.8314301371574402], [0.6248739957809448, 0.8314301371574402], [0.6248739957809448, 0.8314301371574402], [0.6248739957809448, 0.8314301371574402], [0.6248739957809448, 0.8314301371574402], [0.6248739957809448, 0.8314301371574402], [0.6248739957809448, 0.8314301371574402], [0.6248739957809448, 0.8314301371574402], [0.6248739957809448, 0.8314301371574402], [0.6248739957809448, 0.8314301371574402], [0.6248739957809448, 0.8314301371574402]]\n",
      "[[0.6155728101730347, 0.8341073989868164], [0.6155728101730347, 0.8341073989868164], [0.6155728101730347, 0.8341073989868164], [0.6155728101730347, 0.8341073989868164], [0.6155728101730347, 0.8341073989868164], [0.6155728101730347, 0.8341073989868164], [0.6155728101730347, 0.8341073989868164], [0.6155728101730347, 0.8341073989868164], [0.6155728101730347, 0.8341073989868164], [0.6155728101730347, 0.8341073989868164], [0.6155728101730347, 0.8341073989868164], [0.6155728101730347, 0.8341073989868164], [0.6155728101730347, 0.8341073989868164], [0.6155728101730347, 0.8341073989868164], [0.6155728101730347, 0.8341073989868164], [0.6155728101730347, 0.8341073989868164], [0.6155728101730347, 0.8341073989868164], [0.6155728101730347, 0.8341073989868164], [0.6155728101730347, 0.8341073989868164], [0.6155728101730347, 0.8341073989868164], [0.6155728101730347, 0.8341073989868164], [0.6155728101730347, 0.8341073989868164], [0.6155728101730347, 0.8341073989868164], [0.6155728101730347, 0.8341073989868164], [0.6155728101730347, 0.8341073989868164]]\n",
      "[[0.6435410976409912, 0.8424362540245056], [0.6435410976409912, 0.8424362540245056], [0.6435410976409912, 0.8424362540245056], [0.6435410976409912, 0.8424362540245056], [0.6435410976409912, 0.8424362540245056], [0.6435410976409912, 0.8424362540245056], [0.6435410976409912, 0.8424362540245056], [0.6435410976409912, 0.8424362540245056], [0.6435410976409912, 0.8424362540245056], [0.6435410976409912, 0.8424362540245056], [0.6435410976409912, 0.8424362540245056], [0.6435410976409912, 0.8424362540245056], [0.6435410976409912, 0.8424362540245056], [0.6435410976409912, 0.8424362540245056], [0.6435410976409912, 0.8424362540245056], [0.6435410976409912, 0.8424362540245056], [0.6435410976409912, 0.8424362540245056], [0.6435410976409912, 0.8424362540245056], [0.6435410976409912, 0.8424362540245056], [0.6435410976409912, 0.8424362540245056], [0.6435410976409912, 0.8424362540245056], [0.6435410976409912, 0.8424362540245056], [0.6435410976409912, 0.8424362540245056], [0.6435410976409912, 0.8424362540245056], [0.6435410976409912, 0.8424362540245056]]\n",
      "[[0.6242187023162842, 0.8504055142402649], [0.6242187023162842, 0.8504055142402649], [0.6242187023162842, 0.8504055142402649], [0.6242187023162842, 0.8504055142402649], [0.6242187023162842, 0.8504055142402649], [0.6242187023162842, 0.8504055142402649], [0.6242187023162842, 0.8504055142402649], [0.6242187023162842, 0.8504055142402649], [0.6242187023162842, 0.8504055142402649], [0.6242187023162842, 0.8504055142402649], [0.6242187023162842, 0.8504055142402649], [0.6242187023162842, 0.8504055142402649], [0.6242187023162842, 0.8504055142402649], [0.6242187023162842, 0.8504055142402649], [0.6242187023162842, 0.8504055142402649], [0.6242187023162842, 0.8504055142402649], [0.6242187023162842, 0.8504055142402649], [0.6242187023162842, 0.8504055142402649], [0.6242187023162842, 0.8504055142402649], [0.6242187023162842, 0.8504055142402649], [0.6242187023162842, 0.8504055142402649], [0.6242187023162842, 0.8504055142402649], [0.6242187023162842, 0.8504055142402649], [0.6242187023162842, 0.8504055142402649], [0.6242187023162842, 0.8504055142402649]]\n",
      "[[0.6311907172203064, 0.8580360412597656], [0.6311907172203064, 0.8580360412597656], [0.6311907172203064, 0.8580360412597656], [0.6311907172203064, 0.8580360412597656], [0.6311907172203064, 0.8580360412597656], [0.6311907172203064, 0.8580360412597656], [0.6311907172203064, 0.8580360412597656], [0.6311907172203064, 0.8580360412597656], [0.6311907172203064, 0.8580360412597656], [0.6311907172203064, 0.8580360412597656], [0.6311907172203064, 0.8580360412597656], [0.6311907172203064, 0.8580360412597656], [0.6311907172203064, 0.8580360412597656], [0.6311907172203064, 0.8580360412597656], [0.6311907172203064, 0.8580360412597656], [0.6311907172203064, 0.8580360412597656], [0.6311907172203064, 0.8580360412597656], [0.6311907172203064, 0.8580360412597656], [0.6311907172203064, 0.8580360412597656], [0.6311907172203064, 0.8580360412597656], [0.6311907172203064, 0.8580360412597656], [0.6311907172203064, 0.8580360412597656], [0.6311907172203064, 0.8580360412597656], [0.6311907172203064, 0.8580360412597656], [0.6311907172203064, 0.8580360412597656]]\n"
     ]
    },
    {
     "name": "stdout",
     "output_type": "stream",
     "text": [
      "[[0.6357852816581726, 0.8272522687911987], [0.6357852816581726, 0.8272522687911987], [0.6357852816581726, 0.8272522687911987], [0.6357852816581726, 0.8272522687911987], [0.6357852816581726, 0.8272522687911987], [0.6357852816581726, 0.8272522687911987], [0.6357852816581726, 0.8272522687911987], [0.6357852816581726, 0.8272522687911987], [0.6357852816581726, 0.8272522687911987], [0.6357852816581726, 0.8272522687911987], [0.6357852816581726, 0.8272522687911987], [0.6357852816581726, 0.8272522687911987], [0.6357852816581726, 0.8272522687911987], [0.6357852816581726, 0.8272522687911987], [0.6357852816581726, 0.8272522687911987], [0.6357852816581726, 0.8272522687911987], [0.6357852816581726, 0.8272522687911987], [0.6357852816581726, 0.8272522687911987], [0.6357852816581726, 0.8272522687911987], [0.6357852816581726, 0.8272522687911987], [0.6357852816581726, 0.8272522687911987], [0.6357852816581726, 0.8272522687911987], [0.6357852816581726, 0.8272522687911987], [0.6357852816581726, 0.8272522687911987], [0.6357852816581726, 0.8272522687911987]]\n",
      "[[0.6286900639533997, 0.8486460447311401], [0.6286900639533997, 0.8486460447311401], [0.6286900639533997, 0.8486460447311401], [0.6286900639533997, 0.8486460447311401], [0.6286900639533997, 0.8486460447311401], [0.6286900639533997, 0.8486460447311401], [0.6286900639533997, 0.8486460447311401], [0.6286900639533997, 0.8486460447311401], [0.6286900639533997, 0.8486460447311401], [0.6286900639533997, 0.8486460447311401], [0.6286900639533997, 0.8486460447311401], [0.6286900639533997, 0.8486460447311401], [0.6286900639533997, 0.8486460447311401], [0.6286900639533997, 0.8486460447311401], [0.6286900639533997, 0.8486460447311401], [0.6286900639533997, 0.8486460447311401], [0.6286900639533997, 0.8486460447311401], [0.6286900639533997, 0.8486460447311401], [0.6286900639533997, 0.8486460447311401], [0.6286900639533997, 0.8486460447311401], [0.6286900639533997, 0.8486460447311401], [0.6286900639533997, 0.8486460447311401], [0.6286900639533997, 0.8486460447311401], [0.6286900639533997, 0.8486460447311401], [0.6286900639533997, 0.8486460447311401]]\n",
      "[[0.6341680884361267, 0.834981381893158], [0.6341680884361267, 0.834981381893158], [0.6341680884361267, 0.834981381893158], [0.6341680884361267, 0.834981381893158], [0.6341680884361267, 0.834981381893158], [0.6341680884361267, 0.834981381893158], [0.6341680884361267, 0.834981381893158], [0.6341680884361267, 0.834981381893158], [0.6341680884361267, 0.834981381893158], [0.6341680884361267, 0.834981381893158], [0.6341680884361267, 0.834981381893158], [0.6341680884361267, 0.834981381893158], [0.6341680884361267, 0.834981381893158], [0.6341680884361267, 0.834981381893158], [0.6341680884361267, 0.834981381893158], [0.6341680884361267, 0.834981381893158], [0.6341680884361267, 0.834981381893158], [0.6341680884361267, 0.834981381893158], [0.6341680884361267, 0.834981381893158], [0.6341680884361267, 0.834981381893158], [0.6341680884361267, 0.834981381893158], [0.6341680884361267, 0.834981381893158], [0.6341680884361267, 0.834981381893158], [0.6341680884361267, 0.834981381893158], [0.6341680884361267, 0.834981381893158]]\n",
      "[[0.624577522277832, 0.8268603682518005], [0.624577522277832, 0.8268603682518005], [0.624577522277832, 0.8268603682518005], [0.624577522277832, 0.8268603682518005], [0.624577522277832, 0.8268603682518005], [0.624577522277832, 0.8268603682518005], [0.624577522277832, 0.8268603682518005], [0.624577522277832, 0.8268603682518005], [0.624577522277832, 0.8268603682518005], [0.624577522277832, 0.8268603682518005], [0.624577522277832, 0.8268603682518005], [0.624577522277832, 0.8268603682518005], [0.624577522277832, 0.8268603682518005], [0.624577522277832, 0.8268603682518005], [0.624577522277832, 0.8268603682518005], [0.624577522277832, 0.8268603682518005], [0.624577522277832, 0.8268603682518005], [0.624577522277832, 0.8268603682518005], [0.624577522277832, 0.8268603682518005], [0.624577522277832, 0.8268603682518005], [0.624577522277832, 0.8268603682518005], [0.624577522277832, 0.8268603682518005], [0.624577522277832, 0.8268603682518005], [0.624577522277832, 0.8268603682518005], [0.624577522277832, 0.8268603682518005]]\n",
      "[[0.6113207340240479, 0.8147876262664795], [0.6113207340240479, 0.8147876262664795], [0.6113207340240479, 0.8147876262664795], [0.6113207340240479, 0.8147876262664795], [0.6113207340240479, 0.8147876262664795], [0.6113207340240479, 0.8147876262664795], [0.6113207340240479, 0.8147876262664795], [0.6113207340240479, 0.8147876262664795], [0.6113207340240479, 0.8147876262664795], [0.6113207340240479, 0.8147876262664795], [0.6113207340240479, 0.8147876262664795], [0.6113207340240479, 0.8147876262664795], [0.6113207340240479, 0.8147876262664795], [0.6113207340240479, 0.8147876262664795], [0.6113207340240479, 0.8147876262664795], [0.6113207340240479, 0.8147876262664795], [0.6113207340240479, 0.8147876262664795], [0.6113207340240479, 0.8147876262664795], [0.6113207340240479, 0.8147876262664795], [0.6113207340240479, 0.8147876262664795], [0.6113207340240479, 0.8147876262664795], [0.6113207340240479, 0.8147876262664795], [0.6113207340240479, 0.8147876262664795], [0.6113207340240479, 0.8147876262664795], [0.6113207340240479, 0.8147876262664795]]\n",
      "[[0.6537915468215942, 0.8324086666107178], [0.6537915468215942, 0.8324086666107178], [0.6537915468215942, 0.8324086666107178], [0.6537915468215942, 0.8324086666107178], [0.6537915468215942, 0.8324086666107178], [0.6537915468215942, 0.8324086666107178], [0.6537915468215942, 0.8324086666107178], [0.6537915468215942, 0.8324086666107178], [0.6537915468215942, 0.8324086666107178], [0.6537915468215942, 0.8324086666107178], [0.6537915468215942, 0.8324086666107178], [0.6537915468215942, 0.8324086666107178], [0.6537915468215942, 0.8324086666107178], [0.6537915468215942, 0.8324086666107178], [0.6537915468215942, 0.8324086666107178], [0.6537915468215942, 0.8324086666107178], [0.6537915468215942, 0.8324086666107178], [0.6537915468215942, 0.8324086666107178], [0.6537915468215942, 0.8324086666107178], [0.6537915468215942, 0.8324086666107178], [0.6537915468215942, 0.8324086666107178], [0.6537915468215942, 0.8324086666107178], [0.6537915468215942, 0.8324086666107178], [0.6537915468215942, 0.8324086666107178], [0.6537915468215942, 0.8324086666107178]]\n",
      "[[0.6643054485321045, 0.8375563025474548], [0.6643054485321045, 0.8375563025474548], [0.6643054485321045, 0.8375563025474548], [0.6643054485321045, 0.8375563025474548], [0.6643054485321045, 0.8375563025474548], [0.6643054485321045, 0.8375563025474548], [0.6643054485321045, 0.8375563025474548], [0.6643054485321045, 0.8375563025474548], [0.6643054485321045, 0.8375563025474548], [0.6643054485321045, 0.8375563025474548], [0.6643054485321045, 0.8375563025474548], [0.6643054485321045, 0.8375563025474548], [0.6643054485321045, 0.8375563025474548], [0.6643054485321045, 0.8375563025474548], [0.6643054485321045, 0.8375563025474548], [0.6643054485321045, 0.8375563025474548], [0.6643054485321045, 0.8375563025474548], [0.6643054485321045, 0.8375563025474548], [0.6643054485321045, 0.8375563025474548], [0.6643054485321045, 0.8375563025474548], [0.6643054485321045, 0.8375563025474548], [0.6643054485321045, 0.8375563025474548], [0.6643054485321045, 0.8375563025474548], [0.6643054485321045, 0.8375563025474548], [0.6643054485321045, 0.8375563025474548]]\n",
      "[[0.6582570672035217, 0.8423581719398499], [0.6582570672035217, 0.8423581719398499], [0.6582570672035217, 0.8423581719398499], [0.6582570672035217, 0.8423581719398499], [0.6582570672035217, 0.8423581719398499], [0.6582570672035217, 0.8423581719398499], [0.6582570672035217, 0.8423581719398499], [0.6582570672035217, 0.8423581719398499], [0.6582570672035217, 0.8423581719398499], [0.6582570672035217, 0.8423581719398499], [0.6582570672035217, 0.8423581719398499], [0.6582570672035217, 0.8423581719398499], [0.6582570672035217, 0.8423581719398499], [0.6582570672035217, 0.8423581719398499], [0.6582570672035217, 0.8423581719398499], [0.6582570672035217, 0.8423581719398499], [0.6582570672035217, 0.8423581719398499], [0.6582570672035217, 0.8423581719398499], [0.6582570672035217, 0.8423581719398499], [0.6582570672035217, 0.8423581719398499], [0.6582570672035217, 0.8423581719398499], [0.6582570672035217, 0.8423581719398499], [0.6582570672035217, 0.8423581719398499], [0.6582570672035217, 0.8423581719398499], [0.6582570672035217, 0.8423581719398499]]\n"
     ]
    },
    {
     "name": "stdout",
     "output_type": "stream",
     "text": [
      "[[0.68172287940979, 0.8410418033599854], [0.68172287940979, 0.8410418033599854], [0.68172287940979, 0.8410418033599854], [0.68172287940979, 0.8410418033599854], [0.68172287940979, 0.8410418033599854], [0.68172287940979, 0.8410418033599854], [0.68172287940979, 0.8410418033599854], [0.68172287940979, 0.8410418033599854], [0.68172287940979, 0.8410418033599854], [0.68172287940979, 0.8410418033599854], [0.68172287940979, 0.8410418033599854], [0.68172287940979, 0.8410418033599854], [0.68172287940979, 0.8410418033599854], [0.68172287940979, 0.8410418033599854], [0.68172287940979, 0.8410418033599854], [0.68172287940979, 0.8410418033599854], [0.68172287940979, 0.8410418033599854], [0.68172287940979, 0.8410418033599854], [0.68172287940979, 0.8410418033599854], [0.68172287940979, 0.8410418033599854], [0.68172287940979, 0.8410418033599854], [0.68172287940979, 0.8410418033599854], [0.68172287940979, 0.8410418033599854], [0.68172287940979, 0.8410418033599854], [0.68172287940979, 0.8410418033599854]]\n",
      "[[0.5952568054199219, 0.817182719707489], [0.5952568054199219, 0.817182719707489], [0.5952568054199219, 0.817182719707489], [0.5952568054199219, 0.817182719707489], [0.5952568054199219, 0.817182719707489], [0.5952568054199219, 0.817182719707489], [0.5952568054199219, 0.817182719707489], [0.5952568054199219, 0.817182719707489], [0.5952568054199219, 0.817182719707489], [0.5952568054199219, 0.817182719707489], [0.5952568054199219, 0.817182719707489], [0.5952568054199219, 0.817182719707489], [0.5952568054199219, 0.817182719707489], [0.5952568054199219, 0.817182719707489], [0.5952568054199219, 0.817182719707489], [0.5952568054199219, 0.817182719707489], [0.5952568054199219, 0.817182719707489], [0.5952568054199219, 0.817182719707489], [0.5952568054199219, 0.817182719707489], [0.5952568054199219, 0.817182719707489], [0.5952568054199219, 0.817182719707489], [0.5952568054199219, 0.817182719707489], [0.5952568054199219, 0.817182719707489], [0.5952568054199219, 0.817182719707489], [0.5952568054199219, 0.817182719707489]]\n",
      "[[0.6416336894035339, 0.8498368859291077], [0.6416336894035339, 0.8498368859291077], [0.6416336894035339, 0.8498368859291077], [0.6416336894035339, 0.8498368859291077], [0.6416336894035339, 0.8498368859291077], [0.6416336894035339, 0.8498368859291077], [0.6416336894035339, 0.8498368859291077], [0.6416336894035339, 0.8498368859291077], [0.6416336894035339, 0.8498368859291077], [0.6416336894035339, 0.8498368859291077], [0.6416336894035339, 0.8498368859291077], [0.6416336894035339, 0.8498368859291077], [0.6416336894035339, 0.8498368859291077], [0.6416336894035339, 0.8498368859291077], [0.6416336894035339, 0.8498368859291077], [0.6416336894035339, 0.8498368859291077], [0.6416336894035339, 0.8498368859291077], [0.6416336894035339, 0.8498368859291077], [0.6416336894035339, 0.8498368859291077], [0.6416336894035339, 0.8498368859291077], [0.6416336894035339, 0.8498368859291077], [0.6416336894035339, 0.8498368859291077], [0.6416336894035339, 0.8498368859291077], [0.6416336894035339, 0.8498368859291077], [0.6416336894035339, 0.8498368859291077]]\n",
      "[[0.6554093360900879, 0.8552849292755127], [0.6554093360900879, 0.8552849292755127], [0.6554093360900879, 0.8552849292755127], [0.6554093360900879, 0.8552849292755127], [0.6554093360900879, 0.8552849292755127], [0.6554093360900879, 0.8552849292755127], [0.6554093360900879, 0.8552849292755127], [0.6554093360900879, 0.8552849292755127], [0.6554093360900879, 0.8552849292755127], [0.6554093360900879, 0.8552849292755127], [0.6554093360900879, 0.8552849292755127], [0.6554093360900879, 0.8552849292755127], [0.6554093360900879, 0.8552849292755127], [0.6554093360900879, 0.8552849292755127], [0.6554093360900879, 0.8552849292755127], [0.6554093360900879, 0.8552849292755127], [0.6554093360900879, 0.8552849292755127], [0.6554093360900879, 0.8552849292755127], [0.6554093360900879, 0.8552849292755127], [0.6554093360900879, 0.8552849292755127], [0.6554093360900879, 0.8552849292755127], [0.6554093360900879, 0.8552849292755127], [0.6554093360900879, 0.8552849292755127], [0.6554093360900879, 0.8552849292755127], [0.6554093360900879, 0.8552849292755127]]\n",
      "[[0.7137928009033203, 0.9152958393096924], [0.7137928009033203, 0.9152958393096924], [0.7137928009033203, 0.9152958393096924], [0.7137928009033203, 0.9152958393096924], [0.7137928009033203, 0.9152958393096924], [0.7137928009033203, 0.9152958393096924], [0.7137928009033203, 0.9152958393096924], [0.7137928009033203, 0.9152958393096924], [0.7137928009033203, 0.9152958393096924], [0.7137928009033203, 0.9152958393096924], [0.7137928009033203, 0.9152958393096924], [0.7137928009033203, 0.9152958393096924], [0.7137928009033203, 0.9152958393096924], [0.7137928009033203, 0.9152958393096924], [0.7137928009033203, 0.9152958393096924], [0.7137928009033203, 0.9152958393096924], [0.7137928009033203, 0.9152958393096924], [0.7137928009033203, 0.9152958393096924], [0.7137928009033203, 0.9152958393096924], [0.7137928009033203, 0.9152958393096924], [0.7137928009033203, 0.9152958393096924], [0.7137928009033203, 0.9152958393096924], [0.7137928009033203, 0.9152958393096924], [0.7137928009033203, 0.9152958393096924], [0.7137928009033203, 0.9152958393096924]]\n",
      "[[0.5591697096824646, 0.9796477556228638], [0.5591697096824646, 0.9796477556228638], [0.5591697096824646, 0.9796477556228638], [0.5591697096824646, 0.9796477556228638], [0.5591697096824646, 0.9796477556228638], [0.5591697096824646, 0.9796477556228638], [0.5591697096824646, 0.9796477556228638], [0.5591697096824646, 0.9796477556228638], [0.5591697096824646, 0.9796477556228638], [0.5591697096824646, 0.9796477556228638], [0.5591697096824646, 0.9796477556228638], [0.5591697096824646, 0.9796477556228638], [0.5591697096824646, 0.9796477556228638], [0.5591697096824646, 0.9796477556228638], [0.5591697096824646, 0.9796477556228638], [0.5591697096824646, 0.9796477556228638], [0.5591697096824646, 0.9796477556228638], [0.5591697096824646, 0.9796477556228638], [0.5591697096824646, 0.9796477556228638], [0.5591697096824646, 0.9796477556228638], [0.5591697096824646, 0.9796477556228638], [0.5591697096824646, 0.9796477556228638], [0.5591697096824646, 0.9796477556228638], [0.5591697096824646, 0.9796477556228638], [0.5591697096824646, 0.9796477556228638]]\n",
      "[[0.4212830662727356, 2.3719687461853027], [0.4212830662727356, 2.3719687461853027], [0.4212830662727356, 2.3719687461853027], [0.4212830662727356, 2.3719687461853027], [0.4212830662727356, 2.3719687461853027], [0.4212830662727356, 2.3719687461853027], [0.4212830662727356, 2.3719687461853027], [0.4212830662727356, 2.3719687461853027], [0.4212830662727356, 2.3719687461853027], [0.4212830662727356, 2.3719687461853027], [0.4212830662727356, 2.3719687461853027], [0.4212830662727356, 2.3719687461853027], [0.4212830662727356, 2.3719687461853027], [0.4212830662727356, 2.3719687461853027], [0.4212830662727356, 2.3719687461853027], [0.4212830662727356, 2.3719687461853027], [0.4212830662727356, 2.3719687461853027], [0.4212830662727356, 2.3719687461853027], [0.4212830662727356, 2.3719687461853027], [0.4212830662727356, 2.3719687461853027], [0.4212830662727356, 2.3719687461853027], [0.4212830662727356, 2.3719687461853027], [0.4212830662727356, 2.3719687461853027], [0.4212830662727356, 2.3719687461853027], [0.4212830662727356, 2.3719687461853027]]\n",
      "[[0.36809995770454407, 2.42840576171875], [0.36809995770454407, 2.42840576171875], [0.36809995770454407, 2.42840576171875], [0.36809995770454407, 2.42840576171875], [0.36809995770454407, 2.42840576171875], [0.36809995770454407, 2.42840576171875], [0.36809995770454407, 2.42840576171875], [0.36809995770454407, 2.42840576171875], [0.36809995770454407, 2.42840576171875], [0.36809995770454407, 2.42840576171875], [0.36809995770454407, 2.42840576171875], [0.36809995770454407, 2.42840576171875], [0.36809995770454407, 2.42840576171875], [0.36809995770454407, 2.42840576171875], [0.36809995770454407, 2.42840576171875], [0.36809995770454407, 2.42840576171875], [0.36809995770454407, 2.42840576171875], [0.36809995770454407, 2.42840576171875], [0.36809995770454407, 2.42840576171875], [0.36809995770454407, 2.42840576171875], [0.36809995770454407, 2.42840576171875], [0.36809995770454407, 2.42840576171875], [0.36809995770454407, 2.42840576171875], [0.36809995770454407, 2.42840576171875], [0.36809995770454407, 2.42840576171875]]\n"
     ]
    },
    {
     "name": "stdout",
     "output_type": "stream",
     "text": [
      "[[-0.10423281043767929, 2.2591965198516846], [-0.10423281043767929, 2.2591965198516846], [-0.10423281043767929, 2.2591965198516846], [-0.10423281043767929, 2.2591965198516846], [-0.10423281043767929, 2.2591965198516846], [-0.10423281043767929, 2.2591965198516846], [-0.10423281043767929, 2.2591965198516846], [-0.10423281043767929, 2.2591965198516846], [-0.10423281043767929, 2.2591965198516846], [-0.10423281043767929, 2.2591965198516846], [-0.10423281043767929, 2.2591965198516846], [-0.10423281043767929, 2.2591965198516846], [-0.10423281043767929, 2.2591965198516846], [-0.10423281043767929, 2.2591965198516846], [-0.10423281043767929, 2.2591965198516846], [-0.10423281043767929, 2.2591965198516846], [-0.10423281043767929, 2.2591965198516846], [-0.10423281043767929, 2.2591965198516846], [-0.10423281043767929, 2.2591965198516846], [-0.10423281043767929, 2.2591965198516846], [-0.10423281043767929, 2.2591965198516846], [-0.10423281043767929, 2.2591965198516846], [-0.10423281043767929, 2.2591965198516846], [-0.10423281043767929, 2.2591965198516846], [-0.10423281043767929, 2.2591965198516846]]\n",
      "[[0.2893887758255005, 2.4890120029449463], [0.2893887758255005, 2.4890120029449463], [0.2893887758255005, 2.4890120029449463], [0.2893887758255005, 2.4890120029449463], [0.2893887758255005, 2.4890120029449463], [0.2893887758255005, 2.4890120029449463], [0.2893887758255005, 2.4890120029449463], [0.2893887758255005, 2.4890120029449463], [0.2893887758255005, 2.4890120029449463], [0.2893887758255005, 2.4890120029449463], [0.2893887758255005, 2.4890120029449463], [0.2893887758255005, 2.4890120029449463], [0.2893887758255005, 2.4890120029449463], [0.2893887758255005, 2.4890120029449463], [0.2893887758255005, 2.4890120029449463], [0.2893887758255005, 2.4890120029449463], [0.2893887758255005, 2.4890120029449463], [0.2893887758255005, 2.4890120029449463], [0.2893887758255005, 2.4890120029449463], [0.2893887758255005, 2.4890120029449463], [0.2893887758255005, 2.4890120029449463], [0.2893887758255005, 2.4890120029449463], [0.2893887758255005, 2.4890120029449463], [0.2893887758255005, 2.4890120029449463], [0.2893887758255005, 2.4890120029449463]]\n",
      "[[0.2518369257450104, 2.490429401397705], [0.2518369257450104, 2.490429401397705], [0.2518369257450104, 2.490429401397705], [0.2518369257450104, 2.490429401397705], [0.2518369257450104, 2.490429401397705], [0.2518369257450104, 2.490429401397705], [0.2518369257450104, 2.490429401397705], [0.2518369257450104, 2.490429401397705], [0.2518369257450104, 2.490429401397705], [0.2518369257450104, 2.490429401397705], [0.2518369257450104, 2.490429401397705], [0.2518369257450104, 2.490429401397705], [0.2518369257450104, 2.490429401397705], [0.2518369257450104, 2.490429401397705], [0.2518369257450104, 2.490429401397705], [0.2518369257450104, 2.490429401397705], [0.2518369257450104, 2.490429401397705], [0.2518369257450104, 2.490429401397705], [0.2518369257450104, 2.490429401397705], [0.2518369257450104, 2.490429401397705], [0.2518369257450104, 2.490429401397705], [0.2518369257450104, 2.490429401397705], [0.2518369257450104, 2.490429401397705], [0.2518369257450104, 2.490429401397705], [0.2518369257450104, 2.490429401397705]]\n",
      "[[0.39902007579803467, 2.4072265625], [0.39902007579803467, 2.4072265625], [0.39902007579803467, 2.4072265625], [0.39902007579803467, 2.4072265625], [0.39902007579803467, 2.4072265625], [0.39902007579803467, 2.4072265625], [0.39902007579803467, 2.4072265625], [0.39902007579803467, 2.4072265625], [0.39902007579803467, 2.4072265625], [0.39902007579803467, 2.4072265625], [0.39902007579803467, 2.4072265625], [0.39902007579803467, 2.4072265625], [0.39902007579803467, 2.4072265625], [0.39902007579803467, 2.4072265625], [0.39902007579803467, 2.4072265625], [0.39902007579803467, 2.4072265625], [0.39902007579803467, 2.4072265625], [0.39902007579803467, 2.4072265625], [0.39902007579803467, 2.4072265625], [0.39902007579803467, 2.4072265625], [0.39902007579803467, 2.4072265625], [0.39902007579803467, 2.4072265625], [0.39902007579803467, 2.4072265625], [0.39902007579803467, 2.4072265625], [0.39902007579803467, 2.4072265625]]\n",
      "[[0.3917401134967804, 2.0493252277374268], [0.3917401134967804, 2.0493252277374268], [0.3917401134967804, 2.0493252277374268], [0.3917401134967804, 2.0493252277374268], [0.3917401134967804, 2.0493252277374268], [0.3917401134967804, 2.0493252277374268], [0.3917401134967804, 2.0493252277374268], [0.3917401134967804, 2.0493252277374268], [0.3917401134967804, 2.0493252277374268], [0.3917401134967804, 2.0493252277374268], [0.3917401134967804, 2.0493252277374268], [0.3917401134967804, 2.0493252277374268], [0.3917401134967804, 2.0493252277374268], [0.3917401134967804, 2.0493252277374268], [0.3917401134967804, 2.0493252277374268], [0.3917401134967804, 2.0493252277374268], [0.3917401134967804, 2.0493252277374268], [0.3917401134967804, 2.0493252277374268], [0.3917401134967804, 2.0493252277374268], [0.3917401134967804, 2.0493252277374268], [0.3917401134967804, 2.0493252277374268], [0.3917401134967804, 2.0493252277374268], [0.3917401134967804, 2.0493252277374268], [0.3917401134967804, 2.0493252277374268], [0.3917401134967804, 2.0493252277374268]]\n",
      "[[0.3698553442955017, 2.1162586212158203], [0.3698553442955017, 2.1162586212158203], [0.3698553442955017, 2.1162586212158203], [0.3698553442955017, 2.1162586212158203], [0.3698553442955017, 2.1162586212158203], [0.3698553442955017, 2.1162586212158203], [0.3698553442955017, 2.1162586212158203], [0.3698553442955017, 2.1162586212158203], [0.3698553442955017, 2.1162586212158203], [0.3698553442955017, 2.1162586212158203], [0.3698553442955017, 2.1162586212158203], [0.3698553442955017, 2.1162586212158203], [0.3698553442955017, 2.1162586212158203], [0.3698553442955017, 2.1162586212158203], [0.3698553442955017, 2.1162586212158203], [0.3698553442955017, 2.1162586212158203], [0.3698553442955017, 2.1162586212158203], [0.3698553442955017, 2.1162586212158203], [0.3698553442955017, 2.1162586212158203], [0.3698553442955017, 2.1162586212158203], [0.3698553442955017, 2.1162586212158203], [0.3698553442955017, 2.1162586212158203], [0.3698553442955017, 2.1162586212158203], [0.3698553442955017, 2.1162586212158203], [0.3698553442955017, 2.1162586212158203]]\n",
      "[[0.41035717725753784, 2.2267813682556152], [0.41035717725753784, 2.2267813682556152], [0.41035717725753784, 2.2267813682556152], [0.41035717725753784, 2.2267813682556152], [0.41035717725753784, 2.2267813682556152], [0.41035717725753784, 2.2267813682556152], [0.41035717725753784, 2.2267813682556152], [0.41035717725753784, 2.2267813682556152], [0.41035717725753784, 2.2267813682556152], [0.41035717725753784, 2.2267813682556152], [0.41035717725753784, 2.2267813682556152], [0.41035717725753784, 2.2267813682556152], [0.41035717725753784, 2.2267813682556152], [0.41035717725753784, 2.2267813682556152], [0.41035717725753784, 2.2267813682556152], [0.41035717725753784, 2.2267813682556152], [0.41035717725753784, 2.2267813682556152], [0.41035717725753784, 2.2267813682556152], [0.41035717725753784, 2.2267813682556152], [0.41035717725753784, 2.2267813682556152], [0.41035717725753784, 2.2267813682556152], [0.41035717725753784, 2.2267813682556152], [0.41035717725753784, 2.2267813682556152], [0.41035717725753784, 2.2267813682556152], [0.41035717725753784, 2.2267813682556152]]\n",
      "[[0.4368695318698883, 2.274547815322876], [0.4368695318698883, 2.274547815322876], [0.4368695318698883, 2.274547815322876], [0.4368695318698883, 2.274547815322876], [0.4368695318698883, 2.274547815322876], [0.4368695318698883, 2.274547815322876], [0.4368695318698883, 2.274547815322876], [0.4368695318698883, 2.274547815322876], [0.4368695318698883, 2.274547815322876], [0.4368695318698883, 2.274547815322876], [0.4368695318698883, 2.274547815322876], [0.4368695318698883, 2.274547815322876], [0.4368695318698883, 2.274547815322876], [0.4368695318698883, 2.274547815322876], [0.4368695318698883, 2.274547815322876], [0.4368695318698883, 2.274547815322876], [0.4368695318698883, 2.274547815322876], [0.4368695318698883, 2.274547815322876], [0.4368695318698883, 2.274547815322876], [0.4368695318698883, 2.274547815322876], [0.4368695318698883, 2.274547815322876], [0.4368695318698883, 2.274547815322876], [0.4368695318698883, 2.274547815322876], [0.4368695318698883, 2.274547815322876], [0.4368695318698883, 2.274547815322876]]\n",
      "[[0.4164496064186096, 2.3123703002929688], [0.4164496064186096, 2.3123703002929688], [0.4164496064186096, 2.3123703002929688], [0.4164496064186096, 2.3123703002929688], [0.4164496064186096, 2.3123703002929688], [0.4164496064186096, 2.3123703002929688], [0.4164496064186096, 2.3123703002929688], [0.4164496064186096, 2.3123703002929688], [0.4164496064186096, 2.3123703002929688], [0.4164496064186096, 2.3123703002929688], [0.4164496064186096, 2.3123703002929688], [0.4164496064186096, 2.3123703002929688], [0.4164496064186096, 2.3123703002929688], [0.4164496064186096, 2.3123703002929688], [0.4164496064186096, 2.3123703002929688], [0.4164496064186096, 2.3123703002929688], [0.4164496064186096, 2.3123703002929688], [0.4164496064186096, 2.3123703002929688], [0.4164496064186096, 2.3123703002929688], [0.4164496064186096, 2.3123703002929688], [0.4164496064186096, 2.3123703002929688], [0.4164496064186096, 2.3123703002929688], [0.4164496064186096, 2.3123703002929688], [0.4164496064186096, 2.3123703002929688], [0.4164496064186096, 2.3123703002929688]]\n"
     ]
    },
    {
     "name": "stdout",
     "output_type": "stream",
     "text": [
      "[[0.3887535035610199, 2.7356820106506348], [0.3887535035610199, 2.7356820106506348], [0.3887535035610199, 2.7356820106506348], [0.3887535035610199, 2.7356820106506348], [0.3887535035610199, 2.7356820106506348], [0.3887535035610199, 2.7356820106506348], [0.3887535035610199, 2.7356820106506348], [0.3887535035610199, 2.7356820106506348], [0.3887535035610199, 2.7356820106506348], [0.3887535035610199, 2.7356820106506348], [0.3887535035610199, 2.7356820106506348], [0.3887535035610199, 2.7356820106506348], [0.3887535035610199, 2.7356820106506348], [0.3887535035610199, 2.7356820106506348], [0.3887535035610199, 2.7356820106506348], [0.3887535035610199, 2.7356820106506348], [0.3887535035610199, 2.7356820106506348], [0.3887535035610199, 2.7356820106506348], [0.3887535035610199, 2.7356820106506348], [0.3887535035610199, 2.7356820106506348], [0.3887535035610199, 2.7356820106506348], [0.3887535035610199, 2.7356820106506348], [0.3887535035610199, 2.7356820106506348], [0.3887535035610199, 2.7356820106506348], [0.3887535035610199, 2.7356820106506348]]\n"
     ]
    }
   ],
   "source": [
    "cam = cv2.VideoCapture(0)\n",
    "\n",
    "while True:\n",
    "    success,frame = cam.read()\n",
    "    if success:\n",
    "        keypoints, pointed = getKeyPoints(frame)\n",
    "        cv2.imshow('frame',pointed)\n",
    "        if cv2.waitKey(1)==ord('q'):\n",
    "            break\n",
    "cv2.destroyAllWindows()\n",
    "cam.release()"
   ]
  },
  {
   "cell_type": "code",
   "execution_count": 1,
   "id": "1106b11e",
   "metadata": {},
   "outputs": [
    {
     "ename": "NameError",
     "evalue": "name 'mp_pose' is not defined",
     "output_type": "error",
     "traceback": [
      "\u001b[1;31m---------------------------------------------------------------------------\u001b[0m",
      "\u001b[1;31mNameError\u001b[0m                                 Traceback (most recent call last)",
      "\u001b[1;32m~\\AppData\\Local\\Temp/ipykernel_2220/2253756619.py\u001b[0m in \u001b[0;36m<module>\u001b[1;34m\u001b[0m\n\u001b[1;32m----> 1\u001b[1;33m \u001b[0mdir\u001b[0m\u001b[1;33m(\u001b[0m\u001b[0mmp_pose\u001b[0m\u001b[1;33m)\u001b[0m\u001b[1;33m\u001b[0m\u001b[1;33m\u001b[0m\u001b[0m\n\u001b[0m",
      "\u001b[1;31mNameError\u001b[0m: name 'mp_pose' is not defined"
     ]
    }
   ],
   "source": [
    "dir(mp_pose)"
   ]
  },
  {
   "cell_type": "code",
   "execution_count": null,
   "id": "39788ece",
   "metadata": {},
   "outputs": [],
   "source": []
  }
 ],
 "metadata": {
  "kernelspec": {
   "display_name": "Python 3 (ipykernel)",
   "language": "python",
   "name": "python3"
  },
  "language_info": {
   "codemirror_mode": {
    "name": "ipython",
    "version": 3
   },
   "file_extension": ".py",
   "mimetype": "text/x-python",
   "name": "python",
   "nbconvert_exporter": "python",
   "pygments_lexer": "ipython3",
   "version": "3.9.7"
  }
 },
 "nbformat": 4,
 "nbformat_minor": 5
}
